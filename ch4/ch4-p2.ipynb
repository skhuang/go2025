{
 "cells": [
  {
   "cell_type": "markdown",
   "metadata": {
    "slideshow": {
     "slide_type": "skip"
    },
    "toc": true
   },
   "source": [
    "<h1>Table of Contents<span class=\"tocSkip\"></span></h1>\n",
    "<div class=\"toc\"><ul class=\"toc-item\"><li><span><a href=\"#4.-Composite-Types-(II)\" data-toc-modified-id=\"4.-Composite-Types-(II)-1\">4. Composite Types (II)</a></span><ul class=\"toc-item\"><li><span><a href=\"#4.1-Arrays\" data-toc-modified-id=\"4.1-Arrays-1.1\">4.1 Arrays</a></span></li><li><span><a href=\"#4.2-Slices\" data-toc-modified-id=\"4.2-Slices-1.2\">4.2 Slices</a></span></li><li><span><a href=\"#4.3-Maps\" data-toc-modified-id=\"4.3-Maps-1.3\">4.3 Maps</a></span></li><li><span><a href=\"#4.4-Structs\" data-toc-modified-id=\"4.4-Structs-1.4\">4.4 Structs</a></span><ul class=\"toc-item\"><li><span><a href=\"#Recursive-Data-Structures\" data-toc-modified-id=\"Recursive-Data-Structures-1.4.1\">Recursive Data Structures</a></span></li><li><span><a href=\"#Struct-Literals\" data-toc-modified-id=\"Struct-Literals-1.4.2\">Struct Literals</a></span></li><li><span><a href=\"#Comparing-Structs\" data-toc-modified-id=\"Comparing-Structs-1.4.3\">Comparing Structs</a></span></li><li><span><a href=\"#Struct-Embedding-and-Anonymous-Fields\" data-toc-modified-id=\"Struct-Embedding-and-Anonymous-Fields-1.4.4\">Struct Embedding and Anonymous Fields</a></span></li></ul></li><li><span><a href=\"#4.5-JSON\" data-toc-modified-id=\"4.5-JSON-1.5\">4.5 JSON</a></span><ul class=\"toc-item\"><li><ul class=\"toc-item\"><li><span><a href=\"#github-HTTP-request\" data-toc-modified-id=\"github-HTTP-request-1.5.0.1\">github HTTP request</a></span></li><li><span><a href=\"#github-api-for-issues\" data-toc-modified-id=\"github-api-for-issues-1.5.0.2\">github api for issues</a></span></li></ul></li></ul></li><li><span><a href=\"#4.6-Text-and-HTML-Templates\" data-toc-modified-id=\"4.6-Text-and-HTML-Templates-1.6\">4.6 Text and HTML Templates</a></span></li></ul></li></ul></div>"
   ]
  },
  {
   "cell_type": "markdown",
   "metadata": {
    "slideshow": {
     "slide_type": "slide"
    }
   },
   "source": [
    "# 4. Composite Types (II)\n",
    "*    **Structs**\n",
    "     *    Struct Literals\n",
    "     *    Comparing Structs\n",
    "     *    Struct Embedding and Anonymous Fields\n",
    "*    JSON\n",
    "*    Text and HTML Templates"
   ]
  },
  {
   "cell_type": "markdown",
   "metadata": {
    "slideshow": {
     "slide_type": "skip"
    }
   },
   "source": [
    "## 4.1 Arrays\n",
    "## 4.2 Slices \n",
    "## 4.3 Maps"
   ]
  },
  {
   "cell_type": "markdown",
   "metadata": {
    "slideshow": {
     "slide_type": "slide"
    }
   },
   "source": [
    "\n",
    "## 4.4 Structs"
   ]
  },
  {
   "cell_type": "markdown",
   "metadata": {
    "slideshow": {
     "slide_type": "fragment"
    }
   },
   "source": [
    "* A struct is an aggregate data type grouping together zero or more named values of arbitrary types as a single entity\n",
    "* Each value is called a field\n",
    "* The name of a struct field is exported if it begins with a capital letter; this is Go's main access control mechanism\n",
    "* A struct type may contain a mixture of exported and unexported fields"
   ]
  },
  {
   "cell_type": "code",
   "execution_count": 59,
   "metadata": {
    "code_folding": [
     2
    ],
    "slideshow": {
     "slide_type": "subslide"
    }
   },
   "outputs": [
    {
     "name": "stdout",
     "output_type": "stream",
     "text": [
      "map['\\x01':%!q(*struct { ID int; Name string; Address string; DoB time.Time; Position string; Salary int; ManagerID int }=&{1   {0 0 <nil>} Vice President 0 3}) '\\x02':%!q(*struct { ID int; Name string; Address string; DoB time.Time; Position string; Salary int; ManagerID int }=&{2   {0 0 <nil>} Senior (proactive team player) -5000 1})]\n",
      "&{'\\x01' \"\" \"\" \"0001-01-01 00:00:00 +0000 UTC\" \"Vice President\" '\\x00' '\\x03'}\n",
      "&{'\\x02' \"\" \"\" \"0001-01-01 00:00:00 +0000 UTC\" \"Senior (proactive team player)\" '�' '\\x01'}\n"
     ]
    }
   ],
   "source": [
    "//Employee\n",
    "import \"fmt\"\n",
    "import \"time\"\n",
    "type Employee struct {\n",
    "    ID int\n",
    "    Name string\n",
    "    Address string\n",
    "    DoB time.Time\n",
    "    Position string\n",
    "    Salary int\n",
    "    ManagerID int\n",
    "}\n",
    "employeeDB := make(map[int]*Employee)\n",
    "alan := Employee{ID:1, ManagerID: 3, Position: \"Vice President\"}\n",
    "dilbert := Employee{ID:2, ManagerID: 1}\n",
    "employeeDB[alan.ID] = &alan\n",
    "employeeDB[dilbert.ID] = &dilbert\n",
    "dilbert.Salary -= 5000\n",
    "position := &dilbert.Position\n",
    "*position = \"Senior\" + *position\n",
    "var employeeOfTheMonth *Employee = &dilbert\n",
    "employeeOfTheMonth.Position += \" (proactive team player)\"\n",
    "//(*employeeOfTheMonth).Position += \" (proactive team player)\"\n",
    "fmt.Printf(\"%q\\n\",employeeDB)\n",
    "for _,emp := range employeeDB {\n",
    "    fmt.Printf(\"%q\\n\",emp)\n",
    "}"
   ]
  },
  {
   "cell_type": "code",
   "execution_count": 3,
   "metadata": {
    "slideshow": {
     "slide_type": "subslide"
    }
   },
   "outputs": [
    {
     "name": "stdout",
     "output_type": "stream",
     "text": [
      "Vice President\n"
     ]
    }
   ],
   "source": [
    "import \"fmt\"\n",
    "func EmployeeByID(id int) *Employee { return employeeDB[id]}\n",
    "fmt.Println(EmployeeByID(dilbert.ManagerID).Position)\n",
    "id := dilbert.ID    \n",
    "EmployeeByID(id).Salary = 0  //dilert is fired"
   ]
  },
  {
   "cell_type": "markdown",
   "metadata": {
    "slideshow": {
     "slide_type": "subslide"
    }
   },
   "source": [
    "### Recursive Data Structures\n",
    "* Struc type ***S*** can't declare a field of the same type ***S***\n",
    "  * aggregate value cannot containt itself\n",
    "* S may declare a field of the pointer type \\****S***\n",
    "  * create recursive data structure like lists and trees\n",
    "* Implement an insertion sort in the following"
   ]
  },
  {
   "cell_type": "code",
   "execution_count": 88,
   "metadata": {
    "code_folding": [],
    "slideshow": {
     "slide_type": "fragment"
    }
   },
   "outputs": [
    {
     "name": "stdout",
     "output_type": "stream",
     "text": [
      "sorted: [0 1 5 5 5 5 6 7 7 8 8 9 9 12 12 16 18 19 19 21 21 22 22 23 26 26 26 27 28 30 31 31 31 32 32 34 35 35 36 37 40 42 42 43 44 44 46 46 46 47]"
     ]
    }
   ],
   "source": [
    "//gopl.io/ch4/treesort\n",
    "import (\"math/rand\";\"sort\";\"fmt\")  \n",
    "type tree struct {\n",
    "\tvalue       int\n",
    "\tleft, right *tree\n",
    "}\n",
    "\n",
    "// Sort sorts values in place.\n",
    "func Sort(values []int) {\n",
    "\tvar root *tree\n",
    "\tfor _, v := range values {\n",
    "\t\troot = add(root, v)\n",
    "\t}\n",
    "\tappendValues(values[:0], root) // append in the slice, the first position\n",
    "    //appendValues(values, root)     // append in the last position\n",
    "    //appendValues(values[:], root)    // append in the last position\n",
    "}\n",
    "\n",
    "// appendValues appends the elements of t to values in order\n",
    "// and returns the resulting slice.\n",
    "func appendValues(values []int, t *tree) []int {\n",
    "    //fmt.Println(values,\"len\",len(values),cap(values))\n",
    "\tif t != nil {\n",
    "\t\tvalues = appendValues(values, t.left)\n",
    "\t\tvalues = append(values, t.value)\n",
    "\t\tvalues = appendValues(values, t.right)\n",
    "\t}\n",
    "\treturn values\n",
    "}\n",
    "\n",
    "func add(t *tree, value int) *tree {\n",
    "\tif t == nil {\n",
    "\t\t// Equivalent to return &tree{value: value}.\n",
    "\t\tt = new(tree)\n",
    "\t\tt.value = value\n",
    "\t\treturn t\n",
    "\t}\n",
    "\tif value < t.value {\n",
    "\t\tt.left = add(t.left, value)\n",
    "\t} else {\n",
    "\t\tt.right = add(t.right, value)\n",
    "\t}\n",
    "\treturn t\n",
    "}\n",
    "\n",
    "data := make([]int, 50)\n",
    "for i := range data {\n",
    "\tdata[i] = rand.Int() % 50\n",
    "}\n",
    "    \n",
    "\t//treesort.Sort(data)\n",
    "Sort(data)\n",
    "//sort.Ints(data)\n",
    "if !sort.IntsAreSorted(data) {\n",
    "\t\tfmt.Printf(\"not sorted: %v\", data)\n",
    "} else {\n",
    "    fmt.Printf(\"sorted: %v\", data)\n",
    "}\n",
    "//!-"
   ]
  },
  {
   "cell_type": "markdown",
   "metadata": {
    "slideshow": {
     "slide_type": "subslide"
    }
   },
   "source": [
    "<strike>$go get gopl.io/ch4</strike>\n",
    "```\n",
    "$go build gopl.io/ch4/treesort\n",
    "$go install gopl.io/ch4/treesort\n",
    "$go test gopl.io/ch4/treesort\n",
    "```"
   ]
  },
  {
   "cell_type": "markdown",
   "metadata": {
    "slideshow": {
     "slide_type": "slide"
    }
   },
   "source": [
    "### Struct Literals"
   ]
  },
  {
   "cell_type": "markdown",
   "metadata": {
    "slideshow": {
     "slide_type": "fragment"
    }
   },
   "source": [
    "* A value of a struct type can be written using a struct literal specifying values for its fields\n",
    "* There are two forms of struct literal\n",
    "* The first form requires a value be specified for every field, in the right order\n",
    "* The second form is used, in which a struct value is initialized by listing some or all of the field names and their corresponding values\n",
    "* The two forms cannot be mixed in the same literal"
   ]
  },
  {
   "cell_type": "code",
   "execution_count": 97,
   "metadata": {
    "code_folding": [],
    "slideshow": {
     "slide_type": "subslide"
    }
   },
   "outputs": [],
   "source": [
    "type Point struct{ X, Y int}\n",
    "p := Point{1,2} // the first form\n",
    "q := Point{X:1, Y:2} // the second form"
   ]
  },
  {
   "cell_type": "code",
   "execution_count": 105,
   "metadata": {
    "code_folding": [],
    "slideshow": {
     "slide_type": "fragment"
    }
   },
   "outputs": [],
   "source": [
    "package p\n",
    "type T struct{ a, b int} // a and b are not exported\n",
    "package q\n",
    "import \"p\"\n",
    "var _ = T{a:1, b:2} //compile error, can't reference a  and b "
   ]
  },
  {
   "cell_type": "markdown",
   "metadata": {
    "slideshow": {
     "slide_type": "slide"
    }
   },
   "source": [
    "### Comparing Structs\n",
    "* If all the fields of a struct are comparable, the struct is comparable\n",
    "* Two expressions of the comparable types may be compared using == or !!="
   ]
  },
  {
   "cell_type": "code",
   "execution_count": 91,
   "metadata": {
    "code_folding": [],
    "slideshow": {
     "slide_type": "subslide"
    }
   },
   "outputs": [
    {
     "name": "stdout",
     "output_type": "stream",
     "text": [
      "false\n",
      "false\n"
     ]
    },
    {
     "data": {
      "text/plain": [
       "6 <nil>"
      ]
     },
     "execution_count": 91,
     "metadata": {},
     "output_type": "execute_result"
    }
   ],
   "source": [
    "//comparing two points\n",
    "type point struct{X, Y int}\n",
    "p := Point{1,2}\n",
    "q := Point{2,1}\n",
    "fmt.Println(p.X == q.X && p.Y == q.Y)\n",
    "fmt.Println(p == q)"
   ]
  },
  {
   "cell_type": "markdown",
   "metadata": {
    "slideshow": {
     "slide_type": "subslide"
    }
   },
   "source": [
    "* Comparable struct types, may be used as the key type of a map"
   ]
  },
  {
   "cell_type": "code",
   "execution_count": 92,
   "metadata": {
    "code_folding": [],
    "slideshow": {
     "slide_type": "fragment"
    }
   },
   "outputs": [
    {
     "name": "stdout",
     "output_type": "stream",
     "text": [
      "map[{golang.org 443}:1 {gopl.io 80}:23]\n"
     ]
    },
    {
     "data": {
      "text/plain": [
       "40 <nil>"
      ]
     },
     "execution_count": 92,
     "metadata": {},
     "output_type": "execute_result"
    }
   ],
   "source": [
    "//comparable struct types as map key\n",
    "type address struct {\n",
    "    hostname string\n",
    "    port     int\n",
    "}\n",
    "hits := make(map[address]int)\n",
    "hits[address{\"golang.org\",443}]++\n",
    "hits[address{\"gopl.io\",80}]+= 23\n",
    "fmt.Println(hits)"
   ]
  },
  {
   "cell_type": "markdown",
   "metadata": {
    "slideshow": {
     "slide_type": "slide"
    }
   },
   "source": [
    "### Struct Embedding and Anonymous Fields"
   ]
  },
  {
   "cell_type": "code",
   "execution_count": 2,
   "metadata": {
    "code_folding": [],
    "slideshow": {
     "slide_type": "fragment"
    }
   },
   "outputs": [],
   "source": [
    "type Circle struct {\n",
    "    X,Y, Radius int\n",
    "}\n",
    "type Wheel struct {\n",
    "    X,Y, Radius, Spokes int\n",
    "}\n",
    "var w Wheel\n",
    "w.X = 8\n",
    "w.Y = 8\n",
    "w.Radius = 5\n",
    "w.Spokes = 20"
   ]
  },
  {
   "cell_type": "markdown",
   "metadata": {
    "slideshow": {
     "slide_type": "subslide"
    }
   },
   "source": [
    "* Factor out their common parts"
   ]
  },
  {
   "cell_type": "code",
   "execution_count": 93,
   "metadata": {
    "code_folding": [
     0,
     3,
     7
    ],
    "slideshow": {
     "slide_type": "fragment"
    }
   },
   "outputs": [
    {
     "name": "stdout",
     "output_type": "stream",
     "text": [
      "{{{8 8} 5} 20}\n"
     ]
    },
    {
     "data": {
      "text/plain": [
       "15 <nil>"
      ]
     },
     "execution_count": 93,
     "metadata": {},
     "output_type": "execute_result"
    }
   ],
   "source": [
    "import \"fmt\"\n",
    "type Point struct {\n",
    "    X, Y int\n",
    "}\n",
    "type Circle struct {\n",
    "    Center Point\n",
    "    Radius int\n",
    "}\n",
    "type Wheel struct {\n",
    "    Circle Circle\n",
    "    Spokes int\n",
    "}\n",
    "var w Wheel\n",
    "w.Circle.Center.X = 8\n",
    "w.Circle.Center.Y = 8\n",
    "w.Circle.Radius = 5\n",
    "w.Spokes = 20\n",
    "fmt.Println(w)"
   ]
  },
  {
   "cell_type": "markdown",
   "metadata": {
    "slideshow": {
     "slide_type": "subslide"
    }
   },
   "source": [
    "* Declare a field with a type but no name\n",
    "* Such fields are called anonymous fields\n",
    "* Due to embedding, we can refer to the names at the leaves of the implicit tree without giving the intervening names"
   ]
  },
  {
   "cell_type": "code",
   "execution_count": 94,
   "metadata": {
    "code_folding": [],
    "slideshow": {
     "slide_type": "fragment"
    }
   },
   "outputs": [
    {
     "name": "stdout",
     "output_type": "stream",
     "text": [
      "{{{8 8} 5} 20}\n"
     ]
    },
    {
     "data": {
      "text/plain": [
       "15 <nil>"
      ]
     },
     "execution_count": 94,
     "metadata": {},
     "output_type": "execute_result"
    }
   ],
   "source": [
    "//access the anonymous field\n",
    "type Circle struct {\n",
    "    Point\n",
    "    Radius int\n",
    "}\n",
    "type Wheel struct {\n",
    "    Circle \n",
    "    Spokes int\n",
    "}\n",
    "var w Wheel\n",
    "w.X = 8    //w.Circle.Point.X\n",
    "w.Y = 8    //w.Circle.Point.Y\n",
    "w.Radius = 5 //w.Circle.Radius\n",
    "w.Spokes = 20 \n",
    "fmt.Println(w)"
   ]
  },
  {
   "cell_type": "markdown",
   "metadata": {
    "slideshow": {
     "slide_type": "subslide"
    }
   },
   "source": [
    "* There's no corresponding shorthand for the struct literal syntax"
   ]
  },
  {
   "cell_type": "code",
   "execution_count": 9,
   "metadata": {
    "slideshow": {
     "slide_type": "fragment"
    }
   },
   "outputs": [
    {
     "ename": "ERROR",
     "evalue": "cannot convert untyped constant {int 8} to <main.Circle>",
     "output_type": "error",
     "traceback": [
      "cannot convert untyped constant {int 8} to <main.Circle>"
     ]
    }
   ],
   "source": [
    "w = Wheel{8,8,5,20} "
   ]
  },
  {
   "cell_type": "code",
   "execution_count": 24,
   "metadata": {
    "slideshow": {
     "slide_type": "fragment"
    }
   },
   "outputs": [
    {
     "ename": "ERROR",
     "evalue": "repl.go:1:5: unknown field 'X' in struct literal of type main.Wheel",
     "output_type": "error",
     "traceback": [
      "repl.go:1:5: unknown field 'X' in struct literal of type main.Wheel"
     ]
    }
   ],
   "source": [
    "w = Wheel{X:8, Y:8, Radius: 5, Spokes: 20}"
   ]
  },
  {
   "cell_type": "code",
   "execution_count": 110,
   "metadata": {
    "code_folding": [],
    "slideshow": {
     "slide_type": "subslide"
    }
   },
   "outputs": [
    {
     "name": "stdout",
     "output_type": "stream",
     "text": [
      "{Circle:{Point:{X:8 Y:8} Radius:5} Spokes:20}\n",
      "struct { Circle struct { Point struct { X int; Y int }; Radius int }; Spokes int }{Circle:struct { Point struct { X int; Y int }; Radius int }{Point:struct { X int; Y int }{X:42, Y:8}, Radius:5}, Spokes:20}\n",
      "{Circle:{Point:{X:42 Y:8} Radius:5} Spokes:20}\n"
     ]
    },
    {
     "data": {
      "text/plain": [
       "47 <nil>"
      ]
     },
     "execution_count": 110,
     "metadata": {},
     "output_type": "execute_result"
    }
   ],
   "source": [
    "//Anonymous Fields\n",
    "type Point struct {\n",
    "    X, Y int\n",
    "}\n",
    "type Circle struct {\n",
    "    Point\n",
    "    Radius int\n",
    "}\n",
    "type Wheel struct {\n",
    "    Circle \n",
    "    Spokes int\n",
    "}\n",
    "var w Wheel\n",
    "w = Wheel{Circle{Point{8, 8}, 5}, 20}\n",
    "\n",
    "w = Wheel{\n",
    "\t\tCircle: Circle{\n",
    "\t\t\tPoint:  Point{X: 8, Y: 8},\n",
    "\t\t\tRadius: 5,\n",
    "\t\t},\n",
    "\t\tSpokes: 20, // NOTE: trailing comma necessary here (and at Radius)\n",
    "}\n",
    "\n",
    "//fmt.Printf(\"%#v\\n\", w)\n",
    "//%v\tthe value in a default format\n",
    "//\twhen printing structs, the plus flag (%+v) adds field names\n",
    "//%#v\ta Go-syntax representation of the value\n",
    "fmt.Printf(\"%+v\\n\",w)\n",
    "\t// Output:\n",
    "\t// Wheel{Circle:Circle{Point:Point{X:8, Y:8}, Radius:5}, Spokes:20}\n",
    "\n",
    "w.X = 42\n",
    "\n",
    "fmt.Printf(\"%#v\\n\", w)\n",
    "fmt.Printf(\"%+v\\n\", w)\n",
    "\t// Output:\n",
    "\t// Wheel{Circle:Circle{Point:Point{X:42, Y:8}, Radius:5}, Spokes:20}\n",
    "\t//!-"
   ]
  },
  {
   "cell_type": "markdown",
   "metadata": {
    "slideshow": {
     "slide_type": "slide"
    }
   },
   "source": [
    "## 4.5 JSON\n",
    "* JavaScript Object Notation (JSON) is a standard notation for sending and receiving structured information\n",
    "* Other similar notation: XML, ASN.1, and Google's Protocol Buffers\n",
    "* API: encoding/json, encoding/xml, encoding/asn1\n",
    "* basic JSON types are numbers(decimal or scientific notation), booleans(true, false), and strings (sequene of Unicode code points)\n",
    "* basic JSON types can be combined recursively using JSON arrays and objects\n",
    "* JSON array is an ordered sequence of values, written as a comma-separated list enclosed in square brackets\n",
    "* JSON array are used to encode Go arrays and slices\n",
    "* JSON object is a mapping from strings to values, written as a sequence of name:value pairs separated by commas and surrounded by braces\n",
    "* JSON objects are used to encode GO maps and structs\n",
    "\n",
    "Example\n",
    "\n",
    "type   |value\n",
    "-------|-----------------------------------\n",
    "boolean|true\n",
    "number | -273.15\n",
    "string |\"She said \\\"Hello, 世界\\\"\"\n",
    "array  | [\"gold\", \"silver\", \"bronze\"]\n",
    "object |{\"year\": 1980,<br>\"event\": \"archery\",<br>\"medals\":[\"gold\",\"silver\",\"brone\"]} "
   ]
  },
  {
   "cell_type": "markdown",
   "metadata": {
    "slideshow": {
     "slide_type": "subslide"
    }
   },
   "source": [
    "* Gather movie reviews and offer recommendations\n",
    "* String literals after the Year and Color field are field tags"
   ]
  },
  {
   "cell_type": "code",
   "execution_count": 112,
   "metadata": {
    "code_folding": [
     12
    ],
    "slideshow": {
     "slide_type": "fragment"
    }
   },
   "outputs": [],
   "source": [
    "//gopl.pl/ch4/movie\n",
    "import (\"encoding/json\";\"fmt\";\"log\")\n",
    "\n",
    "type Movie struct {\n",
    "\tTitle  string\n",
    "\tYear   int  `json:\"released\"`\n",
    "\tColor  bool `json:\"color,omitempty\"`\n",
    "\tActors []string\n",
    "}\n",
    "\n",
    "var movies = []Movie{\n",
    "\t{Title: \"Casablanca\", Year: 1942, Color: false,\n",
    "\t\tActors: []string{\"Humphrey Bogart\", \"Ingrid Bergman\"}},\n",
    "\t{Title: \"Cool Hand Luke\", Year: 1967, Color: true,\n",
    "\t\tActors: []string{\"Paul Newman\"}},\n",
    "\t{Title: \"Bullitt\", Year: 1968, Color: true,\n",
    "\t\tActors: []string{\"Steve McQueen\", \"Jacqueline Bisset\"}},\n",
    "\t// ...\n",
    "}"
   ]
  },
  {
   "cell_type": "code",
   "execution_count": 117,
   "metadata": {
    "code_folding": [],
    "slideshow": {
     "slide_type": "subslide"
    }
   },
   "outputs": [
    {
     "name": "stdout",
     "output_type": "stream",
     "text": [
      "[{\"Title\":\"Casablanca\",\"released\":1942,\"Actors\":[\"Humphrey Bogart\",\"Ingrid Bergman\"]},{\"Title\":\"Cool Hand Luke\",\"released\":1967,\"color\":true,\"Actors\":[\"Paul Newman\"]},{\"Title\":\"Bullitt\",\"released\":1968,\"color\":true,\"Actors\":[\"Steve McQueen\",\"Jacqueline Bisset\"]}]\n"
     ]
    }
   ],
   "source": [
    "{\t\t//!+Marshal\n",
    "\t\tdata, err := json.Marshal(movies)\n",
    "\t\tif err != nil {\n",
    "\t\t\tlog.Fatalf(\"JSON marshaling failed: %s\", err)\n",
    "\t\t}\n",
    "\t\tfmt.Printf(\"%s\\n\", data)\n",
    "}\t\t//!-Marshal"
   ]
  },
  {
   "cell_type": "markdown",
   "metadata": {
    "slideshow": {
     "slide_type": "subslide"
    }
   },
   "source": [
    "* json.MarshalIndent produces neatly indented output\n",
    "* two arguments: \n",
    "  * a prefix for each line of output \n",
    "  * a string for each level of indentation"
   ]
  },
  {
   "cell_type": "code",
   "execution_count": 118,
   "metadata": {
    "code_folding": [],
    "slideshow": {
     "slide_type": "subslide"
    }
   },
   "outputs": [
    {
     "name": "stdout",
     "output_type": "stream",
     "text": [
      "[\n",
      "    {\n",
      "        \"Title\": \"Casablanca\",\n",
      "        \"released\": 1942,\n",
      "        \"Actors\": [\n",
      "            \"Humphrey Bogart\",\n",
      "            \"Ingrid Bergman\"\n",
      "        ]\n",
      "    },\n",
      "    {\n",
      "        \"Title\": \"Cool Hand Luke\",\n",
      "        \"released\": 1967,\n",
      "        \"color\": true,\n",
      "        \"Actors\": [\n",
      "            \"Paul Newman\"\n",
      "        ]\n",
      "    },\n",
      "    {\n",
      "        \"Title\": \"Bullitt\",\n",
      "        \"released\": 1968,\n",
      "        \"color\": true,\n",
      "        \"Actors\": [\n",
      "            \"Steve McQueen\",\n",
      "            \"Jacqueline Bisset\"\n",
      "        ]\n",
      "    }\n",
      "]\n",
      "[{Casablanca 1942 false [Humphrey Bogart Ingrid Bergman]} {Cool Hand Luke 1967 true [Paul Newman]} {Bullitt 1968 true [Steve McQueen Jacqueline Bisset]}]\n"
     ]
    }
   ],
   "source": [
    "//MarshalIndent\t\n",
    "{\n",
    "\t\t//!+MarshalIndent\n",
    "\t\tdata, err := json.MarshalIndent(movies, \"\", \"    \")\n",
    "\t\tif err != nil {\n",
    "\t\t\tlog.Fatalf(\"JSON marshaling failed: %s\", err)\n",
    "\t\t}\n",
    "\t\tfmt.Printf(\"%s\\n\", data)\n",
    "\t\t//!-MarshalIndent\n",
    "\n",
    "\t\t//!+Unmarshal\n",
    "\t\tvar titles []struct{ Title string \n",
    "                            Year   int  `json:\"released\"`\n",
    "                            Color  bool `json:\"color,omitempty\"`\n",
    "                             Actors []string\n",
    "                           }\n",
    "\t\tif err := json.Unmarshal(data, &titles); err != nil {\n",
    "\t\t\tlog.Fatalf(\"JSON unmarshaling failed: %s\", err)\n",
    "\t\t}\n",
    "\t\tfmt.Println(titles) // \"[{Casablanca} {Cool Hand Luke} {Bullitt}]\"\n",
    "\t\t//!-Unmarshal\n",
    "\t}"
   ]
  },
  {
   "cell_type": "markdown",
   "metadata": {
    "slideshow": {
     "slide_type": "subslide"
    }
   },
   "source": [
    "#### github HTTP request \n",
    "* decode the result as JSON\n",
    "* url.QueryEscape to escape \\? and \\&"
   ]
  },
  {
   "cell_type": "code",
   "execution_count": 14,
   "metadata": {
    "code_folding": [],
    "slideshow": {
     "slide_type": "subslide"
    }
   },
   "outputs": [],
   "source": [
    "//gopl.io/ch4/github\n",
    "import \"time\"\n",
    "\n",
    "const IssuesURL = \"https://api.github.com/search/issues\"\n",
    "\n",
    "type IssuesSearchResult struct {\n",
    "\tTotalCount int `json:\"total_count\"`\n",
    "\tItems      []*Issue\n",
    "}\n",
    "\n",
    "type Issue struct {\n",
    "\tNumber    int\n",
    "\tHTMLURL   string `json:\"html_url\"`\n",
    "\tTitle     string\n",
    "\tState     string\n",
    "\tUser      *User\n",
    "\tCreatedAt time.Time `json:\"created_at\"`\n",
    "\tBody      string    // in Markdown format\n",
    "}\n",
    "\n",
    "type User struct {\n",
    "\tLogin   string\n",
    "\tHTMLURL string `json:\"html_url\"`\n",
    "}\n",
    "\n",
    "//!-"
   ]
  },
  {
   "cell_type": "markdown",
   "metadata": {},
   "source": [
    "#### github api for issues\n",
    "* [github issue api](https://api.github.com/search/issues?q=repo:golang/go%20is:open%20json%20decoder)\n",
    "* struct fields are capitalized for public access even if JSON names are not\n",
    "* matching process with JSON names and Go struct names is case-insensitive"
   ]
  },
  {
   "cell_type": "code",
   "execution_count": 2,
   "metadata": {
    "code_folding": [],
    "slideshow": {
     "slide_type": "subslide"
    }
   },
   "outputs": [],
   "source": [
    "import (\"encoding/json\";\"fmt\";\"net/http\";\"net/url\";\"strings\")\n",
    "\n",
    "// SearchIssues queries the GitHub issue tracker.\n",
    "func SearchIssues(terms []string) (*IssuesSearchResult, error) {\n",
    "\tq := url.QueryEscape(strings.Join(terms, \" \"))\n",
    "\tresp, err := http.Get(IssuesURL + \"?q=\" + q)\n",
    "\tif err != nil {\n",
    "\t\treturn nil, err\n",
    "\t}\n",
    "\tif resp.StatusCode != http.StatusOK {\n",
    "\t\tresp.Body.Close()\n",
    "\t\treturn nil, fmt.Errorf(\"search query failed: %s\", resp.Status)\n",
    "\t}\n",
    "    //fmt.Println(resp.Body)\n",
    "    fmt.Printf(\"%q\",resp.Body)\n",
    "\tvar result IssuesSearchResult\n",
    "\tif err := json.NewDecoder(resp.Body).Decode(&result); err != nil {\n",
    "\t\tresp.Body.Close()\n",
    "\t\treturn nil, err\n",
    "\t}\n",
    "\tresp.Body.Close()\n",
    "\treturn &result, nil\n",
    "}"
   ]
  },
  {
   "cell_type": "code",
   "execution_count": 22,
   "metadata": {
    "code_folding": [],
    "slideshow": {
     "slide_type": "subslide"
    }
   },
   "outputs": [
    {
     "ename": "ERROR",
     "evalue": "repl.go:6:20: undefined \"github\" in github.SearchIssues <*ast.SelectorExpr>",
     "output_type": "error",
     "traceback": [
      "repl.go:6:20: undefined \"github\" in github.SearchIssues <*ast.SelectorExpr>"
     ]
    }
   ],
   "source": [
    "import (\"fmt\";\"log\";\"os\";\"gopl.io/ch4/github\")\n",
    "\n",
    "func main() {\n",
    "\t//result, err := github.SearchIssues(os.Args[1:])\n",
    "    t := []string{\"repo:golang/go\",\"is:open\",\"json\",\"decoder\"}\n",
    "    result, err := github.SearchIssues(t)\n",
    "    //result, err := SearchIssues(t) \n",
    "\tif err != nil {\n",
    "\t\tlog.Fatal(err)\n",
    "\t}\n",
    "\tfmt.Printf(\"%d issues:\\n\", result.TotalCount)\n",
    "\tfor _, item := range result.Items {\n",
    "\t\tfmt.Printf(\"#%-5d %9.9s %.55s\\n\",\n",
    "\t\t\titem.Number, item.User.Login, item.Title)\n",
    "\t}\n",
    "}"
   ]
  },
  {
   "cell_type": "code",
   "execution_count": 167,
   "metadata": {
    "code_folding": [],
    "slideshow": {
     "slide_type": "subslide"
    }
   },
   "outputs": [
    {
     "name": "stdout",
     "output_type": "stream",
     "text": [
      "&{[] {%!q(*http.http2clientStream=&{0x14000269e00 {{}} <nil> <nil> 1 {{0 0} {{} <nil> {0 0 0 <nil> <nil>} 0} 0x14000aecc80 0 <nil> <nil> <nil> <nil>} true false {0 {0 0}} 0x140001009c0 <nil> 0x14000100960 0x14000100b40 <nil> 0x14000100ae0 0x14000b386c0 {[] 67108864 0x14000269e68} {4194304 0} -1 <nil> <nil> 0 <nil> true true true true false 0 false false map[] 0x14000b38738})} %!q(*gzip.Reader=<nil>) <nil>}85 issues:\n",
      "#48298     dsnet encoding/json: add Decoder.DisallowDuplicateFields\n",
      "#11046     kurin encoding/json: Decoder internally buffers full input\n",
      "#36225     dsnet encoding/json: the Decoder.Decode API lends itself to m\n",
      "#56733 rolandsho encoding/json: add (*Decoder).SetLimit\n",
      "#61627    nabice x/tools/gopls: The rename command line may accept ident\n",
      "#40128  rogpeppe proposal: encoding/json: garbage-free reading of tokens\n",
      "#29035    jaswdr proposal: encoding/json: add error var to compare  the \n",
      "#41144 alvaroale encoding/json: Unmarshaler breaks DisallowUnknownFields\n",
      "#5901        rsc encoding/json: allow per-Encoder/per-Decoder registrati\n",
      "#42571     dsnet encoding/json: clarify Decoder.InputOffset semantics\n",
      "#40127  rogpeppe encoding/json: add Encoder.EncodeToken method\n",
      "#14750 cyberphon encoding/json: parser ignores the case of member names\n",
      "#43716 ggaaooppe encoding/json: increment byte counter when using decode\n",
      "#34543  maxatome encoding/json: Unmarshal & json.(*Decoder).Token report\n",
      "#59053   joerdav proposal: encoding/json: add a generic Decode function\n",
      "#32779       rsc encoding/json: memoize strings during decode\n",
      "#48950 Alexander encoding/json: calculate correct SyntaxError.Offset in \n",
      "#31701    lr1980 encoding/json: second decode after error impossible\n",
      "#33714    flimzy proposal: encoding/json: Opt-in for true streaming supp\n",
      "#7872  extempora encoding/json: Encoder internally buffers full output\n",
      "#6647    btracey x/tools/cmd/godoc: display type kind of each named type\n",
      "#22533      ibrt proposal: encoding/json: preserve unknown fields\n",
      "#40982   Segflow encoding/json: use different error type for unknown fie\n",
      "#43513 Alexander encoding/json: add line number to SyntaxError\n",
      "#16212 josharian encoding/json: do all reflect work before decoding\n",
      "#22480     blixt proposal: encoding/json: add omitnil option\n",
      "#56332    gansvv encoding/json: clearer error message for boolean like p\n",
      "#33854     Qhesz encoding/json: unmarshal option to treat omitted fields\n",
      "#34564  mdempsky go/internal/gcimporter: single source of truth for deco\n",
      "#58649 nabokihms encoding/json: show nested fields path if DisallowUnkno\n"
     ]
    }
   ],
   "source": [
    "os.Args = []string{\"./issues\", \"repo:golang/go\", \"is:open\", \"json\", \"decoder\"}\n",
    "main()"
   ]
  },
  {
   "cell_type": "markdown",
   "metadata": {
    "slideshow": {
     "slide_type": "slide"
    }
   },
   "source": [
    "## 4.6 Text and HTML Templates\n",
    "* the simplest formatting: Printf\n",
    "* separate the format from the code \n",
    "* **text/template** and **html/template** packages provide a mechanism for substituting the values of variables into a text or HTML template \n"
   ]
  },
  {
   "cell_type": "markdown",
   "metadata": {
    "slideshow": {
     "slide_type": "subslide"
    }
   },
   "source": [
    "* template is a string or file containing one or more portions enclosed in double braces, {{...}}, called actions\n",
    "* Each action contains an expression in the template language\n",
    "  * Printing values\n",
    "  * Selecting struct fields\n",
    "  * Calling functions and methods\n",
    "  * Control flow such as if-else, range, and instantiating other templates"
   ]
  },
  {
   "cell_type": "code",
   "execution_count": 144,
   "metadata": {
    "code_folding": [],
    "slideshow": {
     "slide_type": "fragment"
    }
   },
   "outputs": [
    {
     "name": "stdout",
     "output_type": "stream",
     "text": [
      "{{.TotalCount}} issues:\n",
      "{{range .Items}}----------------------------------------\n",
      "Number: {{.Number}}\n",
      "User:   {{.User.Login}}\n",
      "Title:  {{.Title | printf \"%.64s\"}}\n",
      "Age:    {{.CreatedAt | daysAgo}} days\n",
      "{{end}}\n"
     ]
    },
    {
     "data": {
      "text/plain": [
       "207 <nil>"
      ]
     },
     "execution_count": 144,
     "metadata": {},
     "output_type": "execute_result"
    }
   ],
   "source": [
    "// template\n",
    "import \"fmt\"\n",
    "const templ = `{{.TotalCount}} issues:\n",
    "{{range .Items}}----------------------------------------\n",
    "Number: {{.Number}}\n",
    "User:   {{.User.Login}}\n",
    "Title:  {{.Title | printf \"%.64s\"}}\n",
    "Age:    {{.CreatedAt | daysAgo}} days\n",
    "{{end}}`\n",
    "fmt.Println(templ)"
   ]
  },
  {
   "cell_type": "code",
   "execution_count": 152,
   "metadata": {
    "code_folding": [],
    "slideshow": {
     "slide_type": "fragment"
    }
   },
   "outputs": [
    {
     "name": "stdout",
     "output_type": "stream",
     "text": [
      "&{\"report\" %!q(*parse.Tree=&{report report 0x14000a410b0 0 {{.TotalCount}} issues:\n",
      "{{range .Items}}----------------------------------------\n",
      "Number: {{.Number}}\n",
      "User:   {{.User.Login}}\n",
      "Title:  {{.Title | printf \"%.64s\"}}\n",
      "Age:    {{.CreatedAt | daysAgo}} days\n",
      "{{end}} [] <nil> [{8 206  7} {11 24 {{ 2} {0 0  0}] 1 [] map[] 0 0}) %!q(*template.common=&{map[report:0x14000666b00] {{0 0} 0 0 {{} 0} {{} 0}} {0} {{0 0} 0 0 {{} 0} {{} 0}} map[daysAgo:0x1000dd370] map[daysAgo:{0x100e8f4e0 0x14000a40ed0 19}]}) \"\" \"\"}\n"
     ]
    }
   ],
   "source": [
    "//Parse the template into a suitable internal represntation\n",
    "import (\"time\";\"text/template\";\"os\")\n",
    "func daysAgo(t time.Time) int {\n",
    "    return int(time.Since(t).Hours()/24)\n",
    "}\n",
    "report, err := template.New(\"report\").\n",
    "   Funcs(template.FuncMap{\"daysAgo\": daysAgo}).\n",
    "   Parse(templ)\n",
    "if (err != nil) {\n",
    "    fmt.Fprintln(os.Stderr,\"error\")\n",
    "} else {\n",
    "    fmt.Printf(\"%q\\n\",report)\n",
    "}"
   ]
  },
  {
   "cell_type": "code",
   "execution_count": 153,
   "metadata": {
    "code_folding": [
     10,
     15
    ],
    "slideshow": {
     "slide_type": "subslide"
    }
   },
   "outputs": [],
   "source": [
    "// Template fixed at compile time and template.Must handle the error condition\n",
    "import (\"log\";\"os\";\"text/template\";\"time\";\"gopl.io/ch4/github\")\n",
    "const templ = `{{.TotalCount}} issues:\n",
    "{{range .Items}}----------------------------------------\n",
    "Number: {{.Number}}\n",
    "User:   {{.User.Login}}\n",
    "Title:  {{.Title | printf \"%.64s\"}}\n",
    "Age:    {{.CreatedAt | daysAgo}} days\n",
    "{{end}}`\n",
    "\n",
    "func daysAgo(t time.Time) int {\n",
    "\treturn int(time.Since(t).Hours() / 24)\n",
    "}\n",
    "\n",
    "var report = template.Must(template.New(\"issuelist\").\n",
    "\tFuncs(template.FuncMap{\"daysAgo\": daysAgo}).\n",
    "\tParse(templ))\n",
    "\n",
    "func main() {\n",
    "\t//result, err := github.SearchIssues(os.Args[1:])\n",
    "    result, err := SearchIssues(os.Args[1:])\n",
    "\tif err != nil {\n",
    "\t\tlog.Fatal(err)\n",
    "\t}\n",
    "    fmt.Printf(\"%v\\n\",result)\n",
    "\tif err := report.Execute(os.Stdout, result); err != nil {\n",
    "\t\tlog.Fatal(err)\n",
    "\t}\n",
    "}\n",
    "\n"
   ]
  },
  {
   "cell_type": "code",
   "execution_count": 157,
   "metadata": {
    "code_folding": [],
    "slideshow": {
     "slide_type": "subslide"
    }
   },
   "outputs": [],
   "source": [
    "// not handle error, if parse error, exceptions occur\n",
    "func noMust() {\n",
    "\t//!+parse\n",
    "\treport, err := template.New(\"report\").\n",
    "\t\tFuncs(template.FuncMap{\"daysAgo\": daysAgo}).\n",
    "\t\tParse(templ)\n",
    "\tif err != nil {\n",
    "\t\tlog.Fatal(err)\n",
    "\t}\n",
    "\t//!-parse\n",
    "\t//result, err := github.SearchIssues(os.Args[1:])\n",
    "    result, err := SearchIssues(os.Args[1:])\n",
    "\tif err != nil {\n",
    "\t\tlog.Fatal(err)\n",
    "\t}\n",
    "\tif err := report.Execute(os.Stdout, result); err != nil {\n",
    "\t\tlog.Fatal(err)\n",
    "\t}\n",
    "}"
   ]
  },
  {
   "cell_type": "code",
   "execution_count": 158,
   "metadata": {
    "code_folding": [
     0
    ],
    "slideshow": {
     "slide_type": "fragment"
    }
   },
   "outputs": [
    {
     "name": "stdout",
     "output_type": "stream",
     "text": [
      "&{[] {0x140007f4180} <nil> <nil>}\n",
      "&{85 [0x14000fa07e0 0x14000fa08c0 0x14000fa0930 0x14000fa09a0 0x14000fa0a10 0x14000fa0a80 0x14000fa0af0 0x14000fa0b60 0x14000fa0bd0 0x14000fa0c40 0x14000fa0cb0 0x14000fa0d20 0x14000fa0d90 0x14000fa0e00 0x14000fa0e70 0x14000fa0ee0 0x14000fa0f50 0x14000fa0fc0 0x14000fa1030 0x14000fa1e30 0x14000fa1ea0 0x14000fa1f10 0x14000fa1f80 0x14000c99570 0x14000c99810 0x14000c99880 0x14000c998f0 0x14000c99960 0x14000c999d0 0x14000c99a40]}\n",
      "85 issues:\n",
      "----------------------------------------\n",
      "Number: 48298\n",
      "User:   dsnet\n",
      "Title:  encoding/json: add Decoder.DisallowDuplicateFields\n",
      "Age:    759 days\n",
      "----------------------------------------\n",
      "Number: 11046\n",
      "User:   kurin\n",
      "Title:  encoding/json: Decoder internally buffers full input\n",
      "Age:    3049 days\n",
      "----------------------------------------\n",
      "Number: 36225\n",
      "User:   dsnet\n",
      "Title:  encoding/json: the Decoder.Decode API lends itself to misuse\n",
      "Age:    1389 days\n",
      "----------------------------------------\n",
      "Number: 56733\n",
      "User:   rolandshoemaker\n",
      "Title:  encoding/json: add (*Decoder).SetLimit\n",
      "Age:    328 days\n",
      "----------------------------------------\n",
      "Number: 61627\n",
      "User:   nabice\n",
      "Title:  x/tools/gopls: The rename command line may accept identifiers in\n",
      "Age:    73 days\n",
      "----------------------------------------\n",
      "Number: 40128\n",
      "User:   rogpeppe\n",
      "Title:  proposal: encoding/json: garbage-free reading of tokens\n",
      "Age:    1187 days\n",
      "----------------------------------------\n",
      "Number: 29035\n",
      "User:   jaswdr\n",
      "Title:  proposal: encoding/json: add error var to compare  the returned \n",
      "Age:    1774 days\n",
      "----------------------------------------\n",
      "Number: 41144\n",
      "User:   alvaroaleman\n",
      "Title:  encoding/json: Unmarshaler breaks DisallowUnknownFields\n",
      "Age:    1133 days\n",
      "----------------------------------------\n",
      "Number: 5901\n",
      "User:   rsc\n",
      "Title:  encoding/json: allow per-Encoder/per-Decoder registration of mar\n",
      "Age:    3735 days\n",
      "----------------------------------------\n",
      "Number: 42571\n",
      "User:   dsnet\n",
      "Title:  encoding/json: clarify Decoder.InputOffset semantics\n",
      "Age:    1060 days\n",
      "----------------------------------------\n",
      "Number: 40127\n",
      "User:   rogpeppe\n",
      "Title:  encoding/json: add Encoder.EncodeToken method\n",
      "Age:    1187 days\n",
      "----------------------------------------\n",
      "Number: 14750\n",
      "User:   cyberphone\n",
      "Title:  encoding/json: parser ignores the case of member names\n",
      "Age:    2769 days\n",
      "----------------------------------------\n",
      "Number: 43716\n",
      "User:   ggaaooppeenngg\n",
      "Title:  encoding/json: increment byte counter when using decoder.Token\n",
      "Age:    997 days\n",
      "----------------------------------------\n",
      "Number: 34543\n",
      "User:   maxatome\n",
      "Title:  encoding/json: Unmarshal & json.(*Decoder).Token report differen\n",
      "Age:    1474 days\n",
      "----------------------------------------\n",
      "Number: 59053\n",
      "User:   joerdav\n",
      "Title:  proposal: encoding/json: add a generic Decode function\n",
      "Age:    207 days\n",
      "----------------------------------------\n",
      "Number: 32779\n",
      "User:   rsc\n",
      "Title:  encoding/json: memoize strings during decode\n",
      "Age:    1566 days\n",
      "----------------------------------------\n",
      "Number: 48950\n",
      "User:   AlexanderYastrebov\n",
      "Title:  encoding/json: calculate correct SyntaxError.Offset in the strea\n",
      "Age:    725 days\n",
      "----------------------------------------\n",
      "Number: 33714\n",
      "User:   flimzy\n",
      "Title:  proposal: encoding/json: Opt-in for true streaming support\n",
      "Age:    1512 days\n",
      "----------------------------------------\n",
      "Number: 7872\n",
      "User:   extemporalgenome\n",
      "Title:  encoding/json: Encoder internally buffers full output\n",
      "Age:    3452 days\n",
      "----------------------------------------\n",
      "Number: 31701\n",
      "User:   lr1980\n",
      "Title:  encoding/json: second decode after error impossible\n",
      "Age:    1626 days\n",
      "----------------------------------------\n",
      "Number: 6647\n",
      "User:   btracey\n",
      "Title:  x/tools/cmd/godoc: display type kind of each named type\n",
      "Age:    3637 days\n",
      "----------------------------------------\n",
      "Number: 22533\n",
      "User:   ibrt\n",
      "Title:  proposal: encoding/json: preserve unknown fields\n",
      "Age:    2167 days\n",
      "----------------------------------------\n",
      "Number: 40982\n",
      "User:   Segflow\n",
      "Title:  encoding/json: use different error type for unknown field if the\n",
      "Age:    1142 days\n",
      "----------------------------------------\n",
      "Number: 43513\n",
      "User:   AlexanderYastrebov\n",
      "Title:  encoding/json: add line number to SyntaxError\n",
      "Age:    1007 days\n",
      "----------------------------------------\n",
      "Number: 16212\n",
      "User:   josharian\n",
      "Title:  encoding/json: do all reflect work before decoding\n",
      "Age:    2657 days\n",
      "----------------------------------------\n",
      "Number: 22480\n",
      "User:   blixt\n",
      "Title:  proposal: encoding/json: add omitnil option\n",
      "Age:    2171 days\n",
      "----------------------------------------\n",
      "Number: 56332\n",
      "User:   gansvv\n",
      "Title:  encoding/json: clearer error message for boolean like prefix in \n",
      "Age:    354 days\n",
      "----------------------------------------\n",
      "Number: 33854\n",
      "User:   Qhesz\n",
      "Title:  encoding/json: unmarshal option to treat omitted fields as null\n",
      "Age:    1504 days\n",
      "----------------------------------------\n",
      "Number: 34564\n",
      "User:   mdempsky\n",
      "Title:  go/internal/gcimporter: single source of truth for decoder logic\n",
      "Age:    1473 days\n",
      "----------------------------------------\n",
      "Number: 58649\n",
      "User:   nabokihms\n",
      "Title:  encoding/json: show nested fields path if DisallowUnknownFields \n",
      "Age:    228 days\n"
     ]
    }
   ],
   "source": [
    "os.Args = []string{\"issuereport\", \"repo:golang/go\",\"is:open\",\"json\",\"decoder\"}\n",
    "main()"
   ]
  },
  {
   "cell_type": "code",
   "execution_count": 159,
   "metadata": {},
   "outputs": [
    {
     "name": "stdout",
     "output_type": "stream",
     "text": [
      "&{[] {0x140007f5980} <nil> <nil>}\n",
      "85 issues:\n",
      "----------------------------------------\n",
      "Number: 48298\n",
      "User:   dsnet\n",
      "Title:  encoding/json: add Decoder.DisallowDuplicateFields\n",
      "Age:    759 days\n",
      "----------------------------------------\n",
      "Number: 11046\n",
      "User:   kurin\n",
      "Title:  encoding/json: Decoder internally buffers full input\n",
      "Age:    3049 days\n",
      "----------------------------------------\n",
      "Number: 36225\n",
      "User:   dsnet\n",
      "Title:  encoding/json: the Decoder.Decode API lends itself to misuse\n",
      "Age:    1389 days\n",
      "----------------------------------------\n",
      "Number: 56733\n",
      "User:   rolandshoemaker\n",
      "Title:  encoding/json: add (*Decoder).SetLimit\n",
      "Age:    328 days\n",
      "----------------------------------------\n",
      "Number: 61627\n",
      "User:   nabice\n",
      "Title:  x/tools/gopls: The rename command line may accept identifiers in\n",
      "Age:    73 days\n",
      "----------------------------------------\n",
      "Number: 40128\n",
      "User:   rogpeppe\n",
      "Title:  proposal: encoding/json: garbage-free reading of tokens\n",
      "Age:    1187 days\n",
      "----------------------------------------\n",
      "Number: 29035\n",
      "User:   jaswdr\n",
      "Title:  proposal: encoding/json: add error var to compare  the returned \n",
      "Age:    1774 days\n",
      "----------------------------------------\n",
      "Number: 41144\n",
      "User:   alvaroaleman\n",
      "Title:  encoding/json: Unmarshaler breaks DisallowUnknownFields\n",
      "Age:    1133 days\n",
      "----------------------------------------\n",
      "Number: 5901\n",
      "User:   rsc\n",
      "Title:  encoding/json: allow per-Encoder/per-Decoder registration of mar\n",
      "Age:    3735 days\n",
      "----------------------------------------\n",
      "Number: 42571\n",
      "User:   dsnet\n",
      "Title:  encoding/json: clarify Decoder.InputOffset semantics\n",
      "Age:    1060 days\n",
      "----------------------------------------\n",
      "Number: 40127\n",
      "User:   rogpeppe\n",
      "Title:  encoding/json: add Encoder.EncodeToken method\n",
      "Age:    1187 days\n",
      "----------------------------------------\n",
      "Number: 14750\n",
      "User:   cyberphone\n",
      "Title:  encoding/json: parser ignores the case of member names\n",
      "Age:    2769 days\n",
      "----------------------------------------\n",
      "Number: 43716\n",
      "User:   ggaaooppeenngg\n",
      "Title:  encoding/json: increment byte counter when using decoder.Token\n",
      "Age:    997 days\n",
      "----------------------------------------\n",
      "Number: 34543\n",
      "User:   maxatome\n",
      "Title:  encoding/json: Unmarshal & json.(*Decoder).Token report differen\n",
      "Age:    1474 days\n",
      "----------------------------------------\n",
      "Number: 59053\n",
      "User:   joerdav\n",
      "Title:  proposal: encoding/json: add a generic Decode function\n",
      "Age:    207 days\n",
      "----------------------------------------\n",
      "Number: 32779\n",
      "User:   rsc\n",
      "Title:  encoding/json: memoize strings during decode\n",
      "Age:    1566 days\n",
      "----------------------------------------\n",
      "Number: 48950\n",
      "User:   AlexanderYastrebov\n",
      "Title:  encoding/json: calculate correct SyntaxError.Offset in the strea\n",
      "Age:    725 days\n",
      "----------------------------------------\n",
      "Number: 33714\n",
      "User:   flimzy\n",
      "Title:  proposal: encoding/json: Opt-in for true streaming support\n",
      "Age:    1512 days\n",
      "----------------------------------------\n",
      "Number: 7872\n",
      "User:   extemporalgenome\n",
      "Title:  encoding/json: Encoder internally buffers full output\n",
      "Age:    3452 days\n",
      "----------------------------------------\n",
      "Number: 31701\n",
      "User:   lr1980\n",
      "Title:  encoding/json: second decode after error impossible\n",
      "Age:    1626 days\n",
      "----------------------------------------\n",
      "Number: 6647\n",
      "User:   btracey\n",
      "Title:  x/tools/cmd/godoc: display type kind of each named type\n",
      "Age:    3637 days\n",
      "----------------------------------------\n",
      "Number: 22533\n",
      "User:   ibrt\n",
      "Title:  proposal: encoding/json: preserve unknown fields\n",
      "Age:    2167 days\n",
      "----------------------------------------\n",
      "Number: 40982\n",
      "User:   Segflow\n",
      "Title:  encoding/json: use different error type for unknown field if the\n",
      "Age:    1142 days\n",
      "----------------------------------------\n",
      "Number: 43513\n",
      "User:   AlexanderYastrebov\n",
      "Title:  encoding/json: add line number to SyntaxError\n",
      "Age:    1007 days\n",
      "----------------------------------------\n",
      "Number: 16212\n",
      "User:   josharian\n",
      "Title:  encoding/json: do all reflect work before decoding\n",
      "Age:    2657 days\n",
      "----------------------------------------\n",
      "Number: 22480\n",
      "User:   blixt\n",
      "Title:  proposal: encoding/json: add omitnil option\n",
      "Age:    2171 days\n",
      "----------------------------------------\n",
      "Number: 56332\n",
      "User:   gansvv\n",
      "Title:  encoding/json: clearer error message for boolean like prefix in \n",
      "Age:    354 days\n",
      "----------------------------------------\n",
      "Number: 33854\n",
      "User:   Qhesz\n",
      "Title:  encoding/json: unmarshal option to treat omitted fields as null\n",
      "Age:    1504 days\n",
      "----------------------------------------\n",
      "Number: 34564\n",
      "User:   mdempsky\n",
      "Title:  go/internal/gcimporter: single source of truth for decoder logic\n",
      "Age:    1473 days\n",
      "----------------------------------------\n",
      "Number: 58649\n",
      "User:   nabokihms\n",
      "Title:  encoding/json: show nested fields path if DisallowUnknownFields \n",
      "Age:    228 days\n"
     ]
    }
   ],
   "source": [
    "noMust()  "
   ]
  },
  {
   "cell_type": "markdown",
   "metadata": {
    "slideshow": {
     "slide_type": "subslide"
    }
   },
   "source": [
    "* html/template use the same API and expression language as text/template\n",
    "* with HTML, JavaScript, CSS, or URLs"
   ]
  },
  {
   "cell_type": "code",
   "execution_count": 160,
   "metadata": {
    "code_folding": [],
    "slideshow": {
     "slide_type": "subslide"
    }
   },
   "outputs": [],
   "source": [
    "//gopl.io/ch4/issueshtml\n",
    "import (\"log\";\"os\";\"gopl.io/ch4/github\";\"html/template\")\n",
    "var issueList = template.Must(template.New(\"issuelist\").Parse(`\n",
    "<h1>{{.TotalCount}} issues</h1>\n",
    "<table border=1>\n",
    "<tr style='text-align: left'>\n",
    "  <th>#</th>\n",
    "  <th>State</th>\n",
    "  <th>User</th>\n",
    "  <th>Title</th>\n",
    "</tr>\n",
    "{{range .Items}}\n",
    "<tr>\n",
    "  <td><a href='{{.HTMLURL}}'>{{.Number}}</a></td>\n",
    "  <td>{{.State}}</td>\n",
    "  <td><a href='{{.User.HTMLURL}}'>{{.User.Login}}</a></td>\n",
    "  <td><a href='{{.HTMLURL}}'>{{.Title}}</a></td>\n",
    "</tr>\n",
    "{{end}}\n",
    "</table>\n",
    "`))"
   ]
  },
  {
   "cell_type": "code",
   "execution_count": 161,
   "metadata": {
    "code_folding": [],
    "slideshow": {
     "slide_type": "fragment"
    }
   },
   "outputs": [],
   "source": [
    "func main() {\n",
    "\tresult, err := SearchIssues(os.Args[1:])\n",
    "    //result, err := github.SearchIssues(os.Args[1:])\n",
    "\tif err != nil {\n",
    "\t\tlog.Fatal(err)\n",
    "\t}\n",
    "\tif err := issueList.Execute(os.Stdout, result); err != nil {\n",
    "\t\tlog.Fatal(err)\n",
    "\t}\n",
    "}"
   ]
  },
  {
   "cell_type": "code",
   "execution_count": 162,
   "metadata": {
    "code_folding": [],
    "slideshow": {
     "slide_type": "slide"
    },
    "tags": []
   },
   "outputs": [
    {
     "name": "stdout",
     "output_type": "stream",
     "text": [
      "&{[] {0x14000d2a600} <nil> <nil>}\n",
      "\n",
      "<h1>83 issues</h1>\n",
      "<table border=1>\n",
      "<tr style='text-align: left'>\n",
      "  <th>#</th>\n",
      "  <th>State</th>\n",
      "  <th>User</th>\n",
      "  <th>Title</th>\n",
      "</tr>\n",
      "\n",
      "<tr>\n",
      "  <td><a href='https://github.com/golang/go/issues/7872'>7872</a></td>\n",
      "  <td>open</td>\n",
      "  <td><a href='https://github.com/extemporalgenome'>extemporalgenome</a></td>\n",
      "  <td><a href='https://github.com/golang/go/issues/7872'>encoding/json: Encoder internally buffers full output</a></td>\n",
      "</tr>\n",
      "\n",
      "<tr>\n",
      "  <td><a href='https://github.com/golang/go/issues/40127'>40127</a></td>\n",
      "  <td>open</td>\n",
      "  <td><a href='https://github.com/rogpeppe'>rogpeppe</a></td>\n",
      "  <td><a href='https://github.com/golang/go/issues/40127'>encoding/json: add Encoder.EncodeToken method</a></td>\n",
      "</tr>\n",
      "\n",
      "<tr>\n",
      "  <td><a href='https://github.com/golang/go/issues/5901'>5901</a></td>\n",
      "  <td>open</td>\n",
      "  <td><a href='https://github.com/rsc'>rsc</a></td>\n",
      "  <td><a href='https://github.com/golang/go/issues/5901'>encoding/json: allow per-Encoder/per-Decoder registration of marshal/unmarshal functions</a></td>\n",
      "</tr>\n",
      "\n",
      "<tr>\n",
      "  <td><a href='https://github.com/golang/go/issues/33422'>33422</a></td>\n",
      "  <td>open</td>\n",
      "  <td><a href='https://github.com/rittneje'>rittneje</a></td>\n",
      "  <td><a href='https://github.com/golang/go/issues/33422'>encoding/json: marshaling RawMessage has poor performance</a></td>\n",
      "</tr>\n",
      "\n",
      "<tr>\n",
      "  <td><a href='https://github.com/golang/go/issues/27589'>27589</a></td>\n",
      "  <td>open</td>\n",
      "  <td><a href='https://github.com/pjebs'>pjebs</a></td>\n",
      "  <td><a href='https://github.com/golang/go/issues/27589'>proposal: encoding/json: &#34;nonil&#34; struct tag to marshal nil slices and maps as non-null</a></td>\n",
      "</tr>\n",
      "\n",
      "<tr>\n",
      "  <td><a href='https://github.com/golang/go/issues/6213'>6213</a></td>\n",
      "  <td>open</td>\n",
      "  <td><a href='https://github.com/gopherbot'>gopherbot</a></td>\n",
      "  <td><a href='https://github.com/golang/go/issues/6213'>proposal: encoding/json: add &#34;inline&#34; struct tag</a></td>\n",
      "</tr>\n",
      "\n",
      "<tr>\n",
      "  <td><a href='https://github.com/golang/go/issues/27735'>27735</a></td>\n",
      "  <td>open</td>\n",
      "  <td><a href='https://github.com/dsnet'>dsnet</a></td>\n",
      "  <td><a href='https://github.com/golang/go/issues/27735'>encoding/json: incorrect usage of sync.Pool</a></td>\n",
      "</tr>\n",
      "\n",
      "<tr>\n",
      "  <td><a href='https://github.com/golang/go/issues/14750'>14750</a></td>\n",
      "  <td>open</td>\n",
      "  <td><a href='https://github.com/cyberphone'>cyberphone</a></td>\n",
      "  <td><a href='https://github.com/golang/go/issues/14750'>encoding/json: parser ignores the case of member names</a></td>\n",
      "</tr>\n",
      "\n",
      "<tr>\n",
      "  <td><a href='https://github.com/golang/go/issues/5161'>5161</a></td>\n",
      "  <td>open</td>\n",
      "  <td><a href='https://github.com/orofarne'>orofarne</a></td>\n",
      "  <td><a href='https://github.com/golang/go/issues/5161'>encoding/json: use the Error method to marshal an error value?</a></td>\n",
      "</tr>\n",
      "\n",
      "<tr>\n",
      "  <td><a href='https://github.com/golang/go/issues/11939'>11939</a></td>\n",
      "  <td>open</td>\n",
      "  <td><a href='https://github.com/joeshaw'>joeshaw</a></td>\n",
      "  <td><a href='https://github.com/golang/go/issues/11939'>proposal: encoding/json, encoding/xml: support zero values of structs with omitempty</a></td>\n",
      "</tr>\n",
      "\n",
      "<tr>\n",
      "  <td><a href='https://github.com/golang/go/issues/35501'>35501</a></td>\n",
      "  <td>open</td>\n",
      "  <td><a href='https://github.com/ainar-g'>ainar-g</a></td>\n",
      "  <td><a href='https://github.com/golang/go/issues/35501'>encoding/json: tag `json:&#34;-&#34;` doesn&#39;t hide an embedded field</a></td>\n",
      "</tr>\n",
      "\n",
      "<tr>\n",
      "  <td><a href='https://github.com/golang/go/issues/5819'>5819</a></td>\n",
      "  <td>open</td>\n",
      "  <td><a href='https://github.com/gopherbot'>gopherbot</a></td>\n",
      "  <td><a href='https://github.com/golang/go/issues/5819'>encoding/gob: encoder should ignore embedded structs with no exported fields</a></td>\n",
      "</tr>\n",
      "\n",
      "<tr>\n",
      "  <td><a href='https://github.com/golang/go/issues/25153'>25153</a></td>\n",
      "  <td>open</td>\n",
      "  <td><a href='https://github.com/dominicbarnes'>dominicbarnes</a></td>\n",
      "  <td><a href='https://github.com/golang/go/issues/25153'>encoding/json: include property name for marshal errors</a></td>\n",
      "</tr>\n",
      "\n",
      "<tr>\n",
      "  <td><a href='https://github.com/golang/go/issues/21399'>21399</a></td>\n",
      "  <td>open</td>\n",
      "  <td><a href='https://github.com/halfcrazy'>halfcrazy</a></td>\n",
      "  <td><a href='https://github.com/golang/go/issues/21399'>encoding/xml: cannot marshal self-closing tag</a></td>\n",
      "</tr>\n",
      "\n",
      "<tr>\n",
      "  <td><a href='https://github.com/golang/go/issues/20206'>20206</a></td>\n",
      "  <td>open</td>\n",
      "  <td><a href='https://github.com/markdryan'>markdryan</a></td>\n",
      "  <td><a href='https://github.com/golang/go/issues/20206'>encoding/base64: encoding is slow</a></td>\n",
      "</tr>\n",
      "\n",
      "<tr>\n",
      "  <td><a href='https://github.com/golang/go/issues/32779'>32779</a></td>\n",
      "  <td>open</td>\n",
      "  <td><a href='https://github.com/rsc'>rsc</a></td>\n",
      "  <td><a href='https://github.com/golang/go/issues/32779'>encoding/json: memoize strings during decode</a></td>\n",
      "</tr>\n",
      "\n",
      "<tr>\n",
      "  <td><a href='https://github.com/golang/go/issues/8717'>8717</a></td>\n",
      "  <td>open</td>\n",
      "  <td><a href='https://github.com/dvyukov'>dvyukov</a></td>\n",
      "  <td><a href='https://github.com/golang/go/issues/8717'>cmd/compile: random performance fluctuations after unrelated changes</a></td>\n",
      "</tr>\n",
      "\n",
      "<tr>\n",
      "  <td><a href='https://github.com/golang/go/issues/59345'>59345</a></td>\n",
      "  <td>closed</td>\n",
      "  <td><a href='https://github.com/jba'>jba</a></td>\n",
      "  <td><a href='https://github.com/golang/go/issues/59345'>log/slog: JSONHandler should format everything like json.Marshal</a></td>\n",
      "</tr>\n",
      "\n",
      "<tr>\n",
      "  <td><a href='https://github.com/golang/go/issues/58452'>58452</a></td>\n",
      "  <td>open</td>\n",
      "  <td><a href='https://github.com/neild'>neild</a></td>\n",
      "  <td><a href='https://github.com/golang/go/issues/58452'>proposal: io: allocate copy buffers from a pool</a></td>\n",
      "</tr>\n",
      "\n",
      "<tr>\n",
      "  <td><a href='https://github.com/golang/go/issues/37237'>37237</a></td>\n",
      "  <td>open</td>\n",
      "  <td><a href='https://github.com/myitcv'>myitcv</a></td>\n",
      "  <td><a href='https://github.com/golang/go/issues/37237'>x/tools/gopls: support advanced query syntax for Symbol</a></td>\n",
      "</tr>\n",
      "\n",
      "<tr>\n",
      "  <td><a href='https://github.com/golang/go/issues/61758'>61758</a></td>\n",
      "  <td>closed</td>\n",
      "  <td><a href='https://github.com/pohly'>pohly</a></td>\n",
      "  <td><a href='https://github.com/golang/go/issues/61758'>testing/slogtest: support sub-tests</a></td>\n",
      "</tr>\n",
      "\n",
      "<tr>\n",
      "  <td><a href='https://github.com/golang/go/issues/19636'>19636</a></td>\n",
      "  <td>open</td>\n",
      "  <td><a href='https://github.com/josselin-c'>josselin-c</a></td>\n",
      "  <td><a href='https://github.com/golang/go/issues/19636'>encoding/base64: decoding is slow</a></td>\n",
      "</tr>\n",
      "\n",
      "<tr>\n",
      "  <td><a href='https://github.com/golang/go/issues/58428'>58428</a></td>\n",
      "  <td>closed</td>\n",
      "  <td><a href='https://github.com/tpaschalis'>tpaschalis</a></td>\n",
      "  <td><a href='https://github.com/golang/go/issues/58428'>cmd/link: compilation failure on armv6/armv7 due to truncated relocations</a></td>\n",
      "</tr>\n",
      "\n",
      "<tr>\n",
      "  <td><a href='https://github.com/golang/go/issues/59040'>59040</a></td>\n",
      "  <td>closed</td>\n",
      "  <td><a href='https://github.com/bradfitz'>bradfitz</a></td>\n",
      "  <td><a href='https://github.com/golang/go/issues/59040'>expvar: Map.String can make invalid JSON with low ASCII bytes</a></td>\n",
      "</tr>\n",
      "\n",
      "<tr>\n",
      "  <td><a href='https://github.com/golang/go/issues/23199'>23199</a></td>\n",
      "  <td>open</td>\n",
      "  <td><a href='https://github.com/dsnet'>dsnet</a></td>\n",
      "  <td><a href='https://github.com/golang/go/issues/23199'>sync: Pool example suggests incorrect usage</a></td>\n",
      "</tr>\n",
      "\n",
      "<tr>\n",
      "  <td><a href='https://github.com/golang/go/issues/25426'>25426</a></td>\n",
      "  <td>open</td>\n",
      "  <td><a href='https://github.com/josharian'>josharian</a></td>\n",
      "  <td><a href='https://github.com/golang/go/issues/25426'>cmd/compile: revisit statement boundaries CL peformance and binary size impact</a></td>\n",
      "</tr>\n",
      "\n",
      "<tr>\n",
      "  <td><a href='https://github.com/golang/go/issues/49480'>49480</a></td>\n",
      "  <td>open</td>\n",
      "  <td><a href='https://github.com/quasilyte'>quasilyte</a></td>\n",
      "  <td><a href='https://github.com/golang/go/issues/49480'>cmd/compile,runtime: introduce growbyteslice?</a></td>\n",
      "</tr>\n",
      "\n",
      "<tr>\n",
      "  <td><a href='https://github.com/golang/go/issues/38751'>38751</a></td>\n",
      "  <td>open</td>\n",
      "  <td><a href='https://github.com/dmitshur'>dmitshur</a></td>\n",
      "  <td><a href='https://github.com/golang/go/issues/38751'>x/playground: very large output is sometimes corrupted</a></td>\n",
      "</tr>\n",
      "\n",
      "<tr>\n",
      "  <td><a href='https://github.com/golang/go/issues/55973'>55973</a></td>\n",
      "  <td>closed</td>\n",
      "  <td><a href='https://github.com/Thorleon'>Thorleon</a></td>\n",
      "  <td><a href='https://github.com/golang/go/issues/55973'>encoding/asn1: remove allocation from init</a></td>\n",
      "</tr>\n",
      "\n",
      "<tr>\n",
      "  <td><a href='https://github.com/golang/go/issues/15808'>15808</a></td>\n",
      "  <td>open</td>\n",
      "  <td><a href='https://github.com/randall77'>randall77</a></td>\n",
      "  <td><a href='https://github.com/golang/go/issues/15808'>cmd/compile: loads/constants not lifted out of loop</a></td>\n",
      "</tr>\n",
      "\n",
      "</table>\n"
     ]
    }
   ],
   "source": [
    "os.Args = []string{\"issuehtml\",\"repo:golang/go\",\"commenter:gopherbot\",\"json\",\"encoder\"}\n",
    "main()"
   ]
  },
  {
   "cell_type": "markdown",
   "metadata": {
    "slideshow": {
     "slide_type": "subslide"
    }
   },
   "source": [
    "* [issues.html](http://skhuang.github.io/ch4/issues.html)\n",
    "<code>\n",
    "$ go build gopl.io/ch4/issueshtml\n",
    "$ ./issueshtml repo:golang/go commenter:gopherbot json encoder >issues.html\n",
    "</code>"
   ]
  },
  {
   "cell_type": "code",
   "execution_count": 43,
   "metadata": {
    "slideshow": {
     "slide_type": "fragment"
    }
   },
   "outputs": [
    {
     "name": "stdout",
     "output_type": "stream",
     "text": [
      "\n",
      "<h1>2 issues</h1>\n",
      "<table border=1>\n",
      "<tr style='text-align: left'>\n",
      "  <th>#</th>\n",
      "  <th>State</th>\n",
      "  <th>User</th>\n",
      "  <th>Title</th>\n",
      "</tr>\n",
      "\n",
      "<tr>\n",
      "  <td><a href='https://github.com/golang/go/issues/10535'>10535</a></td>\n",
      "  <td>open</td>\n",
      "  <td><a href='https://github.com/dvyukov'>dvyukov</a></td>\n",
      "  <td><a href='https://github.com/golang/go/issues/10535'>x/net/html: void element &lt;link&gt; has child nodes</a></td>\n",
      "</tr>\n",
      "\n",
      "<tr>\n",
      "  <td><a href='https://github.com/golang/go/issues/3133'>3133</a></td>\n",
      "  <td>closed</td>\n",
      "  <td><a href='https://github.com/ukai'>ukai</a></td>\n",
      "  <td><a href='https://github.com/golang/go/issues/3133'>html/template: escape xmldesc as &amp;lt;?xml</a></td>\n",
      "</tr>\n",
      "\n",
      "</table>\n"
     ]
    }
   ],
   "source": [
    "os.Args = []string{\"issuehtml\",\"repo:golang/go\",\"3133\",\"10535\"}\n",
    "main()"
   ]
  },
  {
   "cell_type": "markdown",
   "metadata": {
    "slideshow": {
     "slide_type": "fragment"
    }
   },
   "source": [
    "[issues2.html](https://skhuang.github.io/ch4/issues2.html)\n",
    "<code>\n",
    "$ ./issueshtml repo:golang/go 3133 10535 >issues2.html\n",
    "</code>"
   ]
  },
  {
   "cell_type": "code",
   "execution_count": 40,
   "metadata": {
    "code_folding": [],
    "slideshow": {
     "slide_type": "subslide"
    }
   },
   "outputs": [
    {
     "ename": "ERROR",
     "evalue": "repl.go:14:5: error compiling assignment: data.B = \"<b>Hello!</b>\"\n\treflect.Value.Convert: value of type reflect.Value cannot be converted to type template.HTML",
     "output_type": "error",
     "traceback": [
      "repl.go:14:5: error compiling assignment: data.B = \"<b>Hello!</b>\"\n\treflect.Value.Convert: value of type reflect.Value cannot be converted to type template.HTML"
     ]
    }
   ],
   "source": [
    "//gopl.io/ch4/autoescape\n",
    "import (\"fmt\";\"html/template\";\"log\";\"os\")\n",
    "\n",
    "//!+\n",
    "func main() {\n",
    "\tconst templ = `<p>A: {{.A}}</p><p>B: {{.B}}</p>`\n",
    "\tt := template.Must(template.New(\"escape\").Parse(templ))\n",
    "\tvar data struct {\n",
    "\t\tA string        // untrusted plain text, will be escaped \n",
    "\t\tB template.HTML // trusted HTML, preseve the markup\n",
    "\t}\n",
    "    fmt.Printf(\"%T\\n\",data)\n",
    "    data.A = \"<b>Hello!</b>\"\n",
    "    data.B =\"<b>Hello!</b>\"\n",
    "    var  b template.HTML= template.HTML(\"test\")\n",
    "\tif err := t.Execute(os.Stdout, data); err != nil {\n",
    "\t\tlog.Fatal(err)\n",
    "\t}\n",
    "}\n"
   ]
  },
  {
   "cell_type": "markdown",
   "metadata": {
    "slideshow": {
     "slide_type": "subslide"
    }
   },
   "source": [
    "[autoescape.html](http://skhuang.github.io/ch4/autoescape.html)"
   ]
  },
  {
   "cell_type": "markdown",
   "metadata": {
    "slideshow": {
     "slide_type": "subslide"
    }
   },
   "source": [
    "* for more information: \n",
    "<code>\n",
    "$ go doc text/template\n",
    "$ go doc html/template\n",
    "</code>"
   ]
  }
 ],
 "metadata": {
  "celltoolbar": "Slideshow",
  "kernelspec": {
   "display_name": "Go",
   "language": "go",
   "name": "gophernotes"
  },
  "language_info": {
   "codemirror_mode": "",
   "file_extension": ".go",
   "mimetype": "",
   "name": "go",
   "nbconvert_exporter": "",
   "pygments_lexer": "",
   "version": "go1.21.1"
  },
  "rise": {
   "enable_chalkboard": true,
   "scroll": true
  },
  "toc": {
   "base_numbering": 1,
   "nav_menu": {},
   "number_sections": false,
   "sideBar": true,
   "skip_h1_title": false,
   "title_cell": "Table of Contents",
   "title_sidebar": "Contents",
   "toc_cell": true,
   "toc_position": {
    "height": "171.188px",
    "left": "88px",
    "top": "110px",
    "width": "165px"
   },
   "toc_section_display": true,
   "toc_window_display": false
  }
 },
 "nbformat": 4,
 "nbformat_minor": 4
}
