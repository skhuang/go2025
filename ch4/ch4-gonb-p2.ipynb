{
 "cells": [
  {
   "cell_type": "markdown",
   "id": "4ca46ec8",
   "metadata": {
    "toc": true
   },
   "source": [
    "<h1>Table of Contents<span class=\"tocSkip\"></span></h1>\n",
    "<div class=\"toc\"><ul class=\"toc-item\"><li><span><a href=\"#4.-Composite-Types-(II)\" data-toc-modified-id=\"4.-Composite-Types-(II)-1\">4. Composite Types (II)</a></span><ul class=\"toc-item\"><li><span><a href=\"#4.4-Structs\" data-toc-modified-id=\"4.4-Structs-1.1\">4.4 Structs</a></span><ul class=\"toc-item\"><li><span><a href=\"#Recursive-Data-Structures\" data-toc-modified-id=\"Recursive-Data-Structures-1.1.1\">Recursive Data Structures</a></span></li><li><span><a href=\"#Struct-Literals\" data-toc-modified-id=\"Struct-Literals-1.1.2\">Struct Literals</a></span></li><li><span><a href=\"#command-line-arguments\" data-toc-modified-id=\"command-line-arguments-1.1.3\">command-line-arguments</a></span></li><li><span><a href=\"#Comparing-Structs\" data-toc-modified-id=\"Comparing-Structs-1.1.4\">Comparing Structs</a></span></li><li><span><a href=\"#Struct-Embedding-and-Anonymous-Fields\" data-toc-modified-id=\"Struct-Embedding-and-Anonymous-Fields-1.1.5\">Struct Embedding and Anonymous Fields</a></span></li><li><span><a href=\"#Use-one-of-the-two-forms\" data-toc-modified-id=\"Use-one-of-the-two-forms-1.1.6\">Use one of the two forms</a></span></li></ul></li><li><span><a href=\"#4.5-JSON\" data-toc-modified-id=\"4.5-JSON-1.2\">4.5 JSON</a></span><ul class=\"toc-item\"><li><ul class=\"toc-item\"><li><span><a href=\"#github-HTTP-request\" data-toc-modified-id=\"github-HTTP-request-1.2.0.1\">github HTTP request</a></span></li><li><span><a href=\"#github-api-for-issues\" data-toc-modified-id=\"github-api-for-issues-1.2.0.2\">github api for issues</a></span></li></ul></li></ul></li><li><span><a href=\"#4.6-Text-and-HTML-Templates\" data-toc-modified-id=\"4.6-Text-and-HTML-Templates-1.3\">4.6 Text and HTML Templates</a></span></li></ul></li></ul></div>"
   ]
  },
  {
   "cell_type": "markdown",
   "id": "9ea900c1",
   "metadata": {
    "slideshow": {
     "slide_type": "slide"
    }
   },
   "source": [
    "# 4. Composite Types (II)\n",
    "*    **Structs**\n",
    "     *    Struct Literals\n",
    "     *    Comparing Structs\n",
    "     *    Struct Embedding and Anonymous Fields\n",
    "*    JSON\n",
    "*    Text and HTML Templates"
   ]
  },
  {
   "cell_type": "markdown",
   "id": "760f9550",
   "metadata": {
    "slideshow": {
     "slide_type": "slide"
    }
   },
   "source": [
    "\n",
    "## 4.4 Structs"
   ]
  },
  {
   "cell_type": "markdown",
   "id": "6a2632b5",
   "metadata": {
    "slideshow": {
     "slide_type": "fragment"
    }
   },
   "source": [
    "* A struct is an aggregate data type grouping together zero or more named values of arbitrary types as a single entity\n",
    "* Each value is called a field\n",
    "* The name of a struct field is exported if it begins with a capital letter; this is Go's main access control mechanism\n",
    "* A struct type may contain a mixture of exported and unexported fields"
   ]
  },
  {
   "cell_type": "markdown",
   "id": "e4bd1692",
   "metadata": {
    "slideshow": {
     "slide_type": "fragment"
    }
   },
   "source": [
    "<code>\n",
    "type struct_name struct {\n",
    "  member1 datatype;\n",
    "  member2 datatype;\n",
    "  member3 datatype;\n",
    "  ...\n",
    "}\n",
    "</code>"
   ]
  },
  {
   "cell_type": "code",
   "execution_count": 35,
   "id": "45c7e0c3",
   "metadata": {
    "code_folding": [
     3
    ],
    "collapsed": true,
    "slideshow": {
     "slide_type": "subslide"
    }
   },
   "outputs": [
    {
     "name": "stdout",
     "output_type": "stream",
     "text": [
      "employeeDB: map['\\x01':%!q(*main.Employee=&{1   {0 0 <nil>} Vice President 0 3}) '\\x02':%!q(*main.Employee=&{2   {0 0 <nil>}  0 1})]\n",
      "emp: &{'\\x01' \"\" \"\" \"0001-01-01 00:00:00 +0000 UTC\" \"Vice President\" '\\x00' '\\x03'}\n",
      "1 Vice President\n",
      "emp: &{'\\x02' \"\" \"\" \"0001-01-01 00:00:00 +0000 UTC\" \"\" '\\x00' '\\x01'}\n",
      "2 \n"
     ]
    }
   ],
   "source": [
    "//Employee\n",
    "import \"fmt\"\n",
    "import \"time\"\n",
    "type Employee struct {\n",
    "    ID int\n",
    "    Name string\n",
    "    Address string\n",
    "    DoB time.Time //date of birth\n",
    "    Position string\n",
    "    Salary int\n",
    "    ManagerID int\n",
    "}\n",
    "func main(){\n",
    "     \n",
    "    alan := Employee{ID:1, ManagerID: 3, Position: \"Vice President\"}\n",
    "    dilbert := Employee{ID:2, ManagerID: 1}\n",
    "      \n",
    "    employeeDB := make(map[int]*Employee)\n",
    "    employeeDB[alan.ID] = &alan \n",
    "    employeeDB[dilbert.ID] = &dilbert\n",
    "    \n",
    "    fmt.Printf(\"employeeDB: %q\\n\",employeeDB)\n",
    "    for _,emp := range employeeDB {\n",
    "        fmt.Printf(\"emp: %q\\n\",emp)\n",
    "        fmt.Println((*emp).ID, emp.Position)\n",
    "    }\n",
    "}"
   ]
  },
  {
   "cell_type": "code",
   "execution_count": 36,
   "id": "d95390cd",
   "metadata": {
    "collapsed": true,
    "slideshow": {
     "slide_type": "subslide"
    }
   },
   "outputs": [
    {
     "name": "stdout",
     "output_type": "stream",
     "text": [
      "map['\\x01':%!q(*main.Employee=&{1   {0 0 <nil>} Vice President 0 3}) '\\x02':%!q(*main.Employee=&{2   {0 0 <nil>} Senior (proactive team player) -5000 1})]\n",
      "&{'\\x01' \"\" \"\" \"0001-01-01 00:00:00 +0000 UTC\" \"Vice President\" '\\x00' '\\x03'}\n",
      "&{'\\x02' \"\" \"\" \"0001-01-01 00:00:00 +0000 UTC\" \"Senior (proactive team player)\" '�' '\\x01'}\n"
     ]
    }
   ],
   "source": [
    "//Employee\n",
    "import \"fmt\"\n",
    "import \"time\"\n",
    "type Employee struct {\n",
    "    ID int\n",
    "    Name string\n",
    "    Address string\n",
    "    DoB time.Time\n",
    "    Position string\n",
    "    Salary int\n",
    "    ManagerID int\n",
    "}\n",
    "func main(){\n",
    "    \n",
    "    alan := Employee{ID:1, ManagerID: 3, Position: \"Vice President\"}\n",
    "    dilbert := Employee{ID:2, ManagerID: 1}\n",
    "    dilbert.Salary -= 5000  // demoted, for writing too few lines of code\n",
    "    position := &dilbert.Position\n",
    "    *position = \"Senior\" + *position //promoted, for outsourcing to Elbonia\n",
    "    \n",
    "    var employeeOfTheMonth *Employee = &dilbert\n",
    "    employeeOfTheMonth.Position += \" (proactive team player)\"\n",
    "    //(*employeeOfTheMonth).Position\n",
    "    //(*employeeOfTheMonth).Position += \" (proactive team player)\"\n",
    "    // employeeOfTheMonth.Position and (*employeeOfTheMonth).Position are equivalent\n",
    "    \n",
    "    employeeDB := make(map[int]*Employee)\n",
    "    employeeDB[alan.ID] = &alan\n",
    "    employeeDB[dilbert.ID] = &dilbert\n",
    "    \n",
    "    fmt.Printf(\"%q\\n\",employeeDB)\n",
    "    for _,emp := range employeeDB {\n",
    "        fmt.Printf(\"%q\\n\",emp)\n",
    "    }\n",
    "}"
   ]
  },
  {
   "cell_type": "code",
   "execution_count": 37,
   "id": "5b90b046",
   "metadata": {
    "slideshow": {
     "slide_type": "subslide"
    }
   },
   "outputs": [
    {
     "name": "stdout",
     "output_type": "stream",
     "text": [
      "Vice President\n"
     ]
    }
   ],
   "source": [
    "import \"fmt\"\n",
    "var employeeDB map[int]*Employee\n",
    "//func EmployeeByID(id int) Employee { return *employeeDB[id]}\n",
    "func EmployeeByID(id int) *Employee { return employeeDB[id]}\n",
    "\n",
    "func main() {\n",
    "    alan := Employee{ID:1, ManagerID: 3, Position: \"Vice President\"}\n",
    "    employeeDB = make(map[int]*Employee)\n",
    "    employeeDB[alan.ID] = &alan\n",
    "    dilbert := Employee{ID:2, ManagerID: 1}\n",
    "    employeeDB[dilbert.ID] = &dilbert\n",
    "    \n",
    "    fmt.Println(EmployeeByID(dilbert.ManagerID).Position) // \"boss\"\n",
    "    id := dilbert.ID    \n",
    "    EmployeeByID(id).Salary = 0  //dilbert is fired\n",
    "                                 //Should return *Employee, to be in left-hand-side\n",
    "}"
   ]
  },
  {
   "cell_type": "markdown",
   "id": "ab61c6aa",
   "metadata": {
    "slideshow": {
     "slide_type": "subslide"
    }
   },
   "source": [
    "### Recursive Data Structures\n",
    "* Struc type ***S*** can't declare a field of the same type ***S***\n",
    "  * aggregate value cannot containt itself\n",
    "* S may declare a field of the pointer type \\****S***\n",
    "  * create recursive data structure like lists and trees\n",
    "* Implement an insertion sort in the following"
   ]
  },
  {
   "cell_type": "code",
   "execution_count": 29,
   "id": "1827a2bd",
   "metadata": {
    "code_folding": [
     34
    ],
    "collapsed": true,
    "slideshow": {
     "slide_type": "subslide"
    }
   },
   "outputs": [
    {
     "name": "stdout",
     "output_type": "stream",
     "text": [
      "[34 19 23 39 43 38 23 34 22 1 44 7 12 12 21 18 18 31 15 16 41 1 11 1 6 5 28 11 19 47 2 44 37 49 2 42 39 2 35 27 46 46 10 3 5 32 47 26 30 7]\n",
      "[34 19 23 39 43 38 23 34 22 1 44 7 12 12 21 18 18 31 15 16 41 1 11 1 6 5 28 11 19 47 2 44 37 49 2 42 39 2 35 27 46 46 10 3 5 32 47 26 30 7] len 50 50\n",
      "[34 19 23 39 43 38 23 34 22 1 44 7 12 12 21 18 18 31 15 16 41 1 11 1 6 5 28 11 19 47 2 44 37 49 2 42 39 2 35 27 46 46 10 3 5 32 47 26 30 7] len 50 50\n",
      "[34 19 23 39 43 38 23 34 22 1 44 7 12 12 21 18 18 31 15 16 41 1 11 1 6 5 28 11 19 47 2 44 37 49 2 42 39 2 35 27 46 46 10 3 5 32 47 26 30 7] len 50 50\n",
      "[34 19 23 39 43 38 23 34 22 1 44 7 12 12 21 18 18 31 15 16 41 1 11 1 6 5 28 11 19 47 2 44 37 49 2 42 39 2 35 27 46 46 10 3 5 32 47 26 30 7] len 50 50\n",
      "[34 19 23 39 43 38 23 34 22 1 44 7 12 12 21 18 18 31 15 16 41 1 11 1 6 5 28 11 19 47 2 44 37 49 2 42 39 2 35 27 46 46 10 3 5 32 47 26 30 7 1] len 51 112\n",
      "[34 19 23 39 43 38 23 34 22 1 44 7 12 12 21 18 18 31 15 16 41 1 11 1 6 5 28 11 19 47 2 44 37 49 2 42 39 2 35 27 46 46 10 3 5 32 47 26 30 7 1] len 51 112\n",
      "[34 19 23 39 43 38 23 34 22 1 44 7 12 12 21 18 18 31 15 16 41 1 11 1 6 5 28 11 19 47 2 44 37 49 2 42 39 2 35 27 46 46 10 3 5 32 47 26 30 7 1] len 51 112\n",
      "[34 19 23 39 43 38 23 34 22 1 44 7 12 12 21 18 18 31 15 16 41 1 11 1 6 5 28 11 19 47 2 44 37 49 2 42 39 2 35 27 46 46 10 3 5 32 47 26 30 7 1 1] len 52 112\n",
      "[34 19 23 39 43 38 23 34 22 1 44 7 12 12 21 18 18 31 15 16 41 1 11 1 6 5 28 11 19 47 2 44 37 49 2 42 39 2 35 27 46 46 10 3 5 32 47 26 30 7 1 1] len 52 112\n",
      "[34 19 23 39 43 38 23 34 22 1 44 7 12 12 21 18 18 31 15 16 41 1 11 1 6 5 28 11 19 47 2 44 37 49 2 42 39 2 35 27 46 46 10 3 5 32 47 26 30 7 1 1 1] len 53 112\n",
      "[34 19 23 39 43 38 23 34 22 1 44 7 12 12 21 18 18 31 15 16 41 1 11 1 6 5 28 11 19 47 2 44 37 49 2 42 39 2 35 27 46 46 10 3 5 32 47 26 30 7 1 1 1] len 53 112\n",
      "[34 19 23 39 43 38 23 34 22 1 44 7 12 12 21 18 18 31 15 16 41 1 11 1 6 5 28 11 19 47 2 44 37 49 2 42 39 2 35 27 46 46 10 3 5 32 47 26 30 7 1 1 1] len 53 112\n",
      "[34 19 23 39 43 38 23 34 22 1 44 7 12 12 21 18 18 31 15 16 41 1 11 1 6 5 28 11 19 47 2 44 37 49 2 42 39 2 35 27 46 46 10 3 5 32 47 26 30 7 1 1 1] len 53 112\n",
      "[34 19 23 39 43 38 23 34 22 1 44 7 12 12 21 18 18 31 15 16 41 1 11 1 6 5 28 11 19 47 2 44 37 49 2 42 39 2 35 27 46 46 10 3 5 32 47 26 30 7 1 1 1 2] len 54 112\n",
      "[34 19 23 39 43 38 23 34 22 1 44 7 12 12 21 18 18 31 15 16 41 1 11 1 6 5 28 11 19 47 2 44 37 49 2 42 39 2 35 27 46 46 10 3 5 32 47 26 30 7 1 1 1 2] len 54 112\n",
      "[34 19 23 39 43 38 23 34 22 1 44 7 12 12 21 18 18 31 15 16 41 1 11 1 6 5 28 11 19 47 2 44 37 49 2 42 39 2 35 27 46 46 10 3 5 32 47 26 30 7 1 1 1 2 2] len 55 112\n",
      "[34 19 23 39 43 38 23 34 22 1 44 7 12 12 21 18 18 31 15 16 41 1 11 1 6 5 28 11 19 47 2 44 37 49 2 42 39 2 35 27 46 46 10 3 5 32 47 26 30 7 1 1 1 2 2] len 55 112\n",
      "[34 19 23 39 43 38 23 34 22 1 44 7 12 12 21 18 18 31 15 16 41 1 11 1 6 5 28 11 19 47 2 44 37 49 2 42 39 2 35 27 46 46 10 3 5 32 47 26 30 7 1 1 1 2 2 2] len 56 112\n",
      "[34 19 23 39 43 38 23 34 22 1 44 7 12 12 21 18 18 31 15 16 41 1 11 1 6 5 28 11 19 47 2 44 37 49 2 42 39 2 35 27 46 46 10 3 5 32 47 26 30 7 1 1 1 2 2 2] len 56 112\n",
      "[34 19 23 39 43 38 23 34 22 1 44 7 12 12 21 18 18 31 15 16 41 1 11 1 6 5 28 11 19 47 2 44 37 49 2 42 39 2 35 27 46 46 10 3 5 32 47 26 30 7 1 1 1 2 2 2 3] len 57 112\n",
      "[34 19 23 39 43 38 23 34 22 1 44 7 12 12 21 18 18 31 15 16 41 1 11 1 6 5 28 11 19 47 2 44 37 49 2 42 39 2 35 27 46 46 10 3 5 32 47 26 30 7 1 1 1 2 2 2 3 5] len 58 112\n",
      "[34 19 23 39 43 38 23 34 22 1 44 7 12 12 21 18 18 31 15 16 41 1 11 1 6 5 28 11 19 47 2 44 37 49 2 42 39 2 35 27 46 46 10 3 5 32 47 26 30 7 1 1 1 2 2 2 3 5] len 58 112\n",
      "[34 19 23 39 43 38 23 34 22 1 44 7 12 12 21 18 18 31 15 16 41 1 11 1 6 5 28 11 19 47 2 44 37 49 2 42 39 2 35 27 46 46 10 3 5 32 47 26 30 7 1 1 1 2 2 2 3 5 5] len 59 112\n",
      "[34 19 23 39 43 38 23 34 22 1 44 7 12 12 21 18 18 31 15 16 41 1 11 1 6 5 28 11 19 47 2 44 37 49 2 42 39 2 35 27 46 46 10 3 5 32 47 26 30 7 1 1 1 2 2 2 3 5 5 6] len 60 112\n",
      "[34 19 23 39 43 38 23 34 22 1 44 7 12 12 21 18 18 31 15 16 41 1 11 1 6 5 28 11 19 47 2 44 37 49 2 42 39 2 35 27 46 46 10 3 5 32 47 26 30 7 1 1 1 2 2 2 3 5 5 6 7] len 61 112\n",
      "[34 19 23 39 43 38 23 34 22 1 44 7 12 12 21 18 18 31 15 16 41 1 11 1 6 5 28 11 19 47 2 44 37 49 2 42 39 2 35 27 46 46 10 3 5 32 47 26 30 7 1 1 1 2 2 2 3 5 5 6 7] len 61 112\n",
      "[34 19 23 39 43 38 23 34 22 1 44 7 12 12 21 18 18 31 15 16 41 1 11 1 6 5 28 11 19 47 2 44 37 49 2 42 39 2 35 27 46 46 10 3 5 32 47 26 30 7 1 1 1 2 2 2 3 5 5 6 7] len 61 112\n",
      "[34 19 23 39 43 38 23 34 22 1 44 7 12 12 21 18 18 31 15 16 41 1 11 1 6 5 28 11 19 47 2 44 37 49 2 42 39 2 35 27 46 46 10 3 5 32 47 26 30 7 1 1 1 2 2 2 3 5 5 6 7] len 61 112\n",
      "[34 19 23 39 43 38 23 34 22 1 44 7 12 12 21 18 18 31 15 16 41 1 11 1 6 5 28 11 19 47 2 44 37 49 2 42 39 2 35 27 46 46 10 3 5 32 47 26 30 7 1 1 1 2 2 2 3 5 5 6 7] len 61 112\n",
      "[34 19 23 39 43 38 23 34 22 1 44 7 12 12 21 18 18 31 15 16 41 1 11 1 6 5 28 11 19 47 2 44 37 49 2 42 39 2 35 27 46 46 10 3 5 32 47 26 30 7 1 1 1 2 2 2 3 5 5 6 7 7] len 62 112\n",
      "[34 19 23 39 43 38 23 34 22 1 44 7 12 12 21 18 18 31 15 16 41 1 11 1 6 5 28 11 19 47 2 44 37 49 2 42 39 2 35 27 46 46 10 3 5 32 47 26 30 7 1 1 1 2 2 2 3 5 5 6 7 7 10] len 63 112\n",
      "[34 19 23 39 43 38 23 34 22 1 44 7 12 12 21 18 18 31 15 16 41 1 11 1 6 5 28 11 19 47 2 44 37 49 2 42 39 2 35 27 46 46 10 3 5 32 47 26 30 7 1 1 1 2 2 2 3 5 5 6 7 7 10 11] len 64 112\n",
      "[34 19 23 39 43 38 23 34 22 1 44 7 12 12 21 18 18 31 15 16 41 1 11 1 6 5 28 11 19 47 2 44 37 49 2 42 39 2 35 27 46 46 10 3 5 32 47 26 30 7 1 1 1 2 2 2 3 5 5 6 7 7 10 11] len 64 112\n",
      "[34 19 23 39 43 38 23 34 22 1 44 7 12 12 21 18 18 31 15 16 41 1 11 1 6 5 28 11 19 47 2 44 37 49 2 42 39 2 35 27 46 46 10 3 5 32 47 26 30 7 1 1 1 2 2 2 3 5 5 6 7 7 10 11 11] len 65 112\n",
      "[34 19 23 39 43 38 23 34 22 1 44 7 12 12 21 18 18 31 15 16 41 1 11 1 6 5 28 11 19 47 2 44 37 49 2 42 39 2 35 27 46 46 10 3 5 32 47 26 30 7 1 1 1 2 2 2 3 5 5 6 7 7 10 11 11 12] len 66 112\n",
      "[34 19 23 39 43 38 23 34 22 1 44 7 12 12 21 18 18 31 15 16 41 1 11 1 6 5 28 11 19 47 2 44 37 49 2 42 39 2 35 27 46 46 10 3 5 32 47 26 30 7 1 1 1 2 2 2 3 5 5 6 7 7 10 11 11 12] len 66 112\n",
      "[34 19 23 39 43 38 23 34 22 1 44 7 12 12 21 18 18 31 15 16 41 1 11 1 6 5 28 11 19 47 2 44 37 49 2 42 39 2 35 27 46 46 10 3 5 32 47 26 30 7 1 1 1 2 2 2 3 5 5 6 7 7 10 11 11 12 12] len 67 112\n",
      "[34 19 23 39 43 38 23 34 22 1 44 7 12 12 21 18 18 31 15 16 41 1 11 1 6 5 28 11 19 47 2 44 37 49 2 42 39 2 35 27 46 46 10 3 5 32 47 26 30 7 1 1 1 2 2 2 3 5 5 6 7 7 10 11 11 12 12] len 67 112\n",
      "[34 19 23 39 43 38 23 34 22 1 44 7 12 12 21 18 18 31 15 16 41 1 11 1 6 5 28 11 19 47 2 44 37 49 2 42 39 2 35 27 46 46 10 3 5 32 47 26 30 7 1 1 1 2 2 2 3 5 5 6 7 7 10 11 11 12 12] len 67 112\n",
      "[34 19 23 39 43 38 23 34 22 1 44 7 12 12 21 18 18 31 15 16 41 1 11 1 6 5 28 11 19 47 2 44 37 49 2 42 39 2 35 27 46 46 10 3 5 32 47 26 30 7 1 1 1 2 2 2 3 5 5 6 7 7 10 11 11 12 12 15] len 68 112\n",
      "[34 19 23 39 43 38 23 34 22 1 44 7 12 12 21 18 18 31 15 16 41 1 11 1 6 5 28 11 19 47 2 44 37 49 2 42 39 2 35 27 46 46 10 3 5 32 47 26 30 7 1 1 1 2 2 2 3 5 5 6 7 7 10 11 11 12 12 15] len 68 112\n",
      "[34 19 23 39 43 38 23 34 22 1 44 7 12 12 21 18 18 31 15 16 41 1 11 1 6 5 28 11 19 47 2 44 37 49 2 42 39 2 35 27 46 46 10 3 5 32 47 26 30 7 1 1 1 2 2 2 3 5 5 6 7 7 10 11 11 12 12 15 16] len 69 112\n",
      "[34 19 23 39 43 38 23 34 22 1 44 7 12 12 21 18 18 31 15 16 41 1 11 1 6 5 28 11 19 47 2 44 37 49 2 42 39 2 35 27 46 46 10 3 5 32 47 26 30 7 1 1 1 2 2 2 3 5 5 6 7 7 10 11 11 12 12 15 16 18] len 70 112\n",
      "[34 19 23 39 43 38 23 34 22 1 44 7 12 12 21 18 18 31 15 16 41 1 11 1 6 5 28 11 19 47 2 44 37 49 2 42 39 2 35 27 46 46 10 3 5 32 47 26 30 7 1 1 1 2 2 2 3 5 5 6 7 7 10 11 11 12 12 15 16 18] len 70 112\n",
      "[34 19 23 39 43 38 23 34 22 1 44 7 12 12 21 18 18 31 15 16 41 1 11 1 6 5 28 11 19 47 2 44 37 49 2 42 39 2 35 27 46 46 10 3 5 32 47 26 30 7 1 1 1 2 2 2 3 5 5 6 7 7 10 11 11 12 12 15 16 18 18] len 71 112\n",
      "[34 19 23 39 43 38 23 34 22 1 44 7 12 12 21 18 18 31 15 16 41 1 11 1 6 5 28 11 19 47 2 44 37 49 2 42 39 2 35 27 46 46 10 3 5 32 47 26 30 7 1 1 1 2 2 2 3 5 5 6 7 7 10 11 11 12 12 15 16 18 18 19] len 72 112\n",
      "[34 19 23 39 43 38 23 34 22 1 44 7 12 12 21 18 18 31 15 16 41 1 11 1 6 5 28 11 19 47 2 44 37 49 2 42 39 2 35 27 46 46 10 3 5 32 47 26 30 7 1 1 1 2 2 2 3 5 5 6 7 7 10 11 11 12 12 15 16 18 18 19] len 72 112\n",
      "[34 19 23 39 43 38 23 34 22 1 44 7 12 12 21 18 18 31 15 16 41 1 11 1 6 5 28 11 19 47 2 44 37 49 2 42 39 2 35 27 46 46 10 3 5 32 47 26 30 7 1 1 1 2 2 2 3 5 5 6 7 7 10 11 11 12 12 15 16 18 18 19] len 72 112\n",
      "[34 19 23 39 43 38 23 34 22 1 44 7 12 12 21 18 18 31 15 16 41 1 11 1 6 5 28 11 19 47 2 44 37 49 2 42 39 2 35 27 46 46 10 3 5 32 47 26 30 7 1 1 1 2 2 2 3 5 5 6 7 7 10 11 11 12 12 15 16 18 18 19] len 72 112\n",
      "[34 19 23 39 43 38 23 34 22 1 44 7 12 12 21 18 18 31 15 16 41 1 11 1 6 5 28 11 19 47 2 44 37 49 2 42 39 2 35 27 46 46 10 3 5 32 47 26 30 7 1 1 1 2 2 2 3 5 5 6 7 7 10 11 11 12 12 15 16 18 18 19] len 72 112\n",
      "[34 19 23 39 43 38 23 34 22 1 44 7 12 12 21 18 18 31 15 16 41 1 11 1 6 5 28 11 19 47 2 44 37 49 2 42 39 2 35 27 46 46 10 3 5 32 47 26 30 7 1 1 1 2 2 2 3 5 5 6 7 7 10 11 11 12 12 15 16 18 18 19 19] len 73 112\n",
      "[34 19 23 39 43 38 23 34 22 1 44 7 12 12 21 18 18 31 15 16 41 1 11 1 6 5 28 11 19 47 2 44 37 49 2 42 39 2 35 27 46 46 10 3 5 32 47 26 30 7 1 1 1 2 2 2 3 5 5 6 7 7 10 11 11 12 12 15 16 18 18 19 19 21] len 74 112\n",
      "[34 19 23 39 43 38 23 34 22 1 44 7 12 12 21 18 18 31 15 16 41 1 11 1 6 5 28 11 19 47 2 44 37 49 2 42 39 2 35 27 46 46 10 3 5 32 47 26 30 7 1 1 1 2 2 2 3 5 5 6 7 7 10 11 11 12 12 15 16 18 18 19 19 21 22] len 75 112\n",
      "[34 19 23 39 43 38 23 34 22 1 44 7 12 12 21 18 18 31 15 16 41 1 11 1 6 5 28 11 19 47 2 44 37 49 2 42 39 2 35 27 46 46 10 3 5 32 47 26 30 7 1 1 1 2 2 2 3 5 5 6 7 7 10 11 11 12 12 15 16 18 18 19 19 21 22 23] len 76 112\n",
      "[34 19 23 39 43 38 23 34 22 1 44 7 12 12 21 18 18 31 15 16 41 1 11 1 6 5 28 11 19 47 2 44 37 49 2 42 39 2 35 27 46 46 10 3 5 32 47 26 30 7 1 1 1 2 2 2 3 5 5 6 7 7 10 11 11 12 12 15 16 18 18 19 19 21 22 23] len 76 112\n",
      "[34 19 23 39 43 38 23 34 22 1 44 7 12 12 21 18 18 31 15 16 41 1 11 1 6 5 28 11 19 47 2 44 37 49 2 42 39 2 35 27 46 46 10 3 5 32 47 26 30 7 1 1 1 2 2 2 3 5 5 6 7 7 10 11 11 12 12 15 16 18 18 19 19 21 22 23 23] len 77 112\n",
      "[34 19 23 39 43 38 23 34 22 1 44 7 12 12 21 18 18 31 15 16 41 1 11 1 6 5 28 11 19 47 2 44 37 49 2 42 39 2 35 27 46 46 10 3 5 32 47 26 30 7 1 1 1 2 2 2 3 5 5 6 7 7 10 11 11 12 12 15 16 18 18 19 19 21 22 23 23] len 77 112\n",
      "[34 19 23 39 43 38 23 34 22 1 44 7 12 12 21 18 18 31 15 16 41 1 11 1 6 5 28 11 19 47 2 44 37 49 2 42 39 2 35 27 46 46 10 3 5 32 47 26 30 7 1 1 1 2 2 2 3 5 5 6 7 7 10 11 11 12 12 15 16 18 18 19 19 21 22 23 23] len 77 112\n",
      "[34 19 23 39 43 38 23 34 22 1 44 7 12 12 21 18 18 31 15 16 41 1 11 1 6 5 28 11 19 47 2 44 37 49 2 42 39 2 35 27 46 46 10 3 5 32 47 26 30 7 1 1 1 2 2 2 3 5 5 6 7 7 10 11 11 12 12 15 16 18 18 19 19 21 22 23 23] len 77 112\n",
      "[34 19 23 39 43 38 23 34 22 1 44 7 12 12 21 18 18 31 15 16 41 1 11 1 6 5 28 11 19 47 2 44 37 49 2 42 39 2 35 27 46 46 10 3 5 32 47 26 30 7 1 1 1 2 2 2 3 5 5 6 7 7 10 11 11 12 12 15 16 18 18 19 19 21 22 23 23] len 77 112\n",
      "[34 19 23 39 43 38 23 34 22 1 44 7 12 12 21 18 18 31 15 16 41 1 11 1 6 5 28 11 19 47 2 44 37 49 2 42 39 2 35 27 46 46 10 3 5 32 47 26 30 7 1 1 1 2 2 2 3 5 5 6 7 7 10 11 11 12 12 15 16 18 18 19 19 21 22 23 23 26] len 78 112\n",
      "[34 19 23 39 43 38 23 34 22 1 44 7 12 12 21 18 18 31 15 16 41 1 11 1 6 5 28 11 19 47 2 44 37 49 2 42 39 2 35 27 46 46 10 3 5 32 47 26 30 7 1 1 1 2 2 2 3 5 5 6 7 7 10 11 11 12 12 15 16 18 18 19 19 21 22 23 23 26 27] len 79 112\n",
      "[34 19 23 39 43 38 23 34 22 1 44 7 12 12 21 18 18 31 15 16 41 1 11 1 6 5 28 11 19 47 2 44 37 49 2 42 39 2 35 27 46 46 10 3 5 32 47 26 30 7 1 1 1 2 2 2 3 5 5 6 7 7 10 11 11 12 12 15 16 18 18 19 19 21 22 23 23 26 27 28] len 80 112\n",
      "[34 19 23 39 43 38 23 34 22 1 44 7 12 12 21 18 18 31 15 16 41 1 11 1 6 5 28 11 19 47 2 44 37 49 2 42 39 2 35 27 46 46 10 3 5 32 47 26 30 7 1 1 1 2 2 2 3 5 5 6 7 7 10 11 11 12 12 15 16 18 18 19 19 21 22 23 23 26 27 28] len 80 112\n"
     ]
    },
    {
     "name": "stdout",
     "output_type": "stream",
     "text": [
      "[34 19 23 39 43 38 23 34 22 1 44 7 12 12 21 18 18 31 15 16 41 1 11 1 6 5 28 11 19 47 2 44 37 49 2 42 39 2 35 27 46 46 10 3 5 32 47 26 30 7 1 1 1 2 2 2 3 5 5 6 7 7 10 11 11 12 12 15 16 18 18 19 19 21 22 23 23 26 27 28 30] len 81 112\n",
      "[34 19 23 39 43 38 23 34 22 1 44 7 12 12 21 18 18 31 15 16 41 1 11 1 6 5 28 11 19 47 2 44 37 49 2 42 39 2 35 27 46 46 10 3 5 32 47 26 30 7 1 1 1 2 2 2 3 5 5 6 7 7 10 11 11 12 12 15 16 18 18 19 19 21 22 23 23 26 27 28 30 31] len 82 112\n",
      "[34 19 23 39 43 38 23 34 22 1 44 7 12 12 21 18 18 31 15 16 41 1 11 1 6 5 28 11 19 47 2 44 37 49 2 42 39 2 35 27 46 46 10 3 5 32 47 26 30 7 1 1 1 2 2 2 3 5 5 6 7 7 10 11 11 12 12 15 16 18 18 19 19 21 22 23 23 26 27 28 30 31] len 82 112\n",
      "[34 19 23 39 43 38 23 34 22 1 44 7 12 12 21 18 18 31 15 16 41 1 11 1 6 5 28 11 19 47 2 44 37 49 2 42 39 2 35 27 46 46 10 3 5 32 47 26 30 7 1 1 1 2 2 2 3 5 5 6 7 7 10 11 11 12 12 15 16 18 18 19 19 21 22 23 23 26 27 28 30 31 32] len 83 112\n",
      "[34 19 23 39 43 38 23 34 22 1 44 7 12 12 21 18 18 31 15 16 41 1 11 1 6 5 28 11 19 47 2 44 37 49 2 42 39 2 35 27 46 46 10 3 5 32 47 26 30 7 1 1 1 2 2 2 3 5 5 6 7 7 10 11 11 12 12 15 16 18 18 19 19 21 22 23 23 26 27 28 30 31 32 34] len 84 112\n",
      "[34 19 23 39 43 38 23 34 22 1 44 7 12 12 21 18 18 31 15 16 41 1 11 1 6 5 28 11 19 47 2 44 37 49 2 42 39 2 35 27 46 46 10 3 5 32 47 26 30 7 1 1 1 2 2 2 3 5 5 6 7 7 10 11 11 12 12 15 16 18 18 19 19 21 22 23 23 26 27 28 30 31 32 34] len 84 112\n",
      "[34 19 23 39 43 38 23 34 22 1 44 7 12 12 21 18 18 31 15 16 41 1 11 1 6 5 28 11 19 47 2 44 37 49 2 42 39 2 35 27 46 46 10 3 5 32 47 26 30 7 1 1 1 2 2 2 3 5 5 6 7 7 10 11 11 12 12 15 16 18 18 19 19 21 22 23 23 26 27 28 30 31 32 34] len 84 112\n",
      "[34 19 23 39 43 38 23 34 22 1 44 7 12 12 21 18 18 31 15 16 41 1 11 1 6 5 28 11 19 47 2 44 37 49 2 42 39 2 35 27 46 46 10 3 5 32 47 26 30 7 1 1 1 2 2 2 3 5 5 6 7 7 10 11 11 12 12 15 16 18 18 19 19 21 22 23 23 26 27 28 30 31 32 34] len 84 112\n",
      "[34 19 23 39 43 38 23 34 22 1 44 7 12 12 21 18 18 31 15 16 41 1 11 1 6 5 28 11 19 47 2 44 37 49 2 42 39 2 35 27 46 46 10 3 5 32 47 26 30 7 1 1 1 2 2 2 3 5 5 6 7 7 10 11 11 12 12 15 16 18 18 19 19 21 22 23 23 26 27 28 30 31 32 34 34] len 85 112\n",
      "[34 19 23 39 43 38 23 34 22 1 44 7 12 12 21 18 18 31 15 16 41 1 11 1 6 5 28 11 19 47 2 44 37 49 2 42 39 2 35 27 46 46 10 3 5 32 47 26 30 7 1 1 1 2 2 2 3 5 5 6 7 7 10 11 11 12 12 15 16 18 18 19 19 21 22 23 23 26 27 28 30 31 32 34 34] len 85 112\n",
      "[34 19 23 39 43 38 23 34 22 1 44 7 12 12 21 18 18 31 15 16 41 1 11 1 6 5 28 11 19 47 2 44 37 49 2 42 39 2 35 27 46 46 10 3 5 32 47 26 30 7 1 1 1 2 2 2 3 5 5 6 7 7 10 11 11 12 12 15 16 18 18 19 19 21 22 23 23 26 27 28 30 31 32 34 34] len 85 112\n",
      "[34 19 23 39 43 38 23 34 22 1 44 7 12 12 21 18 18 31 15 16 41 1 11 1 6 5 28 11 19 47 2 44 37 49 2 42 39 2 35 27 46 46 10 3 5 32 47 26 30 7 1 1 1 2 2 2 3 5 5 6 7 7 10 11 11 12 12 15 16 18 18 19 19 21 22 23 23 26 27 28 30 31 32 34 34 35] len 86 112\n",
      "[34 19 23 39 43 38 23 34 22 1 44 7 12 12 21 18 18 31 15 16 41 1 11 1 6 5 28 11 19 47 2 44 37 49 2 42 39 2 35 27 46 46 10 3 5 32 47 26 30 7 1 1 1 2 2 2 3 5 5 6 7 7 10 11 11 12 12 15 16 18 18 19 19 21 22 23 23 26 27 28 30 31 32 34 34 35 37] len 87 112\n",
      "[34 19 23 39 43 38 23 34 22 1 44 7 12 12 21 18 18 31 15 16 41 1 11 1 6 5 28 11 19 47 2 44 37 49 2 42 39 2 35 27 46 46 10 3 5 32 47 26 30 7 1 1 1 2 2 2 3 5 5 6 7 7 10 11 11 12 12 15 16 18 18 19 19 21 22 23 23 26 27 28 30 31 32 34 34 35 37 38] len 88 112\n",
      "[34 19 23 39 43 38 23 34 22 1 44 7 12 12 21 18 18 31 15 16 41 1 11 1 6 5 28 11 19 47 2 44 37 49 2 42 39 2 35 27 46 46 10 3 5 32 47 26 30 7 1 1 1 2 2 2 3 5 5 6 7 7 10 11 11 12 12 15 16 18 18 19 19 21 22 23 23 26 27 28 30 31 32 34 34 35 37 38 39] len 89 112\n",
      "[34 19 23 39 43 38 23 34 22 1 44 7 12 12 21 18 18 31 15 16 41 1 11 1 6 5 28 11 19 47 2 44 37 49 2 42 39 2 35 27 46 46 10 3 5 32 47 26 30 7 1 1 1 2 2 2 3 5 5 6 7 7 10 11 11 12 12 15 16 18 18 19 19 21 22 23 23 26 27 28 30 31 32 34 34 35 37 38 39] len 89 112\n",
      "[34 19 23 39 43 38 23 34 22 1 44 7 12 12 21 18 18 31 15 16 41 1 11 1 6 5 28 11 19 47 2 44 37 49 2 42 39 2 35 27 46 46 10 3 5 32 47 26 30 7 1 1 1 2 2 2 3 5 5 6 7 7 10 11 11 12 12 15 16 18 18 19 19 21 22 23 23 26 27 28 30 31 32 34 34 35 37 38 39] len 89 112\n",
      "[34 19 23 39 43 38 23 34 22 1 44 7 12 12 21 18 18 31 15 16 41 1 11 1 6 5 28 11 19 47 2 44 37 49 2 42 39 2 35 27 46 46 10 3 5 32 47 26 30 7 1 1 1 2 2 2 3 5 5 6 7 7 10 11 11 12 12 15 16 18 18 19 19 21 22 23 23 26 27 28 30 31 32 34 34 35 37 38 39] len 89 112\n",
      "[34 19 23 39 43 38 23 34 22 1 44 7 12 12 21 18 18 31 15 16 41 1 11 1 6 5 28 11 19 47 2 44 37 49 2 42 39 2 35 27 46 46 10 3 5 32 47 26 30 7 1 1 1 2 2 2 3 5 5 6 7 7 10 11 11 12 12 15 16 18 18 19 19 21 22 23 23 26 27 28 30 31 32 34 34 35 37 38 39 39] len 90 112\n",
      "[34 19 23 39 43 38 23 34 22 1 44 7 12 12 21 18 18 31 15 16 41 1 11 1 6 5 28 11 19 47 2 44 37 49 2 42 39 2 35 27 46 46 10 3 5 32 47 26 30 7 1 1 1 2 2 2 3 5 5 6 7 7 10 11 11 12 12 15 16 18 18 19 19 21 22 23 23 26 27 28 30 31 32 34 34 35 37 38 39 39 41] len 91 112\n",
      "[34 19 23 39 43 38 23 34 22 1 44 7 12 12 21 18 18 31 15 16 41 1 11 1 6 5 28 11 19 47 2 44 37 49 2 42 39 2 35 27 46 46 10 3 5 32 47 26 30 7 1 1 1 2 2 2 3 5 5 6 7 7 10 11 11 12 12 15 16 18 18 19 19 21 22 23 23 26 27 28 30 31 32 34 34 35 37 38 39 39 41] len 91 112\n",
      "[34 19 23 39 43 38 23 34 22 1 44 7 12 12 21 18 18 31 15 16 41 1 11 1 6 5 28 11 19 47 2 44 37 49 2 42 39 2 35 27 46 46 10 3 5 32 47 26 30 7 1 1 1 2 2 2 3 5 5 6 7 7 10 11 11 12 12 15 16 18 18 19 19 21 22 23 23 26 27 28 30 31 32 34 34 35 37 38 39 39 41 42] len 92 112\n",
      "[34 19 23 39 43 38 23 34 22 1 44 7 12 12 21 18 18 31 15 16 41 1 11 1 6 5 28 11 19 47 2 44 37 49 2 42 39 2 35 27 46 46 10 3 5 32 47 26 30 7 1 1 1 2 2 2 3 5 5 6 7 7 10 11 11 12 12 15 16 18 18 19 19 21 22 23 23 26 27 28 30 31 32 34 34 35 37 38 39 39 41 42 43] len 93 112\n",
      "[34 19 23 39 43 38 23 34 22 1 44 7 12 12 21 18 18 31 15 16 41 1 11 1 6 5 28 11 19 47 2 44 37 49 2 42 39 2 35 27 46 46 10 3 5 32 47 26 30 7 1 1 1 2 2 2 3 5 5 6 7 7 10 11 11 12 12 15 16 18 18 19 19 21 22 23 23 26 27 28 30 31 32 34 34 35 37 38 39 39 41 42 43] len 93 112\n",
      "[34 19 23 39 43 38 23 34 22 1 44 7 12 12 21 18 18 31 15 16 41 1 11 1 6 5 28 11 19 47 2 44 37 49 2 42 39 2 35 27 46 46 10 3 5 32 47 26 30 7 1 1 1 2 2 2 3 5 5 6 7 7 10 11 11 12 12 15 16 18 18 19 19 21 22 23 23 26 27 28 30 31 32 34 34 35 37 38 39 39 41 42 43 44] len 94 112\n",
      "[34 19 23 39 43 38 23 34 22 1 44 7 12 12 21 18 18 31 15 16 41 1 11 1 6 5 28 11 19 47 2 44 37 49 2 42 39 2 35 27 46 46 10 3 5 32 47 26 30 7 1 1 1 2 2 2 3 5 5 6 7 7 10 11 11 12 12 15 16 18 18 19 19 21 22 23 23 26 27 28 30 31 32 34 34 35 37 38 39 39 41 42 43 44] len 94 112\n",
      "[34 19 23 39 43 38 23 34 22 1 44 7 12 12 21 18 18 31 15 16 41 1 11 1 6 5 28 11 19 47 2 44 37 49 2 42 39 2 35 27 46 46 10 3 5 32 47 26 30 7 1 1 1 2 2 2 3 5 5 6 7 7 10 11 11 12 12 15 16 18 18 19 19 21 22 23 23 26 27 28 30 31 32 34 34 35 37 38 39 39 41 42 43 44] len 94 112\n",
      "[34 19 23 39 43 38 23 34 22 1 44 7 12 12 21 18 18 31 15 16 41 1 11 1 6 5 28 11 19 47 2 44 37 49 2 42 39 2 35 27 46 46 10 3 5 32 47 26 30 7 1 1 1 2 2 2 3 5 5 6 7 7 10 11 11 12 12 15 16 18 18 19 19 21 22 23 23 26 27 28 30 31 32 34 34 35 37 38 39 39 41 42 43 44 44] len 95 112\n",
      "[34 19 23 39 43 38 23 34 22 1 44 7 12 12 21 18 18 31 15 16 41 1 11 1 6 5 28 11 19 47 2 44 37 49 2 42 39 2 35 27 46 46 10 3 5 32 47 26 30 7 1 1 1 2 2 2 3 5 5 6 7 7 10 11 11 12 12 15 16 18 18 19 19 21 22 23 23 26 27 28 30 31 32 34 34 35 37 38 39 39 41 42 43 44 44] len 95 112\n",
      "[34 19 23 39 43 38 23 34 22 1 44 7 12 12 21 18 18 31 15 16 41 1 11 1 6 5 28 11 19 47 2 44 37 49 2 42 39 2 35 27 46 46 10 3 5 32 47 26 30 7 1 1 1 2 2 2 3 5 5 6 7 7 10 11 11 12 12 15 16 18 18 19 19 21 22 23 23 26 27 28 30 31 32 34 34 35 37 38 39 39 41 42 43 44 44 46] len 96 112\n",
      "[34 19 23 39 43 38 23 34 22 1 44 7 12 12 21 18 18 31 15 16 41 1 11 1 6 5 28 11 19 47 2 44 37 49 2 42 39 2 35 27 46 46 10 3 5 32 47 26 30 7 1 1 1 2 2 2 3 5 5 6 7 7 10 11 11 12 12 15 16 18 18 19 19 21 22 23 23 26 27 28 30 31 32 34 34 35 37 38 39 39 41 42 43 44 44 46] len 96 112\n",
      "[34 19 23 39 43 38 23 34 22 1 44 7 12 12 21 18 18 31 15 16 41 1 11 1 6 5 28 11 19 47 2 44 37 49 2 42 39 2 35 27 46 46 10 3 5 32 47 26 30 7 1 1 1 2 2 2 3 5 5 6 7 7 10 11 11 12 12 15 16 18 18 19 19 21 22 23 23 26 27 28 30 31 32 34 34 35 37 38 39 39 41 42 43 44 44 46 46] len 97 112\n",
      "[34 19 23 39 43 38 23 34 22 1 44 7 12 12 21 18 18 31 15 16 41 1 11 1 6 5 28 11 19 47 2 44 37 49 2 42 39 2 35 27 46 46 10 3 5 32 47 26 30 7 1 1 1 2 2 2 3 5 5 6 7 7 10 11 11 12 12 15 16 18 18 19 19 21 22 23 23 26 27 28 30 31 32 34 34 35 37 38 39 39 41 42 43 44 44 46 46 47] len 98 112\n",
      "[34 19 23 39 43 38 23 34 22 1 44 7 12 12 21 18 18 31 15 16 41 1 11 1 6 5 28 11 19 47 2 44 37 49 2 42 39 2 35 27 46 46 10 3 5 32 47 26 30 7 1 1 1 2 2 2 3 5 5 6 7 7 10 11 11 12 12 15 16 18 18 19 19 21 22 23 23 26 27 28 30 31 32 34 34 35 37 38 39 39 41 42 43 44 44 46 46 47] len 98 112\n"
     ]
    },
    {
     "name": "stdout",
     "output_type": "stream",
     "text": [
      "[34 19 23 39 43 38 23 34 22 1 44 7 12 12 21 18 18 31 15 16 41 1 11 1 6 5 28 11 19 47 2 44 37 49 2 42 39 2 35 27 46 46 10 3 5 32 47 26 30 7 1 1 1 2 2 2 3 5 5 6 7 7 10 11 11 12 12 15 16 18 18 19 19 21 22 23 23 26 27 28 30 31 32 34 34 35 37 38 39 39 41 42 43 44 44 46 46 47] len 98 112\n",
      "[34 19 23 39 43 38 23 34 22 1 44 7 12 12 21 18 18 31 15 16 41 1 11 1 6 5 28 11 19 47 2 44 37 49 2 42 39 2 35 27 46 46 10 3 5 32 47 26 30 7 1 1 1 2 2 2 3 5 5 6 7 7 10 11 11 12 12 15 16 18 18 19 19 21 22 23 23 26 27 28 30 31 32 34 34 35 37 38 39 39 41 42 43 44 44 46 46 47 47] len 99 112\n",
      "[34 19 23 39 43 38 23 34 22 1 44 7 12 12 21 18 18 31 15 16 41 1 11 1 6 5 28 11 19 47 2 44 37 49 2 42 39 2 35 27 46 46 10 3 5 32 47 26 30 7 1 1 1 2 2 2 3 5 5 6 7 7 10 11 11 12 12 15 16 18 18 19 19 21 22 23 23 26 27 28 30 31 32 34 34 35 37 38 39 39 41 42 43 44 44 46 46 47 47 49] len 100 112\n",
      "not sorted: [34 19 23 39 43 38 23 34 22 1 44 7 12 12 21 18 18 31 15 16 41 1 11 1 6 5 28 11 19 47 2 44 37 49 2 42 39 2 35 27 46 46 10 3 5 32 47 26 30 7]"
     ]
    }
   ],
   "source": [
    "//gopl.io/ch4/treesort\n",
    "\n",
    "// Copyright © 2016 Alan A. A. Donovan & Brian W. Kernighan.\n",
    "// License: https://creativecommons.org/licenses/by-nc-sa/4.0/\n",
    "\n",
    "import (\"math/rand\";\"sort\";\"fmt\")  \n",
    "type tree struct {\n",
    "\tvalue       int\n",
    "\tleft, right *tree\n",
    "}\n",
    "\n",
    "// Sort sorts values in place.\n",
    "func Sort(values []int) {\n",
    "\tvar root *tree\n",
    "\tfor _, v := range values {\n",
    "\t\troot = add(root, v)\n",
    "\t}\n",
    "\tappendValues(values[:0], root) // append in the slice, the first position\n",
    "    //appendValues(values, root)     // append in the last position\n",
    "    //appendValues(values[:], root)    // append in the last position\n",
    "}\n",
    "\n",
    "// appendValues appends the elements of t to values in order\n",
    "// and returns the resulting slice.\n",
    "func appendValues(values []int, t *tree) []int {\n",
    "    fmt.Println(values,\"len\",len(values),cap(values))\n",
    "\tif t != nil {\n",
    "\t\tvalues = appendValues(values, t.left)\n",
    "\t\tvalues = append(values, t.value)\n",
    "\t\tvalues = appendValues(values, t.right)\n",
    "\t}\n",
    "\treturn values\n",
    "}\n",
    "\n",
    "func add(t *tree, value int) *tree {\n",
    "\tif t == nil {\n",
    "\t\t// Equivalent to return &tree{value: value}.\n",
    "\t\tt = new(tree)\n",
    "\t\tt.value = value\n",
    "\t\treturn t\n",
    "\t}\n",
    "\tif value < t.value {\n",
    "\t\tt.left = add(t.left, value)\n",
    "\t} else {\n",
    "\t\tt.right = add(t.right, value)\n",
    "\t}\n",
    "\treturn t\n",
    "}\n",
    "\n",
    "func main(){\n",
    "    data := make([]int, 50)\n",
    "    for i := range data {\n",
    "        data[i] = rand.Int() % 50\n",
    "    }\n",
    "    \n",
    "\t//treesort.Sort(data)\n",
    "    fmt.Println(data)\n",
    "    Sort(data)\n",
    "//sort.Ints(data)\n",
    "    if !sort.IntsAreSorted(data) {\n",
    "\t\tfmt.Printf(\"not sorted: %v\", data)\n",
    "    } else {\n",
    "        fmt.Printf(\"sorted: %v\", data)\n",
    "    }\n",
    "}\n",
    "//!-"
   ]
  },
  {
   "cell_type": "markdown",
   "id": "401a661c",
   "metadata": {
    "slideshow": {
     "slide_type": "subslide"
    }
   },
   "source": [
    "<strike>$go get gopl.io/ch4/treesort</strike>\n",
    "```\n",
    "$go build gopl.io/ch4/treesort\n",
    "$go install gopl.io/ch4/treesort\n",
    "$go test gopl.io/ch4/treesort\n",
    "```"
   ]
  },
  {
   "cell_type": "code",
   "execution_count": 30,
   "id": "4b8b70a2",
   "metadata": {
    "scrolled": true
   },
   "outputs": [
    {
     "name": "stdout",
     "output_type": "stream",
     "text": [
      "=== RUN   TestSort\n",
      "--- PASS: TestSort (0.00s)\n",
      "PASS\n",
      "ok  \tgopl.io/ch4/treesort\t(cached)\n"
     ]
    }
   ],
   "source": [
    "//!go get gopl.io/ch4/treesort\n",
    "//!go install gopl.io/ch4/treesort\n",
    "!go test gopl.io/ch4/treesort -v"
   ]
  },
  {
   "cell_type": "markdown",
   "id": "0ee99ef0",
   "metadata": {
    "slideshow": {
     "slide_type": "slide"
    }
   },
   "source": [
    "### Struct Literals"
   ]
  },
  {
   "cell_type": "markdown",
   "id": "f075fa17",
   "metadata": {
    "slideshow": {
     "slide_type": "fragment"
    }
   },
   "source": [
    "* A value of a struct type can be written using a struct literal specifying values for its fields\n",
    "* There are two forms of struct literal\n",
    "* The first form requires a value be specified for every field, in the right order\n",
    "* The second form is used, in which a struct value is initialized by listing some or all of the field names and their corresponding values\n",
    "* The two forms cannot be mixed in the same literal"
   ]
  },
  {
   "cell_type": "code",
   "execution_count": 37,
   "id": "4ef5425e",
   "metadata": {
    "slideshow": {
     "slide_type": "subslide"
    }
   },
   "outputs": [
    {
     "name": "stdout",
     "output_type": "stream",
     "text": [
      "{1 2} {0 2}\n",
      "{[] [] 30 [] {<nil> 0 0} 0}\n",
      "gif.GIF{Image:[]*image.Paletted(nil), Delay:[]int(nil), LoopCount:30, Disposal:[]uint8(nil), Config:image.Config{ColorModel:color.Model(nil), Width:0, Height:0}, BackgroundIndex:0x0}"
     ]
    }
   ],
   "source": [
    "import \"image/gif\"\n",
    "type Point struct{ X, Y int}\n",
    "func main(){\n",
    "  p := Point{1,2} // the first form\n",
    "  q := Point{Y:2} // the second form\n",
    "  fmt.Println(p,q)\n",
    "  \n",
    "  nframes := 30\n",
    "  anim := gif.GIF{LoopCount: nframes}\n",
    "  _ = anim\n",
    "  fmt.Println(anim)\n",
    "  fmt.Printf(\"%#v\",anim)\n",
    "}\n",
    "\n",
    "//!go doc gif.Gif"
   ]
  },
  {
   "cell_type": "markdown",
   "id": "cd51a150",
   "metadata": {
    "collapsed": true,
    "slideshow": {
     "slide_type": "subslide"
    }
   },
   "source": [
    "```\n",
    "package p\n",
    "type T struct{ a, b int} // a and b are not exported\n",
    "\n",
    "in p/p.go\n",
    "\n",
    "package main\n",
    "import \"example.com/p\"\n",
    "func main(){\n",
    "var _ = p.T{a:1, b:2} //compile error, can't reference a  and b \n",
    "}\n",
    "\n",
    "in notexported.go\n",
    "```"
   ]
  },
  {
   "cell_type": "code",
   "execution_count": 5,
   "id": "ecd7907a",
   "metadata": {
    "slideshow": {
     "slide_type": "fragment"
    }
   },
   "outputs": [
    {
     "name": "stderr",
     "output_type": "stream",
     "text": [
      "# command-line-arguments\n",
      "./notexported.go:4:14: cannot refer to unexported field a in struct literal of type p.T\n",
      "./notexported.go:4:19: cannot refer to unexported field b in struct literal of type p.T\n",
      "exit status 1\n"
     ]
    }
   ],
   "source": [
    "!go mod edit -replace example.com/p=./p \n",
    "!go build notexported.go "
   ]
  },
  {
   "cell_type": "markdown",
   "id": "dbf44315",
   "metadata": {
    "slideshow": {
     "slide_type": "fragment"
    }
   },
   "source": [
    "go build notexported.go \n",
    "### command-line-arguments\n",
    "./notexported.go:4:14: cannot refer to unexported field a in struct literal of type p.T\n",
    "\n",
    "./notexported.go:4:19: cannot refer to unexported field b in struct literal of type p.T"
   ]
  },
  {
   "cell_type": "code",
   "execution_count": 38,
   "id": "64560b28",
   "metadata": {
    "code_folding": [],
    "scrolled": true,
    "slideshow": {
     "slide_type": "subslide"
    }
   },
   "outputs": [
    {
     "name": "stdout",
     "output_type": "stream",
     "text": [
      "{5 10}\n"
     ]
    }
   ],
   "source": [
    "//Struct values can be passed as arguments to functions and returned from them\n",
    "type Point struct{ X, Y int}\n",
    "func Scale(p Point, factor int) Point {\n",
    "    return Point{p.X * factor, p.Y * factor}\n",
    "}\n",
    "\n",
    "%%\n",
    "fmt.Println(Scale(Point{1,2},5)) // {5,10}\n",
    "//Scale(Point{1,2},6).X = 10"
   ]
  },
  {
   "cell_type": "code",
   "execution_count": 39,
   "id": "fbf5924c",
   "metadata": {
    "code_folding": [],
    "slideshow": {
     "slide_type": "subslide"
    }
   },
   "outputs": [],
   "source": [
    "//Larger struct types are passsed to or returned from functions indirectly using a pointer\n",
    "//and this is required if the function must modify the argument\n",
    "import \"time\"\n",
    "type Employee struct {\n",
    "    ID int\n",
    "    Name string\n",
    "    Address string\n",
    "    DoB time.Time\n",
    "    Position string\n",
    "    Salary int\n",
    "    ManagerID int\n",
    "} \n",
    "func Bonus(e *Employee, percent int) int {\n",
    "    return e.Salary * percent / 100\n",
    "}\n",
    "func AwardAnnualRaise(e *Employee) {\n",
    "    e.Salary = e.Salary * 105 / 100\n",
    "}"
   ]
  },
  {
   "cell_type": "code",
   "execution_count": 42,
   "id": "7a8daebe",
   "metadata": {
    "slideshow": {
     "slide_type": "subslide"
    }
   },
   "outputs": [
    {
     "name": "stdout",
     "output_type": "stream",
     "text": [
      "{1 2} &{1 2}\n"
     ]
    }
   ],
   "source": [
    "//two are equivalent\n",
    "type Point struct{ X, Y int}\n",
    "%%\n",
    "pp := &Point{1,2}\n",
    "fmt.Println(*pp,pp)\n"
   ]
  },
  {
   "cell_type": "code",
   "execution_count": 9,
   "id": "1810c16b",
   "metadata": {
    "slideshow": {
     "slide_type": "fragment"
    }
   },
   "outputs": [
    {
     "name": "stdout",
     "output_type": "stream",
     "text": [
      "&{1 2}\n"
     ]
    }
   ],
   "source": [
    "type Point struct{ X, Y int}\n",
    "%%\n",
    "pp := new(Point)\n",
    "*pp = Point{1,2}\n",
    "fmt.Println(pp)"
   ]
  },
  {
   "cell_type": "markdown",
   "id": "b90e0716",
   "metadata": {
    "slideshow": {
     "slide_type": "slide"
    }
   },
   "source": [
    "### Comparing Structs\n",
    "* If all the fields of a struct are comparable, the struct is comparable\n",
    "* Two expressions of the comparable types may be compared using == or !!="
   ]
  },
  {
   "cell_type": "code",
   "execution_count": 10,
   "id": "70b9d0f7",
   "metadata": {
    "slideshow": {
     "slide_type": "subslide"
    }
   },
   "outputs": [
    {
     "name": "stdout",
     "output_type": "stream",
     "text": [
      "false\n",
      "false\n"
     ]
    }
   ],
   "source": [
    "//comparing two points\n",
    "type point struct{X, Y int}\n",
    "%%\n",
    "p := Point{1,2}\n",
    "q := Point{3,2}\n",
    "fmt.Println(p.X == q.X && p.Y == q.Y) // false\n",
    "fmt.Println(p == q)                   // false"
   ]
  },
  {
   "cell_type": "markdown",
   "id": "912be8c5",
   "metadata": {
    "slideshow": {
     "slide_type": "subslide"
    }
   },
   "source": [
    "* Comparable struct types, may be used as the key type of a map"
   ]
  },
  {
   "cell_type": "code",
   "execution_count": 11,
   "id": "4e08bca2",
   "metadata": {
    "slideshow": {
     "slide_type": "fragment"
    }
   },
   "outputs": [
    {
     "name": "stdout",
     "output_type": "stream",
     "text": [
      "map[{golang.org 443}:1 {gopl.io 80}:23 {www.nycu.edu.tw 80}:123]\n"
     ]
    }
   ],
   "source": [
    "//comparable struct types as map key\n",
    "type address struct {\n",
    "    hostname string\n",
    "    port     int\n",
    "}\n",
    "%%\n",
    "hits := make(map[address]int)\n",
    "hits[address{\"golang.org\",443}]++\n",
    "hits[address{\"gopl.io\",80}]+= 23\n",
    "hits[address{\"www.nycu.edu.tw\",80}]+= 123\n",
    "fmt.Println(hits)"
   ]
  },
  {
   "cell_type": "code",
   "execution_count": 12,
   "id": "5e74dff3",
   "metadata": {},
   "outputs": [
    {
     "name": "stdout",
     "output_type": "stream",
     "text": [
      "0x1400012e000,0x14000130000 4,0x14000130000 0,0x14000130000 1"
     ]
    }
   ],
   "source": [
    "%%\n",
    "a := []int{0,1,2,3}\n",
    "fmt.Printf(\"%p,%p %d,%p %d,%p %d\",&a,a[:],len(a[:]),a[:0],len(a[:0]),a[:1],len(a[:1]))"
   ]
  },
  {
   "cell_type": "markdown",
   "id": "4154bbe1",
   "metadata": {
    "slideshow": {
     "slide_type": "slide"
    }
   },
   "source": [
    "### Struct Embedding and Anonymous Fields\n",
    "* a convenient syntactic shortcut\n",
    "* use x.f stands for x.d.e.f"
   ]
  },
  {
   "cell_type": "code",
   "execution_count": 13,
   "id": "ff04378a",
   "metadata": {
    "slideshow": {
     "slide_type": "fragment"
    }
   },
   "outputs": [
    {
     "name": "stdout",
     "output_type": "stream",
     "text": [
      "{8 8 5 20}\n"
     ]
    }
   ],
   "source": [
    "type Circle struct {\n",
    "    X,Y, Radius int\n",
    "}\n",
    "type Wheel struct {\n",
    "    X,Y, Radius, Spokes int\n",
    "}\n",
    "%%\n",
    "var w Wheel\n",
    "w.X = 8\n",
    "w.Y = 8\n",
    "w.Radius = 5\n",
    "w.Spokes = 20\n",
    "fmt.Println(w)"
   ]
  },
  {
   "cell_type": "markdown",
   "id": "e8044d25",
   "metadata": {
    "slideshow": {
     "slide_type": "subslide"
    }
   },
   "source": [
    "* Factor out their common parts"
   ]
  },
  {
   "cell_type": "code",
   "execution_count": 54,
   "id": "14f767a9",
   "metadata": {
    "slideshow": {
     "slide_type": "fragment"
    }
   },
   "outputs": [
    {
     "name": "stdout",
     "output_type": "stream",
     "text": [
      "{{{8 8} 5} 20}\n"
     ]
    }
   ],
   "source": [
    "import \"fmt\"\n",
    "type Point struct {\n",
    "    X, Y int\n",
    "}\n",
    "type Circle struct {\n",
    "    Center Point\n",
    "    Radius int\n",
    "}\n",
    "type Wheel struct {\n",
    "    Circle Circle\n",
    "    Spokes int\n",
    "}\n",
    "%%\n",
    "var w Wheel\n",
    "w.Circle.Center.X = 8\n",
    "w.Circle.Center.Y = 8\n",
    "w.Circle.Radius = 5\n",
    "w.Spokes = 20\n",
    "fmt.Println(w)"
   ]
  },
  {
   "cell_type": "markdown",
   "id": "7128d51a",
   "metadata": {
    "slideshow": {
     "slide_type": "subslide"
    }
   },
   "source": [
    "* Declare a field with a type but no name\n",
    "* Such fields are called anonymous fields\n",
    "* Due to embedding, we can refer to the names at the leaves of the implicit tree without giving the intervening names"
   ]
  },
  {
   "cell_type": "code",
   "execution_count": 51,
   "id": "885e63e5",
   "metadata": {
    "slideshow": {
     "slide_type": "fragment"
    }
   },
   "outputs": [
    {
     "name": "stdout",
     "output_type": "stream",
     "text": [
      "{{{8 8} 5} 20}\n"
     ]
    }
   ],
   "source": [
    "//access the anonymous field\n",
    "type Circle struct {\n",
    "    Point\n",
    "    Radius int\n",
    "}\n",
    "type Wheel struct {\n",
    "    Circle \n",
    "    Spokes int\n",
    "}\n",
    "%%\n",
    "var w Wheel\n",
    "w.X = 8    //equivalent to w.Circle.Point.X = 8\n",
    "w.Circle.Point.X = 8\n",
    "w.Y = 8    //equivalent to w.Circle.Point.Y = 8\n",
    "w.Radius = 5 //equivalent to w.Circle.Radius = 5\n",
    "w.Circle.Radius = 5\n",
    "w.Spokes = 20 \n",
    "fmt.Println(w)"
   ]
  },
  {
   "cell_type": "markdown",
   "id": "53e3c39a",
   "metadata": {
    "slideshow": {
     "slide_type": "subslide"
    }
   },
   "source": [
    "* There's no corresponding shorthand for the struct literal syntax"
   ]
  },
  {
   "cell_type": "code",
   "execution_count": 55,
   "id": "c5326ada",
   "metadata": {
    "slideshow": {
     "slide_type": "fragment"
    }
   },
   "outputs": [
    {
     "data": {
      "text/html": [
       "\n",
       "<style>\n",
       ".gonb-err-location {\n",
       "\tbackground: var(--jp-err-color2);  \n",
       "\tborder-radius: 3px;\n",
       "\tborder-style: dotted;\n",
       "\tborder-width: 1px;\n",
       "\tborder-color: var(--jp-border-color2);\n",
       "}\n",
       ".gonb-err-location:hover {\n",
       "\tborder-width: 2px;\n",
       "\tborder-style: solid;\n",
       "\tborder-color: var(--jp-border-color2);\n",
       "}\n",
       ".gonb-err-context {\n",
       "\tdisplay: none;\n",
       "}\n",
       ".gonb-err-location:hover + .gonb-err-context {\n",
       "\tbackground: var(--jp-dialog-background);  \n",
       "\tborder-radius: 3px;\n",
       "\tborder-style: solid;\n",
       "\tborder-width: 1px;\n",
       "\tborder-color: var(--jp-border-color2);\n",
       "\tdisplay: block;\n",
       "\twhite-space: pre;\n",
       "\tfont-family: monospace;\n",
       "}\n",
       ".gonb-err-line {\n",
       "\tborder-radius: 3px;\n",
       "\tborder-style: dotted;\n",
       "\tborder-width: 1px;\t\n",
       "\tborder-color: var(--jp-border-color2);\n",
       "\tbackground-color: var(--jp-rendermime-err-background);\n",
       "\tfont-weight: bold;\n",
       "}\n",
       ".gonb-cell-line-info {\n",
       "\tbackground: var(--jp-layout-color2);\n",
       "\tcolor: #999;\n",
       "\tmargin: 0.1em;\n",
       "\tborder: 1px solid var(--jp-border-color1);\n",
       "\tpadding-left: 0.2em;\n",
       "\tpadding-right: 0.2em;\n",
       "}\n",
       "</style>\n",
       "<div class=\"lm-Widget p-Widget lm-Panel p-Panel jp-OutputArea-child\">\n",
       "<div class=\"lm-Widget p-Widget jp-RenderedText jp-mod-trusted jp-OutputArea-output\" data-mime-type=\"application/vnd.jupyter.stderr\" style=\"font-family: monospace;\">\n",
       "\n",
       "\n",
       "<span style=\"white-space: pre;\"> # gonb_fde9ad99</span>\n",
       "\n",
       "<br/>\n",
       "\n",
       "<span class=\"gonb-cell-line-info\">Cell[55]: Line 2</span>\n",
       "<span class=\"gonb-err-location\">./main.go:186:13: </span> cannot use 8 (untyped int constant) as Circle value in struct literal\n",
       "<div class=\"gonb-err-context\">\n",
       "\n",
       "func main() {\n",
       "\tflag.Parse()\n",
       "<div class=\"gonb-err-line\">\tw := Wheel{8,8,5,20} \n",
       "</div>\tfmt.Printf(&#34;%#v&#34;,w)\n",
       "\t_ = w\n",
       "\n",
       "</div>\n",
       "\n",
       "<br/>\n",
       "\n",
       "<span class=\"gonb-cell-line-info\">Cell[55]: Line 2</span>\n",
       "<span class=\"gonb-err-location\">./main.go:186:17: </span> too many values in struct literal of type Wheel\n",
       "<div class=\"gonb-err-context\">\n",
       "\n",
       "func main() {\n",
       "\tflag.Parse()\n",
       "<div class=\"gonb-err-line\">\tw := Wheel{8,8,5,20} \n",
       "</div>\tfmt.Printf(&#34;%#v&#34;,w)\n",
       "\t_ = w\n",
       "\n",
       "</div>\n",
       "\n",
       "<br/>\n",
       "\n",
       "\n",
       "<span style=\"white-space: pre;\"> </span>\n",
       "\n",
       "<br/>\n",
       "\n",
       "</div>\n"
      ]
     },
     "metadata": {},
     "output_type": "display_data"
    },
    {
     "ename": "ERROR",
     "evalue": "failed to run \"/opt/homebrew/bin/go build -o /var/folders/4d/tg201k8x6yb81f_lrvt4440m0000gn/T/gonb_fde9ad99/gonb_fde9ad99\": exit status 1",
     "output_type": "error",
     "traceback": [
      "failed to run \"/opt/homebrew/bin/go build -o /var/folders/4d/tg201k8x6yb81f_lrvt4440m0000gn/T/gonb_fde9ad99/gonb_fde9ad99\": exit status 1"
     ]
    }
   ],
   "source": [
    "%%\n",
    "w := Wheel{8,8,5,20} \n",
    "fmt.Printf(\"%#v\",w)\n",
    "_ = w"
   ]
  },
  {
   "cell_type": "code",
   "execution_count": 57,
   "id": "cb7416c6",
   "metadata": {
    "scrolled": false,
    "slideshow": {
     "slide_type": "fragment"
    }
   },
   "outputs": [
    {
     "data": {
      "text/html": [
       "\n",
       "<style>\n",
       ".gonb-err-location {\n",
       "\tbackground: var(--jp-err-color2);  \n",
       "\tborder-radius: 3px;\n",
       "\tborder-style: dotted;\n",
       "\tborder-width: 1px;\n",
       "\tborder-color: var(--jp-border-color2);\n",
       "}\n",
       ".gonb-err-location:hover {\n",
       "\tborder-width: 2px;\n",
       "\tborder-style: solid;\n",
       "\tborder-color: var(--jp-border-color2);\n",
       "}\n",
       ".gonb-err-context {\n",
       "\tdisplay: none;\n",
       "}\n",
       ".gonb-err-location:hover + .gonb-err-context {\n",
       "\tbackground: var(--jp-dialog-background);  \n",
       "\tborder-radius: 3px;\n",
       "\tborder-style: solid;\n",
       "\tborder-width: 1px;\n",
       "\tborder-color: var(--jp-border-color2);\n",
       "\tdisplay: block;\n",
       "\twhite-space: pre;\n",
       "\tfont-family: monospace;\n",
       "}\n",
       ".gonb-err-line {\n",
       "\tborder-radius: 3px;\n",
       "\tborder-style: dotted;\n",
       "\tborder-width: 1px;\t\n",
       "\tborder-color: var(--jp-border-color2);\n",
       "\tbackground-color: var(--jp-rendermime-err-background);\n",
       "\tfont-weight: bold;\n",
       "}\n",
       ".gonb-cell-line-info {\n",
       "\tbackground: var(--jp-layout-color2);\n",
       "\tcolor: #999;\n",
       "\tmargin: 0.1em;\n",
       "\tborder: 1px solid var(--jp-border-color1);\n",
       "\tpadding-left: 0.2em;\n",
       "\tpadding-right: 0.2em;\n",
       "}\n",
       "</style>\n",
       "<div class=\"lm-Widget p-Widget lm-Panel p-Panel jp-OutputArea-child\">\n",
       "<div class=\"lm-Widget p-Widget jp-RenderedText jp-mod-trusted jp-OutputArea-output\" data-mime-type=\"application/vnd.jupyter.stderr\" style=\"font-family: monospace;\">\n",
       "\n",
       "\n",
       "<span style=\"white-space: pre;\"> # gonb_fde9ad99</span>\n",
       "\n",
       "<br/>\n",
       "\n",
       "<span class=\"gonb-cell-line-info\">Cell[57]: Line 2</span>\n",
       "<span class=\"gonb-err-location\">./main.go:186:13: </span> unknown field X in struct literal of type Wheel\n",
       "<div class=\"gonb-err-context\">\n",
       "\n",
       "func main() {\n",
       "\tflag.Parse()\n",
       "<div class=\"gonb-err-line\">\tw := Wheel{X:8, Y:8, Radius: 5, Spokes: 20}\n",
       "</div>\t_ = w\n",
       "\n",
       "\n",
       "</div>\n",
       "\n",
       "<br/>\n",
       "\n",
       "<span class=\"gonb-cell-line-info\">Cell[57]: Line 2</span>\n",
       "<span class=\"gonb-err-location\">./main.go:186:18: </span> unknown field Y in struct literal of type Wheel\n",
       "<div class=\"gonb-err-context\">\n",
       "\n",
       "func main() {\n",
       "\tflag.Parse()\n",
       "<div class=\"gonb-err-line\">\tw := Wheel{X:8, Y:8, Radius: 5, Spokes: 20}\n",
       "</div>\t_ = w\n",
       "\n",
       "\n",
       "</div>\n",
       "\n",
       "<br/>\n",
       "\n",
       "<span class=\"gonb-cell-line-info\">Cell[57]: Line 2</span>\n",
       "<span class=\"gonb-err-location\">./main.go:186:23: </span> unknown field Radius in struct literal of type Wheel\n",
       "<div class=\"gonb-err-context\">\n",
       "\n",
       "func main() {\n",
       "\tflag.Parse()\n",
       "<div class=\"gonb-err-line\">\tw := Wheel{X:8, Y:8, Radius: 5, Spokes: 20}\n",
       "</div>\t_ = w\n",
       "\n",
       "\n",
       "</div>\n",
       "\n",
       "<br/>\n",
       "\n",
       "\n",
       "<span style=\"white-space: pre;\"> </span>\n",
       "\n",
       "<br/>\n",
       "\n",
       "</div>\n"
      ]
     },
     "metadata": {},
     "output_type": "display_data"
    },
    {
     "ename": "ERROR",
     "evalue": "failed to run \"/opt/homebrew/bin/go build -o /var/folders/4d/tg201k8x6yb81f_lrvt4440m0000gn/T/gonb_fde9ad99/gonb_fde9ad99\": exit status 1",
     "output_type": "error",
     "traceback": [
      "failed to run \"/opt/homebrew/bin/go build -o /var/folders/4d/tg201k8x6yb81f_lrvt4440m0000gn/T/gonb_fde9ad99/gonb_fde9ad99\": exit status 1"
     ]
    }
   ],
   "source": [
    "%%\n",
    "w := Wheel{X:8, Y:8, Radius: 5, Spokes: 20}\n",
    "_ = w"
   ]
  },
  {
   "cell_type": "markdown",
   "id": "e7dbf169",
   "metadata": {
    "slideshow": {
     "slide_type": "subslide"
    }
   },
   "source": [
    "### Use one of the two forms"
   ]
  },
  {
   "cell_type": "code",
   "execution_count": 60,
   "id": "bc1a561d",
   "metadata": {
    "slideshow": {
     "slide_type": "subslide"
    }
   },
   "outputs": [
    {
     "name": "stdout",
     "output_type": "stream",
     "text": [
      "{Circle:{Point:{X:8 Y:8} Radius:5} Spokes:20}\n",
      "main.Wheel{Circle:main.Circle{Point:main.Point{X:42, Y:8}, Radius:5}, Spokes:20}\n",
      "{Circle:{Point:{X:42 Y:8} Radius:5} Spokes:20}\n"
     ]
    }
   ],
   "source": [
    "//Anonymous Fields\n",
    "type Point struct {\n",
    "    X, Y int\n",
    "}\n",
    "type Circle struct {\n",
    "    Point\n",
    "    Radius int\n",
    "}\n",
    "type Wheel struct {\n",
    "    Circle \n",
    "    Spokes int\n",
    "}\n",
    "%%\n",
    "var w Wheel\n",
    "w = Wheel{Circle{Point{8, 8}, 5}, 20}\n",
    "\n",
    "w = Wheel{\n",
    "\t\tCircle: Circle{\n",
    "\t\t\tPoint:  Point{X: 8, Y: 8},\n",
    "\t\t\tRadius: 5,\n",
    "\t\t},\n",
    "\t\tSpokes: 20, // NOTE: trailing comma necessary here (and at Radius)\n",
    "}\n",
    "\n",
    "//fmt.Printf(\"%#v\\n\", w)\n",
    "//%v\tthe value in a default format\n",
    "//\twhen printing structs, the plus flag (%+v) adds field names\n",
    "//%#v\ta Go-syntax representation of the value\n",
    "fmt.Printf(\"%+v\\n\",w)\n",
    "\t// Output:\n",
    "\t// Wheel{Circle:Circle{Point:Point{X:8, Y:8}, Radius:5}, Spokes:20}\n",
    "\n",
    "w.X = 42\n",
    "\n",
    "fmt.Printf(\"%#v\\n\", w)\n",
    "fmt.Printf(\"%+v\\n\", w)\n",
    "\t// Output:\n",
    "\t// Wheel{Circle:Circle{Point:Point{X:42, Y:8}, Radius:5}, Spokes:20}\n",
    "\t//!-"
   ]
  },
  {
   "cell_type": "markdown",
   "id": "a9f188c5",
   "metadata": {
    "slideshow": {
     "slide_type": "subslide"
    }
   },
   "source": [
    "*  \"anonymous\" fields have implicit names, we can't have two anonymous fields of the same type\n",
    "* w.X = 8 //equivalent to w.circle.point.X = 8, but forbidden outside the package"
   ]
  },
  {
   "cell_type": "markdown",
   "id": "d0f4b9b7",
   "metadata": {
    "slideshow": {
     "slide_type": "slide"
    }
   },
   "source": [
    "## 4.5 JSON\n",
    "* JavaScript Object Notation (JSON) is a standard notation for sending and receiving structured information\n",
    "* Other similar notation: XML, ASN.1, and Google's Protocol Buffers\n",
    "* API: encoding/json, encoding/xml, encoding/asn1\n",
    "* basic JSON types are numbers(decimal or scientific notation), booleans(true, false), and strings (sequene of Unicode code points)\n",
    "* basic JSON types can be combined recursively using JSON arrays and objects\n",
    "* JSON array is an ordered sequence of values, written as a comma-separated list enclosed in square brackets\n",
    "* JSON array are used to encode Go arrays and slices\n",
    "* JSON object is a mapping from strings to values, written as a sequence of name:value pairs separated by commas and surrounded by braces\n",
    "* JSON objects are used to encode GO maps and structs\n",
    "\n",
    "Example\n",
    "\n",
    "type   |value\n",
    "-------|-----------------------------------\n",
    "boolean|true\n",
    "number | -273.15\n",
    "string |\"She said \\\"Hello, 世界\\\"\"\n",
    "array  | [\"gold\", \"silver\", \"bronze\"]\n",
    "object |{\"year\": 1980,<br>\"event\": \"archery\",<br>\"medals\":[\"gold\",\"silver\",\"brone\"]} "
   ]
  },
  {
   "cell_type": "markdown",
   "id": "0b9c7e41",
   "metadata": {
    "slideshow": {
     "slide_type": "subslide"
    }
   },
   "source": [
    "* Gather movie reviews and offer recommendations\n",
    "* String literals after the Year and Color field are field tags\n",
    "* Converting Go data structure to JSON by **json.Marshal**\n",
    "* Only exported fields are marshaled (so, capitalized names for all the Go field names)\n",
    "* a field tag is a string of metadata associated at compile time with the field of a struct (**Year** changed to **released**)\n",
    "* Field tag specifies an alternative JSON name for the Go field\n",
    "* JSON name: total_count, Go field name: TotalCount\n",
    "* option: no JSON output if the field has the zero value of the type\n",
    "<code>\n",
    "  Year int `json:\"released\"` \n",
    "  Color bool `json:\"color, omitempty\"`\n",
    "</code>"
   ]
  },
  {
   "cell_type": "code",
   "execution_count": 62,
   "id": "fcca7554",
   "metadata": {
    "code_folding": [
     2
    ],
    "slideshow": {
     "slide_type": "fragment"
    }
   },
   "outputs": [],
   "source": [
    "//gopl.pl/ch4/movie\n",
    "\n",
    "// Copyright © 2016 Alan A. A. Donovan & Brian W. Kernighan.\n",
    "// License: https://creativecommons.org/licenses/by-nc-sa/4.0/\n",
    "\n",
    "import (\"encoding/json\";\"fmt\";\"log\")\n",
    "\n",
    "type Movie struct {\n",
    "\tTitle  string\n",
    "\tYear   int  `json:\"released\"`\n",
    "\tColor  bool `json:\"color,omitempty\"`\n",
    "\tActors []string\n",
    "}\n",
    "\n",
    "var movies = []Movie{\n",
    "\t{Title: \"Casablanca\", Year: 1942, Color: false,\n",
    "\t\tActors: []string{\"Humphrey Bogart\", \"Ingrid Bergman\"}},\n",
    "\t{Title: \"Cool Hand Luke\", Year: 1967, Color: true,\n",
    "\t\tActors: []string{\"Paul Newman\"}},\n",
    "\t{Title: \"Bullitt\", Year: 1968, Color: true,\n",
    "\t\tActors: []string{\"Steve McQueen\", \"Jacqueline Bisset\"}},\n",
    "\t// ...\n",
    "}"
   ]
  },
  {
   "cell_type": "code",
   "execution_count": 15,
   "id": "4af445fb",
   "metadata": {
    "slideshow": {
     "slide_type": "fragment"
    }
   },
   "outputs": [
    {
     "name": "stdout",
     "output_type": "stream",
     "text": [
      "[{\"Title\":\"Casablanca\",\"released\":1942,\"Actors\":[\"Humphrey Bogart\",\"Ingrid Bergman\"]},{\"Title\":\"Cool Hand Luke\",\"released\":1967,\"color\":true,\"Actors\":[\"Paul Newman\"]},{\"Title\":\"Bullitt\",\"released\":1968,\"color\":true,\"Actors\":[\"Steve McQueen\",\"Jacqueline Bisset\"]}]\n"
     ]
    }
   ],
   "source": [
    "func main(){\t\t//!+Marshal\n",
    "\t\tdata, err := json.Marshal(movies)\n",
    "\t\tif err != nil {\n",
    "\t\t\tlog.Fatalf(\"JSON marshaling failed: %s\", err)\n",
    "\t\t}\n",
    "\t\tfmt.Printf(\"%s\\n\", data)\n",
    "}\t\t//!-Ma"
   ]
  },
  {
   "cell_type": "markdown",
   "id": "424a2997",
   "metadata": {
    "slideshow": {
     "slide_type": "subslide"
    }
   },
   "source": [
    "* json.MarshalIndent produces neatly indented output\n",
    "* two arguments: \n",
    "  * a prefix for each line of output \n",
    "  * a string for each level of indentation\n",
    "* Inverse operation to marshalling: **json.Unmarshal**"
   ]
  },
  {
   "cell_type": "code",
   "execution_count": 16,
   "id": "cd7e64cf",
   "metadata": {
    "slideshow": {
     "slide_type": "subslide"
    }
   },
   "outputs": [
    {
     "name": "stdout",
     "output_type": "stream",
     "text": [
      "[\n",
      "    {\n",
      "        \"Title\": \"Casablanca\",\n",
      "        \"released\": 1942,\n",
      "        \"Actors\": [\n",
      "            \"Humphrey Bogart\",\n",
      "            \"Ingrid Bergman\"\n",
      "        ]\n",
      "    },\n",
      "    {\n",
      "        \"Title\": \"Cool Hand Luke\",\n",
      "        \"released\": 1967,\n",
      "        \"color\": true,\n",
      "        \"Actors\": [\n",
      "            \"Paul Newman\"\n",
      "        ]\n",
      "    },\n",
      "    {\n",
      "        \"Title\": \"Bullitt\",\n",
      "        \"released\": 1968,\n",
      "        \"color\": true,\n",
      "        \"Actors\": [\n",
      "            \"Steve McQueen\",\n",
      "            \"Jacqueline Bisset\"\n",
      "        ]\n",
      "    }\n",
      "]\n",
      "[{Casablanca 1942 false [Humphrey Bogart Ingrid Bergman]} {Cool Hand Luke 1967 true [Paul Newman]} {Bullitt 1968 true [Steve McQueen Jacqueline Bisset]}]\n"
     ]
    }
   ],
   "source": [
    "//MarshalIndent\t\n",
    "func main (){\n",
    "\t\t//!+MarshalIndent\n",
    "\t\tdata, err := json.MarshalIndent(movies, \"\", \"    \")\n",
    "\t\tif err != nil {\n",
    "\t\t\tlog.Fatalf(\"JSON marshaling failed: %s\", err)\n",
    "\t\t}\n",
    "\t\tfmt.Printf(\"%s\\n\", data)\n",
    "\t\t//!-MarshalIndent\n",
    "\n",
    "\t\t//!+Unmarshal\n",
    "\t\tvar titles []struct{ Title string \n",
    "                            Year   int  `json:\"released\"`\n",
    "                            Color  bool `json:\"color,omitempty\"`\n",
    "                             Actors []string\n",
    "                           }\n",
    "\t\tif err := json.Unmarshal(data, &titles); err != nil {\n",
    "\t\t\tlog.Fatalf(\"JSON unmarshaling failed: %s\", err)\n",
    "\t\t}\n",
    "\t\tfmt.Println(titles) // \"[{Casablanca} {Cool Hand Luke} {Bullitt}]\"\n",
    "\t\t//!-Unmarshal\n",
    "}"
   ]
  },
  {
   "cell_type": "markdown",
   "id": "2d8bcd5f",
   "metadata": {
    "slideshow": {
     "slide_type": "subslide"
    }
   },
   "source": [
    "#### github HTTP request \n",
    "* decode the result as JSON\n",
    "* url.QueryEscape to escape \\? and \\&"
   ]
  },
  {
   "cell_type": "code",
   "execution_count": 63,
   "id": "a73cb251",
   "metadata": {
    "code_folding": [
     2
    ],
    "slideshow": {
     "slide_type": "fragment"
    }
   },
   "outputs": [],
   "source": [
    "//gopl.io/ch4/github\n",
    "\n",
    "// Copyright © 2016 Alan A. A. Donovan & Brian W. Kernighan.\n",
    "// License: https://creativecommons.org/licenses/by-nc-sa/4.0/\n",
    "\n",
    "import \"time\"\n",
    "\n",
    "const IssuesURL = \"https://api.github.com/search/issues\"\n",
    "\n",
    "type IssuesSearchResult struct {\n",
    "\tTotalCount int `json:\"total_count\"`\n",
    "\tItems      []*Issue\n",
    "}\n",
    "\n",
    "type Issue struct {\n",
    "\tNumber    int\n",
    "\tHTMLURL   string `json:\"html_url\"`\n",
    "\tTitle     string\n",
    "\tState     string\n",
    "\tUser      *User\n",
    "\tCreatedAt time.Time `json:\"created_at\"`\n",
    "\tBody      string    // in Markdown format\n",
    "}\n",
    "\n",
    "type User struct {\n",
    "\tLogin   string\n",
    "\tHTMLURL string `json:\"html_url\"`\n",
    "}\n"
   ]
  },
  {
   "cell_type": "markdown",
   "id": "e9ab831d",
   "metadata": {
    "slideshow": {
     "slide_type": "subslide"
    }
   },
   "source": [
    "#### github api for issues\n",
    "* [github issue api](https://api.github.com/search/issues?q=repo:golang/go%20is:open%20json%20decoder)\n",
    "* struct fields are capitalized for public access even if JSON names are not\n",
    "* matching process with JSON names and Go struct names is case-insensitive"
   ]
  },
  {
   "cell_type": "code",
   "execution_count": 64,
   "id": "b517f486",
   "metadata": {
    "slideshow": {
     "slide_type": "fragment"
    }
   },
   "outputs": [],
   "source": [
    "import (\"encoding/json\";\"fmt\";\"net/http\";\"net/url\";\"strings\")\n",
    "\n",
    "// SearchIssues queries the GitHub issue tracker.\n",
    "func SearchIssues(terms []string) (*IssuesSearchResult, error) {\n",
    "\tq := url.QueryEscape(strings.Join(terms, \" \"))\n",
    "\tresp, err := http.Get(IssuesURL + \"?q=\" + q)\n",
    "\tif err != nil {\n",
    "\t\treturn nil, err\n",
    "\t}\n",
    "\tif resp.StatusCode != http.StatusOK {\n",
    "\t\tresp.Body.Close()\n",
    "\t\treturn nil, fmt.Errorf(\"search query failed: %s\", resp.Status)\n",
    "\t}\n",
    "    //fmt.Println(resp.Body)\n",
    "    fmt.Printf(\"%q\",resp.Body)\n",
    "\tvar result IssuesSearchResult\n",
    "\tif err := json.NewDecoder(resp.Body).Decode(&result); err != nil {\n",
    "\t\tresp.Body.Close()\n",
    "\t\treturn nil, err\n",
    "\t}\n",
    "\tresp.Body.Close()\n",
    "\treturn &result, nil\n",
    "}"
   ]
  },
  {
   "cell_type": "code",
   "execution_count": 65,
   "id": "6189351d",
   "metadata": {
    "slideshow": {
     "slide_type": "subslide"
    }
   },
   "outputs": [
    {
     "name": "stdout",
     "output_type": "stream",
     "text": [
      "96 issues:\n",
      "0 #69449   gazerro encoding/json: Decoder.Token does not return an error f\n",
      "1 #48298     dsnet encoding/json: add Decoder.DisallowDuplicateFields\n",
      "2 #56733 rolandsho encoding/json: add (*Decoder).SetLimit\n",
      "3 #42571     dsnet encoding/json: clarify Decoder.InputOffset semantics\n",
      "4 #26946    deuill encoding/json: clarify what happens when unmarshaling i\n",
      "5 #11046     kurin encoding/json: Decoder internally buffers full input\n",
      "6 #67525 mateusz83 encoding/json: don't silently ignore errors from (*Deco\n",
      "7 #6647    btracey x/tools/cmd/godoc: display type kind of each named type\n",
      "8 #36225     dsnet encoding/json: the Decoder.Decode API lends itself to m\n",
      "9 #43716 ggaaooppe encoding/json: increment byte counter when using decode\n",
      "10 #29035    jaswdr proposal: encoding/json: add error var to compare  the \n",
      "11 #14750 cyberphon encoding/json: parser ignores the case of member names\n",
      "12 #61627    nabice x/tools/gopls: feature: CLI syntax for renaming by iden\n",
      "13 #65691  Merovius encoding/xml: Decoder does not reject xml-ProcInst prec\n",
      "14 #5901        rsc encoding/json: allow per-Encoder/per-Decoder registrati\n",
      "15 #64847 zephyrtro encoding/json: UnmarshalJSON methods of embedded fields\n",
      "16 #34543  maxatome encoding/json: Unmarshal & json.(*Decoder).Token report\n",
      "17 #32779       rsc encoding/json: memoize strings during decode\n",
      "18 #40128  rogpeppe proposal: encoding/json: garbage-free reading of tokens\n",
      "19 #40982   Segflow encoding/json: use different error type for unknown fie\n",
      "20 #69273    nemith proposal: encoding/xml: Add EmptyElement token type to \n",
      "21 #40127  rogpeppe encoding/json: add Encoder.EncodeToken method\n",
      "22 #59053   joerdav proposal: encoding/json: add a generic Decode function\n",
      "23 #16212 josharian encoding/json: do all reflect work before decoding\n",
      "24 #31701    lr1980 encoding/json: second decode after error impossible\n",
      "25 #41144 alvaroale encoding/json: Unmarshaler breaks DisallowUnknownFields\n",
      "26 #56332    gansvv encoding/json: clearer error message for boolean like p\n",
      "27 #33835     Qhesz encoding/json: unmarshalling null into non-nullable gol\n",
      "28 #22752  buyology proposal: encoding/json: add access to the underlying d\n",
      "29 #43513 Alexander encoding/json: add line number to SyntaxError\n"
     ]
    }
   ],
   "source": [
    "import (\"fmt\";\"log\";\"os\";\"gopl.io/ch4/github\")\n",
    "%args repo:golang/go is:open json decoder\n",
    "func main() {\n",
    "\tresult, err := github.SearchIssues(os.Args[1:])\n",
    "    //t := []string{\"repo:golang/go\",\"is:open\",\"json\",\"decoder\"}\n",
    "    //result, err := github.SearchIssues(t)\n",
    "    //result, err := SearchIssues(t) \n",
    "\tif err != nil {\n",
    "\t\tlog.Fatal(err)\n",
    "\t}\n",
    "\tfmt.Printf(\"%d issues:\\n\", result.TotalCount)\n",
    "\tfor i, item := range result.Items {\n",
    "\t\tfmt.Printf(\"%d #%-5d %9.9s %.55s\\n\",i,\n",
    "\t\t\titem.Number, item.User.Login, item.Title)\n",
    "\t}\n",
    "}"
   ]
  },
  {
   "cell_type": "markdown",
   "id": "5ae2f03a",
   "metadata": {
    "slideshow": {
     "slide_type": "slide"
    }
   },
   "source": [
    "## 4.6 Text and HTML Templates\n",
    "* the simplest formatting: Printf\n",
    "* separate the format from the code \n",
    "* **text/template** and **html/template** packages provide a mechanism for substituting the values of variables into a text or HTML template "
   ]
  },
  {
   "cell_type": "markdown",
   "id": "7c070468",
   "metadata": {
    "slideshow": {
     "slide_type": "subslide"
    }
   },
   "source": [
    "* template is a string or file containing one or more portions enclosed in double braces, {{...}}, called actions\n",
    "* Each action contains an expression in the template language\n",
    "  * Printing values\n",
    "  * Selecting struct fields\n",
    "  * Calling functions and methods\n",
    "  * Control flow such as if-else, range, and instantiating other templates"
   ]
  },
  {
   "cell_type": "code",
   "execution_count": 67,
   "id": "ac9652b5",
   "metadata": {
    "slideshow": {
     "slide_type": "fragment"
    }
   },
   "outputs": [
    {
     "name": "stdout",
     "output_type": "stream",
     "text": [
      "{{.TotalCount}} issues:\n",
      "{{range .Items}}----------------------------------------\n",
      "Number: {{.Number}}\n",
      "User:   {{.User.Login}}\n",
      "Title:  {{.Title | printf \"%.64s\"}}\n",
      "Age:    {{.CreatedAt | daysAgo}} days\n",
      "{{end}}\n"
     ]
    }
   ],
   "source": [
    "// template\n",
    "import \"fmt\"\n",
    "const templ = `{{.TotalCount}} issues:\n",
    "{{range .Items}}----------------------------------------\n",
    "Number: {{.Number}}\n",
    "User:   {{.User.Login}}\n",
    "Title:  {{.Title | printf \"%.64s\"}}\n",
    "Age:    {{.CreatedAt | daysAgo}} days\n",
    "{{end}}`\n",
    "%%\n",
    "fmt.Println(templ)"
   ]
  },
  {
   "cell_type": "code",
   "execution_count": 68,
   "id": "a2f385c4",
   "metadata": {
    "slideshow": {
     "slide_type": "fragment"
    }
   },
   "outputs": [
    {
     "name": "stdout",
     "output_type": "stream",
     "text": [
      "&{\"report\" %!q(*parse.Tree=&{report report 0x1400011d800 0 {{.TotalCount}} issues:\n",
      "{{range .Items}}----------------------------------------\n",
      "Number: {{.Number}}\n",
      "User:   {{.User.Login}}\n",
      "Title:  {{.Title | printf \"%.64s\"}}\n",
      "Age:    {{.CreatedAt | daysAgo}} days\n",
      "{{end}} [] <nil> [{8 206  7} {11 24 {{ 2} {0 0  0}] 1 [] map[] 0 0}) %!q(*template.common=&{map[report:0x14000126500] {{0 0} 0 0 {{} 0} {{} 0}} {0} {{0 0} 0 0 {{} 0} {{} 0}} map[daysAgo:0x104fd8b50] map[daysAgo:{0x105048420 0x10507f740 19}]}) \"\" \"\"}\n"
     ]
    }
   ],
   "source": [
    "//Parse the template into a suitable internal represntation\n",
    "import (\"time\";\"text/template\";\"os\")\n",
    "func daysAgo(t time.Time) int {\n",
    "    return int(time.Since(t).Hours()/24)\n",
    "}\n",
    "%%\n",
    "report, err := template.New(\"report\").\n",
    "   Funcs(template.FuncMap{\"daysAgo\": daysAgo}).\n",
    "   Parse(templ)\n",
    "if (err != nil) {\n",
    "    fmt.Fprintln(os.Stderr,\"error\")\n",
    "} else {\n",
    "    fmt.Printf(\"%q\\n\",report)\n",
    "}"
   ]
  },
  {
   "cell_type": "code",
   "execution_count": 22,
   "id": "dd2031b1",
   "metadata": {
    "scrolled": false,
    "slideshow": {
     "slide_type": "subslide"
    }
   },
   "outputs": [
    {
     "name": "stdout",
     "output_type": "stream",
     "text": [
      "&{96 [0x140000d20e0 0x140000d2150 0x140000d21c0 0x140000d2230 0x140000d22a0 0x140000d2310 0x140000d2380 0x140000d23f0 0x140000d2460 0x140000d24d0 0x140000d2540 0x140000d25b0 0x140000d2620 0x140000d2690 0x140000d2700 0x140000d2770 0x140000d27e0 0x140000d2850 0x140000d28c0 0x140000d2930 0x140000d29a0 0x140000d2a10 0x140000d2a80 0x140000d2af0 0x140000d2b60 0x140000d2bd0 0x140000d2c40 0x140000d2cb0 0x140000d2d20 0x140000d2d90]}\n",
      "96 issues:\n",
      "----------------------------------------\n",
      "Number: 69449\n",
      "User:   gazerro\n",
      "Title:  encoding/json: Decoder.Token does not return an error for incomp\n",
      "Age:    31 days\n",
      "----------------------------------------\n",
      "Number: 48298\n",
      "User:   dsnet\n",
      "Title:  encoding/json: add Decoder.DisallowDuplicateFields\n",
      "Age:    1131 days\n",
      "----------------------------------------\n",
      "Number: 56733\n",
      "User:   rolandshoemaker\n",
      "Title:  encoding/json: add (*Decoder).SetLimit\n",
      "Age:    700 days\n",
      "----------------------------------------\n",
      "Number: 42571\n",
      "User:   dsnet\n",
      "Title:  encoding/json: clarify Decoder.InputOffset semantics\n",
      "Age:    1432 days\n",
      "----------------------------------------\n",
      "Number: 26946\n",
      "User:   deuill\n",
      "Title:  encoding/json: clarify what happens when unmarshaling into a non\n",
      "Age:    2255 days\n",
      "----------------------------------------\n",
      "Number: 67525\n",
      "User:   mateusz834\n",
      "Title:  encoding/json: don't silently ignore errors from (*Decoder).More\n",
      "Age:    147 days\n",
      "----------------------------------------\n",
      "Number: 11046\n",
      "User:   kurin\n",
      "Title:  encoding/json: Decoder internally buffers full input\n",
      "Age:    3421 days\n",
      "----------------------------------------\n",
      "Number: 6647\n",
      "User:   btracey\n",
      "Title:  x/tools/cmd/godoc: display type kind of each named type\n",
      "Age:    4009 days\n",
      "----------------------------------------\n",
      "Number: 36225\n",
      "User:   dsnet\n",
      "Title:  encoding/json: the Decoder.Decode API lends itself to misuse\n",
      "Age:    1761 days\n",
      "----------------------------------------\n",
      "Number: 43716\n",
      "User:   ggaaooppeenngg\n",
      "Title:  encoding/json: increment byte counter when using decoder.Token\n",
      "Age:    1368 days\n",
      "----------------------------------------\n",
      "Number: 29035\n",
      "User:   jaswdr\n",
      "Title:  proposal: encoding/json: add error var to compare  the returned \n",
      "Age:    2145 days\n",
      "----------------------------------------\n",
      "Number: 14750\n",
      "User:   cyberphone\n",
      "Title:  encoding/json: parser ignores the case of member names\n",
      "Age:    3140 days\n",
      "----------------------------------------\n",
      "Number: 61627\n",
      "User:   nabice\n",
      "Title:  x/tools/gopls: feature: CLI syntax for renaming by identifier, n\n",
      "Age:    444 days\n",
      "----------------------------------------\n",
      "Number: 65691\n",
      "User:   Merovius\n",
      "Title:  encoding/xml: Decoder does not reject xml-ProcInst preceeded by \n",
      "Age:    244 days\n",
      "----------------------------------------\n",
      "Number: 5901\n",
      "User:   rsc\n",
      "Title:  encoding/json: allow per-Encoder/per-Decoder registration of mar\n",
      "Age:    4107 days\n",
      "----------------------------------------\n",
      "Number: 64847\n",
      "User:   zephyrtronium\n",
      "Title:  encoding/json: UnmarshalJSON methods of embedded fields are igno\n",
      "Age:    297 days\n",
      "----------------------------------------\n",
      "Number: 34543\n",
      "User:   maxatome\n",
      "Title:  encoding/json: Unmarshal & json.(*Decoder).Token report differen\n",
      "Age:    1846 days\n",
      "----------------------------------------\n",
      "Number: 32779\n",
      "User:   rsc\n",
      "Title:  encoding/json: memoize strings during decode\n",
      "Age:    1938 days\n",
      "----------------------------------------\n",
      "Number: 40128\n",
      "User:   rogpeppe\n",
      "Title:  proposal: encoding/json: garbage-free reading of tokens\n",
      "Age:    1558 days\n",
      "----------------------------------------\n",
      "Number: 40982\n",
      "User:   Segflow\n",
      "Title:  encoding/json: use different error type for unknown field if the\n",
      "Age:    1514 days\n",
      "----------------------------------------\n",
      "Number: 69273\n",
      "User:   nemith\n",
      "Title:  proposal: encoding/xml: Add EmptyElement token type to support s\n",
      "Age:    40 days\n",
      "----------------------------------------\n",
      "Number: 40127\n",
      "User:   rogpeppe\n",
      "Title:  encoding/json: add Encoder.EncodeToken method\n",
      "Age:    1558 days\n",
      "----------------------------------------\n",
      "Number: 59053\n",
      "User:   joerdav\n",
      "Title:  proposal: encoding/json: add a generic Decode function\n",
      "Age:    579 days\n",
      "----------------------------------------\n",
      "Number: 16212\n",
      "User:   josharian\n",
      "Title:  encoding/json: do all reflect work before decoding\n",
      "Age:    3029 days\n",
      "----------------------------------------\n",
      "Number: 31701\n",
      "User:   lr1980\n",
      "Title:  encoding/json: second decode after error impossible\n",
      "Age:    1998 days\n",
      "----------------------------------------\n",
      "Number: 41144\n",
      "User:   alvaroaleman\n",
      "Title:  encoding/json: Unmarshaler breaks DisallowUnknownFields\n",
      "Age:    1505 days\n",
      "----------------------------------------\n",
      "Number: 56332\n",
      "User:   gansvv\n",
      "Title:  encoding/json: clearer error message for boolean like prefix in \n",
      "Age:    726 days\n",
      "----------------------------------------\n",
      "Number: 33835\n",
      "User:   Qhesz\n",
      "Title:  encoding/json: unmarshalling null into non-nullable golang types\n",
      "Age:    1876 days\n",
      "----------------------------------------\n",
      "Number: 22752\n",
      "User:   buyology\n",
      "Title:  proposal: encoding/json: add access to the underlying data causi\n",
      "Age:    2525 days\n",
      "----------------------------------------\n",
      "Number: 43513\n",
      "User:   AlexanderYastrebov\n",
      "Title:  encoding/json: add line number to SyntaxError\n",
      "Age:    1378 days\n"
     ]
    }
   ],
   "source": [
    "// Template fixed at compile time and template.Must handle the error condition\n",
    "import (\"log\";\"os\";\"text/template\";\"time\";\"gopl.io/ch4/github\")\n",
    "const templ = `{{.TotalCount}} issues:\n",
    "{{range .Items}}----------------------------------------\n",
    "Number: {{.Number}}\n",
    "User:   {{.User.Login}}\n",
    "Title:  {{.Title | printf \"%.64s\"}}\n",
    "Age:    {{.CreatedAt | daysAgo}} days\n",
    "{{end}}`\n",
    "\n",
    "func daysAgo(t time.Time) int {\n",
    "\treturn int(time.Since(t).Hours() / 24)\n",
    "}\n",
    "\n",
    "var report = template.Must(template.New(\"issuelist\").\n",
    "\tFuncs(template.FuncMap{\"daysAgo\": daysAgo}).\n",
    "\tParse(templ))\n",
    "\n",
    "%args repo:golang/go is:open json decoder  \n",
    "func main() {\n",
    "\tresult, err := github.SearchIssues(os.Args[1:])\n",
    "    //result, err := SearchIssues(os.Args[1:])\n",
    "\tif err != nil {\n",
    "\t\tlog.Fatal(err)\n",
    "\t}\n",
    "    fmt.Printf(\"%v\\n\",result)\n",
    "\tif err := report.Execute(os.Stdout, result); err != nil {\n",
    "\t\tlog.Fatal(err)\n",
    "\t}\n",
    "}\n"
   ]
  },
  {
   "cell_type": "code",
   "execution_count": 69,
   "id": "11fbdd5c",
   "metadata": {
    "scrolled": false,
    "slideshow": {
     "slide_type": "subslide"
    }
   },
   "outputs": [
    {
     "name": "stdout",
     "output_type": "stream",
     "text": [
      "96 issues:\n",
      "----------------------------------------\n",
      "Number: 69449\n",
      "User:   gazerro\n",
      "Title:  encoding/json: Decoder.Token does not return an error for incomp\n",
      "Age:    31 days\n",
      "----------------------------------------\n",
      "Number: 48298\n",
      "User:   dsnet\n",
      "Title:  encoding/json: add Decoder.DisallowDuplicateFields\n",
      "Age:    1131 days\n",
      "----------------------------------------\n",
      "Number: 56733\n",
      "User:   rolandshoemaker\n",
      "Title:  encoding/json: add (*Decoder).SetLimit\n",
      "Age:    700 days\n",
      "----------------------------------------\n",
      "Number: 42571\n",
      "User:   dsnet\n",
      "Title:  encoding/json: clarify Decoder.InputOffset semantics\n",
      "Age:    1432 days\n",
      "----------------------------------------\n",
      "Number: 26946\n",
      "User:   deuill\n",
      "Title:  encoding/json: clarify what happens when unmarshaling into a non\n",
      "Age:    2255 days\n",
      "----------------------------------------\n",
      "Number: 11046\n",
      "User:   kurin\n",
      "Title:  encoding/json: Decoder internally buffers full input\n",
      "Age:    3421 days\n",
      "----------------------------------------\n",
      "Number: 67525\n",
      "User:   mateusz834\n",
      "Title:  encoding/json: don't silently ignore errors from (*Decoder).More\n",
      "Age:    147 days\n",
      "----------------------------------------\n",
      "Number: 6647\n",
      "User:   btracey\n",
      "Title:  x/tools/cmd/godoc: display type kind of each named type\n",
      "Age:    4009 days\n",
      "----------------------------------------\n",
      "Number: 36225\n",
      "User:   dsnet\n",
      "Title:  encoding/json: the Decoder.Decode API lends itself to misuse\n",
      "Age:    1761 days\n",
      "----------------------------------------\n",
      "Number: 43716\n",
      "User:   ggaaooppeenngg\n",
      "Title:  encoding/json: increment byte counter when using decoder.Token\n",
      "Age:    1368 days\n",
      "----------------------------------------\n",
      "Number: 29035\n",
      "User:   jaswdr\n",
      "Title:  proposal: encoding/json: add error var to compare  the returned \n",
      "Age:    2145 days\n",
      "----------------------------------------\n",
      "Number: 14750\n",
      "User:   cyberphone\n",
      "Title:  encoding/json: parser ignores the case of member names\n",
      "Age:    3140 days\n",
      "----------------------------------------\n",
      "Number: 61627\n",
      "User:   nabice\n",
      "Title:  x/tools/gopls: feature: CLI syntax for renaming by identifier, n\n",
      "Age:    444 days\n",
      "----------------------------------------\n",
      "Number: 65691\n",
      "User:   Merovius\n",
      "Title:  encoding/xml: Decoder does not reject xml-ProcInst preceeded by \n",
      "Age:    244 days\n",
      "----------------------------------------\n",
      "Number: 5901\n",
      "User:   rsc\n",
      "Title:  encoding/json: allow per-Encoder/per-Decoder registration of mar\n",
      "Age:    4107 days\n",
      "----------------------------------------\n",
      "Number: 64847\n",
      "User:   zephyrtronium\n",
      "Title:  encoding/json: UnmarshalJSON methods of embedded fields are igno\n",
      "Age:    297 days\n",
      "----------------------------------------\n",
      "Number: 34543\n",
      "User:   maxatome\n",
      "Title:  encoding/json: Unmarshal & json.(*Decoder).Token report differen\n",
      "Age:    1846 days\n",
      "----------------------------------------\n",
      "Number: 32779\n",
      "User:   rsc\n",
      "Title:  encoding/json: memoize strings during decode\n",
      "Age:    1938 days\n",
      "----------------------------------------\n",
      "Number: 40128\n",
      "User:   rogpeppe\n",
      "Title:  proposal: encoding/json: garbage-free reading of tokens\n",
      "Age:    1558 days\n",
      "----------------------------------------\n",
      "Number: 40982\n",
      "User:   Segflow\n",
      "Title:  encoding/json: use different error type for unknown field if the\n",
      "Age:    1514 days\n",
      "----------------------------------------\n",
      "Number: 69273\n",
      "User:   nemith\n",
      "Title:  proposal: encoding/xml: Add EmptyElement token type to support s\n",
      "Age:    40 days\n",
      "----------------------------------------\n",
      "Number: 40127\n",
      "User:   rogpeppe\n",
      "Title:  encoding/json: add Encoder.EncodeToken method\n",
      "Age:    1558 days\n",
      "----------------------------------------\n",
      "Number: 59053\n",
      "User:   joerdav\n",
      "Title:  proposal: encoding/json: add a generic Decode function\n",
      "Age:    579 days\n",
      "----------------------------------------\n",
      "Number: 16212\n",
      "User:   josharian\n",
      "Title:  encoding/json: do all reflect work before decoding\n",
      "Age:    3029 days\n",
      "----------------------------------------\n",
      "Number: 31701\n",
      "User:   lr1980\n",
      "Title:  encoding/json: second decode after error impossible\n",
      "Age:    1998 days\n",
      "----------------------------------------\n",
      "Number: 41144\n",
      "User:   alvaroaleman\n",
      "Title:  encoding/json: Unmarshaler breaks DisallowUnknownFields\n",
      "Age:    1505 days\n",
      "----------------------------------------\n",
      "Number: 56332\n",
      "User:   gansvv\n",
      "Title:  encoding/json: clearer error message for boolean like prefix in \n",
      "Age:    726 days\n",
      "----------------------------------------\n",
      "Number: 33835\n",
      "User:   Qhesz\n",
      "Title:  encoding/json: unmarshalling null into non-nullable golang types\n",
      "Age:    1876 days\n",
      "----------------------------------------\n",
      "Number: 22752\n",
      "User:   buyology\n",
      "Title:  proposal: encoding/json: add access to the underlying data causi\n",
      "Age:    2525 days\n",
      "----------------------------------------\n",
      "Number: 43513\n",
      "User:   AlexanderYastrebov\n",
      "Title:  encoding/json: add line number to SyntaxError\n",
      "Age:    1378 days\n"
     ]
    }
   ],
   "source": [
    "// not handle error, if parse error, exceptions occur\n",
    "%args repo:golang/go is:open json decoder\n",
    "func main() {\n",
    "\t//!+parse\n",
    "\treport, err := template.New(\"report\").\n",
    "\t\tFuncs(template.FuncMap{\"daysAgo\": daysAgo}).\n",
    "\t\tParse(templ)\n",
    "\tif err != nil {\n",
    "\t\tlog.Fatal(err)\n",
    "\t}\n",
    "\t//!-parse\n",
    "\tresult, err := github.SearchIssues(os.Args[1:])\n",
    "    //result, err := SearchIssues(os.Args[1:])\n",
    "\tif err != nil {\n",
    "\t\tlog.Fatal(err)\n",
    "\t}\n",
    "\tif err := report.Execute(os.Stdout, result); err != nil {\n",
    "\t\tlog.Fatal(err)\n",
    "\t}\n",
    "}\n"
   ]
  },
  {
   "cell_type": "markdown",
   "id": "af11ff81",
   "metadata": {
    "slideshow": {
     "slide_type": "subslide"
    }
   },
   "source": [
    "* html/template use the same API and expression language as text/template\n",
    "* with HTML, JavaScript, CSS, or URLs"
   ]
  },
  {
   "cell_type": "code",
   "execution_count": 70,
   "id": "dbdbd4f1",
   "metadata": {
    "code_folding": [
     2
    ],
    "slideshow": {
     "slide_type": "subslide"
    }
   },
   "outputs": [],
   "source": [
    "//gopl.io/ch4/issueshtml\n",
    "\n",
    "// Copyright © 2016 Alan A. A. Donovan & Brian W. Kernighan.\n",
    "// License: https://creativecommons.org/licenses/by-nc-sa/4.0/\n",
    "\n",
    "import (\"log\";\"os\";\"gopl.io/ch4/github\";\"html/template\")\n",
    "var issueList = template.Must(template.New(\"issuelist\").Parse(`\n",
    "<h1>{{.TotalCount}} issues</h1>\n",
    "<table border=1>\n",
    "<tr style='text-align: left'>\n",
    "  <th>#</th>\n",
    "  <th>State</th>\n",
    "  <th>User</th>\n",
    "  <th>Title</th>\n",
    "</tr>\n",
    "{{range .Items}}\n",
    "<tr>\n",
    "  <td><a href='{{.HTMLURL}}'>{{.Number}}</a></td>\n",
    "  <td>{{.State}}</td>\n",
    "  <td><a href='{{.User.HTMLURL}}'>{{.User.Login}}</a></td>\n",
    "  <td><a href='{{.HTMLURL}}'>{{.Title}}</a></td>\n",
    "</tr>\n",
    "{{end}}\n",
    "</table>\n",
    "`))"
   ]
  },
  {
   "cell_type": "code",
   "execution_count": 71,
   "id": "071bf759",
   "metadata": {
    "scrolled": false,
    "slideshow": {
     "slide_type": "fragment"
    }
   },
   "outputs": [
    {
     "name": "stdout",
     "output_type": "stream",
     "text": [
      "\n",
      "<h1>96 issues</h1>\n",
      "<table border=1>\n",
      "<tr style='text-align: left'>\n",
      "  <th>#</th>\n",
      "  <th>State</th>\n",
      "  <th>User</th>\n",
      "  <th>Title</th>\n",
      "</tr>\n",
      "\n",
      "<tr>\n",
      "  <td><a href='https://github.com/golang/go/issues/69449'>69449</a></td>\n",
      "  <td>open</td>\n",
      "  <td><a href='https://github.com/gazerro'>gazerro</a></td>\n",
      "  <td><a href='https://github.com/golang/go/issues/69449'>encoding/json: Decoder.Token does not return an error for incomplete JSON</a></td>\n",
      "</tr>\n",
      "\n",
      "<tr>\n",
      "  <td><a href='https://github.com/golang/go/issues/48298'>48298</a></td>\n",
      "  <td>open</td>\n",
      "  <td><a href='https://github.com/dsnet'>dsnet</a></td>\n",
      "  <td><a href='https://github.com/golang/go/issues/48298'>encoding/json: add Decoder.DisallowDuplicateFields</a></td>\n",
      "</tr>\n",
      "\n",
      "<tr>\n",
      "  <td><a href='https://github.com/golang/go/issues/56733'>56733</a></td>\n",
      "  <td>open</td>\n",
      "  <td><a href='https://github.com/rolandshoemaker'>rolandshoemaker</a></td>\n",
      "  <td><a href='https://github.com/golang/go/issues/56733'>encoding/json: add (*Decoder).SetLimit</a></td>\n",
      "</tr>\n",
      "\n",
      "<tr>\n",
      "  <td><a href='https://github.com/golang/go/issues/42571'>42571</a></td>\n",
      "  <td>open</td>\n",
      "  <td><a href='https://github.com/dsnet'>dsnet</a></td>\n",
      "  <td><a href='https://github.com/golang/go/issues/42571'>encoding/json: clarify Decoder.InputOffset semantics</a></td>\n",
      "</tr>\n",
      "\n",
      "<tr>\n",
      "  <td><a href='https://github.com/golang/go/issues/26946'>26946</a></td>\n",
      "  <td>open</td>\n",
      "  <td><a href='https://github.com/deuill'>deuill</a></td>\n",
      "  <td><a href='https://github.com/golang/go/issues/26946'>encoding/json: clarify what happens when unmarshaling into a non-empty interface{}</a></td>\n",
      "</tr>\n",
      "\n",
      "<tr>\n",
      "  <td><a href='https://github.com/golang/go/issues/11046'>11046</a></td>\n",
      "  <td>open</td>\n",
      "  <td><a href='https://github.com/kurin'>kurin</a></td>\n",
      "  <td><a href='https://github.com/golang/go/issues/11046'>encoding/json: Decoder internally buffers full input</a></td>\n",
      "</tr>\n",
      "\n",
      "<tr>\n",
      "  <td><a href='https://github.com/golang/go/pull/67525'>67525</a></td>\n",
      "  <td>open</td>\n",
      "  <td><a href='https://github.com/mateusz834'>mateusz834</a></td>\n",
      "  <td><a href='https://github.com/golang/go/pull/67525'>encoding/json: don&#39;t silently ignore errors from (*Decoder).More</a></td>\n",
      "</tr>\n",
      "\n",
      "<tr>\n",
      "  <td><a href='https://github.com/golang/go/issues/6647'>6647</a></td>\n",
      "  <td>open</td>\n",
      "  <td><a href='https://github.com/btracey'>btracey</a></td>\n",
      "  <td><a href='https://github.com/golang/go/issues/6647'>x/tools/cmd/godoc: display type kind of each named type</a></td>\n",
      "</tr>\n",
      "\n",
      "<tr>\n",
      "  <td><a href='https://github.com/golang/go/issues/36225'>36225</a></td>\n",
      "  <td>open</td>\n",
      "  <td><a href='https://github.com/dsnet'>dsnet</a></td>\n",
      "  <td><a href='https://github.com/golang/go/issues/36225'>encoding/json: the Decoder.Decode API lends itself to misuse</a></td>\n",
      "</tr>\n",
      "\n",
      "<tr>\n",
      "  <td><a href='https://github.com/golang/go/pull/43716'>43716</a></td>\n",
      "  <td>open</td>\n",
      "  <td><a href='https://github.com/ggaaooppeenngg'>ggaaooppeenngg</a></td>\n",
      "  <td><a href='https://github.com/golang/go/pull/43716'>encoding/json: increment byte counter when using decoder.Token</a></td>\n",
      "</tr>\n",
      "\n",
      "<tr>\n",
      "  <td><a href='https://github.com/golang/go/issues/29035'>29035</a></td>\n",
      "  <td>open</td>\n",
      "  <td><a href='https://github.com/jaswdr'>jaswdr</a></td>\n",
      "  <td><a href='https://github.com/golang/go/issues/29035'>proposal: encoding/json: add error var to compare  the returned error when using json.Decoder.DisallowUnknownFields()</a></td>\n",
      "</tr>\n",
      "\n",
      "<tr>\n",
      "  <td><a href='https://github.com/golang/go/issues/14750'>14750</a></td>\n",
      "  <td>open</td>\n",
      "  <td><a href='https://github.com/cyberphone'>cyberphone</a></td>\n",
      "  <td><a href='https://github.com/golang/go/issues/14750'>encoding/json: parser ignores the case of member names</a></td>\n",
      "</tr>\n",
      "\n",
      "<tr>\n",
      "  <td><a href='https://github.com/golang/go/issues/61627'>61627</a></td>\n",
      "  <td>open</td>\n",
      "  <td><a href='https://github.com/nabice'>nabice</a></td>\n",
      "  <td><a href='https://github.com/golang/go/issues/61627'>x/tools/gopls: feature: CLI syntax for renaming by identifier, not position (like cmd/gorename)</a></td>\n",
      "</tr>\n",
      "\n",
      "<tr>\n",
      "  <td><a href='https://github.com/golang/go/issues/65691'>65691</a></td>\n",
      "  <td>open</td>\n",
      "  <td><a href='https://github.com/Merovius'>Merovius</a></td>\n",
      "  <td><a href='https://github.com/golang/go/issues/65691'>encoding/xml: Decoder does not reject xml-ProcInst preceeded by other data</a></td>\n",
      "</tr>\n",
      "\n",
      "<tr>\n",
      "  <td><a href='https://github.com/golang/go/issues/5901'>5901</a></td>\n",
      "  <td>open</td>\n",
      "  <td><a href='https://github.com/rsc'>rsc</a></td>\n",
      "  <td><a href='https://github.com/golang/go/issues/5901'>encoding/json: allow per-Encoder/per-Decoder registration of marshal/unmarshal functions</a></td>\n",
      "</tr>\n",
      "\n",
      "<tr>\n",
      "  <td><a href='https://github.com/golang/go/issues/64847'>64847</a></td>\n",
      "  <td>open</td>\n",
      "  <td><a href='https://github.com/zephyrtronium'>zephyrtronium</a></td>\n",
      "  <td><a href='https://github.com/golang/go/issues/64847'>encoding/json: UnmarshalJSON methods of embedded fields are ignored</a></td>\n",
      "</tr>\n",
      "\n",
      "<tr>\n",
      "  <td><a href='https://github.com/golang/go/issues/34543'>34543</a></td>\n",
      "  <td>open</td>\n",
      "  <td><a href='https://github.com/maxatome'>maxatome</a></td>\n",
      "  <td><a href='https://github.com/golang/go/issues/34543'>encoding/json: Unmarshal &amp; json.(*Decoder).Token report different values for SyntaxError.Offset for the same input</a></td>\n",
      "</tr>\n",
      "\n",
      "<tr>\n",
      "  <td><a href='https://github.com/golang/go/issues/32779'>32779</a></td>\n",
      "  <td>open</td>\n",
      "  <td><a href='https://github.com/rsc'>rsc</a></td>\n",
      "  <td><a href='https://github.com/golang/go/issues/32779'>encoding/json: memoize strings during decode</a></td>\n",
      "</tr>\n",
      "\n",
      "<tr>\n",
      "  <td><a href='https://github.com/golang/go/issues/40128'>40128</a></td>\n",
      "  <td>open</td>\n",
      "  <td><a href='https://github.com/rogpeppe'>rogpeppe</a></td>\n",
      "  <td><a href='https://github.com/golang/go/issues/40128'>proposal: encoding/json: garbage-free reading of tokens</a></td>\n",
      "</tr>\n",
      "\n",
      "<tr>\n",
      "  <td><a href='https://github.com/golang/go/issues/40982'>40982</a></td>\n",
      "  <td>open</td>\n",
      "  <td><a href='https://github.com/Segflow'>Segflow</a></td>\n",
      "  <td><a href='https://github.com/golang/go/issues/40982'>encoding/json: use different error type for unknown field if they are disallowed </a></td>\n",
      "</tr>\n",
      "\n",
      "<tr>\n",
      "  <td><a href='https://github.com/golang/go/issues/69273'>69273</a></td>\n",
      "  <td>open</td>\n",
      "  <td><a href='https://github.com/nemith'>nemith</a></td>\n",
      "  <td><a href='https://github.com/golang/go/issues/69273'>proposal: encoding/xml: Add EmptyElement token type to support self-closing elements.</a></td>\n",
      "</tr>\n",
      "\n",
      "<tr>\n",
      "  <td><a href='https://github.com/golang/go/issues/40127'>40127</a></td>\n",
      "  <td>open</td>\n",
      "  <td><a href='https://github.com/rogpeppe'>rogpeppe</a></td>\n",
      "  <td><a href='https://github.com/golang/go/issues/40127'>encoding/json: add Encoder.EncodeToken method</a></td>\n",
      "</tr>\n",
      "\n",
      "<tr>\n",
      "  <td><a href='https://github.com/golang/go/issues/59053'>59053</a></td>\n",
      "  <td>open</td>\n",
      "  <td><a href='https://github.com/joerdav'>joerdav</a></td>\n",
      "  <td><a href='https://github.com/golang/go/issues/59053'>proposal: encoding/json: add a generic Decode function</a></td>\n",
      "</tr>\n",
      "\n",
      "<tr>\n",
      "  <td><a href='https://github.com/golang/go/issues/16212'>16212</a></td>\n",
      "  <td>open</td>\n",
      "  <td><a href='https://github.com/josharian'>josharian</a></td>\n",
      "  <td><a href='https://github.com/golang/go/issues/16212'>encoding/json: do all reflect work before decoding</a></td>\n",
      "</tr>\n",
      "\n",
      "<tr>\n",
      "  <td><a href='https://github.com/golang/go/issues/31701'>31701</a></td>\n",
      "  <td>open</td>\n",
      "  <td><a href='https://github.com/lr1980'>lr1980</a></td>\n",
      "  <td><a href='https://github.com/golang/go/issues/31701'>encoding/json: second decode after error impossible</a></td>\n",
      "</tr>\n",
      "\n",
      "<tr>\n",
      "  <td><a href='https://github.com/golang/go/issues/41144'>41144</a></td>\n",
      "  <td>open</td>\n",
      "  <td><a href='https://github.com/alvaroaleman'>alvaroaleman</a></td>\n",
      "  <td><a href='https://github.com/golang/go/issues/41144'>encoding/json: Unmarshaler breaks DisallowUnknownFields</a></td>\n",
      "</tr>\n",
      "\n",
      "<tr>\n",
      "  <td><a href='https://github.com/golang/go/issues/56332'>56332</a></td>\n",
      "  <td>open</td>\n",
      "  <td><a href='https://github.com/gansvv'>gansvv</a></td>\n",
      "  <td><a href='https://github.com/golang/go/issues/56332'>encoding/json: clearer error message for boolean like prefix in invalid json strings</a></td>\n",
      "</tr>\n",
      "\n",
      "<tr>\n",
      "  <td><a href='https://github.com/golang/go/issues/33835'>33835</a></td>\n",
      "  <td>open</td>\n",
      "  <td><a href='https://github.com/Qhesz'>Qhesz</a></td>\n",
      "  <td><a href='https://github.com/golang/go/issues/33835'>encoding/json: unmarshalling null into non-nullable golang types</a></td>\n",
      "</tr>\n",
      "\n",
      "<tr>\n",
      "  <td><a href='https://github.com/golang/go/issues/22752'>22752</a></td>\n",
      "  <td>open</td>\n",
      "  <td><a href='https://github.com/buyology'>buyology</a></td>\n",
      "  <td><a href='https://github.com/golang/go/issues/22752'>proposal: encoding/json: add access to the underlying data causing UnmarshalTypeError</a></td>\n",
      "</tr>\n",
      "\n",
      "<tr>\n",
      "  <td><a href='https://github.com/golang/go/issues/43513'>43513</a></td>\n",
      "  <td>open</td>\n",
      "  <td><a href='https://github.com/AlexanderYastrebov'>AlexanderYastrebov</a></td>\n",
      "  <td><a href='https://github.com/golang/go/issues/43513'>encoding/json: add line number to SyntaxError</a></td>\n",
      "</tr>\n",
      "\n",
      "</table>\n"
     ]
    }
   ],
   "source": [
    "%args repo:golang/go is:open json decoder\n",
    "\n",
    "func main() {\n",
    "\t//result, err := SearchIssues(os.Args[1:])\n",
    "    result, err := github.SearchIssues(os.Args[1:])\n",
    "\tif err != nil {\n",
    "\t\tlog.Fatal(err)\n",
    "\t}\n",
    "\tif err := issueList.Execute(os.Stdout, result); err != nil {\n",
    "\t\tlog.Fatal(err)\n",
    "\t}\n",
    "}"
   ]
  },
  {
   "cell_type": "markdown",
   "id": "27eeceb8",
   "metadata": {
    "slideshow": {
     "slide_type": "subslide"
    }
   },
   "source": [
    "* [issues.html](http://skhuang.github.io/ch4/issues.html)\n",
    "<code>\n",
    "$ go build gopl.io/ch4/issueshtml\n",
    "$ ./issueshtml repo:golang/go commenter:gopherbot json encoder >issues.html\n",
    "</code>"
   ]
  },
  {
   "cell_type": "code",
   "execution_count": 66,
   "id": "bc837f08",
   "metadata": {
    "scrolled": true,
    "slideshow": {
     "slide_type": "fragment"
    }
   },
   "outputs": [
    {
     "name": "stdout",
     "output_type": "stream",
     "text": [
      "\n",
      "<h1>3 issues</h1>\n",
      "<table border=1>\n",
      "<tr style='text-align: left'>\n",
      "  <th>#</th>\n",
      "  <th>State</th>\n",
      "  <th>User</th>\n",
      "  <th>Title</th>\n",
      "</tr>\n",
      "\n",
      "<tr>\n",
      "  <td><a href='https://github.com/golang/go/issues/3133'>3133</a></td>\n",
      "  <td>closed</td>\n",
      "  <td><a href='https://github.com/ukai'>ukai</a></td>\n",
      "  <td><a href='https://github.com/golang/go/issues/3133'>html/template: escape xmldesc as &amp;lt;?xml</a></td>\n",
      "</tr>\n",
      "\n",
      "<tr>\n",
      "  <td><a href='https://github.com/golang/go/issues/10535'>10535</a></td>\n",
      "  <td>open</td>\n",
      "  <td><a href='https://github.com/dvyukov'>dvyukov</a></td>\n",
      "  <td><a href='https://github.com/golang/go/issues/10535'>x/net/html: void element &lt;link&gt; has child nodes</a></td>\n",
      "</tr>\n",
      "\n",
      "<tr>\n",
      "  <td><a href='https://github.com/golang/go/issues/47148'>47148</a></td>\n",
      "  <td>closed</td>\n",
      "  <td><a href='https://github.com/dmitshur'>dmitshur</a></td>\n",
      "  <td><a href='https://github.com/golang/go/issues/47148'>all: Go 1.15.14 release status</a></td>\n",
      "</tr>\n",
      "\n",
      "</table>\n"
     ]
    }
   ],
   "source": [
    "//os.Args = []string{\"issuehtml\",\"repo:golang/go\",\"3133\",\"10535\"}\n",
    "%args repo:golang/go 3133 10535\n",
    "func main() {\n",
    "\t//result, err := SearchIssues(os.Args[1:])\n",
    "    result, err := github.SearchIssues(os.Args[1:])\n",
    "\tif err != nil {\n",
    "\t\tlog.Fatal(err)\n",
    "\t}\n",
    "\tif err := issueList.Execute(os.Stdout, result); err != nil {\n",
    "\t\tlog.Fatal(err)\n",
    "\t}\n",
    "}"
   ]
  },
  {
   "cell_type": "markdown",
   "id": "52646422",
   "metadata": {
    "slideshow": {
     "slide_type": "fragment"
    }
   },
   "source": [
    "[issues2.html](https://skhuang.github.io/ch4/issues2.html)\n",
    "<code>\n",
    "$ ./issueshtml repo:golang/go 3133 10535 >issues2.html\n",
    "</code>"
   ]
  },
  {
   "cell_type": "code",
   "execution_count": 166,
   "id": "ef383753",
   "metadata": {
    "slideshow": {
     "slide_type": "subslide"
    }
   },
   "outputs": [
    {
     "name": "stdout",
     "output_type": "stream",
     "text": [
      "\n",
      "<h1>3 issues</h1>\n",
      "<table>\n",
      "<tr style='text-align: left'>\n",
      "  <th>#</th>\n",
      "  <th>State</th>\n",
      "  <th>User</th>\n",
      "  <th>Title</th>\n",
      "</tr>\n",
      "\n",
      "<tr>\n",
      "  <td><a href='https://github.com/golang/go/issues/10535'>10535</a></td>\n",
      "  <td>open</td>\n",
      "  <td><a href='https://github.com/dvyukov'>dvyukov</a></td>\n",
      "  <td><a href='https://github.com/golang/go/issues/10535'>x/net/html: void element &lt;link&gt; has child nodes</a></td>\n",
      "</tr>\n",
      "\n",
      "<tr>\n",
      "  <td><a href='https://github.com/golang/go/issues/3133'>3133</a></td>\n",
      "  <td>closed</td>\n",
      "  <td><a href='https://github.com/ukai'>ukai</a></td>\n",
      "  <td><a href='https://github.com/golang/go/issues/3133'>html/template: escape xmldesc as &amp;lt;?xml</a></td>\n",
      "</tr>\n",
      "\n",
      "<tr>\n",
      "  <td><a href='https://github.com/golang/go/issues/47148'>47148</a></td>\n",
      "  <td>closed</td>\n",
      "  <td><a href='https://github.com/dmitshur'>dmitshur</a></td>\n",
      "  <td><a href='https://github.com/golang/go/issues/47148'>all: Go 1.15.14 release status</a></td>\n",
      "</tr>\n",
      "\n",
      "</table>\n"
     ]
    }
   ],
   "source": [
    "!./ch4/issueshtml/issueshtml repo:golang/go 3133 10535"
   ]
  },
  {
   "cell_type": "code",
   "execution_count": 167,
   "id": "03415266",
   "metadata": {
    "code_folding": [
     2
    ],
    "slideshow": {
     "slide_type": "subslide"
    }
   },
   "outputs": [
    {
     "name": "stdout",
     "output_type": "stream",
     "text": [
      "struct { A string; B template.HTML }\n",
      "<p>A: &lt;b&gt;Hello!&lt;/b&gt;</p><p>B: <b>Hello!</b></p>"
     ]
    }
   ],
   "source": [
    "//gopl.io/ch4/autoescape\n",
    "\n",
    "// Copyright © 2016 Alan A. A. Donovan & Brian W. Kernighan.\n",
    "// License: https://creativecommons.org/licenses/by-nc-sa/4.0/\n",
    "\n",
    "import (\"fmt\";\"html/template\";\"log\";\"os\")\n",
    "\n",
    "//!+\n",
    "func main() {\n",
    "\tconst templ = `<p>A: {{.A}}</p><p>B: {{.B}}</p>`\n",
    "\tt := template.Must(template.New(\"escape\").Parse(templ))\n",
    "\tvar data struct {\n",
    "\t\tA string        // untrusted plain text, will be escaped \n",
    "\t\tB template.HTML // trusted HTML, preseve the markup\n",
    "\t}\n",
    "    fmt.Printf(\"%T\\n\",data)\n",
    "    data.A = \"<b>Hello!</b>\"\n",
    "    data.B =\"<b>Hello!</b>\"\n",
    "    //var  b template.HTML= template.HTML(\"test\")\n",
    "\tif err := t.Execute(os.Stdout, data); err != nil {\n",
    "\t\tlog.Fatal(err)\n",
    "\t}\n",
    "}\n"
   ]
  },
  {
   "cell_type": "markdown",
   "id": "8c9fcb42",
   "metadata": {
    "slideshow": {
     "slide_type": "subslide"
    }
   },
   "source": [
    "[autoescape.html](http://skhuang.github.io/ch4/autoescape.html)"
   ]
  },
  {
   "cell_type": "markdown",
   "id": "31471bf6",
   "metadata": {
    "slideshow": {
     "slide_type": "subslide"
    }
   },
   "source": [
    "* for more information: \n",
    "<code>\n",
    "$ go doc text/template\n",
    "$ go doc html/template\n",
    "</code>"
   ]
  },
  {
   "cell_type": "code",
   "execution_count": null,
   "id": "8b3da3eb",
   "metadata": {
    "slideshow": {
     "slide_type": "subslide"
    }
   },
   "outputs": [],
   "source": [
    "!go doc text/template"
   ]
  },
  {
   "cell_type": "code",
   "execution_count": 9,
   "id": "4a89d7a0",
   "metadata": {
    "slideshow": {
     "slide_type": "subslide"
    }
   },
   "outputs": [
    {
     "name": "stdout",
     "output_type": "stream",
     "text": [
      "package template // import \"html/template\"\n",
      "\n",
      "Package template (html/template) implements data-driven templates for generating\n",
      "HTML output safe against code injection. It provides the same interface as\n",
      "text/template and should be used instead of text/template whenever the output is\n",
      "HTML.\n",
      "\n",
      "The documentation here focuses on the security features of the package. For\n",
      "information about how to program the templates themselves, see the documentation\n",
      "for text/template.\n",
      "\n",
      "# Introduction\n",
      "\n",
      "This package wraps text/template so you can share its template API to parse and\n",
      "execute HTML templates safely.\n",
      "\n",
      "    tmpl, err := template.New(\"name\").Parse(...)\n",
      "    // Error checking elided\n",
      "    err = tmpl.Execute(out, data)\n",
      "\n",
      "If successful, tmpl will now be injection-safe. Otherwise, err is an error\n",
      "defined in the docs for ErrorCode.\n",
      "\n",
      "HTML templates treat data values as plain text which should be encoded so\n",
      "they can be safely embedded in an HTML document. The escaping is contextual,\n",
      "so actions can appear within JavaScript, CSS, and URI contexts.\n",
      "\n",
      "The security model used by this package assumes that template authors are\n",
      "trusted, while Execute's data parameter is not. More details are provided below.\n",
      "\n",
      "Example\n",
      "\n",
      "    import \"text/template\"\n",
      "    ...\n",
      "    t, err := template.New(\"foo\").Parse(`{{define \"T\"}}Hello, {{.}}!{{end}}`)\n",
      "    err = t.ExecuteTemplate(out, \"T\", \"<script>alert('you have been pwned')</script>\")\n",
      "\n",
      "produces\n",
      "\n",
      "    Hello, <script>alert('you have been pwned')</script>!\n",
      "\n",
      "but the contextual autoescaping in html/template\n",
      "\n",
      "    import \"html/template\"\n",
      "    ...\n",
      "    t, err := template.New(\"foo\").Parse(`{{define \"T\"}}Hello, {{.}}!{{end}}`)\n",
      "    err = t.ExecuteTemplate(out, \"T\", \"<script>alert('you have been pwned')</script>\")\n",
      "\n",
      "produces safe, escaped HTML output\n",
      "\n",
      "    Hello, &lt;script&gt;alert(&#39;you have been pwned&#39;)&lt;/script&gt;!\n",
      "\n",
      "# Contexts\n",
      "\n",
      "This package understands HTML, CSS, JavaScript, and URIs. It adds sanitizing\n",
      "functions to each simple action pipeline, so given the excerpt\n",
      "\n",
      "    <a href=\"/search?q={{.}}\">{{.}}</a>\n",
      "\n",
      "At parse time each {{.}} is overwritten to add escaping functions as necessary.\n",
      "In this case it becomes\n",
      "\n",
      "    <a href=\"/search?q={{. | urlescaper | attrescaper}}\">{{. | htmlescaper}}</a>\n",
      "\n",
      "where urlescaper, attrescaper, and htmlescaper are aliases for internal escaping\n",
      "functions.\n",
      "\n",
      "For these internal escaping functions, if an action pipeline evaluates to a nil\n",
      "interface value, it is treated as though it were an empty string.\n",
      "\n",
      "# Namespaced and data- attributes\n",
      "\n",
      "Attributes with a namespace are treated as if they had no namespace. Given the\n",
      "excerpt\n",
      "\n",
      "    <a my:href=\"{{.}}\"></a>\n",
      "\n",
      "At parse time the attribute will be treated as if it were just \"href\". So at\n",
      "parse time the template becomes:\n",
      "\n",
      "    <a my:href=\"{{. | urlescaper | attrescaper}}\"></a>\n",
      "\n",
      "Similarly to attributes with namespaces, attributes with a \"data-\" prefix are\n",
      "treated as if they had no \"data-\" prefix. So given\n",
      "\n",
      "    <a data-href=\"{{.}}\"></a>\n",
      "\n",
      "At parse time this becomes\n",
      "\n",
      "    <a data-href=\"{{. | urlescaper | attrescaper}}\"></a>\n",
      "\n",
      "If an attribute has both a namespace and a \"data-\" prefix, only the namespace\n",
      "will be removed when determining the context. For example\n",
      "\n",
      "    <a my:data-href=\"{{.}}\"></a>\n",
      "\n",
      "This is handled as if \"my:data-href\" was just \"data-href\" and not \"href\" as it\n",
      "would be if the \"data-\" prefix were to be ignored too. Thus at parse time this\n",
      "becomes just\n",
      "\n",
      "    <a my:data-href=\"{{. | attrescaper}}\"></a>\n",
      "\n",
      "As a special case, attributes with the namespace \"xmlns\" are always treated as\n",
      "containing URLs. Given the excerpts\n",
      "\n",
      "    <a xmlns:title=\"{{.}}\"></a>\n",
      "    <a xmlns:href=\"{{.}}\"></a>\n",
      "    <a xmlns:onclick=\"{{.}}\"></a>\n",
      "\n",
      "At parse time they become:\n",
      "\n",
      "    <a xmlns:title=\"{{. | urlescaper | attrescaper}}\"></a>\n",
      "    <a xmlns:href=\"{{. | urlescaper | attrescaper}}\"></a>\n",
      "    <a xmlns:onclick=\"{{. | urlescaper | attrescaper}}\"></a>\n",
      "\n",
      "# Errors\n",
      "\n",
      "See the documentation of ErrorCode for details.\n",
      "\n",
      "# A fuller picture\n",
      "\n",
      "The rest of this package comment may be skipped on first reading; it includes\n",
      "details necessary to understand escaping contexts and error messages. Most users\n",
      "will not need to understand these details.\n",
      "\n",
      "# Contexts\n",
      "\n",
      "Assuming {{.}} is `O'Reilly: How are <i>you</i>?`, the table below shows how\n",
      "{{.}} appears when used in the context to the left.\n",
      "\n",
      "    Context                          {{.}} After\n",
      "    {{.}}                            O'Reilly: How are &lt;i&gt;you&lt;/i&gt;?\n",
      "    <a title='{{.}}'>                O&#39;Reilly: How are you?\n",
      "    <a href=\"/{{.}}\">                O&#39;Reilly: How are %3ci%3eyou%3c/i%3e?\n",
      "    <a href=\"?q={{.}}\">              O&#39;Reilly%3a%20How%20are%3ci%3e...%3f\n",
      "    <a onx='f(\"{{.}}\")'>             O\\x27Reilly: How are \\x3ci\\x3eyou...?\n",
      "    <a onx='f({{.}})'>               \"O\\x27Reilly: How are \\x3ci\\x3eyou...?\"\n",
      "    <a onx='pattern = /{{.}}/;'>     O\\x27Reilly: How are \\x3ci\\x3eyou...\\x3f\n",
      "\n",
      "If used in an unsafe context, then the value might be filtered out:\n",
      "\n",
      "    Context                          {{.}} After\n",
      "    <a href=\"{{.}}\">                 #ZgotmplZ\n",
      "\n",
      "since \"O'Reilly:\" is not an allowed protocol like \"http:\".\n",
      "\n",
      "If {{.}} is the innocuous word, `left`, then it can appear more widely,\n",
      "\n",
      "    Context                              {{.}} After\n",
      "    {{.}}                                left\n",
      "    <a title='{{.}}'>                    left\n",
      "    <a href='{{.}}'>                     left\n",
      "    <a href='/{{.}}'>                    left\n",
      "    <a href='?dir={{.}}'>                left\n",
      "    <a style=\"border-{{.}}: 4px\">        left\n",
      "    <a style=\"align: {{.}}\">             left\n",
      "    <a style=\"background: '{{.}}'>       left\n",
      "    <a style=\"background: url('{{.}}')>  left\n",
      "    <style>p.{{.}} {color:red}</style>   left\n",
      "\n",
      "Non-string values can be used in JavaScript contexts. If {{.}} is\n",
      "\n",
      "    struct{A,B string}{ \"foo\", \"bar\" }\n",
      "\n",
      "in the escaped template\n",
      "\n",
      "    <script>var pair = {{.}};</script>\n",
      "\n",
      "then the template output is\n",
      "\n",
      "    <script>var pair = {\"A\": \"foo\", \"B\": \"bar\"};</script>\n",
      "\n",
      "See package json to understand how non-string content is marshaled for embedding\n",
      "in JavaScript contexts.\n",
      "\n",
      "# Typed Strings\n",
      "\n",
      "By default, this package assumes that all pipelines produce a plain text string.\n",
      "It adds escaping pipeline stages necessary to correctly and safely embed that\n",
      "plain text string in the appropriate context.\n",
      "\n",
      "When a data value is not plain text, you can make sure it is not over-escaped by\n",
      "marking it with its type.\n",
      "\n",
      "Types HTML, JS, URL, and others from content.go can carry safe content that is\n",
      "exempted from escaping.\n",
      "\n",
      "The template\n",
      "\n",
      "    Hello, {{.}}!\n",
      "\n",
      "can be invoked with\n",
      "\n",
      "    tmpl.Execute(out, template.HTML(`<b>World</b>`))\n",
      "\n",
      "to produce\n",
      "\n",
      "    Hello, <b>World</b>!\n",
      "\n",
      "instead of the\n",
      "\n",
      "    Hello, &lt;b&gt;World&lt;b&gt;!\n",
      "\n",
      "that would have been produced if {{.}} was a regular string.\n",
      "\n",
      "# Security Model\n",
      "\n",
      "https://rawgit.com/mikesamuel/sanitized-jquery-templates/trunk/safetemplate.html#problem_definition\n",
      "defines \"safe\" as used by this package.\n",
      "\n",
      "This package assumes that template authors are trusted, that Execute's data\n",
      "parameter is not, and seeks to preserve the properties below in the face of\n",
      "untrusted data:\n",
      "\n",
      "Structure Preservation Property: \"... when a template author writes an HTML tag\n",
      "in a safe templating language, the browser will interpret the corresponding\n",
      "portion of the output as a tag regardless of the values of untrusted data,\n",
      "and similarly for other structures such as attribute boundaries and JS and CSS\n",
      "string boundaries.\"\n",
      "\n",
      "Code Effect Property: \"... only code specified by the template author should run\n",
      "as a result of injecting the template output into a page and all code specified\n",
      "by the template author should run as a result of the same.\"\n",
      "\n",
      "Least Surprise Property: \"A developer (or code reviewer) familiar with HTML,\n",
      "CSS, and JavaScript, who knows that contextual autoescaping happens should be\n",
      "able to look at a {{.}} and correctly infer what sanitization happens.\"\n",
      "\n",
      "Previously, ECMAScript 6 template literal were disabled by default,\n",
      "and could be enabled with the GODEBUG=jstmpllitinterp=1 environment variable.\n",
      "Template literals are now supported by default, and setting jstmpllitinterp has\n",
      "no effect.\n",
      "\n",
      "func HTMLEscape(w io.Writer, b []byte)\n",
      "func HTMLEscapeString(s string) string\n",
      "func HTMLEscaper(args ...any) string\n",
      "func IsTrue(val any) (truth, ok bool)\n",
      "func JSEscape(w io.Writer, b []byte)\n",
      "func JSEscapeString(s string) string\n",
      "func JSEscaper(args ...any) string\n",
      "func URLQueryEscaper(args ...any) string\n",
      "type CSS string\n",
      "type Error struct{ ... }\n",
      "type ErrorCode int\n",
      "    const OK ErrorCode = iota ...\n",
      "type FuncMap = template.FuncMap\n",
      "type HTML string\n",
      "type HTMLAttr string\n",
      "type JS string\n",
      "type JSStr string\n",
      "type Srcset string\n",
      "type Template struct{ ... }\n",
      "    func Must(t *Template, err error) *Template\n",
      "    func New(name string) *Template\n",
      "    func ParseFS(fs fs.FS, patterns ...string) (*Template, error)\n",
      "    func ParseFiles(filenames ...string) (*Template, error)\n",
      "    func ParseGlob(pattern string) (*Template, error)\n",
      "type URL string\n"
     ]
    }
   ],
   "source": [
    "!go doc html/template"
   ]
  },
  {
   "cell_type": "code",
   "execution_count": null,
   "id": "a5ffeb72",
   "metadata": {},
   "outputs": [],
   "source": []
  }
 ],
 "metadata": {
  "celltoolbar": "Slideshow",
  "kernelspec": {
   "display_name": "Go (gonb)",
   "language": "go",
   "name": "gonb"
  },
  "language_info": {
   "codemirror_mode": "",
   "file_extension": ".go",
   "mimetype": "",
   "name": "go",
   "nbconvert_exporter": "",
   "pygments_lexer": "",
   "version": "go1.21.1"
  },
  "rise": {
   "enable_chalkboard": true,
   "scroll": true,
   "theme": "sky"
  },
  "toc": {
   "base_numbering": 1,
   "nav_menu": {},
   "number_sections": false,
   "sideBar": true,
   "skip_h1_title": false,
   "title_cell": "Table of Contents",
   "title_sidebar": "Contents",
   "toc_cell": true,
   "toc_position": {},
   "toc_section_display": true,
   "toc_window_display": false
  }
 },
 "nbformat": 4,
 "nbformat_minor": 5
}
