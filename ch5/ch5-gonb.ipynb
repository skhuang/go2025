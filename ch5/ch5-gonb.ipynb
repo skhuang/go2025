{
 "cells": [
  {
   "cell_type": "markdown",
   "metadata": {
    "slideshow": {
     "slide_type": "skip"
    },
    "toc": true
   },
   "source": [
    "<h1>Table of Contents<span class=\"tocSkip\"></span></h1>\n",
    "<div class=\"toc\"><ul class=\"toc-item\"><li><span><a href=\"#Functions\" data-toc-modified-id=\"Functions-5\"><span class=\"toc-item-num\">5&nbsp;&nbsp;</span>Functions</a></span><ul class=\"toc-item\"><li><span><a href=\"#Function-Declarations\" data-toc-modified-id=\"Function-Declarations-5.1\"><span class=\"toc-item-num\">5.1&nbsp;&nbsp;</span>Function Declarations</a></span></li><li><span><a href=\"#Recursion\" data-toc-modified-id=\"Recursion-5.2\"><span class=\"toc-item-num\">5.2&nbsp;&nbsp;</span>Recursion</a></span></li><li><span><a href=\"#Mutiple-Return-Values\" data-toc-modified-id=\"Mutiple-Return-Values-5.3\"><span class=\"toc-item-num\">5.3&nbsp;&nbsp;</span>Mutiple Return Values</a></span></li><li><span><a href=\"#Errors\" data-toc-modified-id=\"Errors-5.4\"><span class=\"toc-item-num\">5.4&nbsp;&nbsp;</span>Errors</a></span><ul class=\"toc-item\"><li><span><a href=\"#Error-Handling-Strategies\" data-toc-modified-id=\"Error-Handling-Strategies-5.4.1\"><span class=\"toc-item-num\">5.4.1&nbsp;&nbsp;</span>Error-Handling Strategies</a></span></li></ul></li><li><span><a href=\"#Function-Values\" data-toc-modified-id=\"Function-Values-5.5\"><span class=\"toc-item-num\">5.5&nbsp;&nbsp;</span>Function Values</a></span><ul class=\"toc-item\"><li><span><a href=\"#zero-value-of-a-function-type-is-nil\" data-toc-modified-id=\"zero-value-of-a-function-type-is-nil-5.5.1\"><span class=\"toc-item-num\">5.5.1&nbsp;&nbsp;</span>zero value of a function type is nil</a></span></li></ul></li><li><span><a href=\"#Anonymous-Functions\" data-toc-modified-id=\"Anonymous-Functions-5.6\"><span class=\"toc-item-num\">5.6&nbsp;&nbsp;</span>Anonymous Functions</a></span><ul class=\"toc-item\"><li><span><a href=\"#Caveat:-Capturing-Iteration-Variables\" data-toc-modified-id=\"Caveat:-Capturing-Iteration-Variables-5.6.1\"><span class=\"toc-item-num\">5.6.1&nbsp;&nbsp;</span>Caveat: Capturing Iteration Variables</a></span></li></ul></li><li><span><a href=\"#Variadic-Functions\" data-toc-modified-id=\"Variadic-Functions-5.7\"><span class=\"toc-item-num\">5.7&nbsp;&nbsp;</span>Variadic Functions</a></span></li><li><span><a href=\"#Deferred-Function-Calls\" data-toc-modified-id=\"Deferred-Function-Calls-5.8\"><span class=\"toc-item-num\">5.8&nbsp;&nbsp;</span>Deferred Function Calls</a></span></li><li><span><a href=\"#Panic\" data-toc-modified-id=\"Panic-5.9\"><span class=\"toc-item-num\">5.9&nbsp;&nbsp;</span>Panic</a></span></li><li><span><a href=\"#Recover\" data-toc-modified-id=\"Recover-5.10\"><span class=\"toc-item-num\">5.10&nbsp;&nbsp;</span>Recover</a></span></li></ul></li></ul></div>"
   ]
  },
  {
   "cell_type": "markdown",
   "metadata": {
    "slideshow": {
     "slide_type": "slide"
    }
   },
   "source": [
    "# Functions\n",
    "* Function Declarations\n",
    "* Recursion\n",
    "* Multiple Return Values\n",
    "* Errors\n",
    "* Function Values\n",
    "* Anonymous Functions\n",
    "* Variadic Functions\n",
    "* Deferred Function Calls\n",
    "* Panic\n",
    "* Recover"
   ]
  },
  {
   "cell_type": "markdown",
   "metadata": {
    "slideshow": {
     "slide_type": "slide"
    }
   },
   "source": [
    "## Function Declarations\n",
    "* A function declaration has a name, a list of parameters, and optional list of results, and a body\n",
    "<code>\n",
    "    func name(parameter-list) (result-list) {\n",
    "       body\n",
    "    }\n",
    "</code>\n",
    "* parameter-list: names and types of the function's parameters\n",
    "* result-list: types of the values that the function returns\n",
    "  * If returns one unnamed result or no results at all, parentheses are optional and usually omitted"
   ]
  },
  {
   "cell_type": "code",
   "execution_count": 8,
   "metadata": {
    "code_folding": [],
    "slideshow": {
     "slide_type": "subslide"
    }
   },
   "outputs": [
    {
     "name": "stdout",
     "output_type": "stream",
     "text": [
      "10\n"
     ]
    }
   ],
   "source": [
    "//calculate the length of the hypotenuse of a right-angle triangle\n",
    "import (\"math\";\"fmt\")\n",
    "func hypot(x,y float64) float64 {\n",
    "    return math.Sqrt(x*x+y*y)\n",
    "}\n",
    "%%\n",
    "fmt.Println(hypot(6,8))"
   ]
  },
  {
   "cell_type": "markdown",
   "metadata": {
    "slideshow": {
     "slide_type": "subslide"
    }
   },
   "source": [
    "* Four ways to declare a function with two parameters and one result\n",
    "* Blank identifier can be used to emphasize a parameter is used"
   ]
  },
  {
   "cell_type": "code",
   "execution_count": 10,
   "metadata": {
    "code_folding": [],
    "slideshow": {
     "slide_type": "fragment"
    }
   },
   "outputs": [
    {
     "name": "stdout",
     "output_type": "stream",
     "text": [
      "(func(int, int) int)(0x100f5a2d0),7\n",
      "func(int, int) int,-1\n",
      "func(int, int) int,3\n",
      "func(int, int) int,0\n"
     ]
    }
   ],
   "source": [
    "//function declarations\n",
    "import \"fmt\"\n",
    "func add(x int, y int) int {return x+y}\n",
    "func sub(x,y int) (z int) {z = x - y; return}\n",
    "func first(x int, _ int) int {return x}\n",
    "func zero(int, int) int {return 0}\n",
    "%%\n",
    "fmt.Printf(\"%#v,%d\\n\", add,add(3,4))\n",
    "fmt.Printf(\"%T,%d\\n\", sub,sub(3,4))\n",
    "fmt.Printf(\"%T,%d\\n\",first,first(3,4))\n",
    "fmt.Printf(\"%T,%d\\n\",zero,zero(3,4))"
   ]
  },
  {
   "cell_type": "markdown",
   "metadata": {
    "slideshow": {
     "slide_type": "slide"
    }
   },
   "source": [
    "## Recursion "
   ]
  },
  {
   "cell_type": "markdown",
   "metadata": {
    "slideshow": {
     "slide_type": "fragment"
    }
   },
   "source": [
    "* Functions may be recursive: \n",
    "  * they may call themselves, either diretly or indirectly"
   ]
  },
  {
   "cell_type": "code",
   "execution_count": 11,
   "metadata": {
    "code_folding": [],
    "slideshow": {
     "slide_type": "subslide"
    }
   },
   "outputs": [],
   "source": [
    "//golang.org/x/net/html\n",
    "//package html\n",
    "import \"io\"\n",
    "type Node struct {\n",
    "    Type                    NodeType\n",
    "    Data                    string\n",
    "    Attr                    []Attribute\n",
    "    FirstChild, NextSibling *Node\n",
    "}\n",
    "type NodeType int32\n",
    "const (\n",
    "  ErrorNode NodeType = iota\n",
    "  TextNode\n",
    "  DocumentNode\n",
    "  ElementNode\n",
    "  CommentNode\n",
    "  DoctypeNode\n",
    ")\n",
    "type Attribute struct {\n",
    "    Key, Val string\n",
    "}\n",
    "//func Parse(r io.Reader) (*Node, error)"
   ]
  },
  {
   "cell_type": "code",
   "execution_count": 12,
   "metadata": {
    "code_folding": [
     4,
     29
    ],
    "slideshow": {
     "slide_type": "subslide"
    }
   },
   "outputs": [
    {
     "name": "stdout",
     "output_type": "stream",
     "text": [
      "/\n",
      "#main-content\n",
      "#\n",
      "/solutions/case-studies\n",
      "/solutions/use-cases\n",
      "/security/\n",
      "/learn/\n",
      "#\n",
      "/doc/effective_go\n",
      "/doc\n",
      "https://pkg.go.dev/std\n",
      "/doc/devel/release\n",
      "https://pkg.go.dev\n",
      "#\n",
      "/talks/\n",
      "https://www.meetup.com/pro/go\n",
      "https://github.com/golang/go/wiki/Conferences\n",
      "/blog\n",
      "/help\n",
      "https://groups.google.com/g/golang-nuts\n",
      "https://github.com/golang\n",
      "https://twitter.com/golang\n",
      "https://www.reddit.com/r/golang/\n",
      "https://invite.slack.golangbridge.org/\n",
      "https://stackoverflow.com/tags/go\n",
      "/\n",
      "#\n",
      "#\n",
      "/solutions/case-studies\n",
      "/solutions/use-cases\n",
      "/security/\n",
      "/learn/\n",
      "#\n",
      "#\n",
      "/doc/effective_go\n",
      "/doc\n",
      "https://pkg.go.dev/std\n",
      "/doc/devel/release\n",
      "https://pkg.go.dev\n",
      "#\n",
      "#\n",
      "/talks/\n",
      "https://www.meetup.com/pro/go\n",
      "https://github.com/golang/go/wiki/Conferences\n",
      "/blog\n",
      "/help\n",
      "https://groups.google.com/g/golang-nuts\n",
      "https://github.com/golang\n",
      "https://twitter.com/golang\n",
      "https://www.reddit.com/r/golang/\n",
      "https://invite.slack.golangbridge.org/\n",
      "https://stackoverflow.com/tags/go\n",
      "/learn/\n",
      "/dl\n",
      "/dl/\n",
      "/dl\n",
      "/solutions/\n",
      "/solutions/google/\n",
      "/solutions/paypal\n",
      "/solutions/americanexpress\n",
      "/solutions/mercadolibre\n",
      "https://bitly.com/blog/why-we-write-everything-in-go/?utm_source=go-dev&utm_medium=referral&utm_campaign=go-dev&utm_content=case-study\n",
      "https://medium.com/capital-one-tech/a-serverless-and-go-journey-credit-offers-api-74ef1f9fde7f\n",
      "https://www.cockroachlabs.com/blog/why-go-was-the-right-choice-for-cockroachdb/\n",
      "https://blogs.dropbox.com/tech/2014/07/open-sourcing-our-go-libraries/\n",
      "https://blog.cloudflare.com/graceful-upgrades-in-go/\n",
      "https://entgo.io/blog/2019/10/03/introducing-ent/\n",
      "https://cloudblogs.microsoft.com/opensource/2018/02/21/go-lang-brian-ketelsen-explains-fast-growth/\n",
      "https://medium.com/tech-at-wildlife-studios/pitaya-wildlifes-golang-go-af57865f7a11\n",
      "https://medium.com/netflix-techblog/application-data-caching-using-ssds-5bf25df851ef\n",
      "https://technology.riotgames.com/news/leveraging-golang-game-development-and-operations\n",
      "https://www.zdnet.com/article/salesforce-why-we-ditched-python-for-googles-go-language-in-einstein-analytics/\n",
      "https://blog.twitch.tv/en/2016/07/05/gos-march-to-low-latency-gc-a6fa96f06eb7/\n",
      "https://blog.twitter.com/engineering/en_us/a/2015/handling-five-billion-sessions-a-day-in-real-time.html\n",
      "https://eng.uber.com/aresdb/\n",
      "/tour/\n",
      "https://cloud.google.com/go/home\n",
      "https://aws.amazon.com/sdk-for-go/\n",
      "https://github.com/Azure/azure-sdk-for-go\n",
      "/solutions/cloud/\n",
      "https://github.com/spf13/cobra\n",
      "https://github.com/spf13/viper\n",
      "https://github.com/urfave/cli\n",
      "https://github.com/go-delve/delve\n",
      "https://github.com/chzyer/readline\n",
      "/solutions/clis/\n",
      "/pkg/net/http/\n",
      "/pkg/html/template/\n",
      "https://github.com/flosch/pongo2\n",
      "/pkg/database/sql/\n",
      "https://github.com/elastic/go-elasticsearch\n",
      "/solutions/webdev/\n",
      "https://github.com/open-telemetry/opentelemetry-go\n",
      "https://github.com/istio/istio\n",
      "https://github.com/urfave/cli\n",
      "/solutions/devops/\n",
      "/solutions/use-cases\n",
      "/learn/\n",
      "/doc/install/\n",
      "/learn#guided-learning-journeys\n",
      "/learn#online-learning\n",
      "/learn#featured-books\n",
      "/learn#self-paced-labs\n",
      "https://www.ardanlabs.com/\n",
      "https://www.gopherguides.com/\n",
      "https://bosssauce.it/services/training\n",
      "https://github.com/shijuvar/gokit/tree/master/training\n",
      "/solutions/\n",
      "/solutions/use-cases\n",
      "/solutions/case-studies\n",
      "/learn/\n",
      "/play\n",
      "/tour/\n",
      "https://stackoverflow.com/questions/tagged/go?tab=Newest\n",
      "/help/\n",
      "https://pkg.go.dev\n",
      "/pkg/\n",
      "https://pkg.go.dev/about\n",
      "/project\n",
      "/dl/\n",
      "/blog/\n",
      "https://github.com/golang/go/issues\n",
      "/doc/devel/release\n",
      "/brand\n",
      "/conduct\n",
      "https://www.twitter.com/golang\n",
      "https://www.twitter.com/golang\n",
      "https://github.com/golang\n",
      "https://invite.slack.golangbridge.org/\n",
      "https://reddit.com/r/golang\n",
      "https://www.meetup.com/pro/go\n",
      "https://golangweekly.com/\n",
      "/copyright\n",
      "/tos\n",
      "http://www.google.com/intl/en/policies/privacy/\n",
      "/s/website-issue\n",
      "https://google.com\n",
      "https://policies.google.com/technologies/cookies\n"
     ]
    }
   ],
   "source": [
    "//findlinks1\n",
    "//import (\"fmt\";\"os\";\"x/net/html\")\n",
    "import (\"fmt\";\"os\";\"golang.org/x/net/html\")\n",
    "\n",
    "func main(){\n",
    "    file, e := os.Open(\"fetch.html\")\n",
    "    if e != nil {\n",
    "        fmt.Fprintf(os.Stderr, \"open failed: %v\\n\", e)\n",
    "        os.Exit(1)\n",
    "    }\n",
    "    //doc, err := html.Parse(os.Stdin)\n",
    "    doc, err := html.Parse(file)\n",
    "    if err != nil {\n",
    "        fmt.Fprintf(os.Stderr,\"findlinks1: %v\\n\", err)\n",
    "        os.Exit(1)\n",
    "    }\n",
    "    for _, link := range visit(nil, doc) {\n",
    "        fmt.Println(link)\n",
    "    }\n",
    "}\n",
    "\n",
    "func visit(links []string, n *html.Node) []string {\n",
    "    if n.Type == html.ElementNode && n.Data == \"a\" {\n",
    "        for _, a := range n.Attr {\n",
    "            if a.Key == \"href\" {\n",
    "                links = append(links, a.Val)\n",
    "            }\n",
    "        }\n",
    "    }\n",
    "    for c := n.FirstChild; c != nil; c = c.NextSibling {\n",
    "        links = visit(links, c)\n",
    "    }\n",
    "    return links\n",
    "}\n",
    "//main()"
   ]
  },
  {
   "cell_type": "code",
   "execution_count": 13,
   "metadata": {},
   "outputs": [
    {
     "name": "stdout",
     "output_type": "stream",
     "text": [
      "/\n",
      "#main-content\n",
      "#\n",
      "/solutions/case-studies\n",
      "/solutions/use-cases\n",
      "/security/\n",
      "/learn/\n",
      "#\n",
      "/doc/effective_go\n",
      "/doc\n",
      "https://pkg.go.dev/std\n",
      "/doc/devel/release\n",
      "https://pkg.go.dev\n",
      "#\n",
      "/talks/\n",
      "https://www.meetup.com/pro/go\n",
      "/wiki/Conferences\n",
      "/blog\n",
      "/help\n",
      "https://groups.google.com/g/golang-nuts\n",
      "https://github.com/golang\n",
      "https://twitter.com/golang\n",
      "https://www.reddit.com/r/golang/\n",
      "https://invite.slack.golangbridge.org/\n",
      "https://stackoverflow.com/tags/go\n",
      "/\n",
      "#\n",
      "#\n",
      "/solutions/case-studies\n",
      "/solutions/use-cases\n",
      "/security/\n",
      "/learn/\n",
      "#\n",
      "#\n",
      "/doc/effective_go\n",
      "/doc\n",
      "https://pkg.go.dev/std\n",
      "/doc/devel/release\n",
      "https://pkg.go.dev\n",
      "#\n",
      "#\n",
      "/talks/\n",
      "https://www.meetup.com/pro/go\n",
      "/wiki/Conferences\n",
      "/blog\n",
      "/help\n",
      "https://groups.google.com/g/golang-nuts\n",
      "https://github.com/golang\n",
      "https://twitter.com/golang\n",
      "https://www.reddit.com/r/golang/\n",
      "https://invite.slack.golangbridge.org/\n",
      "https://stackoverflow.com/tags/go\n",
      "/learn/\n",
      "/dl\n",
      "/dl/\n",
      "/dl\n",
      "/solutions/\n",
      "/solutions/google/\n",
      "/solutions/paypal\n",
      "/solutions/americanexpress\n",
      "/solutions/mercadolibre\n",
      "https://bitly.com/blog/why-we-write-everything-in-go/?utm_source=go-dev&utm_medium=referral&utm_campaign=go-dev&utm_content=case-study\n",
      "https://medium.com/capital-one-tech/a-serverless-and-go-journey-credit-offers-api-74ef1f9fde7f\n",
      "https://www.cockroachlabs.com/blog/why-go-was-the-right-choice-for-cockroachdb/\n",
      "https://blogs.dropbox.com/tech/2014/07/open-sourcing-our-go-libraries/\n",
      "https://blog.cloudflare.com/graceful-upgrades-in-go/\n",
      "https://entgo.io/blog/2019/10/03/introducing-ent/\n",
      "https://cloudblogs.microsoft.com/opensource/2018/02/21/go-lang-brian-ketelsen-explains-fast-growth/\n",
      "https://medium.com/tech-at-wildlife-studios/pitaya-wildlifes-golang-go-af57865f7a11\n",
      "https://www.cloudwego.io/\n",
      "https://medium.com/netflix-techblog/application-data-caching-using-ssds-5bf25df851ef\n",
      "https://technology.riotgames.com/news/leveraging-golang-game-development-and-operations\n",
      "https://www.zdnet.com/article/salesforce-why-we-ditched-python-for-googles-go-language-in-einstein-analytics/\n",
      "https://blog.twitch.tv/en/2016/07/05/gos-march-to-low-latency-gc-a6fa96f06eb7/\n",
      "https://blog.twitter.com/engineering/en_us/a/2015/handling-five-billion-sessions-a-day-in-real-time.html\n",
      "https://eng.uber.com/aresdb/\n",
      "/tour/\n",
      "https://cloud.google.com/go/home\n",
      "https://aws.amazon.com/sdk-for-go/\n",
      "https://github.com/Azure/azure-sdk-for-go\n",
      "/solutions/cloud/\n",
      "https://github.com/spf13/cobra\n",
      "https://github.com/spf13/viper\n",
      "https://github.com/urfave/cli\n",
      "https://github.com/go-delve/delve\n",
      "https://github.com/chzyer/readline\n",
      "/solutions/clis/\n",
      "/pkg/net/http/\n",
      "/pkg/html/template/\n",
      "https://github.com/flosch/pongo2\n",
      "/pkg/database/sql/\n",
      "https://github.com/elastic/go-elasticsearch\n",
      "/solutions/webdev/\n",
      "https://github.com/open-telemetry/opentelemetry-go\n",
      "https://github.com/istio/istio\n",
      "https://github.com/urfave/cli\n",
      "/solutions/devops/\n",
      "/solutions/use-cases\n",
      "/learn/\n",
      "/doc/install/\n",
      "/learn#guided-learning-journeys\n",
      "/learn#online-learning\n",
      "/learn#featured-books\n",
      "/learn#self-paced-labs\n",
      "https://www.ardanlabs.com/\n",
      "https://www.gopherguides.com/\n",
      "https://bosssauce.it/services/training\n",
      "https://github.com/shijuvar/gokit/tree/master/training\n",
      "/solutions/\n",
      "/solutions/use-cases\n",
      "/solutions/case-studies\n",
      "/learn/\n",
      "/play\n",
      "/tour/\n",
      "https://stackoverflow.com/questions/tagged/go?tab=Newest\n",
      "/help/\n",
      "https://pkg.go.dev\n",
      "/pkg/\n",
      "https://pkg.go.dev/about\n",
      "/project\n",
      "/dl/\n",
      "/blog/\n",
      "https://github.com/golang/go/issues\n",
      "/doc/devel/release\n",
      "/brand\n",
      "/conduct\n",
      "https://www.twitter.com/golang\n",
      "https://www.twitter.com/golang\n",
      "https://github.com/golang\n",
      "https://invite.slack.golangbridge.org/\n",
      "https://reddit.com/r/golang\n",
      "https://www.meetup.com/pro/go\n",
      "https://golangweekly.com/\n",
      "/copyright\n",
      "/tos\n",
      "http://www.google.com/intl/en/policies/privacy/\n",
      "/s/website-issue\n",
      "https://google.com\n",
      "https://policies.google.com/technologies/cookies\n"
     ]
    }
   ],
   "source": [
    "!fetch https://golang.org | ch5/findlinks1/findlinks1"
   ]
  },
  {
   "cell_type": "markdown",
   "metadata": {
    "slideshow": {
     "slide_type": "subslide"
    }
   },
   "source": [
    "<code>\n",
    "    go build gopl.io/ch1/fetch\n",
    "    go build gopl.io/ch5/findlinks1\n",
    "    fetch https://golang.org | ./findlinks1\n",
    "</code>\n",
    "\n",
    " [golang-org.html](https://skhuang.github.io/ch5/golang-org.html)"
   ]
  },
  {
   "cell_type": "code",
   "execution_count": 32,
   "metadata": {
    "code_folding": [
     8
    ],
    "slideshow": {
     "slide_type": "subslide"
    }
   },
   "outputs": [
    {
     "name": "stdout",
     "output_type": "stream",
     "text": [
      "/\n",
      "/doc/\n",
      "/pkg/\n",
      "/project/\n",
      "/help/\n",
      "/blog/\n",
      "https://play.golang.org/\n",
      "/dl/\n",
      "https://tour.golang.org/\n",
      "https://blog.golang.org/\n",
      "/doc/copyright.html\n",
      "/doc/tos.html\n",
      "http://www.google.com/intl/en/policies/privacy/\n",
      "http://golang.org/issues/new?title=x/website:\n",
      "https://google.com\n"
     ]
    }
   ],
   "source": [
    "//golang.org/ch5/\n",
    "import (\n",
    "\t\"fmt\"\n",
    "\t\"os\"\n",
    "\n",
    "\t\"golang.org/x/net/html\"\n",
    ")\n",
    "\n",
    "func main() {\n",
    "    file, e := os.Open(\"golang-org.html\")\n",
    "    if e != nil {\n",
    "        fmt.Fprintf(os.Stderr,\"open failed: %v\\n\")\n",
    "    }\n",
    "\t//doc, err := html.Parse(os.Stdin)\n",
    "    doc, err := html.Parse(file)\n",
    "\tif err != nil {\n",
    "\t\tfmt.Fprintf(os.Stderr, \"findlinks1: %v\\n\", err)\n",
    "\t\tos.Exit(1)\n",
    "\t}\n",
    "\tfor _, link := range visit(nil, doc) {\n",
    "\t\tfmt.Println(link)\n",
    "\t}\n",
    "}\n",
    "\n",
    "//!-main\n",
    "\n",
    "//!+visit\n",
    "// visit appends to links each link found in n and returns the result.\n",
    "func visit(links []string, n *html.Node) []string {\n",
    "\tif n.Type == html.ElementNode && n.Data == \"a\" {\n",
    "\t\tfor _, a := range n.Attr {\n",
    "\t\t\tif a.Key == \"href\" {\n",
    "\t\t\t\tlinks = append(links, a.Val)\n",
    "\t\t\t}\n",
    "\t\t}\n",
    "\t}\n",
    "\tfor c := n.FirstChild; c != nil; c = c.NextSibling {\n",
    "\t\tlinks = visit(links, c)\n",
    "\t}\n",
    "\treturn links\n",
    "}\n",
    "//main()\n",
    "//!-visit"
   ]
  },
  {
   "cell_type": "code",
   "execution_count": 14,
   "metadata": {
    "code_folding": [],
    "slideshow": {
     "slide_type": "subslide"
    }
   },
   "outputs": [
    {
     "name": "stdout",
     "output_type": "stream",
     "text": [
      "[html]\n",
      "[html head]\n",
      "[html head meta]\n",
      "[html head meta]\n",
      "[html head meta]\n",
      "[html head meta]\n",
      "[html head title]\n",
      "[html head link]\n",
      "[html head link]\n",
      "[html head link]\n",
      "[html head link]\n",
      "[html head script]\n",
      "[html head script]\n",
      "[html head script]\n",
      "[html head script]\n",
      "[html head script]\n",
      "[html head script]\n",
      "[html body]\n",
      "[html body header]\n",
      "[html body header nav]\n",
      "[html body header nav a]\n",
      "[html body header nav a img]\n",
      "[html body header nav button]\n",
      "[html body header nav button div]\n",
      "[html body header nav ul]\n",
      "[html body header nav ul li]\n",
      "[html body header nav ul li a]\n",
      "[html body header nav ul li]\n",
      "[html body header nav ul li a]\n",
      "[html body header nav ul li]\n",
      "[html body header nav ul li a]\n",
      "[html body header nav ul li]\n",
      "[html body header nav ul li a]\n",
      "[html body header nav ul li]\n",
      "[html body header nav ul li a]\n",
      "[html body header nav ul li]\n",
      "[html body header nav ul li a]\n",
      "[html body header nav ul li]\n",
      "[html body header nav ul li form]\n",
      "[html body header nav ul li form input]\n",
      "[html body header nav ul li form button]\n",
      "[html body header nav ul li form button svg]\n",
      "[html body header nav ul li form button svg title]\n",
      "[html body header nav ul li form button svg path]\n",
      "[html body header nav ul li form button svg path]\n",
      "[html body main]\n",
      "[html body main div]\n",
      "[html body main div div]\n",
      "[html body main div div]\n",
      "[html body main div div section]\n",
      "[html body main div div section h1]\n",
      "[html body main div div section h1 strong]\n",
      "[html body main div div section h1 strong]\n",
      "[html body main div div section h1 strong]\n",
      "[html body main div div section i]\n",
      "[html body main div div section a]\n",
      "[html body main div div section a img]\n",
      "[html body main div div section p]\n",
      "[html body main div div section p br]\n",
      "[html body main div div section]\n",
      "[html body main div div section div]\n",
      "[html body main div div section div h2]\n",
      "[html body main div div section div a]\n",
      "[html body main div div section div]\n",
      "[html body main div div section div textarea]\n",
      "[html body main div div section div]\n",
      "[html body main div div section div pre]\n",
      "[html body main div div section div pre noscript]\n",
      "[html body main div div section div]\n",
      "[html body main div div section div select]\n",
      "[html body main div div section div select option]\n",
      "[html body main div div section div select option]\n",
      "[html body main div div section div select option]\n",
      "[html body main div div section div select option]\n",
      "[html body main div div section div select option]\n",
      "[html body main div div section div select option]\n",
      "[html body main div div section div select option]\n",
      "[html body main div div section div select option]\n",
      "[html body main div div section div div]\n",
      "[html body main div div section div div button]\n",
      "[html body main div div section div div div]\n",
      "[html body main div div section div div div button]\n",
      "[html body main div div section div div div a]\n",
      "[html body main div div section]\n",
      "[html body main div div section h2]\n",
      "[html body main div div section div]\n",
      "[html body main div div section div a]\n",
      "[html body main div div section]\n",
      "[html body main div div section h2]\n",
      "[html body main div div section div]\n",
      "[html body main div div section div iframe]\n",
      "[html body main div script]\n",
      "[html body footer]\n",
      "[html body footer div]\n",
      "[html body footer div img]\n",
      "[html body footer div ul]\n",
      "[html body footer div ul li]\n",
      "[html body footer div ul li a]\n",
      "[html body footer div ul li]\n",
      "[html body footer div ul li a]\n",
      "[html body footer div ul li]\n",
      "[html body footer div ul li a]\n",
      "[html body footer div ul li]\n",
      "[html body footer div ul li a]\n",
      "[html body footer div a]\n",
      "[html body script]\n"
     ]
    }
   ],
   "source": [
    "//outline\n",
    "import (\"fmt\";\"os\";\"golang.org/x/net/html\")\n",
    "func main() {\n",
    "\t//doc, err := html.Parse(os.Stdin)\n",
    "    file, e := os.Open(\"golang-org.html\")\n",
    "    if e != nil {\n",
    "        fmt.Fprintf(os.Stderr, \"open failed: %v\\n\", e)\n",
    "        os.Exit(1)\n",
    "    }\n",
    "    doc, err := html.Parse(file)\n",
    "    \n",
    "\tif err != nil {\n",
    "\t\tfmt.Fprintf(os.Stderr, \"outline: %v\\n\", err)\n",
    "\t\tos.Exit(1)\n",
    "\t}\n",
    "\toutline(nil, doc)\n",
    "}\n",
    "\n",
    "func outline(stack []string, n *html.Node) {\n",
    "\tif n.Type == html.ElementNode {\n",
    "\t\tstack = append(stack, n.Data) // push tag\n",
    "\t\tfmt.Println(stack)\n",
    "\t}\n",
    "\tfor c := n.FirstChild; c != nil; c = c.NextSibling {\n",
    "\t\toutline(stack, c)\n",
    "\t}\n",
    "}\n",
    "//main()\n",
    "//!-"
   ]
  },
  {
   "cell_type": "markdown",
   "metadata": {
    "slideshow": {
     "slide_type": "slide"
    }
   },
   "source": [
    "## Mutiple Return Values\n",
    "* A function can return more than one result\n",
    "* Examples of returning two values: result and an error value\n",
    "* The result of calling multi-valued function is a tuple of values\n",
    "  * assign the values to variables to be used\n",
    "* The result of a multi-valued call may be returned from a multi-valued calling function\n",
    "<code>\n",
    "  \n",
    "  links, err := findLinks(url)\n",
    "  links, _ := findLinks(url) // errors ignored\n",
    "  func findLinksLog(url string) ([]string, error) {\n",
    "    return findLinks(url)\n",
    "  }\n",
    "</code>\n",
    "* Examples\n",
    "<code>\n",
    "    func Size(rect image.Rectangle) (width, height int)\n",
    "    func Split(path string) (dir, file string)\n",
    "    func HourMinSec(t time.Time) (hour, minute, second int)\n",
    "</code>\n",
    "* Functions with named results, the operands of a return statement may be omitted. Called bare return."
   ]
  },
  {
   "cell_type": "code",
   "execution_count": 15,
   "metadata": {
    "code_folding": [
     29
    ],
    "scrolled": true,
    "slideshow": {
     "slide_type": "subslide"
    }
   },
   "outputs": [
    {
     "name": "stdout",
     "output_type": "stream",
     "text": [
      "/\n",
      "#main-content\n",
      "#\n",
      "/solutions/case-studies\n",
      "/solutions/use-cases\n",
      "/security/\n",
      "/learn/\n",
      "#\n",
      "/doc/effective_go\n",
      "/doc\n",
      "https://pkg.go.dev/std\n",
      "/doc/devel/release\n",
      "https://pkg.go.dev\n",
      "#\n",
      "/talks/\n",
      "https://www.meetup.com/pro/go\n",
      "/wiki/Conferences\n",
      "/blog\n",
      "/help\n",
      "https://groups.google.com/g/golang-nuts\n",
      "https://github.com/golang\n",
      "https://twitter.com/golang\n",
      "https://www.reddit.com/r/golang/\n",
      "https://invite.slack.golangbridge.org/\n",
      "https://stackoverflow.com/tags/go\n",
      "/\n",
      "#\n",
      "#\n",
      "/solutions/case-studies\n",
      "/solutions/use-cases\n",
      "/security/\n",
      "/learn/\n",
      "#\n",
      "#\n",
      "/doc/effective_go\n",
      "/doc\n",
      "https://pkg.go.dev/std\n",
      "/doc/devel/release\n",
      "https://pkg.go.dev\n",
      "#\n",
      "#\n",
      "/talks/\n",
      "https://www.meetup.com/pro/go\n",
      "/wiki/Conferences\n",
      "/blog\n",
      "/help\n",
      "https://groups.google.com/g/golang-nuts\n",
      "https://github.com/golang\n",
      "https://twitter.com/golang\n",
      "https://www.reddit.com/r/golang/\n",
      "https://invite.slack.golangbridge.org/\n",
      "https://stackoverflow.com/tags/go\n",
      "/learn/\n",
      "/dl\n",
      "/dl/\n",
      "/dl\n",
      "/solutions/\n",
      "/solutions/google/\n",
      "/solutions/paypal\n",
      "/solutions/americanexpress\n",
      "/solutions/mercadolibre\n",
      "https://bitly.com/blog/why-we-write-everything-in-go/?utm_source=go-dev&utm_medium=referral&utm_campaign=go-dev&utm_content=case-study\n",
      "https://medium.com/capital-one-tech/a-serverless-and-go-journey-credit-offers-api-74ef1f9fde7f\n",
      "https://www.cockroachlabs.com/blog/why-go-was-the-right-choice-for-cockroachdb/\n",
      "https://blogs.dropbox.com/tech/2014/07/open-sourcing-our-go-libraries/\n",
      "https://blog.cloudflare.com/graceful-upgrades-in-go/\n",
      "https://entgo.io/blog/2019/10/03/introducing-ent/\n",
      "https://cloudblogs.microsoft.com/opensource/2018/02/21/go-lang-brian-ketelsen-explains-fast-growth/\n",
      "https://medium.com/tech-at-wildlife-studios/pitaya-wildlifes-golang-go-af57865f7a11\n",
      "https://www.cloudwego.io/\n",
      "https://medium.com/netflix-techblog/application-data-caching-using-ssds-5bf25df851ef\n",
      "https://technology.riotgames.com/news/leveraging-golang-game-development-and-operations\n",
      "https://www.zdnet.com/article/salesforce-why-we-ditched-python-for-googles-go-language-in-einstein-analytics/\n",
      "https://blog.twitch.tv/en/2016/07/05/gos-march-to-low-latency-gc-a6fa96f06eb7/\n",
      "https://blog.twitter.com/engineering/en_us/a/2015/handling-five-billion-sessions-a-day-in-real-time.html\n",
      "https://eng.uber.com/aresdb/\n",
      "/tour/\n",
      "https://cloud.google.com/go/home\n",
      "https://aws.amazon.com/sdk-for-go/\n",
      "https://github.com/Azure/azure-sdk-for-go\n",
      "/solutions/cloud/\n",
      "https://github.com/spf13/cobra\n",
      "https://github.com/spf13/viper\n",
      "https://github.com/urfave/cli\n",
      "https://github.com/go-delve/delve\n",
      "https://github.com/chzyer/readline\n",
      "/solutions/clis/\n",
      "/pkg/net/http/\n",
      "/pkg/html/template/\n",
      "https://github.com/flosch/pongo2\n",
      "/pkg/database/sql/\n",
      "https://github.com/elastic/go-elasticsearch\n",
      "/solutions/webdev/\n",
      "https://github.com/open-telemetry/opentelemetry-go\n",
      "https://github.com/istio/istio\n",
      "https://github.com/urfave/cli\n",
      "/solutions/devops/\n",
      "/solutions/use-cases\n",
      "/learn/\n",
      "/doc/install/\n",
      "/learn#guided-learning-journeys\n",
      "/learn#online-learning\n",
      "/learn#featured-books\n",
      "/learn#self-paced-labs\n",
      "https://www.ardanlabs.com/\n",
      "https://www.gopherguides.com/\n",
      "https://bosssauce.it/services/training\n",
      "https://github.com/shijuvar/gokit/tree/master/training\n",
      "/solutions/\n",
      "/solutions/use-cases\n",
      "/solutions/case-studies\n",
      "/learn/\n",
      "/play\n",
      "/tour/\n",
      "https://stackoverflow.com/questions/tagged/go?tab=Newest\n",
      "/help/\n",
      "https://pkg.go.dev\n",
      "/pkg/\n",
      "https://pkg.go.dev/about\n",
      "/project\n",
      "/dl/\n",
      "/blog/\n",
      "https://github.com/golang/go/issues\n",
      "/doc/devel/release\n",
      "/brand\n",
      "/conduct\n",
      "https://www.twitter.com/golang\n",
      "https://www.twitter.com/golang\n",
      "https://github.com/golang\n",
      "https://invite.slack.golangbridge.org/\n",
      "https://reddit.com/r/golang\n",
      "https://www.meetup.com/pro/go\n",
      "https://golangweekly.com/\n",
      "/copyright\n",
      "/tos\n",
      "http://www.google.com/intl/en/policies/privacy/\n",
      "/s/website-issue\n",
      "https://google.com\n",
      "https://policies.google.com/technologies/cookies\n"
     ]
    },
    {
     "name": "stderr",
     "output_type": "stream",
     "text": [
      "findlinks2: Get \"https://www.nctu.edu.tw\": dial tcp: lookup www.nctu.edu.tw: no such host\n"
     ]
    }
   ],
   "source": [
    "// See page 125.\n",
    "// Findlinks2 does an HTTP GET on each URL, parses the\n",
    "// result as HTML, and prints the links within it.\n",
    "//\n",
    "// Usage:\n",
    "//\tfindlinks url ...\n",
    "import (\n",
    "\t\"fmt\"\n",
    "\t\"net/http\"\n",
    "\t\"os\"\n",
    "\n",
    "\t\"golang.org/x/net/html\"\n",
    ")\n",
    "\n",
    "// visit appends to links each link found in n, and returns the result.\n",
    "func visit(links []string, n *html.Node) []string {\n",
    "\tif n.Type == html.ElementNode && n.Data == \"a\" {\n",
    "\t\tfor _, a := range n.Attr {\n",
    "\t\t\tif a.Key == \"href\" {\n",
    "\t\t\t\tlinks = append(links, a.Val)\n",
    "\t\t\t}\n",
    "\t\t}\n",
    "\t}\n",
    "\tfor c := n.FirstChild; c != nil; c = c.NextSibling {\n",
    "\t\tlinks = visit(links, c)\n",
    "\t}\n",
    "\treturn links\n",
    "}\n",
    "\n",
    "//os.Args = []string{\"findlinks1\",\"https://golang.org\",\"http://www.nctu.edu.tw\"}\n",
    "//!+\n",
    "%args https://golang.org https://www.nctu.edu.tw\n",
    "func main() {\n",
    "\tfor _, url := range os.Args[1:] {\n",
    "\t\tlinks, err := findLinks(url)\n",
    "\t\tif err != nil {\n",
    "\t\t\tfmt.Fprintf(os.Stderr, \"findlinks2: %v\\n\", err)\n",
    "\t\t\tcontinue\n",
    "\t\t}\n",
    "\t\tfor _, link := range links {\n",
    "\t\t\tfmt.Println(link)\n",
    "\t\t}\n",
    "\t}\n",
    "}\n",
    "\n",
    "// findLinks performs an HTTP GET request for url, parses the\n",
    "// response as HTML, and extracts and returns the links.\n",
    "func findLinks(url string) ([]string, error) {\n",
    "\tresp, err := http.Get(url)\n",
    "\tif err != nil {\n",
    "\t\treturn nil, err\n",
    "\t}\n",
    "\tif resp.StatusCode != http.StatusOK {\n",
    "\t\tresp.Body.Close()\n",
    "\t\treturn nil, fmt.Errorf(\"getting %s: %s\", url, resp.Status)\n",
    "\t}\n",
    "\tdoc, err := html.Parse(resp.Body)\n",
    "\tresp.Body.Close()\n",
    "\tif err != nil {\n",
    "\t\treturn nil, fmt.Errorf(\"parsing %s as HTML: %v\", url, err)\n",
    "\t}\n",
    "\treturn visit(nil, doc), nil\n",
    "}\n",
    "//main()\n",
    "//!-"
   ]
  },
  {
   "cell_type": "markdown",
   "metadata": {
    "slideshow": {
     "slide_type": "subslide"
    }
   },
   "source": [
    "//Bare Return\n",
    "<code>\n",
    "// CountWordsAndImages does an HTTP GET request for the HTML\n",
    "// document url and returns the number of words and images in it.\n",
    "    \n",
    "func CountWordsAndImages(url string) (words, images int, err error) {\n",
    "    \n",
    "    resp, err := http.Get(url)\n",
    "    \n",
    "    if err != nil {\n",
    "        return\n",
    "    }\n",
    "\n",
    "    doc, err := html.Parse(resp.Body)\n",
    "    resp.Body.Close()\n",
    "    if err != nil {\n",
    "        err = fmt.Errorf(\"parsing HTML: %s\", err)\n",
    "        return\n",
    "    }\n",
    "    words, images = countWordsAndImages(doc)\n",
    "    return\n",
    "}\n",
    "</code> "
   ]
  },
  {
   "cell_type": "markdown",
   "metadata": {
    "slideshow": {
     "slide_type": "slide"
    }
   },
   "source": [
    "## Errors"
   ]
  },
  {
   "cell_type": "markdown",
   "metadata": {
    "slideshow": {
     "slide_type": "fragment"
    }
   },
   "source": [
    "* The built-in type error is an interface type\n",
    "* nil implies success and non-nil implies failure"
   ]
  },
  {
   "cell_type": "code",
   "execution_count": 16,
   "metadata": {
    "code_folding": [],
    "slideshow": {
     "slide_type": "fragment"
    }
   },
   "outputs": [],
   "source": [
    "%%\n",
    "value, ok := os.Open(\"golang-org.html\")\n",
    "if ok != nil {\n",
    "    //\n",
    "    fmt.Println(ok)\n",
    "    fmt.Printf(\"%v\\n\",ok)\n",
    "}\n",
    "_ = value"
   ]
  },
  {
   "cell_type": "markdown",
   "metadata": {
    "slideshow": {
     "slide_type": "slide"
    }
   },
   "source": [
    "### Error-Handling Strategies\n",
    "* Propagate the error\n",
    "* retry the failed operation, possibly with a delay between tries if progress is impossible, the caller print the error and stop the program gracefully\n",
    "* log the error and then continue\n",
    "* safely ignore an error entirely"
   ]
  },
  {
   "cell_type": "code",
   "execution_count": 17,
   "metadata": {
    "code_folding": [],
    "slideshow": {
     "slide_type": "subslide"
    }
   },
   "outputs": [],
   "source": [
    "// 1. Propagate the error\n",
    "import \"net/http\"\n",
    "func pError(url string) (resp *http.Response, err error) {\n",
    "  resp, err = http.Get(url)\n",
    "  if err != nil {\n",
    "    return nil, err\n",
    "  }\n",
    "    return \n",
    "}\n",
    "%%\n",
    "pError(\"https://golang.org\")"
   ]
  },
  {
   "cell_type": "code",
   "execution_count": 18,
   "metadata": {
    "code_folding": [],
    "slideshow": {
     "slide_type": "slide"
    }
   },
   "outputs": [
    {
     "name": "stderr",
     "output_type": "stream",
     "text": [
      "2024/10/15 16:02:22 server not responding (Head \"http://127.0.0.1\": dial tcp 127.0.0.1:80: connect: connection refused); retrying...\n",
      "2024/10/15 16:02:23 server not responding (Head \"http://127.0.0.1\": dial tcp 127.0.0.1:80: connect: connection refused); retrying...\n",
      "2024/10/15 16:02:25 server not responding (Head \"http://127.0.0.1\": dial tcp 127.0.0.1:80: connect: connection refused); retrying...\n",
      "2024/10/15 16:02:29 server not responding (Head \"http://127.0.0.1\": dial tcp 127.0.0.1:80: connect: connection refused); retrying...\n",
      "2024/10/15 16:02:37 server not responding (Head \"http://127.0.0.1\": dial tcp 127.0.0.1:80: connect: connection refused); retrying...\n",
      "2024/10/15 16:02:53 server not responding (Head \"http://127.0.0.1\": dial tcp 127.0.0.1:80: connect: connection refused); retrying...\n",
      "Site is down: server http://127.0.0.1 failed to respond after 1m0s\n"
     ]
    }
   ],
   "source": [
    "//retry the failed operation and stop if progress is impossible\n",
    "\n",
    "import (\n",
    "\t\"fmt\"\n",
    "\t\"log\"\n",
    "\t\"net/http\"\n",
    "\t\"os\"\n",
    "\t\"time\"\n",
    ")\n",
    "\n",
    "//!+\n",
    "// WaitForServer attempts to contact the server of a URL.\n",
    "// It tries for one minute using exponential back-off.\n",
    "// It reports an error if all attempts fail.\n",
    "func WaitForServer(url string) error {\n",
    "\tconst timeout = 1 * time.Minute\n",
    "\tdeadline := time.Now().Add(timeout)\n",
    "\tfor tries := 0; time.Now().Before(deadline); tries++ {\n",
    "\t\t_, err := http.Head(url)\n",
    "\t\tif err == nil {\n",
    "\t\t\treturn nil // success\n",
    "\t\t}\n",
    "\t\tlog.Printf(\"server not responding (%s); retrying...\", err)\n",
    "\t\ttime.Sleep(time.Second << uint(tries)) // exponential back-off\n",
    "\t}\n",
    "\treturn fmt.Errorf(\"server %s failed to respond after %s\", url, timeout)\n",
    "}\n",
    "\n",
    "//!-\n",
    "\n",
    "//os.Args = []string{\"wait\",\"http://127.0.0.1\"}\n",
    "%args http://127.0.0.1\n",
    "func main() {\n",
    "\tif len(os.Args) != 2 {\n",
    "\t\tfmt.Fprintf(os.Stderr, \"usage: wait url\\n\")\n",
    "\t\t//os.Exit(1)\n",
    "        return\n",
    "\t}\n",
    "\turl := os.Args[1]\n",
    "\t//!+main\n",
    "\t// (In function main.)\n",
    "\tif err := WaitForServer(url); err != nil {\n",
    "\t\tfmt.Fprintf(os.Stderr, \"Site is down: %v\\n\", err)\n",
    "\t\t//os.Exit(1)\n",
    "        //log.Fatalf(\"Site is down: %v\\n\", err)\n",
    "        return\n",
    "\t}\n",
    "\t//!-main\n",
    "}\n",
    "//main()"
   ]
  },
  {
   "cell_type": "markdown",
   "metadata": {
    "slideshow": {
     "slide_type": "fragment"
    }
   },
   "source": [
    "<code>\n",
    "// log the error and then continue (only reduce functionality)\n",
    "if err:= Ping(); err != nil {\n",
    "    log.Printf(\"ping failed: %v; networking disabled\", err)\n",
    "}\n",
    "</code>"
   ]
  },
  {
   "cell_type": "code",
   "execution_count": 19,
   "metadata": {
    "code_folding": [],
    "slideshow": {
     "slide_type": "slide"
    }
   },
   "outputs": [
    {
     "name": "stderr",
     "output_type": "stream",
     "text": [
      "^C\n",
      "signal: interrupt\n"
     ]
    }
   ],
   "source": [
    "import (\"bufio\";\"io\")\n",
    "// End of File (EOF)\n",
    "%%\n",
    "in := bufio.NewReader(os.Stdin)\n",
    "for {\n",
    "    r, _, err := in.ReadRune()\n",
    "    if err == io.EOF {\n",
    "        break // finished reading\n",
    "    }\n",
    "    if err != nil {\n",
    "        fmt.Errorf(\"read file: %v\",err)\n",
    "        break\n",
    "    }\n",
    "    fmt.Println(r)\n",
    "}"
   ]
  },
  {
   "cell_type": "markdown",
   "metadata": {
    "slideshow": {
     "slide_type": "slide"
    }
   },
   "source": [
    "## Function Values\n",
    "* Functions are first-class values in GO\n",
    "* A function value may be called like any other function\n",
    "  * pass them to functions as arguments\n",
    "  * return from functions\n",
    "  * save them in variables"
   ]
  },
  {
   "cell_type": "code",
   "execution_count": 53,
   "metadata": {
    "code_folding": [],
    "slideshow": {
     "slide_type": "fragment"
    }
   },
   "outputs": [
    {
     "data": {
      "text/html": [
       "\n",
       "<style>\n",
       ".gonb-err-location {\n",
       "\tbackground: var(--jp-err-color2);  \n",
       "\tborder-radius: 3px;\n",
       "\tborder-style: dotted;\n",
       "\tborder-width: 1px;\n",
       "\tborder-color: var(--jp-border-color2);\n",
       "}\n",
       ".gonb-err-location:hover {\n",
       "\tborder-width: 2px;\n",
       "\tborder-style: solid;\n",
       "\tborder-color: var(--jp-border-color2);\n",
       "}\n",
       ".gonb-err-context {\n",
       "\tdisplay: none;\n",
       "}\n",
       ".gonb-err-location:hover + .gonb-err-context {\n",
       "\tbackground: var(--jp-dialog-background);  \n",
       "\tborder-radius: 3px;\n",
       "\tborder-style: solid;\n",
       "\tborder-width: 1px;\n",
       "\tborder-color: var(--jp-border-color2);\n",
       "\tdisplay: block;\n",
       "\twhite-space: pre;\n",
       "\tfont-family: monospace;\n",
       "}\n",
       ".gonb-err-line {\n",
       "\tborder-radius: 3px;\n",
       "\tborder-style: dotted;\n",
       "\tborder-width: 1px;\t\n",
       "\tborder-color: var(--jp-border-color2);\n",
       "\tbackground-color: var(--jp-rendermime-err-background);\n",
       "\tfont-weight: bold;\n",
       "}\n",
       ".gonb-cell-line-info {\n",
       "\tbackground: var(--jp-layout-color2);\n",
       "\tcolor: #999;\n",
       "\tmargin: 0.1em;\n",
       "\tborder: 1px solid var(--jp-border-color1);\n",
       "\tpadding-left: 0.2em;\n",
       "\tpadding-right: 0.2em;\n",
       "}\n",
       "</style>\n",
       "<div class=\"lm-Widget p-Widget lm-Panel p-Panel jp-OutputArea-child\">\n",
       "<div class=\"lm-Widget p-Widget jp-RenderedText jp-mod-trusted jp-OutputArea-output\" data-mime-type=\"application/vnd.jupyter.stderr\" style=\"font-family: monospace;\">\n",
       "\n",
       "\n",
       "<span style=\"white-space: pre;\"> # gonb_325c61f0</span>\n",
       "\n",
       "<br/>\n",
       "\n",
       "<span class=\"gonb-cell-line-info\">Cell[53]: Line 17</span>\n",
       "<span class=\"gonb-err-location\">./main.go:309:6: </span> cannot use product (value of type func(m int, n int) int) as func(n int) int value in assignment\n",
       "<div class=\"gonb-err-context\">\n",
       "\tfmt.Println(g(10))\n",
       "\t_ = g\n",
       "\n",
       "<div class=\"gonb-err-line\">\tf = product  // compile error: can&#39;t assign f(int,int) int to f(int) int\n",
       "</div>\tfmt.Printf(&#34;%T, %T, %T&#34;, negative,square, product)\n",
       "\n",
       "\n",
       "</div>\n",
       "\n",
       "<br/>\n",
       "\n",
       "\n",
       "<span style=\"white-space: pre;\"> </span>\n",
       "\n",
       "<br/>\n",
       "\n",
       "</div>\n"
      ]
     },
     "metadata": {},
     "output_type": "display_data"
    },
    {
     "ename": "ERROR",
     "evalue": "failed to run \"/opt/homebrew/bin/go build -o /var/folders/4d/tg201k8x6yb81f_lrvt4440m0000gn/T/gonb_325c61f0/gonb_325c61f0\": exit status 1",
     "output_type": "error",
     "traceback": [
      "failed to run \"/opt/homebrew/bin/go build -o /var/folders/4d/tg201k8x6yb81f_lrvt4440m0000gn/T/gonb_325c61f0/gonb_325c61f0\": exit status 1"
     ]
    }
   ],
   "source": [
    "// function values\n",
    "import \"fmt\"\n",
    "func square(n int) int {return n*n}\n",
    "func negative(n int) int {return -n}\n",
    "func product(m,n int) int {return m * n}\n",
    "%%\n",
    "f := square\n",
    "fmt.Println(f(9))\n",
    "\n",
    "f = negative\n",
    "fmt.Println(f(5))\n",
    "\n",
    "g := f\n",
    "fmt.Println(g(10))\n",
    "_ = g\n",
    "\n",
    "f = product  // compile error: can't assign f(int,int) int to f(int) int\n",
    "fmt.Printf(\"%T, %T, %T\", negative,square, product)"
   ]
  },
  {
   "cell_type": "markdown",
   "metadata": {
    "slideshow": {
     "slide_type": "subslide"
    }
   },
   "source": [
    "### zero value of a function type is nil\n",
    "* Calling a nil function value causes a panic\n",
    "* Funcion values may be compared with nil\n",
    "* They are not comparable, and can't used as keys in a map"
   ]
  },
  {
   "cell_type": "code",
   "execution_count": 54,
   "metadata": {
    "slideshow": {
     "slide_type": "fragment"
    }
   },
   "outputs": [
    {
     "name": "stderr",
     "output_type": "stream",
     "text": [
      "panic: runtime error: invalid memory address or nil pointer dereference\n",
      "[signal SIGSEGV: segmentation violation code=0x2 addr=0x0 pc=0x10508a408]\n",
      "\n",
      "goroutine 1 [running]:\n",
      "main.main()\n",
      "\t \u001b[7m[[ Cell [54] Line 3 ]]\u001b[0m /var/folders/4d/tg201k8x6yb81f_lrvt4440m0000gn/T/gonb_325c61f0/main.go:300 +0x68\n",
      "exit status 2\n"
     ]
    }
   ],
   "source": [
    "var ff func(int) int\n",
    "%%\n",
    "ff(3) //panic: call of nil function"
   ]
  },
  {
   "cell_type": "code",
   "execution_count": 55,
   "metadata": {
    "slideshow": {
     "slide_type": "fragment"
    }
   },
   "outputs": [
    {
     "name": "stdout",
     "output_type": "stream",
     "text": [
      "-3\n"
     ]
    }
   ],
   "source": [
    "%%\n",
    "ff = func(x int) int {return -x}\n",
    "if ff != nil {\n",
    "    fmt.Println(ff(3))\n",
    "}"
   ]
  },
  {
   "cell_type": "markdown",
   "metadata": {
    "slideshow": {
     "slide_type": "subslide"
    }
   },
   "source": [
    "* Function values let us parameterize our functions over not just data, but behavior too"
   ]
  },
  {
   "cell_type": "code",
   "execution_count": 57,
   "metadata": {
    "code_folding": [],
    "slideshow": {
     "slide_type": "fragment"
    }
   },
   "outputs": [
    {
     "name": "stdout",
     "output_type": "stream",
     "text": [
      "UNY9E===\n",
      "y\n",
      "Mpyu游,該,該,,,該,mno,游「戜劫\n"
     ]
    }
   ],
   "source": [
    "// Function values let us parameterize our functions over not just data, but behavior too\n",
    "import \"strings\"\n",
    "\n",
    "\n",
    "func add1(r rune) rune {return r+12}\n",
    "%%\n",
    "fmt.Println(strings.Map(add1, \"IBM-9111\"))\n",
    "fmt.Println(strings.Map(add1, \"vms\"))\n",
    "fmt.Println(strings.Map(add1, \"Admix測 試 試   試 abc 測　成功\"))"
   ]
  },
  {
   "cell_type": "markdown",
   "metadata": {
    "slideshow": {
     "slide_type": "subslide"
    }
   },
   "source": [
    "* findLinks function uses a helper function **visit** to visit nodes in HTML document\n",
    "* Apply a function to each node\n",
    "* Use a function value to separate the logic for tree traversal from the logic for the action\n",
    "  * **forEachNode** calls the functions **pre(x)** and **post(x)** for each node\n",
    "  * x in the tree rooted at n. Both functions are optional.\n",
    "  * **pre** is called before the children are visited (preorder)\n",
    "  * **post** is called after (postorder).\n",
    "    * startElement: print the start tags of HTML element like \\<b\\>\n",
    "    * endElement: print the end tags of HTML element \\<\\/b\\>\n",
    "  * Indent the output using fmt.Printf %*s padded with a variable number of spaces"
   ]
  },
  {
   "cell_type": "code",
   "execution_count": 58,
   "metadata": {
    "code_folding": [
     15,
     17,
     39,
     58,
     65
    ],
    "slideshow": {
     "slide_type": "fragment"
    }
   },
   "outputs": [
    {
     "name": "stdout",
     "output_type": "stream",
     "text": [
      "<html>\n",
      "  <head>\n",
      "    <meta>\n",
      "    </meta>\n",
      "    <title>\n",
      "    </title>\n",
      "    <script>\n",
      "    </script>\n",
      "    <link>\n",
      "    </link>\n",
      "    <style>\n",
      "    </style>\n",
      "  </head>\n",
      "  <body>\n",
      "    <table>\n",
      "      <tbody>\n",
      "        <tr>\n",
      "          <td>\n",
      "            <a>\n",
      "              <img>\n",
      "              </img>\n",
      "            </a>\n",
      "            <br>\n",
      "            </br>\n",
      "            <div>\n",
      "              <a>\n",
      "                <img>\n",
      "                </img>\n",
      "              </a>\n",
      "              <a>\n",
      "                <img>\n",
      "                </img>\n",
      "              </a>\n",
      "              <a>\n",
      "                <img>\n",
      "                </img>\n",
      "              </a>\n",
      "            </div>\n",
      "            <br>\n",
      "            </br>\n",
      "          </td>\n",
      "          <td>\n",
      "            <h1>\n",
      "            </h1>\n",
      "            <p>\n",
      "              <br>\n",
      "              </br>\n",
      "              <br>\n",
      "              </br>\n",
      "              <br>\n",
      "              </br>\n",
      "              <tt>\n",
      "              </tt>\n",
      "              <tt>\n",
      "              </tt>\n",
      "              <tt>\n",
      "              </tt>\n",
      "            </p>\n",
      "            <div>\n",
      "              <table>\n",
      "                <tbody>\n",
      "                  <tr>\n",
      "                    <td>\n",
      "                      <h1>\n",
      "                        <a>\n",
      "                        </a>\n",
      "                      </h1>\n",
      "                      <h1>\n",
      "                        <a>\n",
      "                        </a>\n",
      "                      </h1>\n",
      "                      <h1>\n",
      "                        <a>\n",
      "                        </a>\n",
      "                      </h1>\n",
      "                      <h1>\n",
      "                      </h1>\n",
      "                      <h1>\n",
      "                      </h1>\n",
      "                      <h1>\n",
      "                      </h1>\n",
      "                      <h1>\n",
      "                      </h1>\n",
      "                      <h1>\n",
      "                      </h1>\n",
      "                    </td>\n",
      "                    <td>\n",
      "                      <h1>\n",
      "                      </h1>\n",
      "                      <h1>\n",
      "                      </h1>\n",
      "                      <h1>\n",
      "                      </h1>\n",
      "                      <h1>\n",
      "                      </h1>\n",
      "                      <h1>\n",
      "                      </h1>\n",
      "                      <h1>\n",
      "                      </h1>\n",
      "                      <h1>\n",
      "                      </h1>\n",
      "                      <h1>\n",
      "                        <a>\n",
      "                        </a>\n",
      "                      </h1>\n",
      "                    </td>\n",
      "                  </tr>\n",
      "                  <tr>\n",
      "                    <td>\n",
      "                      <h1>\n",
      "                        <a>\n",
      "                        </a>\n",
      "                        <a>\n",
      "                        </a>\n",
      "                        <a>\n",
      "                        </a>\n",
      "                        <a>\n",
      "                        </a>\n",
      "                      </h1>\n",
      "                    </td>\n",
      "                  </tr>\n",
      "                </tbody>\n",
      "              </table>\n",
      "            </div>\n",
      "            <p>\n",
      "              <a>\n",
      "                <code>\n",
      "                </code>\n",
      "              </a>\n",
      "              <a>\n",
      "                <code>\n",
      "                </code>\n",
      "              </a>\n",
      "              <a>\n",
      "                <code>\n",
      "                </code>\n",
      "              </a>\n",
      "              <a>\n",
      "                <code>\n",
      "                </code>\n",
      "              </a>\n",
      "            </p>\n",
      "            <p>\n",
      "              <a>\n",
      "              </a>\n",
      "              <a>\n",
      "              </a>\n",
      "            </p>\n",
      "          </td>\n",
      "        </tr>\n",
      "      </tbody>\n",
      "    </table>\n",
      "  </body>\n",
      "</html>\n"
     ]
    }
   ],
   "source": [
    "//\n",
    "import (\n",
    "\t\"fmt\"\n",
    "\t\"net/http\"\n",
    "\t\"os\"\n",
    "\n",
    "\t\"golang.org/x/net/html\"\n",
    ")\n",
    "%args https://gopl.io\n",
    "func main() {\n",
    "\tfor _, url := range os.Args[1:] {\n",
    "\t\toutline(url)\n",
    "\t}\n",
    "}\n",
    "\n",
    "func outline(url string) error {\n",
    "\tresp, err := http.Get(url)\n",
    "\tif err != nil {\n",
    "\t\treturn err\n",
    "\t}\n",
    "\tdefer resp.Body.Close()\n",
    "\n",
    "\tdoc, err := html.Parse(resp.Body)\n",
    "\tif err != nil {\n",
    "\t\treturn err\n",
    "\t}\n",
    "\n",
    "\t//!+call\n",
    "\tforEachNode(doc, startElement, endElement)\n",
    "\t//!-call\n",
    "\n",
    "\treturn nil\n",
    "}\n",
    "\n",
    "//!+forEachNode\n",
    "// forEachNode calls the functions pre(x) and post(x) for each node\n",
    "// x in the tree rooted at n. Both functions are optional.\n",
    "// pre is called before the children are visited (preorder) and\n",
    "// post is called after (postorder).\n",
    "func forEachNode(n *html.Node, pre, post func(n *html.Node)) {\n",
    "\tif pre != nil {\n",
    "\t\tpre(n)\n",
    "\t}\n",
    "\n",
    "\tfor c := n.FirstChild; c != nil; c = c.NextSibling {\n",
    "\t\tforEachNode(c, pre, post)\n",
    "\t}\n",
    "\n",
    "\tif post != nil {\n",
    "\t\tpost(n)\n",
    "\t}\n",
    "}\n",
    "\n",
    "//!-forEachNode\n",
    "\n",
    "//!+startend\n",
    "var depth int\n",
    "\n",
    "func startElement(n *html.Node) {\n",
    "\tif n.Type == html.ElementNode {\n",
    "\t\tfmt.Printf(\"%*s<%s>\\n\", depth*2, \"\", n.Data)\n",
    "\t\tdepth++\n",
    "\t}\n",
    "}\n",
    "\n",
    "func endElement(n *html.Node) {\n",
    "\tif n.Type == html.ElementNode {\n",
    "\t\tdepth--\n",
    "\t\tfmt.Printf(\"%*s</%s>\\n\", depth*2, \"\", n.Data)\n",
    "\t}\n",
    "}\n",
    "\n",
    "//os.Args = []string{\"outline2\",\"http://gopl.io\"}\n",
    "//main() \n",
    "//!-startend"
   ]
  },
  {
   "cell_type": "markdown",
   "metadata": {
    "slideshow": {
     "slide_type": "slide"
    }
   },
   "source": [
    "## Anonymous Functions\n",
    "* Named functions can be declared only at the package level\n",
    "* We can use a function literal to denote a function value within any expression\n",
    "* A function literal is written like a function declaration, but wihout a name following the func keyword, called anonymous function"
   ]
  },
  {
   "cell_type": "code",
   "execution_count": 61,
   "metadata": {
    "code_folding": [],
    "slideshow": {
     "slide_type": "subslide"
    }
   },
   "outputs": [
    {
     "name": "stdout",
     "output_type": "stream",
     "text": [
      "Squares:  0\n",
      "1\n",
      "4\n",
      "9\n",
      "16\n",
      "64\n",
      "Squares:  0\n",
      "1\n",
      "4\n",
      "9\n",
      "16\n"
     ]
    }
   ],
   "source": [
    "//gopl.io/ch5/squares\n",
    "//squres returns a function that return\n",
    "// the next square number each time it is called\n",
    "// data encapsulation, and x is private\n",
    "func squares() func() int {\n",
    "    var x int\n",
    "    fmt.Println(\"Squares: \",x)\n",
    "    return func() int {\n",
    "        x++\n",
    "        return x * x\n",
    "    }\n",
    "}\n",
    "\n",
    "%%\n",
    "f := squares() // x resets to 0 and return func\n",
    "fmt.Println(f())\n",
    "fmt.Println(f())\n",
    "fmt.Println(f())\n",
    "fmt.Println(f())\n",
    "f()\n",
    "f()\n",
    "f()\n",
    "fmt.Println(f())\n",
    "f = squares() // x resets to 0 and return func\n",
    "fmt.Println(f())\n",
    "fmt.Println(f())\n",
    "fmt.Println(f())\n",
    "fmt.Println(f())"
   ]
  },
  {
   "cell_type": "markdown",
   "metadata": {
    "slideshow": {
     "slide_type": "fragment"
    }
   },
   "source": [
    "* Function values can have state\n",
    "* The anonymous inner function can access the update the local variables of the enclosing function (squares)\n",
    "* The lifetime of a variable is not determined by its scope: the variable x exists after squares returned within main and x is hidden inside f"
   ]
  },
  {
   "cell_type": "code",
   "execution_count": 64,
   "metadata": {
    "code_folding": [],
    "slideshow": {
     "slide_type": "subslide"
    }
   },
   "outputs": [
    {
     "name": "stdout",
     "output_type": "stream",
     "text": [
      "G@K+7...\u001e",
      "渪詤戎劝\n"
     ]
    }
   ],
   "source": [
    "import \"strings\"\n",
    "%%\n",
    "fmt.Println(strings.Map(func(r rune) rune {return r-2}, \"IBM-9000 測試成功\"))"
   ]
  },
  {
   "cell_type": "markdown",
   "metadata": {
    "slideshow": {
     "slide_type": "subslide"
    }
   },
   "source": [
    "* Functions are reference types and function values are not comparable\n",
    "* Function values are implemented using closures"
   ]
  },
  {
   "cell_type": "code",
   "execution_count": 15,
   "metadata": {
    "slideshow": {
     "slide_type": "fragment"
    }
   },
   "outputs": [
    {
     "name": "stdout",
     "output_type": "stream",
     "text": [
      "10\n",
      "15\n"
     ]
    }
   ],
   "source": [
    "// Function Factories\n",
    "import \"fmt\"\n",
    "func multiplyBy(factor int) func(int) int {\n",
    "    return func(num int) int{\n",
    "        return num * factor\n",
    "    }\n",
    "}\n",
    "%%\n",
    "double := multiplyBy(2)\n",
    "triple := multiplyBy(3)\n",
    "\n",
    "fmt.Println(double(5))  // 10\n",
    "fmt.Println(triple(5))  // 15\n",
    "// Use case: The closure retains the factor variable, \n",
    "// allowing the generated function to multiply its argument by that factor. \n",
    "// This approach helps in building reusable, configurable functions."
   ]
  },
  {
   "cell_type": "code",
   "execution_count": 71,
   "metadata": {
    "slideshow": {
     "slide_type": "fragment"
    }
   },
   "outputs": [
    {
     "name": "stdout",
     "output_type": "stream",
     "text": [
      "Button clicked by Alice\n",
      "Button clicked by Bob\n"
     ]
    }
   ],
   "source": [
    "import \"time\"\n",
    "func createButtonHandler(name string) func() {\n",
    "    return func() {\n",
    "        fmt.Println(\"Button clicked by \" + name)\n",
    "    }\n",
    "}\n",
    "%%\n",
    "buttonHandler := createButtonHandler(\"Alice\")\n",
    "buttonHandler2 := createButtonHandler(\"Bob\")\n",
    "\n",
    "time.AfterFunc(1 * time.Second, buttonHandler)    //method value is shorter \n",
    "time.AfterFunc(2 * time.Second, buttonHandler2)  \n",
    "time.Sleep(4 * time.Second)"
   ]
  },
  {
   "cell_type": "code",
   "execution_count": 73,
   "metadata": {
    "slideshow": {
     "slide_type": "fragment"
    }
   },
   "outputs": [
    {
     "name": "stdout",
     "output_type": "stream",
     "text": [
      "8 17\n"
     ]
    }
   ],
   "source": [
    "//Use case: The closure retains the value of x when curryAdd(5) is called, \n",
    "//allowing the inner function to access it later when addFive(3) is called.\n",
    "func curryAdd(x int) func(int) int{\n",
    "    return func(y int) int{\n",
    "        return x + y\n",
    "    }\n",
    "}\n",
    "%%\n",
    "addFive := curryAdd(5)\n",
    "addEight := curryAdd(8)\n",
    "fmt.Println(addFive(3),addEight(9)) // 8"
   ]
  },
  {
   "cell_type": "markdown",
   "metadata": {
    "slideshow": {
     "slide_type": "subslide"
    }
   },
   "source": [
    "* Computing a sequence of computer science courses satisfying the prerequisite requirements of each one\n",
    "* Prerequisite is a mapping from each course to the list of courses that must be completed before it\n",
    "  * visitAll\n",
    "* depth first search"
   ]
  },
  {
   "cell_type": "code",
   "execution_count": 74,
   "metadata": {
    "code_folding": [
     43
    ],
    "scrolled": true,
    "slideshow": {
     "slide_type": "fragment"
    }
   },
   "outputs": [
    {
     "name": "stdout",
     "output_type": "stream",
     "text": [
      "algorithms,calculus,compilers,data structures,databases,discrete math,formal languages,networks,operating systems,programming languages\n",
      "1:\tintro to programming\n",
      "2:\tdiscrete math\n",
      "3:\tdata structures\n",
      "4:\talgorithms\n",
      "5:\tlinear algebra\n",
      "6:\tcalculus\n",
      "7:\tformal languages\n",
      "8:\tcomputer organization\n",
      "9:\tcompilers\n",
      "10:\tdatabases\n",
      "11:\toperating systems\n",
      "12:\tnetworks\n",
      "13:\tprogramming languages\n"
     ]
    }
   ],
   "source": [
    "// Copyright © 2016 Alan A. A. Donovan & Brian W. Kernighan.\n",
    "// License: https://creativecommons.org/licenses/by-nc-sa/4.0/\n",
    "\n",
    "// See page 136.\n",
    "\n",
    "// The toposort program prints the nodes of a DAG in topological order. (directed acyclic graph)\n",
    "//package main\n",
    "\n",
    "import (\n",
    "\t\"fmt\"\n",
    "\t\"sort\"\n",
    ")\n",
    "\n",
    "//!+table\n",
    "// prereqs maps computer science courses to their prerequisites.\n",
    "var prereqs = map[string][]string{\n",
    "\t\"algorithms\": {\"data structures\"},\n",
    "\t\"calculus\":   {\"linear algebra\"},\n",
    "\n",
    "\t\"compilers\": {\n",
    "\t\t\"data structures\",\n",
    "\t\t\"formal languages\",\n",
    "\t\t\"computer organization\",\n",
    "\t},\n",
    "\n",
    "\t\"data structures\":       {\"discrete math\"},\n",
    "\t\"databases\":             {\"data structures\"},\n",
    "\t\"discrete math\":         {\"intro to programming\"},\n",
    "\t\"formal languages\":      {\"discrete math\"},\n",
    "\t\"networks\":              {\"operating systems\"},\n",
    "\t\"operating systems\":     {\"data structures\", \"computer organization\"},\n",
    "\t\"programming languages\": {\"data structures\", \"computer organization\"},\n",
    "}\n",
    "\n",
    "//!-table\n",
    "\n",
    "//!+main\n",
    "func main() {\n",
    "\tfor i, course := range topoSort(prereqs) {\n",
    "\t\tfmt.Printf(\"%d:\\t%s\\n\", i+1, course)\n",
    "\t}\n",
    "}\n",
    "\n",
    "func topoSort(m map[string][]string) []string {\n",
    "\tvar order []string\n",
    "\tseen := make(map[string]bool)\n",
    "\tvar visitAll func(items []string)\n",
    "\n",
    "\tvisitAll = func(items []string) {\n",
    "\t\tfor _, item := range items {\n",
    "\t\t\tif !seen[item] {\n",
    "\t\t\t\tseen[item] = true\n",
    "\t\t\t\tvisitAll(m[item])\n",
    "\t\t\t\torder = append(order, item)\n",
    "\t\t\t}\n",
    "\t\t}\n",
    "\t}\n",
    "\n",
    "\tvar keys []string\n",
    "\tfor key := range m {\n",
    "\t\tkeys = append(keys, key)\n",
    "\t}\n",
    "    // fmt.Println(strings.Join(keys,\",\"))\n",
    "\tsort.Strings(keys)\n",
    "    fmt.Println(strings.Join(keys,\",\"))\n",
    "\tvisitAll(keys)\n",
    "\treturn order\n",
    "}\n",
    "\n",
    "//main()\n",
    "//!-main"
   ]
  },
  {
   "cell_type": "code",
   "execution_count": 75,
   "metadata": {
    "slideshow": {
     "slide_type": "subslide"
    }
   },
   "outputs": [
    {
     "name": "stdout",
     "output_type": "stream",
     "text": [
      "1:\tintro to programming\n",
      "2:\tdiscrete math\n",
      "3:\tdata structures\n",
      "4:\talgorithms\n",
      "5:\tlinear algebra\n",
      "6:\tcalculus\n",
      "7:\tformal languages\n",
      "8:\tcomputer organization\n",
      "9:\tcompilers\n",
      "10:\tdatabases\n",
      "11:\toperating systems\n",
      "12:\tnetworks\n",
      "13:\tprogramming languages\n"
     ]
    }
   ],
   "source": [
    "!go build gopl.io/ch5/toposort\n",
    "!./ch5/toposort/toposort"
   ]
  },
  {
   "cell_type": "markdown",
   "metadata": {
    "slideshow": {
     "slide_type": "fragment"
    }
   },
   "source": [
    "<pre>\n",
    "go build gopl.io/ch5/toposort\n",
    "skhuang@LAPTOP-VG5CHF40:~/vm-data/course/go2019$ ./toposort\n",
    "1:      intro to programming\n",
    "2:      discrete math\n",
    "3:      data structures\n",
    "4:      algorithms\n",
    "5:      linear algebra\n",
    "6:      calculus\n",
    "7:      formal languages\n",
    "8:      computer organization\n",
    "9:      compilers\n",
    "10:     databases\n",
    "11:     operating systems\n",
    "12:     networks\n",
    "13:     programming languages\n",
    "</pre>"
   ]
  },
  {
   "cell_type": "markdown",
   "metadata": {
    "slideshow": {
     "slide_type": "subslide"
    }
   },
   "source": [
    "* findLinks with link-extraction function links.Extract to the package\n",
    "* replace the visit function with an anonymous function"
   ]
  },
  {
   "cell_type": "code",
   "execution_count": 76,
   "metadata": {
    "code_folding": [
     13
    ],
    "slideshow": {
     "slide_type": "subslide"
    }
   },
   "outputs": [],
   "source": [
    "//package links\n",
    "\n",
    "import (\n",
    "        \"fmt\"\n",
    "        \"net/http\"\n",
    "\n",
    "        \"golang.org/x/net/html\"\n",
    ")\n",
    "\n",
    "// Extract makes an HTTP GET request to the specified URL, parses\n",
    "// the response as HTML, and returns the links in the HTML document.\n",
    "func Extract(url string) ([]string, error) {\n",
    "        resp, err := http.Get(url)\n",
    "        if err != nil {\n",
    "                return nil, err\n",
    "        }\n",
    "        if resp.StatusCode != http.StatusOK {\n",
    "                resp.Body.Close()\n",
    "                return nil, fmt.Errorf(\"getting %s: %s\", url, resp.Status)\n",
    "        }\n",
    "\n",
    "        doc, err := html.Parse(resp.Body)\n",
    "        resp.Body.Close()\n",
    "        if err != nil {\n",
    "                return nil, fmt.Errorf(\"parsing %s as HTML: %v\", url, err)\n",
    "        }\n",
    "\n",
    "        var links []string\n",
    "        visitNode := func(n *html.Node) {\n",
    "                if n.Type == html.ElementNode && n.Data == \"a\" {\n",
    "                        for _, a := range n.Attr {\n",
    "                                if a.Key != \"href\" {\n",
    "                                        continue\n",
    "                                }\n",
    "                                link, err := resp.Request.URL.Parse(a.Val)\n",
    "                                if err != nil {\n",
    "                                        continue // ignore bad URLs\n",
    "                                }\n",
    "                                links = append(links, link.String())\n",
    "                        }\n",
    "                }\n",
    "        }\n",
    "        forEachNode(doc, visitNode, nil)\n",
    "        return links, nil\n",
    "}\n",
    "//!-Extract\n",
    "\n",
    "// Copied from gopl.io/ch5/outline2.\n",
    "func forEachNode(n *html.Node, pre, post func(n *html.Node)) {\n",
    "        if pre != nil {\n",
    "                pre(n)\n",
    "        }\n",
    "        for c := n.FirstChild; c != nil; c = c.NextSibling {\n",
    "                forEachNode(c, pre, post)\n",
    "        }\n",
    "        if post != nil {\n",
    "                post(n)\n",
    "        }\n",
    "}\n"
   ]
  },
  {
   "cell_type": "code",
   "execution_count": 77,
   "metadata": {
    "code_folding": [
     5,
     16
    ],
    "scrolled": true,
    "slideshow": {
     "slide_type": "subslide"
    }
   },
   "outputs": [
    {
     "name": "stdout",
     "output_type": "stream",
     "text": [
      "each craw url: https://gopl.io\n",
      "each craw url: http://www.informit.com/store/go-programming-language-9780134190440\n",
      "each craw url: http://www.amazon.com/dp/0134190440\n",
      "each craw url: http://www.barnesandnoble.com/w/1121601944\n",
      "each craw url: http://www.gopl.io/ch1.pdf\n"
     ]
    },
    {
     "name": "stderr",
     "output_type": "stream",
     "text": [
      "2024/10/22 14:20:25 getting http://www.barnesandnoble.com/w/1121601944: 403 Forbidden\n"
     ]
    },
    {
     "name": "stdout",
     "output_type": "stream",
     "text": [
      "each craw url: https://github.com/adonovan/gopl.io/\n",
      "each craw url: http://www.gopl.io/reviews.html\n",
      "each craw url: http://www.gopl.io/translations.html\n",
      "each craw url: http://www.gopl.io/errata.html\n",
      "each craw url: http://golang.org/s/oracle-user-manual\n",
      "each craw url: http://golang.org/lib/godoc/analysis/help.html\n",
      "each craw url: https://github.com/golang/tools/blob/master/refactor/eg/eg.go\n",
      "each craw url: https://github.com/golang/tools/blob/master/refactor/rename/rename.go\n",
      "each craw url: http://www.amazon.com/dp/0131103628?tracking_id=disfordig-20\n",
      "each craw url: http://www.amazon.com/dp/020161586X?tracking_id=disfordig-20\n",
      "each craw url: https://www.informit.com/\n",
      "each craw url: https://www.informit.com/store/index.aspx\n",
      "each craw url: https://www.informit.com/store/go-programming-language-9780134190440#largeCover\n",
      "each craw url: https://www.informit.com/store/go-programming-language-9780134190440#addToWishList\n",
      "each craw url: https://www.informit.com/store/register.aspx?i=9780134190440\n",
      "each craw url: https://www.informit.com/authors/bio/eee15609-979b-4c56-a389-5fe60c9125ed\n",
      "each craw url: https://www.informit.com/authors/bio/8ca9d210-a8bd-40ca-b946-574e0990109b\n",
      "each craw url: https://informit.core.ecollege.net/imprint/index.aspx?st=61085\n"
     ]
    },
    {
     "name": "stderr",
     "output_type": "stream",
     "text": [
      "2024/10/22 14:20:41 Get \"https://informit.core.ecollege.net/imprint/index.aspx?st=61085\": dial tcp: lookup informit.core.ecollege.net: no such host\n"
     ]
    },
    {
     "name": "stdout",
     "output_type": "stream",
     "text": [
      "each craw url: https://www.informit.com/imprint/series_detail.aspx?ser=334583\n",
      "each craw url: https://www.informit.com/store/go-programming-language-9780134190440#eFormatsInstructions\n",
      "each craw url: https://www.informit.com/my_account/login.aspx?partner=53\n",
      "each craw url: https://get.adobe.com/reader/\n",
      "each craw url: https://www.informit.com/store/faq_nondrm.aspx\n",
      "each craw url: https://www.informit.com/store/ebook-formats/\n",
      "each craw url: https://www.informit.com/buy.aspx?isbn=0134190440&eb=87493c7e-6fdf-4fae-b182-ff349912f4e6\n",
      "each craw url: https://www.informit.com/cart/ordering.aspx\n",
      "each craw url: https://www.informit.com/buy.aspx?isbn=0134190440\n",
      "each craw url: https://www.informit.com/buy.aspx?isbn=0134190580\n",
      "each craw url: https://www.informit.com/store/go-programming-language-9780134190440#bss5a515c2e-ad37-4b54-9126-a1aeca3e4dbe\n",
      "each craw url: https://www.informit.com/store/go-programming-language-9780134190440#bss93f55b7e-b553-4a5e-8cef-199a361488c6\n",
      "each craw url: https://www.informit.com/store/go-programming-language-9780134190440#bssabdf9677-e379-441c-971a-046797ee36db\n",
      "each craw url: https://www.informit.com/store/go-programming-language-9780134190440#bss0f8fc8f7-6d8d-4816-9b68-458cbd7149e6\n",
      "each craw url: https://www.informit.com/store/go-programming-language-9780134190440#bss5ee7e6a0-2896-4293-85db-a976142bac52\n",
      "each craw url: https://www.informit.com/store/go-programming-language-9780134190440#bssmoreInformation\n",
      "each craw url: https://www.informit.com/store/go-programming-language-9780134190440#productBSS\n",
      "each craw url: https://www.informit.com/articles/article.aspx?p=1623555\n"
     ]
    },
    {
     "name": "stderr",
     "output_type": "stream",
     "text": [
      "^C\n",
      "signal: interrupt\n"
     ]
    }
   ],
   "source": [
    "// Copyright © 2016 Alan A. A. Donovan & Brian W. Kernighan.\n",
    "// License: https://creativecommons.org/licenses/by-nc-sa/4.0/\n",
    "\n",
    "// See page 139.\n",
    "\n",
    "// Findlinks3 crawls the web, starting with the URLs on the command line.\n",
    "//package main\n",
    "\n",
    "import (\n",
    "\t\"fmt\"\n",
    "\t\"log\"\n",
    "\t\"os\"\n",
    "\n",
    "\t\"gopl.io/ch5/links\"\n",
    ")\n",
    "\n",
    "//!+breadthFirst\n",
    "// breadthFirst calls f for each item in the worklist.\n",
    "// Any items returned by f are added to the worklist.\n",
    "// f is called at most once for each item.\n",
    "func breadthFirst(f func(item string) []string, worklist []string) {\n",
    "\tseen := make(map[string]bool)\n",
    "\tfor len(worklist) > 0 {\n",
    "\t\titems := worklist\n",
    "\t\tworklist = nil\n",
    "\t\tfor _, item := range items {\n",
    "\t\t\tif !seen[item] {\n",
    "\t\t\t\tseen[item] = true\n",
    "\t\t\t\tworklist = append(worklist, f(item)...)\n",
    "\t\t\t}\n",
    "            //fmt.Println(\"each item:\", item, worklist)\n",
    "\t\t}\n",
    "        //fmt.Println(\"each worklist:\", worklist)\n",
    "\t}\n",
    "}\n",
    "\n",
    "//!-breadthFirst\n",
    "\n",
    "//!+crawl\n",
    "func crawl(url string) []string {\n",
    "    fmt.Println(\"each craw url:\",url)\n",
    "\tlist, err := links.Extract(url)\n",
    "\tif err != nil {\n",
    "\t\tlog.Print(err)\n",
    "\t}\n",
    "    //fmt.Println(\"each craw list:\",list)\n",
    "\treturn list\n",
    "}\n",
    "\n",
    "//!-crawl\n",
    "\n",
    "//!+main\n",
    "%args https://gopl.io\n",
    "func main() {\n",
    "\t// Crawl the web breadth-first,\n",
    "\t// starting from the command-line arguments.\n",
    "\tbreadthFirst(crawl, os.Args[1:])\n",
    "}\n",
    "//os.Args = []string{\"findlinks3\",\"https://gopl.io\"}\n",
    "//main()\n",
    "//!-main"
   ]
  },
  {
   "cell_type": "markdown",
   "metadata": {
    "slideshow": {
     "slide_type": "slide"
    }
   },
   "source": [
    "### Caveat: Capturing Iteration Variables"
   ]
  },
  {
   "cell_type": "code",
   "execution_count": 78,
   "metadata": {
    "code_folding": [
     3,
     15
    ],
    "slideshow": {
     "slide_type": "subslide"
    }
   },
   "outputs": [
    {
     "name": "stdout",
     "output_type": "stream",
     "text": [
      "/tmp\n",
      "/root\n",
      "/usr/local/bin\n",
      "/etc\n"
     ]
    }
   ],
   "source": [
    "// correct version \n",
    "import \"fmt\"\n",
    "var rmdirs []func()\n",
    "func tempDirs() []string {\n",
    "    return []string{\"/tmp\",\"/root\",\"/usr/local/bin\",\"/etc\"}\n",
    "}\n",
    "\n",
    "%%\n",
    "for _, d := range tempDirs(){\n",
    "    dir := d \n",
    "    rmdirs = append(rmdirs, func(){\n",
    "        fmt.Println(dir)\n",
    "      })\n",
    "    \n",
    "}\n",
    "for _,rmdir := range rmdirs {\n",
    "    rmdir()\n",
    "}\n",
    "/*\n",
    "for _, d: = range tempDirs(){\n",
    "    dir := d       //Note: necessary\n",
    "    os.MkdirAll(dir, 0755) // creates parent directories too\n",
    "    rmdirs = append(rmdirs, func() {\n",
    "        //os.RemoveAll(dir) \n",
    "        fmt.Println(dir)\n",
    "    })\n",
    "}\n",
    "// ... do some work ...\n",
    "for _, rmdir := range rmdirs {\n",
    "    rmdir() // clean up\n",
    "}\n",
    "*/"
   ]
  },
  {
   "cell_type": "code",
   "execution_count": 79,
   "metadata": {
    "slideshow": {
     "slide_type": "subslide"
    }
   },
   "outputs": [
    {
     "name": "stdout",
     "output_type": "stream",
     "text": [
      "/tmp\n",
      "/root\n",
      "/usr/local/bin\n",
      "/etc\n"
     ]
    }
   ],
   "source": [
    "//incorrect version\n",
    "func tempDirs() []string\n",
    "//import \"fmt\"\n",
    "var rmdirs []func()\n",
    "func tempDirs() []string {\n",
    "    return []string{\"/tmp\",\"/root\",\"/usr/local/bin\",\"/etc\"}\n",
    "}\n",
    "\n",
    "%%\n",
    "for _, dir := range tempDirs(){\n",
    "    rmdirs = append(rmdirs, func(){\n",
    "        fmt.Println(dir)\n",
    "      })\n",
    "    \n",
    "}\n",
    "for _,rmdir := range rmdirs {\n",
    "    rmdir() \n",
    "}\n",
    "/*\n",
    "for _, dir: = range tempDirs(){\n",
    "    os.MkdirAll(dir, 0755) // creates parent directories too\n",
    "    rmdirs = append(rmdirs, func() {\n",
    "        os.RemoveAll(dir)  // Note: incorrect\n",
    "    })\n",
    "}\n",
    "// ... do some work ...\n",
    "// dir here holds the value from the final iteration\n",
    "for _, rmdir := range rmdirs {\n",
    "    rmdir() // clean up\n",
    "}\n",
    "*/"
   ]
  },
  {
   "cell_type": "code",
   "execution_count": 80,
   "metadata": {
    "slideshow": {
     "slide_type": "subslide"
    }
   },
   "outputs": [
    {
     "name": "stdout",
     "output_type": "stream",
     "text": [
      "0 /tmp\n",
      "1 /root\n",
      "2 /usr/local/bin\n",
      "3 /etc\n"
     ]
    }
   ],
   "source": [
    "//incorrect version\n",
    "%%\n",
    "var rmdirs []func()\n",
    "dirs := tempDirs()\n",
    "for i :=0; i< len(dirs); i++{\n",
    "    //os.MkdirAll(dirs[i], 0755) // creates parent directories too\n",
    "    //j := i\n",
    "    rmdirs = append(rmdirs, func() {\n",
    "        fmt.Println(i,dirs[i])\n",
    "        //os.RemoveAll(dirs[i])  // Note: incorrect\n",
    "    })\n",
    "}\n",
    "// ... do some work ...\n",
    "// dirs[i] here captures the value i from the final iteration\n",
    "for _, rmdir := range rmdirs {\n",
    "    rmdir() // clean up\n",
    "}"
   ]
  },
  {
   "cell_type": "markdown",
   "metadata": {
    "slideshow": {
     "slide_type": "fragment"
    }
   },
   "source": [
    "[https://go.dev/blog/loopvar-preview](https://go.dev/blog/loopvar-preview)"
   ]
  },
  {
   "cell_type": "code",
   "execution_count": 84,
   "metadata": {
    "slideshow": {
     "slide_type": "fragment"
    }
   },
   "outputs": [
    {
     "name": "stdout",
     "output_type": "stream",
     "text": [
      "c\n",
      "b\n",
      "a\n"
     ]
    }
   ],
   "source": [
    "func main() {\n",
    "    done := make(chan bool)\n",
    "\n",
    "    values := []string{\"a\", \"b\", \"c\"}\n",
    "    for _, v := range values {\n",
    "        go func() {\n",
    "            fmt.Println(v)\n",
    "            done <- true\n",
    "        }()\n",
    "    }\n",
    "\n",
    "    // wait for all goroutines to complete before exiting\n",
    "    for _ = range values {\n",
    "        <-done\n",
    "    }\n",
    "}"
   ]
  },
  {
   "cell_type": "code",
   "execution_count": 85,
   "metadata": {
    "slideshow": {
     "slide_type": "fragment"
    }
   },
   "outputs": [
    {
     "name": "stdout",
     "output_type": "stream",
     "text": [
      "1\n",
      "2\n",
      "3\n"
     ]
    }
   ],
   "source": [
    "func main() {\n",
    "    var prints []func()\n",
    "    for i := 1; i <= 3; i++ {\n",
    "        prints = append(prints, func() { fmt.Println(i) })\n",
    "    }\n",
    "    for _, print := range prints {\n",
    "        print()\n",
    "    }\n",
    "}"
   ]
  },
  {
   "cell_type": "markdown",
   "metadata": {
    "slideshow": {
     "slide_type": "slide"
    }
   },
   "source": [
    "## Variadic Functions\n",
    "* A variadic function is one that can be called with varying numbers of arguments\n",
    "* fmt.Printf\n",
    "* To declare a variadic function, the type of the final parameter is preceded by an ellipses, \"...\", indicating that the function may be called with any number of arguments of this type"
   ]
  },
  {
   "cell_type": "code",
   "execution_count": 86,
   "metadata": {
    "code_folding": [],
    "slideshow": {
     "slide_type": "subslide"
    }
   },
   "outputs": [
    {
     "name": "stdout",
     "output_type": "stream",
     "text": [
      "0\n",
      "3\n",
      "55\n",
      "20155\n"
     ]
    }
   ],
   "source": [
    "//gopl.io/ch5/sum\n",
    "import \"fmt\"\n",
    "func sum(vals ...int) int {\n",
    "    total := 0\n",
    "    for _, val := range vals {\n",
    "        total += val\n",
    "    }\n",
    "    return total\n",
    "}\n",
    "%%\n",
    "fmt.Println(sum())\n",
    "fmt.Println(sum(3))\n",
    "fmt.Println(sum(1,2,3,4,5,6,7,8,9,10))\n",
    "fmt.Println(sum(1,2,3,4,5,6,7,8,9,10,100,10000,10000))"
   ]
  },
  {
   "cell_type": "code",
   "execution_count": 87,
   "metadata": {
    "code_folding": [],
    "scrolled": true,
    "slideshow": {
     "slide_type": "subslide"
    }
   },
   "outputs": [
    {
     "name": "stdout",
     "output_type": "stream",
     "text": [
      "func(...int)\n",
      "func([]int)\n"
     ]
    }
   ],
   "source": [
    "//variadict functions\n",
    "func f(...int) {}\n",
    "func g([]int){}\n",
    "%%\n",
    "fmt.Printf(\"%T\\n\", f)\n",
    "fmt.Printf(\"%T\\n\", g)"
   ]
  },
  {
   "cell_type": "code",
   "execution_count": 40,
   "metadata": {
    "code_folding": [],
    "slideshow": {
     "slide_type": "subslide"
    }
   },
   "outputs": [
    {
     "name": "stdout",
     "output_type": "stream",
     "text": [
      "func(string, ...interface {}) (int, error),func(int, string, ...interface {})"
     ]
    },
    {
     "name": "stderr",
     "output_type": "stream",
     "text": [
      "Line 12: undefined: count\n"
     ]
    }
   ],
   "source": [
    "import \"os\"\n",
    "func errorf(linenum int, format string, args ...interface{}){\n",
    "    fmt.Fprintf(os.Stderr, \"Line %d: \", linenum)\n",
    "    fmt.Fprintf(os.Stderr, format, args...)\n",
    "    fmt.Fprintln(os.Stderr)\n",
    "}\n",
    "%%\n",
    "linenum, name := 12, \"count\"\n",
    "errorf(linenum, \"undefined: %s\", name)\n",
    "fmt.Printf(\"%T,%T\",fmt.Printf, errorf)"
   ]
  },
  {
   "cell_type": "markdown",
   "metadata": {
    "slideshow": {
     "slide_type": "slide"
    }
   },
   "source": [
    "## Deferred Function Calls\n",
    "* As functions grow more complex and have to handle more errors, we must add clean-up logic many times\n",
    "* Use **defer** to handle this situation\n",
    "* The following example, call resp.Body.Close() multiple times\n",
    "* Actual call of **defer** is deferred until the function has finished\n",
    "* Any number of calls may be deferred; they are executed in the reverse of the order in which they were deferred"
   ]
  },
  {
   "cell_type": "markdown",
   "metadata": {
    "slideshow": {
     "slide_type": "subslide"
    }
   },
   "source": [
    "* The program fetches an HTML document and prints its title. \n",
    "* The title function inspects the Content-Type header of the server’s response\n",
    "* Returns an error if the document is not HTML.\n",
    "* As functions grow more complex and have to handle more errors, such duplication of clean-up logic may become a maintenance problem. \n",
    "* Go’s novel defer mechanism makes things simpler."
   ]
  },
  {
   "cell_type": "code",
   "execution_count": 88,
   "metadata": {
    "code_folding": [
     5,
     31
    ],
    "scrolled": true,
    "slideshow": {
     "slide_type": "fragment"
    }
   },
   "outputs": [
    {
     "name": "stderr",
     "output_type": "stream",
     "text": [
      "title: http://golang.org/doc/gopher/frontpage.png has type image/png, not text/html\n"
     ]
    }
   ],
   "source": [
    "// Copyright © 2016 Alan A. A. Donovan & Brian W. Kernighan.\n",
    "// License: https://creativecommons.org/licenses/by-nc-sa/4.0/\n",
    "\n",
    "// See page 144.\n",
    "\n",
    "// Title1 prints the title of an HTML document specified by a URL.\n",
    "//package main\n",
    "\n",
    "/*\n",
    "//!+output\n",
    "$ go build gopl.io/ch5/title1\n",
    "$ ./title1 http://gopl.io\n",
    "The Go Programming Language\n",
    "$ ./title1 https://golang.org/doc/effective_go.html\n",
    "Effective Go - The Go Programming Language\n",
    "$ ./title1 https://golang.org/doc/gopher/frontpage.png\n",
    "title: https://golang.org/doc/gopher/frontpage.png\n",
    "    has type image/png, not text/html\n",
    "//!-output\n",
    "*/\n",
    "\n",
    "import (\n",
    "\t\"fmt\"\n",
    "\t\"net/http\"\n",
    "\t\"os\"\n",
    "\t\"strings\"\n",
    "\n",
    "\t\"golang.org/x/net/html\"\n",
    ")\n",
    "\n",
    "// Copied from gopl.io/ch5/outline2.\n",
    "func forEachNode(n *html.Node, pre, post func(n *html.Node)) {\n",
    "\tif pre != nil {\n",
    "\t\tpre(n)\n",
    "\t}\n",
    "\tfor c := n.FirstChild; c != nil; c = c.NextSibling {\n",
    "\t\tforEachNode(c, pre, post)\n",
    "\t}\n",
    "\tif post != nil {\n",
    "\t\tpost(n)\n",
    "\t}\n",
    "}\n",
    "\n",
    "//!+\n",
    "func title(url string) error {\n",
    "\tresp, err := http.Get(url)\n",
    "\tif err != nil {\n",
    "\t\treturn err\n",
    "\t}\n",
    "\n",
    "\t// Check Content-Type is HTML (e.g., \"text/html; charset=utf-8\").\n",
    "\tct := resp.Header.Get(\"Content-Type\")\n",
    "\tif ct != \"text/html\" && !strings.HasPrefix(ct, \"text/html;\") {\n",
    "\t\tresp.Body.Close() // close\n",
    "\t\treturn fmt.Errorf(\"%s has type %s, not text/html\", url, ct)\n",
    "\t}\n",
    "\n",
    "\tdoc, err := html.Parse(resp.Body)\n",
    "\tresp.Body.Close() // close\n",
    "\tif err != nil {\n",
    "\t\treturn fmt.Errorf(\"parsing %s as HTML: %v\", url, err)\n",
    "\t}\n",
    "\n",
    "\tvisitNode := func(n *html.Node) {\n",
    "\t\tif n.Type == html.ElementNode && n.Data == \"title\" &&\n",
    "\t\t\tn.FirstChild != nil {\n",
    "\t\t\tfmt.Println(n.FirstChild.Data)\n",
    "\t\t}\n",
    "\t}\n",
    "\tforEachNode(doc, visitNode, nil)\n",
    "\treturn nil\n",
    "}\n",
    "\n",
    "//!-\n",
    "//%args http://gopl.io\n",
    "%args http://golang.org/doc/gopher/frontpage.png\n",
    "func main() {\n",
    "\tfor _, arg := range os.Args[1:] {\n",
    "\t\tif err := title(arg); err != nil {\n",
    "\t\t\tfmt.Fprintf(os.Stderr, \"title: %v\\n\", err)\n",
    "\t\t}\n",
    "\t}\n",
    "}\n",
    "//os.Args = []string{\"title1\",\"http://gopl.io\"}\n",
    "//main()\n",
    "//os.Args = []string{\"title1\",\"http://golang.org/doc/gopher/frontpage.png\"}\n",
    "//main()"
   ]
  },
  {
   "cell_type": "markdown",
   "metadata": {
    "slideshow": {
     "slide_type": "subslide"
    }
   },
   "source": [
    "* duplicated resp.Body.Close() call, which ensures that title closes the network connection on all execution paths, including failures\n",
    "* a defer statement is an ordinary function or method call prefixed by the keyword defer"
   ]
  },
  {
   "cell_type": "code",
   "execution_count": 89,
   "metadata": {
    "code_folding": [],
    "slideshow": {
     "slide_type": "fragment"
    }
   },
   "outputs": [
    {
     "name": "stdout",
     "output_type": "stream",
     "text": [
      "The Go Programming Language\n"
     ]
    }
   ],
   "source": [
    "// Copyright © 2016 Alan A. A. Donovan & Brian W. Kernighan.\n",
    "// License: https://creativecommons.org/licenses/by-nc-sa/4.0/\n",
    "\n",
    "// See page 145.\n",
    "\n",
    "// Title2 prints the title of an HTML document specified by a URL.\n",
    "// It uses defer to simplify closing the response body stream.\n",
    "//package main\n",
    "\n",
    "import (\n",
    "\t\"fmt\"\n",
    "\t\"net/http\"\n",
    "\t\"os\"\n",
    "\t\"strings\"\n",
    "\n",
    "\t\"golang.org/x/net/html\"\n",
    ")\n",
    "\n",
    "// Copied from gopl.io/ch5/outline2.\n",
    "func forEachNode(n *html.Node, pre, post func(n *html.Node)) {\n",
    "\tif pre != nil {\n",
    "\t\tpre(n)\n",
    "\t}\n",
    "\tfor c := n.FirstChild; c != nil; c = c.NextSibling {\n",
    "\t\tforEachNode(c, pre, post)\n",
    "\t}\n",
    "\tif post != nil {\n",
    "\t\tpost(n)\n",
    "\t}\n",
    "}\n",
    "\n",
    "//!+\n",
    "func title(url string) error {\n",
    "\tresp, err := http.Get(url)\n",
    "\tif err != nil {\n",
    "\t\treturn err\n",
    "\t}\n",
    "\tdefer resp.Body.Close()\n",
    "\n",
    "\tct := resp.Header.Get(\"Content-Type\")\n",
    "\tif ct != \"text/html\" && !strings.HasPrefix(ct, \"text/html;\") {\n",
    "\t\treturn fmt.Errorf(\"%s has type %s, not text/html\", url, ct)\n",
    "\t}\n",
    "\n",
    "\tdoc, err := html.Parse(resp.Body)\n",
    "\tif err != nil {\n",
    "\t\treturn fmt.Errorf(\"parsing %s as HTML: %v\", url, err)\n",
    "\t}\n",
    "\n",
    "\t// ...print doc's title element...\n",
    "\t//!-\n",
    "\tvisitNode := func(n *html.Node) {\n",
    "\t\tif n.Type == html.ElementNode && n.Data == \"title\" &&\n",
    "\t\t\tn.FirstChild != nil {\n",
    "\t\t\tfmt.Println(n.FirstChild.Data)\n",
    "\t\t}\n",
    "\t}\n",
    "\tforEachNode(doc, visitNode, nil) \n",
    "\t//!+\n",
    "\n",
    "\treturn nil\n",
    "}\n",
    "\n",
    "//!-\n",
    "%args http://gopl.io\n",
    "func main() {\n",
    "\tfor _, arg := range os.Args[1:] {\n",
    "\t\tif err := title(arg); err != nil {\n",
    "\t\t\tfmt.Fprintf(os.Stderr, \"title: %v\\n\", err)\n",
    "\t\t}\n",
    "\t}\n",
    " }\n",
    "\n",
    "//os.Args = []string{\"title2\",\"http://gopl.io\"}\n",
    "//main()"
   ]
  },
  {
   "cell_type": "markdown",
   "metadata": {
    "slideshow": {
     "slide_type": "subslide"
    }
   },
   "source": [
    "* A **defer** statement is often used with paired operations like **open** and **close**, **connect** and **disconnect**, or **lock** and **unlock** to ensure resouces released in all cases\n",
    "* when the resouce is acquired, the defer statement can be added"
   ]
  },
  {
   "cell_type": "markdown",
   "metadata": {
    "code_folding": [],
    "slideshow": {
     "slide_type": "subslide"
    }
   },
   "source": [
    "<code>\n",
    "//io/ioutil\n",
    "//package ioutil\n",
    "import \"os\"\n",
    "func ReadAll(*os.File) ([]byte,error)\n",
    "func ReadFile(filename string)([]byte,error) {\n",
    "    f, err := os.Open(filename)\n",
    "    if err != nil {\n",
    "        return nil, err\n",
    "    }\n",
    "    defer f.Close()\n",
    "    return ReadAll(f)\n",
    "}\n",
    "</code>"
   ]
  },
  {
   "cell_type": "markdown",
   "metadata": {
    "slideshow": {
     "slide_type": "subslide"
    }
   },
   "source": [
    "* Each time **bigSlowOperation** is called, log its entry and exit and the elapsed time between them"
   ]
  },
  {
   "cell_type": "code",
   "execution_count": 90,
   "metadata": {
    "slideshow": {
     "slide_type": "fragment"
    }
   },
   "outputs": [
    {
     "name": "stderr",
     "output_type": "stream",
     "text": [
      "2024/10/22 15:05:39 enter bigSlowOperation\n",
      "2024/10/22 15:05:49 exit bigSlowOperation (10.001422083s)\n"
     ]
    }
   ],
   "source": [
    "//package main\n",
    "\n",
    "import (\n",
    "        \"log\"\n",
    "        \"time\"\n",
    ")\n",
    "\n",
    "//!+main\n",
    "func bigSlowOperation() {\n",
    "        defer trace(\"bigSlowOperation\")() // don't forget the extra parentheses\n",
    "        // ...lots of work...\n",
    "        time.Sleep(10 * time.Second) // simulate slow operation by sleeping\n",
    "}\n",
    " \n",
    "func trace(msg string) func() {\n",
    "        start := time.Now()\n",
    "        log.Printf(\"enter %s\", msg)\n",
    "        return func() { log.Printf(\"exit %s (%s)\", msg, time.Since(start)) }\n",
    "}\n",
    "\n",
    "//!-main\n",
    "\n",
    "func main() {\n",
    "        bigSlowOperation()\n",
    "}  "
   ]
  },
  {
   "cell_type": "code",
   "execution_count": 94,
   "metadata": {
    "code_folding": [],
    "slideshow": {
     "slide_type": "subslide"
    }
   },
   "outputs": [
    {
     "name": "stdout",
     "output_type": "stream",
     "text": [
      "double(15) = 30\n"
     ]
    }
   ],
   "source": [
    "func double(x int) (result int) {\n",
    "    defer func() {fmt.Printf(\"double(%d) = %d\\n\", x, result)}()\n",
    "    return x + x\n",
    "}\n",
    "%%\n",
    "_ = double(15)"
   ]
  },
  {
   "cell_type": "code",
   "execution_count": 95,
   "metadata": {
    "code_folding": [],
    "slideshow": {
     "slide_type": "subslide"
    }
   },
   "outputs": [
    {
     "name": "stdout",
     "output_type": "stream",
     "text": [
      "double(4) = 8\n",
      "12\n"
     ]
    }
   ],
   "source": [
    "func triple(x int) (result int){\n",
    "    defer func() {result += x}()\n",
    "    return double(x)\n",
    "}\n",
    "%%\n",
    "fmt.Println(triple(4))"
   ]
  },
  {
   "cell_type": "code",
   "execution_count": 96,
   "metadata": {
    "code_folding": [],
    "slideshow": {
     "slide_type": "subslide"
    }
   },
   "outputs": [
    {
     "name": "stderr",
     "output_type": "stream",
     "text": [
      "http://gopl.io => index.html (4154 bytes).\n"
     ]
    }
   ],
   "source": [
    "// Copyright © 2016 Alan A. A. Donovan & Brian W. Kernighan.\n",
    "// License: https://creativecommons.org/licenses/by-nc-sa/4.0/\n",
    "\n",
    "// See page 148.\n",
    "\n",
    "// Fetch saves the contents of a URL into a local file.\n",
    "//package main\n",
    "\n",
    "import (\n",
    "\t\"fmt\"\n",
    "\t\"io\"\n",
    "\t\"net/http\"\n",
    "\t\"os\"\n",
    "\t\"path\"\n",
    ")\n",
    "\n",
    "//!+\n",
    "// Fetch downloads the URL and returns the\n",
    "// name and length of the local file.\n",
    "func fetch(url string) (filename string, n int64, err error) {\n",
    "\tresp, err := http.Get(url)\n",
    "\tif err != nil {\n",
    "\t\treturn \"\", 0, err\n",
    "\t}\n",
    "\tdefer resp.Body.Close()\n",
    "\n",
    "\tlocal := path.Base(resp.Request.URL.Path)\n",
    "\tif local == \"/\" {\n",
    "\t\tlocal = \"index.html\"\n",
    "\t}\n",
    "\tf, err := os.Create(local)\n",
    "\tif err != nil {\n",
    "\t\treturn \"\", 0, err\n",
    "\t}\n",
    "\tn, err = io.Copy(f, resp.Body)\n",
    "\t// Close file, but prefer error from Copy, if any.\n",
    "\tif closeErr := f.Close(); err == nil {\n",
    "\t\terr = closeErr\n",
    "\t}\n",
    "\treturn local, n, err\n",
    "}\n",
    "\n",
    "//!-\n",
    "%args http://gopl.io\n",
    "func main() {\n",
    "\tfor _, url := range os.Args[1:] {\n",
    "\t\tlocal, n, err := fetch(url)\n",
    "\t\tif err != nil {\n",
    "\t\t\tfmt.Fprintf(os.Stderr, \"fetch %s: %v\\n\", url, err)\n",
    "\t\t\tcontinue\n",
    "\t\t}\n",
    "\t\tfmt.Fprintf(os.Stderr, \"%s => %s (%d bytes).\\n\", url, local, n)\n",
    "\t}\n",
    "}\n",
    "\n",
    "//os.Args = []string{\"fetch\",\"http://gopl.io\"}\n",
    "//main()"
   ]
  },
  {
   "cell_type": "code",
   "execution_count": null,
   "metadata": {
    "slideshow": {
     "slide_type": "subslide"
    }
   },
   "outputs": [],
   "source": [
    "//a risky situation to run out of the file descriptor\n",
    "for _, filename := range filenames {\n",
    "    f, err := os.Open(filename)\n",
    "    if err != nil {\n",
    "        return err\n",
    "    }\n",
    "    defer f.Close() // NOTE: risky; could run out of file descriptors\n",
    "    // ... process f ...\n",
    "}"
   ]
  },
  {
   "cell_type": "code",
   "execution_count": null,
   "metadata": {},
   "outputs": [],
   "source": [
    "//move the defer to another function\n",
    "for _, filename := range filenames {\n",
    "    if err := doFile(filename); err != nil {\n",
    "        return err\n",
    "    }\n",
    "}\n",
    "\n",
    "func doFile(filename string) error {\n",
    "    f, err := os.Open(filename)\n",
    "    if err != nil {\n",
    "        return err\n",
    "    }\n",
    "    defer f.Close()\n",
    "    // ...process f...\n",
    "}\n"
   ]
  },
  {
   "cell_type": "markdown",
   "metadata": {
    "slideshow": {
     "slide_type": "slide"
    }
   },
   "source": [
    "## Panic\n",
    "* built-in **panic** function may be called directly for some impossible situation happens\n",
    "* For example, execution reaches a case that logically can't happen"
   ]
  },
  {
   "cell_type": "markdown",
   "metadata": {
    "slideshow": {
     "slide_type": "subslide"
    }
   },
   "source": [
    "<code>\n",
    "switch s := suit(drawCard()); s {\n",
    "case \"Spades\":   // ...\n",
    "case \"Hearts\":   // ...\n",
    "case \"Diamonds\": // ...\n",
    "case \"Clubs\":    // ...\n",
    "default:\n",
    "    panic(fmt.Sprintf(\"invalid suit %q\", s)) // Joker?\n",
    "}\n",
    "\n",
    "</code>"
   ]
  },
  {
   "cell_type": "code",
   "execution_count": 97,
   "metadata": {
    "slideshow": {
     "slide_type": "subslide"
    }
   },
   "outputs": [
    {
     "name": "stderr",
     "output_type": "stream",
     "text": [
      "panic: test\n",
      "\n",
      "goroutine 1 [running]:\n",
      "main.main()\n",
      "\t \u001b[7m[[ Cell [97] Line 2 ]]\u001b[0m /var/folders/4d/tg201k8x6yb81f_lrvt4440m0000gn/T/gonb_325c61f0/main.go:343 +0x74\n",
      "exit status 2\n"
     ]
    }
   ],
   "source": [
    "%%\n",
    "panic(\"test\")"
   ]
  },
  {
   "cell_type": "code",
   "execution_count": 98,
   "metadata": {
    "code_folding": [],
    "slideshow": {
     "slide_type": "fragment"
    }
   },
   "outputs": [
    {
     "name": "stdout",
     "output_type": "stream",
     "text": [
      "f(3)\n",
      "f(2)\n",
      "f(1)\n",
      "defer 1\n",
      "defer 2\n",
      "defer 3\n"
     ]
    },
    {
     "name": "stderr",
     "output_type": "stream",
     "text": [
      "panic: runtime error: integer divide by zero\n",
      "\n",
      "goroutine 1 [running]:\n",
      "main.f(0x104854428?)\n",
      "\t \u001b[7m[[ Cell [98] Line 4 ]]\u001b[0m /var/folders/4d/tg201k8x6yb81f_lrvt4440m0000gn/T/gonb_325c61f0/main.go:138 +0xec\n",
      "main.f(0x1)\n",
      "\t \u001b[7m[[ Cell [98] Line 6 ]]\u001b[0m /var/folders/4d/tg201k8x6yb81f_lrvt4440m0000gn/T/gonb_325c61f0/main.go:140 +0xcc\n",
      "main.f(0x2)\n",
      "\t \u001b[7m[[ Cell [98] Line 6 ]]\u001b[0m /var/folders/4d/tg201k8x6yb81f_lrvt4440m0000gn/T/gonb_325c61f0/main.go:140 +0xcc\n",
      "main.f(0x3)\n",
      "\t \u001b[7m[[ Cell [98] Line 6 ]]\u001b[0m /var/folders/4d/tg201k8x6yb81f_lrvt4440m0000gn/T/gonb_325c61f0/main.go:140 +0xcc\n",
      "main.main()\n",
      "\t \u001b[7m[[ Cell [98] Line 9 ]]\u001b[0m /var/folders/4d/tg201k8x6yb81f_lrvt4440m0000gn/T/gonb_325c61f0/main.go:347 +0x68\n",
      "exit status 2\n"
     ]
    }
   ],
   "source": [
    "//gopl.io/ch5/defer1\n",
    "\n",
    "func f(x int) {\n",
    "    fmt.Printf(\"f(%d)\\n\", x+0/x) // panics if x == 0\n",
    "    defer fmt.Printf(\"defer %d\\n\", x)\n",
    "    f(x-1)\n",
    "}\n",
    "%%\n",
    " f(3)"
   ]
  },
  {
   "cell_type": "code",
   "execution_count": 99,
   "metadata": {
    "code_folding": [],
    "slideshow": {
     "slide_type": "subslide"
    }
   },
   "outputs": [
    {
     "name": "stdout",
     "output_type": "stream",
     "text": [
      "f(3)\n",
      "f(2)\n",
      "f(1)\n",
      "defer 1\n",
      "defer 2\n",
      "defer 3\n",
      "goroutine 1 [running]:\n",
      "main.printStack()\n",
      "\t/var/folders/4d/tg201k8x6yb81f_lrvt4440m0000gn/T/gonb_325c61f0/main.go:209 +0x38\n",
      "panic({0x105166a80?, 0x10527dfd0?})\n",
      "\t/opt/homebrew/Cellar/go/1.23.1/libexec/src/runtime/panic.go:785 +0x124\n",
      "main.f(0x1051904b8?)\n",
      "\t/var/folders/4d/tg201k8x6yb81f_lrvt4440m0000gn/T/gonb_325c61f0/main.go:138 +0xec\n",
      "main.f(0x1)\n",
      "\t/var/folders/4d/tg201k8x6yb81f_lrvt4440m0000gn/T/gonb_325c61f0/main.go:140 +0xcc\n",
      "main.f(0x2)\n",
      "\t/var/folders/4d/tg201k8x6yb81f_lrvt4440m0000gn/T/gonb_325c61f0/main.go:140 +0xcc\n",
      "main.f(0x3)\n",
      "\t/var/folders/4d/tg201k8x6yb81f_lrvt4440m0000gn/T/gonb_325c61f0/main.go:140 +0xcc\n",
      "main.main()\n",
      "\t/var/folders/4d/tg201k8x6yb81f_lrvt4440m0000gn/T/gonb_325c61f0/main.go:348 +0x84\n"
     ]
    },
    {
     "name": "stderr",
     "output_type": "stream",
     "text": [
      "panic: runtime error: integer divide by zero\n",
      "\n",
      "goroutine 1 [running]:\n",
      "main.f(0x1051904b8?)\n",
      "\t \u001b[7m[[ Cell [99] Line 4 ]]\u001b[0m /var/folders/4d/tg201k8x6yb81f_lrvt4440m0000gn/T/gonb_325c61f0/main.go:138 +0xec\n",
      "main.f(0x1)\n",
      "\t \u001b[7m[[ Cell [99] Line 6 ]]\u001b[0m /var/folders/4d/tg201k8x6yb81f_lrvt4440m0000gn/T/gonb_325c61f0/main.go:140 +0xcc\n",
      "main.f(0x2)\n",
      "\t \u001b[7m[[ Cell [99] Line 6 ]]\u001b[0m /var/folders/4d/tg201k8x6yb81f_lrvt4440m0000gn/T/gonb_325c61f0/main.go:140 +0xcc\n",
      "main.f(0x3)\n",
      "\t \u001b[7m[[ Cell [99] Line 6 ]]\u001b[0m /var/folders/4d/tg201k8x6yb81f_lrvt4440m0000gn/T/gonb_325c61f0/main.go:140 +0xcc\n",
      "main.main()\n",
      "\t \u001b[7m[[ Cell [99] Line 15 ]]\u001b[0m /var/folders/4d/tg201k8x6yb81f_lrvt4440m0000gn/T/gonb_325c61f0/main.go:348 +0x84\n",
      "exit status 2\n"
     ]
    }
   ],
   "source": [
    "//gopl.io/ch5/defer2\n",
    "import \"runtime\"\n",
    "func f(x int) {\n",
    "    fmt.Printf(\"f(%d)\\n\", x+0/x) // panics if x == 0\n",
    "    defer fmt.Printf(\"defer %d\\n\", x)\n",
    "    f(x-1)\n",
    "}\n",
    "func printStack(){\n",
    "    var buf [4096]byte\n",
    "    n := runtime.Stack(buf[:], false)\n",
    "    os.Stdout.Write(buf[:n])\n",
    "}\n",
    "%%\n",
    "defer printStack()\n",
    "f(3)"
   ]
  },
  {
   "cell_type": "markdown",
   "metadata": {
    "slideshow": {
     "slide_type": "slide"
    }
   },
   "source": [
    "## Recover\n",
    "* Giving up is usually the right response to a panic, but not always. \n",
    "* If the system is panicking, **recover** ends the current state of panic and returns the panic value\n",
    "* It might be possible to recover, or at least clean up the mess before quitting. \n",
    "* A web server that encounters an unexpected problem could close the connection rather than leave the client hanging\n",
    "* During development, it might report the error to the client"
   ]
  },
  {
   "cell_type": "code",
   "execution_count": 100,
   "metadata": {
    "code_folding": [],
    "slideshow": {
     "slide_type": "subslide"
    }
   },
   "outputs": [],
   "source": [
    "// Copyright © 2016 Alan A. A. Donovan & Brian W. Kernighan.\n",
    "// License: https://creativecommons.org/licenses/by-nc-sa/4.0/\n",
    "\n",
    "// See page 153.\n",
    "\n",
    "// Title3 prints the title of an HTML document specified by a URL.\n",
    "//package main\n",
    "\n",
    "import (\n",
    "\t\"fmt\"\n",
    "\t\"net/http\"\n",
    "\t\"os\"\n",
    "\t\"strings\"\n",
    "\n",
    "\t\"golang.org/x/net/html\"\n",
    ")\n",
    "\n",
    "// Copied from gopl.io/ch5/outline2.\n",
    "func forEachNode(n *html.Node, pre, post func(n *html.Node)) {\n",
    "\tif pre != nil {\n",
    "\t\tpre(n)\n",
    "\t}\n",
    "\tfor c := n.FirstChild; c != nil; c = c.NextSibling {\n",
    "\t\tforEachNode(c, pre, post)\n",
    "\t}\n",
    "\tif post != nil {\n",
    "\t\tpost(n)\n",
    "\t}\n",
    "}"
   ]
  },
  {
   "cell_type": "markdown",
   "metadata": {
    "slideshow": {
     "slide_type": "subslide"
    }
   },
   "source": [
    "* If the built-in recover function is called within a deferred function the function containing the defer statement is panicking, \n",
    "  * recover ends the current state of panic and returns the panic value. \n",
    "  * The function that was panicking does not continue where it left off but returns normally. \n",
    "  * If recover is called at any other time, it has no effect and returns nil.\n"
   ]
  },
  {
   "cell_type": "code",
   "execution_count": 38,
   "metadata": {
    "slideshow": {
     "slide_type": "subslide"
    }
   },
   "outputs": [
    {
     "name": "stdout",
     "output_type": "stream",
     "text": [
      "func(*html.Node) (string, error)"
     ]
    }
   ],
   "source": [
    "//!+\n",
    "// soleTitle returns the text of the first non-empty title element\n",
    "// in doc, and an error if there was not exactly one.\n",
    "func soleTitle(doc *html.Node) (title string, err error) {\n",
    "\ttype bailout struct{}\n",
    "\n",
    "\tdefer func() {\n",
    "\t\tswitch p := recover(); p {\n",
    "\t\tcase nil:\n",
    "\t\t\t// no panic\n",
    "\t\tcase bailout{}:\n",
    "\t\t\t// \"expected\" panic\n",
    "\t\t\terr = fmt.Errorf(\"multiple title elements\")\n",
    "\t\tdefault:\n",
    "\t\t\tpanic(p) // unexpected panic; carry on panicking\n",
    "\t\t}\n",
    "\t}()\n",
    "\n",
    "\t// Bail out of recursion if we find more than one non-empty title.\n",
    "\tforEachNode(doc, func(n *html.Node) {\n",
    "\t\tif n.Type == html.ElementNode && n.Data == \"title\" &&\n",
    "\t\t\tn.FirstChild != nil {\n",
    "\t\t\tif title != \"\" {\n",
    "\t\t\t\tpanic(bailout{}) // multiple title elements\n",
    "\t\t\t}\n",
    "\t\t\ttitle = n.FirstChild.Data\n",
    "\t\t}\n",
    "\t}, nil)\n",
    "\tif title == \"\" {\n",
    "\t\treturn \"\", fmt.Errorf(\"no title element\")\n",
    "\t}\n",
    "\treturn title, nil\n",
    "}\n",
    "%%\n",
    "fmt.Printf(\"%T\",soleTitle)\n"
   ]
  },
  {
   "cell_type": "code",
   "execution_count": 36,
   "metadata": {
    "code_folding": [
     17
    ],
    "slideshow": {
     "slide_type": "subslide"
    }
   },
   "outputs": [],
   "source": [
    "//!-\n",
    "\n",
    "func title(url string) error {\n",
    "\tresp, err := http.Get(url)\n",
    "\tif err != nil {\n",
    "\t\treturn err\n",
    "\t}\n",
    "\n",
    "\t// Check Content-Type is HTML (e.g., \"text/html; charset=utf-8\").\n",
    "\tct := resp.Header.Get(\"Content-Type\")\n",
    "\tif ct != \"text/html\" && !strings.HasPrefix(ct, \"text/html;\") {\n",
    "\t\tresp.Body.Close()\n",
    "\t\treturn fmt.Errorf(\"%s has type %s, not text/html\", url, ct)\n",
    "\t}\n",
    "\n",
    "\tdoc, err := html.Parse(resp.Body)\n",
    "\tresp.Body.Close()\n",
    "\tif err != nil {\n",
    "\t\treturn fmt.Errorf(\"parsing %s as HTML: %v\", url, err)\n",
    "\t}\n",
    "\ttitle, err := soleTitle(doc)\n",
    "\tif err != nil {\n",
    "\t\treturn err\n",
    "\t}\n",
    "\tfmt.Println(title)\n",
    "\treturn nil\n",
    "}"
   ]
  },
  {
   "cell_type": "code",
   "execution_count": 101,
   "metadata": {
    "slideshow": {
     "slide_type": "subslide"
    }
   },
   "outputs": [
    {
     "name": "stdout",
     "output_type": "stream",
     "text": [
      "The Go Programming Language\n"
     ]
    }
   ],
   "source": [
    "%args http://gopl.io\n",
    "func main() {\n",
    "\tfor _, arg := range os.Args[1:] {\n",
    "\t\tif err := title(arg); err != nil {\n",
    "\t\t\tfmt.Fprintf(os.Stderr, \"title: %v\\n\", err)\n",
    "\t\t}\n",
    "\t}\n",
    "}\n",
    "\n",
    "//os.Args = []string{\"title3\",\"http://gopl.io\"}\n",
    "//main()"
   ]
  },
  {
   "cell_type": "code",
   "execution_count": null,
   "metadata": {},
   "outputs": [],
   "source": []
  }
 ],
 "metadata": {
  "celltoolbar": "Slideshow",
  "kernelspec": {
   "display_name": "Go (gonb)",
   "language": "go",
   "name": "gonb"
  },
  "language_info": {
   "codemirror_mode": "",
   "file_extension": ".go",
   "mimetype": "",
   "name": "go",
   "nbconvert_exporter": "",
   "pygments_lexer": "",
   "version": "go1.21.1"
  },
  "latex_envs": {
   "LaTeX_envs_menu_present": true,
   "autoclose": false,
   "autocomplete": true,
   "bibliofile": "biblio.bib",
   "cite_by": "apalike",
   "current_citInitial": 1,
   "eqLabelWithNumbers": true,
   "eqNumInitial": 1,
   "hotkeys": {
    "equation": "Ctrl-E",
    "itemize": "Ctrl-I"
   },
   "labels_anchors": false,
   "latex_user_defs": false,
   "report_style_numbering": false,
   "user_envs_cfg": false
  },
  "rise": {
   "enable_chalkboard": true,
   "scroll": true,
   "theme": "sky"
  },
  "toc": {
   "base_numbering": "5",
   "nav_menu": {
    "height": "202px",
    "width": "234px"
   },
   "number_sections": true,
   "sideBar": true,
   "skip_h1_title": false,
   "title_cell": "Table of Contents",
   "title_sidebar": "Contents",
   "toc_cell": true,
   "toc_position": {},
   "toc_section_display": true,
   "toc_window_display": false
  }
 },
 "nbformat": 4,
 "nbformat_minor": 4
}
