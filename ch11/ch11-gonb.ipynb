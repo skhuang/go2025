{
 "cells": [
  {
   "cell_type": "markdown",
   "metadata": {
    "slideshow": {
     "slide_type": "slide"
    },
    "toc": true
   },
   "source": [
    "<h1>Table of Contents<span class=\"tocSkip\"></span></h1>\n",
    "<div class=\"toc\"><ul class=\"toc-item\"><li><span><a href=\"#Testing\" data-toc-modified-id=\"Testing-11\"><span class=\"toc-item-num\">11&nbsp;&nbsp;</span>Testing</a></span><ul class=\"toc-item\"><li><span><a href=\"#The-go-test-Tool\" data-toc-modified-id=\"The-go-test-Tool-11.1\"><span class=\"toc-item-num\">11.1&nbsp;&nbsp;</span>The go test Tool</a></span></li><li><span><a href=\"#Test-Functions\" data-toc-modified-id=\"Test-Functions-11.2\"><span class=\"toc-item-num\">11.2&nbsp;&nbsp;</span>Test Functions</a></span><ul class=\"toc-item\"><li><span><a href=\"#More-Testing\" data-toc-modified-id=\"More-Testing-11.2.1\"><span class=\"toc-item-num\">11.2.1&nbsp;&nbsp;</span>More Testing</a></span><ul class=\"toc-item\"><li><span><a href=\"#Rewrite-the-functions\" data-toc-modified-id=\"Rewrite-the-functions-11.2.1.1\"><span class=\"toc-item-num\">11.2.1.1&nbsp;&nbsp;</span>Rewrite the functions</a></span></li></ul></li><li><span><a href=\"#Table-driven-testing\" data-toc-modified-id=\"Table-driven-testing-11.2.2\"><span class=\"toc-item-num\">11.2.2&nbsp;&nbsp;</span>Table-driven testing</a></span></li><li><span><a href=\"#Randomized-Testing\" data-toc-modified-id=\"Randomized-Testing-11.2.3\"><span class=\"toc-item-num\">11.2.3&nbsp;&nbsp;</span>Randomized Testing</a></span></li><li><span><a href=\"#Testing-a-Command\" data-toc-modified-id=\"Testing-a-Command-11.2.4\"><span class=\"toc-item-num\">11.2.4&nbsp;&nbsp;</span>Testing a Command</a></span></li><li><span><a href=\"#White-Box-Testing\" data-toc-modified-id=\"White-Box-Testing-11.2.5\"><span class=\"toc-item-num\">11.2.5&nbsp;&nbsp;</span>White-Box Testing</a></span></li><li><span><a href=\"#Gomock\" data-toc-modified-id=\"Gomock-11.2.6\"><span class=\"toc-item-num\">11.2.6&nbsp;&nbsp;</span>Gomock</a></span></li></ul></li><li><span><a href=\"#Coverage\" data-toc-modified-id=\"Coverage-11.3\"><span class=\"toc-item-num\">11.3&nbsp;&nbsp;</span>Coverage</a></span></li><li><span><a href=\"#Benchmark-Functions\" data-toc-modified-id=\"Benchmark-Functions-11.4\"><span class=\"toc-item-num\">11.4&nbsp;&nbsp;</span>Benchmark Functions</a></span></li><li><span><a href=\"#Profiling\" data-toc-modified-id=\"Profiling-11.5\"><span class=\"toc-item-num\">11.5&nbsp;&nbsp;</span>Profiling</a></span></li><li><span><a href=\"#Example-Functions\" data-toc-modified-id=\"Example-Functions-11.6\"><span class=\"toc-item-num\">11.6&nbsp;&nbsp;</span>Example Functions</a></span></li><li><span><a href=\"#Fuzz-Testing\" data-toc-modified-id=\"Fuzz-Testing-11.7\"><span class=\"toc-item-num\">11.7&nbsp;&nbsp;</span>Fuzz Testing</a></span><ul class=\"toc-item\"><li><span><a href=\"#Fix-the-double-reverse-error\" data-toc-modified-id=\"Fix-the-double-reverse-error-11.7.1\"><span class=\"toc-item-num\">11.7.1&nbsp;&nbsp;</span>Fix the double reverse error</a></span></li><li><span><a href=\"#Fix-the-error\" data-toc-modified-id=\"Fix-the-error-11.7.2\"><span class=\"toc-item-num\">11.7.2&nbsp;&nbsp;</span>Fix the error</a></span></li></ul></li></ul></li></ul></div>"
   ]
  },
  {
   "cell_type": "markdown",
   "metadata": {
    "slideshow": {
     "slide_type": "slide"
    }
   },
   "source": [
    "# Testing"
   ]
  },
  {
   "cell_type": "markdown",
   "metadata": {
    "slideshow": {
     "slide_type": "subslide"
    }
   },
   "source": [
    "## The go test Tool"
   ]
  },
  {
   "cell_type": "code",
   "execution_count": 4,
   "metadata": {
    "slideshow": {
     "slide_type": "subslide"
    }
   },
   "outputs": [
    {
     "name": "stdout",
     "output_type": "stream",
     "text": [
      "usage: go test [build/test flags] [packages] [build/test flags & test binary flags]\n",
      "\n",
      "'Go test' automates testing the packages named by the import paths.\n",
      "It prints a summary of the test results in the format:\n",
      "\n",
      "\tok   archive/tar   0.011s\n",
      "\tFAIL archive/zip   0.022s\n",
      "\tok   compress/gzip 0.033s\n",
      "\t...\n",
      "\n",
      "followed by detailed output for each failed package.\n",
      "\n",
      "'Go test' recompiles each package along with any files with names matching\n",
      "the file pattern \"*_test.go\".\n",
      "These additional files can contain test functions, benchmark functions, fuzz\n",
      "tests and example functions. See 'go help testfunc' for more.\n",
      "Each listed package causes the execution of a separate test binary.\n",
      "Files whose names begin with \"_\" (including \"_test.go\") or \".\" are ignored.\n",
      "\n",
      "Test files that declare a package with the suffix \"_test\" will be compiled as a\n",
      "separate package, and then linked and run with the main test binary.\n",
      "\n",
      "The go tool will ignore a directory named \"testdata\", making it available\n",
      "to hold ancillary data needed by the tests.\n",
      "\n",
      "As part of building a test binary, go test runs go vet on the package\n",
      "and its test source files to identify significant problems. If go vet\n",
      "finds any problems, go test reports those and does not run the test\n",
      "binary. Only a high-confidence subset of the default go vet checks are\n",
      "used. That subset is: atomic, bool, buildtags, directive, errorsas,\n",
      "ifaceassert, nilfunc, printf, and stringintconv. You can see\n",
      "the documentation for these and other vet tests via \"go doc cmd/vet\".\n",
      "To disable the running of go vet, use the -vet=off flag. To run all\n",
      "checks, use the -vet=all flag.\n",
      "\n",
      "All test output and summary lines are printed to the go command's\n",
      "standard output, even if the test printed them to its own standard\n",
      "error. (The go command's standard error is reserved for printing\n",
      "errors building the tests.)\n",
      "\n",
      "The go command places $GOROOT/bin at the beginning of $PATH\n",
      "in the test's environment, so that tests that execute\n",
      "'go' commands use the same 'go' as the parent 'go test' command.\n",
      "\n",
      "Go test runs in two different modes:\n",
      "\n",
      "The first, called local directory mode, occurs when go test is\n",
      "invoked with no package arguments (for example, 'go test' or 'go\n",
      "test -v'). In this mode, go test compiles the package sources and\n",
      "tests found in the current directory and then runs the resulting\n",
      "test binary. In this mode, caching (discussed below) is disabled.\n",
      "After the package test finishes, go test prints a summary line\n",
      "showing the test status ('ok' or 'FAIL'), package name, and elapsed\n",
      "time.\n",
      "\n",
      "The second, called package list mode, occurs when go test is invoked\n",
      "with explicit package arguments (for example 'go test math', 'go\n",
      "test ./...', and even 'go test .'). In this mode, go test compiles\n",
      "and tests each of the packages listed on the command line. If a\n",
      "package test passes, go test prints only the final 'ok' summary\n",
      "line. If a package test fails, go test prints the full test output.\n",
      "If invoked with the -bench or -v flag, go test prints the full\n",
      "output even for passing package tests, in order to display the\n",
      "requested benchmark results or verbose logging. After the package\n",
      "tests for all of the listed packages finish, and their output is\n",
      "printed, go test prints a final 'FAIL' status if any package test\n",
      "has failed.\n",
      "\n",
      "In package list mode only, go test caches successful package test\n",
      "results to avoid unnecessary repeated running of tests. When the\n",
      "result of a test can be recovered from the cache, go test will\n",
      "redisplay the previous output instead of running the test binary\n",
      "again. When this happens, go test prints '(cached)' in place of the\n",
      "elapsed time in the summary line.\n",
      "\n",
      "The rule for a match in the cache is that the run involves the same\n",
      "test binary and the flags on the command line come entirely from a\n",
      "restricted set of 'cacheable' test flags, defined as -benchtime, -cpu,\n",
      "-list, -parallel, -run, -short, -timeout, -failfast, -fullpath and -v.\n",
      "If a run of go test has any test or non-test flags outside this set,\n",
      "the result is not cached. To disable test caching, use any test flag\n",
      "or argument other than the cacheable flags. The idiomatic way to disable\n",
      "test caching explicitly is to use -count=1. Tests that open files within\n",
      "the package's source root (usually $GOPATH) or that consult environment\n",
      "variables only match future runs in which the files and environment\n",
      "variables are unchanged. A cached test result is treated as executing\n",
      "in no time at all, so a successful package test result will be cached and\n",
      "reused regardless of -timeout setting.\n",
      "\n",
      "In addition to the build flags, the flags handled by 'go test' itself are:\n",
      "\n",
      "\t-args\n",
      "\t    Pass the remainder of the command line (everything after -args)\n",
      "\t    to the test binary, uninterpreted and unchanged.\n",
      "\t    Because this flag consumes the remainder of the command line,\n",
      "\t    the package list (if present) must appear before this flag.\n",
      "\n",
      "\t-c\n",
      "\t    Compile the test binary to pkg.test in the current directory but do not run it\n",
      "\t    (where pkg is the last element of the package's import path).\n",
      "\t    The file name or target directory can be changed with the -o flag.\n",
      "\n",
      "\t-exec xprog\n",
      "\t    Run the test binary using xprog. The behavior is the same as\n",
      "\t    in 'go run'. See 'go help run' for details.\n",
      "\n",
      "\t-json\n",
      "\t    Convert test output to JSON suitable for automated processing.\n",
      "\t    See 'go doc test2json' for the encoding details.\n",
      "\n",
      "\t-o file\n",
      "\t    Compile the test binary to the named file.\n",
      "\t    The test still runs (unless -c or -i is specified).\n",
      "\t    If file ends in a slash or names an existing directory,\n",
      "\t    the test is written to pkg.test in that directory.\n",
      "\n",
      "The test binary also accepts flags that control execution of the test; these\n",
      "flags are also accessible by 'go test'. See 'go help testflag' for details.\n",
      "\n",
      "For more about build flags, see 'go help build'.\n",
      "For more about specifying packages, see 'go help packages'.\n",
      "\n",
      "See also: go build, go vet.\n"
     ]
    }
   ],
   "source": [
    "!go help test"
   ]
  },
  {
   "cell_type": "code",
   "execution_count": 5,
   "metadata": {
    "slideshow": {
     "slide_type": "subslide"
    }
   },
   "outputs": [
    {
     "name": "stdout",
     "output_type": "stream",
     "text": [
      "The 'go test' command takes both flags that apply to 'go test' itself\n",
      "and flags that apply to the resulting test binary.\n",
      "\n",
      "Several of the flags control profiling and write an execution profile\n",
      "suitable for \"go tool pprof\"; run \"go tool pprof -h\" for more\n",
      "information. The --alloc_space, --alloc_objects, and --show_bytes\n",
      "options of pprof control how the information is presented.\n",
      "\n",
      "The following flags are recognized by the 'go test' command and\n",
      "control the execution of any test:\n",
      "\n",
      "\t-bench regexp\n",
      "\t    Run only those benchmarks matching a regular expression.\n",
      "\t    By default, no benchmarks are run.\n",
      "\t    To run all benchmarks, use '-bench .' or '-bench=.'.\n",
      "\t    The regular expression is split by unbracketed slash (/)\n",
      "\t    characters into a sequence of regular expressions, and each\n",
      "\t    part of a benchmark's identifier must match the corresponding\n",
      "\t    element in the sequence, if any. Possible parents of matches\n",
      "\t    are run with b.N=1 to identify sub-benchmarks. For example,\n",
      "\t    given -bench=X/Y, top-level benchmarks matching X are run\n",
      "\t    with b.N=1 to find any sub-benchmarks matching Y, which are\n",
      "\t    then run in full.\n",
      "\n",
      "\t-benchtime t\n",
      "\t    Run enough iterations of each benchmark to take t, specified\n",
      "\t    as a time.Duration (for example, -benchtime 1h30s).\n",
      "\t    The default is 1 second (1s).\n",
      "\t    The special syntax Nx means to run the benchmark N times\n",
      "\t    (for example, -benchtime 100x).\n",
      "\n",
      "\t-count n\n",
      "\t    Run each test, benchmark, and fuzz seed n times (default 1).\n",
      "\t    If -cpu is set, run n times for each GOMAXPROCS value.\n",
      "\t    Examples are always run once. -count does not apply to\n",
      "\t    fuzz tests matched by -fuzz.\n",
      "\n",
      "\t-cover\n",
      "\t    Enable coverage analysis.\n",
      "\t    Note that because coverage works by annotating the source\n",
      "\t    code before compilation, compilation and test failures with\n",
      "\t    coverage enabled may report line numbers that don't correspond\n",
      "\t    to the original sources.\n",
      "\n",
      "\t-covermode set,count,atomic\n",
      "\t    Set the mode for coverage analysis for the package[s]\n",
      "\t    being tested. The default is \"set\" unless -race is enabled,\n",
      "\t    in which case it is \"atomic\".\n",
      "\t    The values:\n",
      "\t\tset: bool: does this statement run?\n",
      "\t\tcount: int: how many times does this statement run?\n",
      "\t\tatomic: int: count, but correct in multithreaded tests;\n",
      "\t\t\tsignificantly more expensive.\n",
      "\t    Sets -cover.\n",
      "\n",
      "\t-coverpkg pattern1,pattern2,pattern3\n",
      "\t    Apply coverage analysis in each test to packages matching the patterns.\n",
      "\t    The default is for each test to analyze only the package being tested.\n",
      "\t    See 'go help packages' for a description of package patterns.\n",
      "\t    Sets -cover.\n",
      "\n",
      "\t-cpu 1,2,4\n",
      "\t    Specify a list of GOMAXPROCS values for which the tests, benchmarks or\n",
      "\t    fuzz tests should be executed. The default is the current value\n",
      "\t    of GOMAXPROCS. -cpu does not apply to fuzz tests matched by -fuzz.\n",
      "\n",
      "\t-failfast\n",
      "\t    Do not start new tests after the first test failure.\n",
      "\n",
      "\t-fullpath\n",
      "\t    Show full file names in the error messages.\n",
      "\n",
      "\t-fuzz regexp\n",
      "\t    Run the fuzz test matching the regular expression. When specified,\n",
      "\t    the command line argument must match exactly one package within the\n",
      "\t    main module, and regexp must match exactly one fuzz test within\n",
      "\t    that package. Fuzzing will occur after tests, benchmarks, seed corpora\n",
      "\t    of other fuzz tests, and examples have completed. See the Fuzzing\n",
      "\t    section of the testing package documentation for details.\n",
      "\n",
      "\t-fuzztime t\n",
      "\t    Run enough iterations of the fuzz target during fuzzing to take t,\n",
      "\t    specified as a time.Duration (for example, -fuzztime 1h30s).\n",
      "\t\tThe default is to run forever.\n",
      "\t    The special syntax Nx means to run the fuzz target N times\n",
      "\t    (for example, -fuzztime 1000x).\n",
      "\n",
      "\t-fuzzminimizetime t\n",
      "\t    Run enough iterations of the fuzz target during each minimization\n",
      "\t    attempt to take t, as specified as a time.Duration (for example,\n",
      "\t    -fuzzminimizetime 30s).\n",
      "\t\tThe default is 60s.\n",
      "\t    The special syntax Nx means to run the fuzz target N times\n",
      "\t    (for example, -fuzzminimizetime 100x).\n",
      "\n",
      "\t-json\n",
      "\t    Log verbose output and test results in JSON. This presents the\n",
      "\t    same information as the -v flag in a machine-readable format.\n",
      "\n",
      "\t-list regexp\n",
      "\t    List tests, benchmarks, fuzz tests, or examples matching the regular\n",
      "\t    expression. No tests, benchmarks, fuzz tests, or examples will be run.\n",
      "\t    This will only list top-level tests. No subtest or subbenchmarks will be\n",
      "\t    shown.\n",
      "\n",
      "\t-parallel n\n",
      "\t    Allow parallel execution of test functions that call t.Parallel, and\n",
      "\t    fuzz targets that call t.Parallel when running the seed corpus.\n",
      "\t    The value of this flag is the maximum number of tests to run\n",
      "\t    simultaneously.\n",
      "\t    While fuzzing, the value of this flag is the maximum number of\n",
      "\t    subprocesses that may call the fuzz function simultaneously, regardless of\n",
      "\t    whether T.Parallel is called.\n",
      "\t    By default, -parallel is set to the value of GOMAXPROCS.\n",
      "\t    Setting -parallel to values higher than GOMAXPROCS may cause degraded\n",
      "\t    performance due to CPU contention, especially when fuzzing.\n",
      "\t    Note that -parallel only applies within a single test binary.\n",
      "\t    The 'go test' command may run tests for different packages\n",
      "\t    in parallel as well, according to the setting of the -p flag\n",
      "\t    (see 'go help build').\n",
      "\n",
      "\t-run regexp\n",
      "\t    Run only those tests, examples, and fuzz tests matching the regular\n",
      "\t    expression. For tests, the regular expression is split by unbracketed\n",
      "\t    slash (/) characters into a sequence of regular expressions, and each\n",
      "\t    part of a test's identifier must match the corresponding element in\n",
      "\t    the sequence, if any. Note that possible parents of matches are\n",
      "\t    run too, so that -run=X/Y matches and runs and reports the result\n",
      "\t    of all tests matching X, even those without sub-tests matching Y,\n",
      "\t    because it must run them to look for those sub-tests.\n",
      "\t    See also -skip.\n",
      "\n",
      "\t-short\n",
      "\t    Tell long-running tests to shorten their run time.\n",
      "\t    It is off by default but set during all.bash so that installing\n",
      "\t    the Go tree can run a sanity check but not spend time running\n",
      "\t    exhaustive tests.\n",
      "\n",
      "\t-shuffle off,on,N\n",
      "\t    Randomize the execution order of tests and benchmarks.\n",
      "\t    It is off by default. If -shuffle is set to on, then it will seed\n",
      "\t    the randomizer using the system clock. If -shuffle is set to an\n",
      "\t    integer N, then N will be used as the seed value. In both cases,\n",
      "\t    the seed will be reported for reproducibility.\n",
      "\n",
      "\t-skip regexp\n",
      "\t    Run only those tests, examples, fuzz tests, and benchmarks that\n",
      "\t    do not match the regular expression. Like for -run and -bench,\n",
      "\t    for tests and benchmarks, the regular expression is split by unbracketed\n",
      "\t    slash (/) characters into a sequence of regular expressions, and each\n",
      "\t    part of a test's identifier must match the corresponding element in\n",
      "\t    the sequence, if any.\n",
      "\n",
      "\t-timeout d\n",
      "\t    If a test binary runs longer than duration d, panic.\n",
      "\t    If d is 0, the timeout is disabled.\n",
      "\t    The default is 10 minutes (10m).\n",
      "\n",
      "\t-v\n",
      "\t    Verbose output: log all tests as they are run. Also print all\n",
      "\t    text from Log and Logf calls even if the test succeeds.\n",
      "\n",
      "\t-vet list\n",
      "\t    Configure the invocation of \"go vet\" during \"go test\"\n",
      "\t    to use the comma-separated list of vet checks.\n",
      "\t    If list is empty, \"go test\" runs \"go vet\" with a curated list of\n",
      "\t    checks believed to be always worth addressing.\n",
      "\t    If list is \"off\", \"go test\" does not run \"go vet\" at all.\n",
      "\n",
      "The following flags are also recognized by 'go test' and can be used to\n",
      "profile the tests during execution:\n",
      "\n",
      "\t-benchmem\n",
      "\t    Print memory allocation statistics for benchmarks.\n",
      "\t    Allocations made in C or using C.malloc are not counted.\n",
      "\n",
      "\t-blockprofile block.out\n",
      "\t    Write a goroutine blocking profile to the specified file\n",
      "\t    when all tests are complete.\n",
      "\t    Writes test binary as -c would.\n",
      "\n",
      "\t-blockprofilerate n\n",
      "\t    Control the detail provided in goroutine blocking profiles by\n",
      "\t    calling runtime.SetBlockProfileRate with n.\n",
      "\t    See 'go doc runtime.SetBlockProfileRate'.\n",
      "\t    The profiler aims to sample, on average, one blocking event every\n",
      "\t    n nanoseconds the program spends blocked. By default,\n",
      "\t    if -test.blockprofile is set without this flag, all blocking events\n",
      "\t    are recorded, equivalent to -test.blockprofilerate=1.\n",
      "\n",
      "\t-coverprofile cover.out\n",
      "\t    Write a coverage profile to the file after all tests have passed.\n",
      "\t    Sets -cover.\n",
      "\n",
      "\t-cpuprofile cpu.out\n",
      "\t    Write a CPU profile to the specified file before exiting.\n",
      "\t    Writes test binary as -c would.\n",
      "\n",
      "\t-memprofile mem.out\n",
      "\t    Write an allocation profile to the file after all tests have passed.\n",
      "\t    Writes test binary as -c would.\n",
      "\n",
      "\t-memprofilerate n\n",
      "\t    Enable more precise (and expensive) memory allocation profiles by\n",
      "\t    setting runtime.MemProfileRate. See 'go doc runtime.MemProfileRate'.\n",
      "\t    To profile all memory allocations, use -test.memprofilerate=1.\n",
      "\n",
      "\t-mutexprofile mutex.out\n",
      "\t    Write a mutex contention profile to the specified file\n",
      "\t    when all tests are complete.\n",
      "\t    Writes test binary as -c would.\n",
      "\n",
      "\t-mutexprofilefraction n\n",
      "\t    Sample 1 in n stack traces of goroutines holding a\n",
      "\t    contended mutex.\n",
      "\n",
      "\t-outputdir directory\n",
      "\t    Place output files from profiling in the specified directory,\n",
      "\t    by default the directory in which \"go test\" is running.\n",
      "\n",
      "\t-trace trace.out\n",
      "\t    Write an execution trace to the specified file before exiting.\n",
      "\n",
      "Each of these flags is also recognized with an optional 'test.' prefix,\n",
      "as in -test.v. When invoking the generated test binary (the result of\n",
      "'go test -c') directly, however, the prefix is mandatory.\n",
      "\n",
      "The 'go test' command rewrites or removes recognized flags,\n",
      "as appropriate, both before and after the optional package list,\n",
      "before invoking the test binary.\n",
      "\n",
      "For instance, the command\n",
      "\n",
      "\tgo test -v -myflag testdata -cpuprofile=prof.out -x\n",
      "\n",
      "will compile the test binary and then run it as\n",
      "\n",
      "\tpkg.test -test.v -myflag testdata -test.cpuprofile=prof.out\n",
      "\n",
      "(The -x flag is removed because it applies only to the go command's\n",
      "execution, not to the test itself.)\n",
      "\n",
      "The test flags that generate profiles (other than for coverage) also\n",
      "leave the test binary in pkg.test for use when analyzing the profiles.\n",
      "\n",
      "When 'go test' runs a test binary, it does so from within the\n",
      "corresponding package's source code directory. Depending on the test,\n",
      "it may be necessary to do the same when invoking a generated test\n",
      "binary directly. Because that directory may be located within the\n",
      "module cache, which may be read-only and is verified by checksums, the\n",
      "test must not write to it or any other directory within the module\n",
      "unless explicitly requested by the user (such as with the -fuzz flag,\n",
      "which writes failures to testdata/fuzz).\n",
      "\n",
      "The command-line package list, if present, must appear before any\n",
      "flag not known to the go test command. Continuing the example above,\n",
      "the package list would have to appear before -myflag, but could appear\n",
      "on either side of -v.\n",
      "\n",
      "When 'go test' runs in package list mode, 'go test' caches successful\n",
      "package test results to avoid unnecessary repeated running of tests. To\n",
      "disable test caching, use any test flag or argument other than the\n",
      "cacheable flags. The idiomatic way to disable test caching explicitly\n",
      "is to use -count=1.\n",
      "\n",
      "To keep an argument for a test binary from being interpreted as a\n",
      "known flag or a package name, use -args (see 'go help test') which\n",
      "passes the remainder of the command line through to the test binary\n",
      "uninterpreted and unaltered.\n",
      "\n",
      "For instance, the command\n",
      "\n",
      "\tgo test -v -args -x -v\n",
      "\n",
      "will compile the test binary and then run it as\n",
      "\n",
      "\tpkg.test -test.v -x -v\n",
      "\n",
      "Similarly,\n",
      "\n",
      "\tgo test -args math\n",
      "\n",
      "will compile the test binary and then run it as\n",
      "\n",
      "\tpkg.test math\n",
      "\n",
      "In the first example, the -x and the second -v are passed through to the\n",
      "test binary unchanged and with no effect on the go command itself.\n",
      "In the second example, the argument math is passed through to the test\n",
      "binary, instead of being interpreted as the package list.\n"
     ]
    }
   ],
   "source": [
    "!go help testflag"
   ]
  },
  {
   "cell_type": "markdown",
   "metadata": {
    "slideshow": {
     "slide_type": "subslide"
    }
   },
   "source": [
    "[https://pkg.go.dev/testing](https://pkg.go.dev/testing)"
   ]
  },
  {
   "cell_type": "markdown",
   "metadata": {
    "slideshow": {
     "slide_type": "slide"
    }
   },
   "source": [
    "## Test Functions"
   ]
  },
  {
   "cell_type": "code",
   "execution_count": 8,
   "metadata": {
    "slideshow": {
     "slide_type": "subslide"
    }
   },
   "outputs": [
    {
     "name": "stdout",
     "output_type": "stream",
     "text": [
      "=== RUN   TestAbs\n",
      "--- PASS: TestAbs (0.00s)\n",
      "PASS\n"
     ]
    }
   ],
   "source": [
    "import \"testing\"\n",
    "import \"math\"\n",
    "func TestAbs(t *testing.T) {\n",
    "    got := math.Abs(-1)\n",
    "    if got != 1 {\n",
    "        t.Errorf(\"Abs(-1) = %f; want 1\", got)\n",
    "    }\n",
    "}\n",
    "%test"
   ]
  },
  {
   "cell_type": "code",
   "execution_count": 9,
   "metadata": {
    "cell_style": "split",
    "slideshow": {
     "slide_type": "-"
    }
   },
   "outputs": [],
   "source": [
    "//gopl.io/ch11/word1.go\n",
    "//package word\n",
    "func IsPalindrome(s string) bool {\n",
    "  \tfor i := range s {\n",
    "\t\tif s[i] != s[len(s)-1-i] {\n",
    "\t\t\treturn false\n",
    "\t\t}\n",
    "\t}\n",
    "\treturn true\n",
    "}\n"
   ]
  },
  {
   "cell_type": "code",
   "execution_count": 10,
   "metadata": {
    "cell_style": "split",
    "slideshow": {
     "slide_type": "-"
    }
   },
   "outputs": [
    {
     "name": "stdout",
     "output_type": "stream",
     "text": [
      "=== RUN   TestNonPalindrome\n",
      "--- PASS: TestNonPalindrome (0.00s)\n",
      "=== RUN   TestPalindrome\n",
      "--- PASS: TestPalindrome (0.00s)\n",
      "PASS\n"
     ]
    }
   ],
   "source": [
    "//gopl.io/ch11/word_test.go\n",
    "//package word\n",
    "import \"testing\"\n",
    "\n",
    "func TestPalindrome(t *testing.T) {\n",
    "    if !IsPalindrome(\"detartrated\") {\n",
    "       t.Error(`IsPalindrome('detartrated') = false`)\n",
    "   }\n",
    "}\n",
    "func TestNonPalindrome(t *testing.T) {\n",
    "   if IsPalindrome(\"palindrome\") {\n",
    "      t.Error(`IsPalindrome('palindrome') = false`) \n",
    "   }\n",
    "}\n",
    "%test"
   ]
  },
  {
   "cell_type": "markdown",
   "metadata": {
    "slideshow": {
     "slide_type": "subslide"
    }
   },
   "source": [
    "### More Testing"
   ]
  },
  {
   "cell_type": "code",
   "execution_count": 11,
   "metadata": {
    "slideshow": {
     "slide_type": "subslide"
    }
   },
   "outputs": [
    {
     "name": "stdout",
     "output_type": "stream",
     "text": [
      "=== RUN   TestCanalPalindrome\n",
      "    main_test.go:64: IsPalindrome(\"A man, a plan, a canal: Panama\") = false\n",
      "--- FAIL: TestCanalPalindrome (0.00s)\n",
      "=== RUN   TestFrenchPalindrome\n",
      "    main_test.go:70: IsPalindrome(\"été\") = false\n",
      "--- FAIL: TestFrenchPalindrome (0.00s)\n",
      "FAIL\n"
     ]
    },
    {
     "name": "stderr",
     "output_type": "stream",
     "text": [
      "exit status 1\n"
     ]
    }
   ],
   "source": [
    "func TestFrenchPalindrome(t *testing.T) {\n",
    "        if !IsPalindrome(\"été\") {\n",
    "                t.Error(`IsPalindrome(\"été\") = false`)\n",
    "        }\n",
    "}\n",
    "\n",
    "func TestCanalPalindrome(t *testing.T) {\n",
    "        input := \"A man, a plan, a canal: Panama\"\n",
    "        if !IsPalindrome(input) {\n",
    "                t.Errorf(`IsPalindrome(%q) = false`, input)\n",
    "        }\n",
    "}\n",
    "%test"
   ]
  },
  {
   "cell_type": "code",
   "execution_count": 41,
   "metadata": {
    "slideshow": {
     "slide_type": "subslide"
    }
   },
   "outputs": [
    {
     "name": "stdout",
     "output_type": "stream",
     "text": [
      "=== RUN   TestNonPalindrome\n",
      "--- PASS: TestNonPalindrome (0.00s)\n",
      "=== RUN   TestPalindrome\n",
      "--- PASS: TestPalindrome (0.00s)\n",
      "PASS\n"
     ]
    }
   ],
   "source": [
    "//package word\n",
    "\n",
    "import \"testing\"\n",
    "\n",
    "func TestPalindrome(t *testing.T) {\n",
    "        if !IsPalindrome(\"detartrated\") {\n",
    "                t.Error(`IsPalindrome(\"detartrated\") = false`)\n",
    "        }\n",
    "        if !IsPalindrome(\"kayak\") {\n",
    "                t.Error(`IsPalindrome(\"kayak\") = false`)\n",
    "        }\n",
    "}\n",
    "\n",
    "func TestNonPalindrome(t *testing.T) {\n",
    "        if IsPalindrome(\"palindrome\") {\n",
    "                t.Error(`IsPalindrome(\"palindrome\") = true`)\n",
    "        }\n",
    "}\n",
    "%test"
   ]
  },
  {
   "cell_type": "code",
   "execution_count": 12,
   "metadata": {
    "slideshow": {
     "slide_type": "subslide"
    }
   },
   "outputs": [],
   "source": [
    "import \"unicode\"\n",
    "func IsPalindrome(s string) bool {\n",
    "\tvar letters []rune\n",
    "\tfor _, r := range s {\n",
    "\t\tif unicode.IsLetter(r) {\n",
    "\t\t\tletters = append(letters, unicode.ToLower(r))\n",
    "\t\t}\n",
    "\t}\n",
    "\tfor i := range letters {\n",
    "\t\tif letters[i] != letters[len(letters)-1-i] {\n",
    "\t\t\treturn false\n",
    "\t\t}\n",
    "\t}\n",
    "\treturn true\n",
    "}"
   ]
  },
  {
   "cell_type": "markdown",
   "metadata": {
    "slideshow": {
     "slide_type": "subslide"
    }
   },
   "source": [
    "<code>\n",
    "$ go test -v gopl.io/ch11/word1\n",
    "</code>"
   ]
  },
  {
   "cell_type": "code",
   "execution_count": 13,
   "metadata": {
    "slideshow": {
     "slide_type": "subslide"
    }
   },
   "outputs": [
    {
     "name": "stdout",
     "output_type": "stream",
     "text": [
      "=== RUN   TestPalindrome\n",
      "--- PASS: TestPalindrome (0.00s)\n",
      "=== RUN   TestNonPalindrome\n",
      "--- PASS: TestNonPalindrome (0.00s)\n",
      "=== RUN   TestFrenchPalindrome\n",
      "    word_test.go:32: IsPalindrome(\"été\") = false\n",
      "--- FAIL: TestFrenchPalindrome (0.00s)\n",
      "=== RUN   TestCanalPalindrome\n",
      "    word_test.go:39: IsPalindrome(\"A man, a plan, a canal: Panama\") = false\n",
      "--- FAIL: TestCanalPalindrome (0.00s)\n",
      "FAIL\n",
      "FAIL\tgopl.io/ch11/word1\t0.225s\n",
      "FAIL\n"
     ]
    },
    {
     "name": "stderr",
     "output_type": "stream",
     "text": [
      "exit status 1\n"
     ]
    }
   ],
   "source": [
    "!go test -v gopl.io/ch11/word1"
   ]
  },
  {
   "cell_type": "code",
   "execution_count": 15,
   "metadata": {
    "slideshow": {
     "slide_type": "subslide"
    }
   },
   "outputs": [
    {
     "name": "stdout",
     "output_type": "stream",
     "text": [
      "=== RUN   TestFrenchPalindrome\n",
      "    word_test.go:32: IsPalindrome(\"été\") = false\n",
      "--- FAIL: TestFrenchPalindrome (0.00s)\n",
      "=== RUN   TestCanalPalindrome\n",
      "    word_test.go:39: IsPalindrome(\"A man, a plan, a canal: Panama\") = false\n",
      "--- FAIL: TestCanalPalindrome (0.00s)\n",
      "FAIL\n",
      "FAIL\tgopl.io/ch11/word1\t0.224s\n",
      "FAIL\n"
     ]
    },
    {
     "name": "stderr",
     "output_type": "stream",
     "text": [
      "exit status 1\n"
     ]
    }
   ],
   "source": [
    "!go test -v -run=\"French|Canal\" gopl.io/ch11/word1"
   ]
  },
  {
   "cell_type": "markdown",
   "metadata": {
    "slideshow": {
     "slide_type": "slide"
    }
   },
   "source": [
    "#### Rewrite the functions"
   ]
  },
  {
   "cell_type": "code",
   "execution_count": 18,
   "metadata": {
    "cell_style": "split",
    "slideshow": {
     "slide_type": "subslide"
    }
   },
   "outputs": [],
   "source": [
    "// IsPalindrome reports whether s reads the same forward and backward.\n",
    "// Letter case is ignored, as are non-letters.\n",
    "func IsPalindrome(s string) bool {\n",
    "        //var letters []rune\n",
    "        letters := make([]rune,0, len(s))\n",
    "        for _, r := range s {\n",
    "                if unicode.IsLetter(r) {\n",
    "                        letters = append(letters, unicode.ToLower(r))\n",
    "                }\n",
    "        }\n",
    "        //for i := range letters {\n",
    "        n := len(letters)/2\n",
    "        for i :=0; i<n; i++ {\n",
    "                if letters[i] != letters[len(letters)-1-i] {\n",
    "                        return false\n",
    "                }\n",
    "        }\n",
    "        return true\n",
    "}\n"
   ]
  },
  {
   "cell_type": "code",
   "execution_count": 19,
   "metadata": {
    "cell_style": "split"
   },
   "outputs": [
    {
     "name": "stdout",
     "output_type": "stream",
     "text": [
      "=== RUN   TestCanalPalindrome\n",
      "--- PASS: TestCanalPalindrome (0.00s)\n",
      "=== RUN   TestFrenchPalindrome\n",
      "--- PASS: TestFrenchPalindrome (0.00s)\n",
      "PASS\n"
     ]
    }
   ],
   "source": [
    "func TestFrenchPalindrome(t *testing.T) {\n",
    "        if !IsPalindrome(\"été\") {\n",
    "                t.Error(`IsPalindrome(\"été\") = false`)\n",
    "        }\n",
    "}\n",
    "\n",
    "func TestCanalPalindrome(t *testing.T) {\n",
    "        input := \"A man, a plan, a canal: Panama\"\n",
    "        if !IsPalindrome(input) {\n",
    "                t.Errorf(`IsPalindrome(%q) = false`, input)\n",
    "        }\n",
    "}\n",
    "%test"
   ]
  },
  {
   "cell_type": "markdown",
   "metadata": {
    "slideshow": {
     "slide_type": "slide"
    }
   },
   "source": [
    "### Table-driven testing"
   ]
  },
  {
   "cell_type": "code",
   "execution_count": 22,
   "metadata": {
    "slideshow": {
     "slide_type": "subslide"
    }
   },
   "outputs": [
    {
     "name": "stdout",
     "output_type": "stream",
     "text": [
      "=== RUN   TestCanalPalindrome\n",
      "--- PASS: TestCanalPalindrome (0.00s)\n",
      "=== RUN   TestFrenchPalindrome\n",
      "--- PASS: TestFrenchPalindrome (0.00s)\n",
      "=== RUN   TestIsPalindrome\n",
      "--- PASS: TestIsPalindrome (0.00s)\n",
      "=== RUN   TestNonPalindrome\n",
      "--- PASS: TestNonPalindrome (0.00s)\n",
      "=== RUN   TestPalindrome\n",
      "--- PASS: TestPalindrome (0.00s)\n",
      "PASS\n"
     ]
    }
   ],
   "source": [
    "import (\n",
    "        \"fmt\"\n",
    "        \"math/rand\"\n",
    "        \"time\"\n",
    ")\n",
    "\n",
    "//!+bench\n",
    "\n",
    "import \"testing\"\n",
    "\n",
    "//!-bench\n",
    "\n",
    "//!+test\n",
    "func TestIsPalindrome(t *testing.T) {\n",
    "        var tests = []struct {\n",
    "                input string\n",
    "                want  bool\n",
    "        }{\n",
    "                {\"\", true},\n",
    "                {\"a\", true},\n",
    "                {\"aa\", true},\n",
    "                {\"ab\", false},\n",
    "                {\"kayak\", true},\n",
    "                   {\"detartrated\", true},\n",
    "                {\"A man, a plan, a canal: Panama\", true},\n",
    "                {\"Evil I did dwell; lewd did I live.\", true},\n",
    "                {\"Able was I ere I saw Elba\", true},\n",
    "                {\"été\", true},\n",
    "                {\"Et se resservir, ivresse reste.\", true},\n",
    "                {\"palindrome\", false}, // non-palindrome\n",
    "                {\"desserts\", false},   // semi-palindrome\n",
    "        }\n",
    "        for _, test := range tests {\n",
    "                if got := IsPalindrome(test.input); got != test.want {\n",
    "                        t.Errorf(\"IsPalindrome(%q) = %v\", test.input, got)\n",
    "                }\n",
    "        }\n",
    "}\n",
    "%test -test.v -test.run=Palindrome"
   ]
  },
  {
   "cell_type": "markdown",
   "metadata": {
    "slideshow": {
     "slide_type": "slide"
    }
   },
   "source": [
    "### Randomized Testing"
   ]
  },
  {
   "cell_type": "code",
   "execution_count": 23,
   "metadata": {
    "slideshow": {
     "slide_type": "subslide"
    }
   },
   "outputs": [],
   "source": [
    "import \"math/rand\"\n",
    "func randomPalindrome(rng *rand.Rand) string {\n",
    "\tn := rng.Intn(25) // random length up to 24\n",
    "\trunes := make([]rune, n)\n",
    "\tfor i := 0; i < (n+1)/2; i++ {\n",
    "\t\tr := rune(rng.Intn(0x1000)) // random rune up to '\\u0999'\n",
    "\t\trunes[i] = r\n",
    "\t\trunes[n-1-i] = r\n",
    "\t}\n",
    "\treturn string(runes)\n",
    "}"
   ]
  },
  {
   "cell_type": "code",
   "execution_count": 26,
   "metadata": {
    "slideshow": {
     "slide_type": "subslide"
    }
   },
   "outputs": [
    {
     "name": "stdout",
     "output_type": "stream",
     "text": [
      "=== RUN   TestRandomPalindromes\n",
      "    main_test.go:127: Random seed: 1733811026555066000\n",
      "--- PASS: TestRandomPalindromes (0.00s)\n",
      "PASS\n"
     ]
    }
   ],
   "source": [
    "import \"testing\"\n",
    "import \"time\"\n",
    "func TestRandomPalindromes(t *testing.T) {\n",
    "\t// Initialize a pseudo-random number generator.\n",
    "\tseed := time.Now().UTC().UnixNano()\n",
    "\tt.Logf(\"Random seed: %d\", seed)\n",
    "\trng := rand.New(rand.NewSource(seed))\n",
    "\n",
    "\tfor i := 0; i < 1000; i++ {\n",
    "\t\tp := randomPalindrome(rng)\n",
    "\t\tif !IsPalindrome(p) {\n",
    "\t\t\tt.Errorf(\"IsPalindrome(%q) = false\", p)\n",
    "\t\t}\n",
    "\t}\n",
    "}\n",
    "%test -test.v -test.run=\"RandomPalindromes\""
   ]
  },
  {
   "cell_type": "code",
   "execution_count": 27,
   "metadata": {
    "slideshow": {
     "slide_type": "subslide"
    }
   },
   "outputs": [
    {
     "name": "stdout",
     "output_type": "stream",
     "text": [
      "=== RUN   TestRandomPalindromes\n",
      "    word_test.go:92: Random seed: 1733728885003769000\n",
      "--- PASS: TestRandomPalindromes (0.00s)\n",
      "PASS\n",
      "ok  \tgopl.io/ch11/word2\t(cached)\n"
     ]
    }
   ],
   "source": [
    "!go test -v -run=\"Random\" gopl.io/ch11/word2"
   ]
  },
  {
   "cell_type": "markdown",
   "metadata": {
    "slideshow": {
     "slide_type": "slide"
    }
   },
   "source": [
    "### Testing a Command"
   ]
  },
  {
   "cell_type": "code",
   "execution_count": 29,
   "metadata": {
    "code_folding": [],
    "slideshow": {
     "slide_type": "subslide"
    }
   },
   "outputs": [
    {
     "name": "stdout",
     "output_type": "stream",
     "text": [
      "\n"
     ]
    }
   ],
   "source": [
    "//gopl.io/ch11/echo\n",
    "import (\n",
    "\t\"flag\"\n",
    "\t\"fmt\"\n",
    "\t\"io\"\n",
    "\t\"os\"\n",
    "\t\"strings\"\n",
    ")\n",
    "\n",
    "var (\n",
    "\tn = flag.Bool(\"n\", false, \"omit trailing newline\")\n",
    "\ts = flag.String(\"s\", \" \", \"separator\")\n",
    ")\n",
    "var out io.Writer = os.Stdout // modified during testing\n",
    "\n",
    "func main() {\n",
    "\tflag.Parse()\n",
    "\tif err := echo(!*n, *s, flag.Args()); err != nil {\n",
    "\t\tfmt.Fprintf(os.Stderr, \"echo: %v\\n\", err)\n",
    "\t\tos.Exit(1)\n",
    "\t}\n",
    "}\n",
    "\n",
    "func echo(newline bool, sep string, args []string) error {\n",
    "\tfmt.Fprint(out, strings.Join(args, sep))\n",
    "\tif newline {\n",
    "\t\tfmt.Fprintln(out)\n",
    "\t}\n",
    "\treturn nil\n",
    "}"
   ]
  },
  {
   "cell_type": "code",
   "execution_count": 31,
   "metadata": {
    "code_folding": [],
    "slideshow": {
     "slide_type": "subslide"
    }
   },
   "outputs": [
    {
     "name": "stdout",
     "output_type": "stream",
     "text": [
      "=== RUN   TestEcho\n",
      "--- PASS: TestEcho (0.00s)\n",
      "PASS\n"
     ]
    }
   ],
   "source": [
    "// Test of echo command.  Run with: go test gopl.io/ch11/echo\n",
    "\n",
    "//!+\n",
    "//package main\n",
    "\n",
    "import (\n",
    "\t\"bytes\"\n",
    "\t\"fmt\"\n",
    "\t\"testing\"\n",
    ")\n",
    "\n",
    "func TestEcho(t *testing.T) {\n",
    "\tvar tests = []struct {\n",
    "\t\tnewline bool\n",
    "\t\tsep     string\n",
    "\t\targs    []string\n",
    "\t\twant    string\n",
    "\t}{\n",
    "\t\t{true, \"\", []string{}, \"\\n\"},\n",
    "\t\t{false, \"\", []string{}, \"\"},\n",
    "\t\t{true, \"\\t\", []string{\"one\", \"two\", \"three\"}, \"one\\ttwo\\tthree\\n\"},\n",
    "\t\t{true, \",\", []string{\"a\", \"b\", \"c\"}, \"a,b,c\\n\"},\n",
    "\t\t{false, \":\", []string{\"1\", \"2\", \"3\"}, \"1:2:3\"},\n",
    "\t}\n",
    "\n",
    "\tfor _, test := range tests {\n",
    "\t\tdescr := fmt.Sprintf(\"echo(%v, %q, %q)\",\n",
    "\t\t\ttest.newline, test.sep, test.args)\n",
    "\n",
    "\t\tout = new(bytes.Buffer) // captured output\n",
    "\t\tif err := echo(test.newline, test.sep, test.args); err != nil {\n",
    "\t\t\tt.Errorf(\"%s failed: %v\", descr, err)\n",
    "\t\t\tcontinue\n",
    "\t\t}\n",
    "\t\tgot := out.(*bytes.Buffer).String()\n",
    "\t\tif got != test.want {\n",
    "\t\t\tt.Errorf(\"%s = %q, want %q\", descr, got, test.want)\n",
    "\t\t}\n",
    "\t}\n",
    "}\n",
    "%test -test.v -test.run=\"Echo\""
   ]
  },
  {
   "cell_type": "code",
   "execution_count": 32,
   "metadata": {
    "slideshow": {
     "slide_type": "subslide"
    }
   },
   "outputs": [
    {
     "name": "stdout",
     "output_type": "stream",
     "text": [
      "=== RUN   TestEcho\n",
      "--- PASS: TestEcho (0.00s)\n",
      "PASS\n",
      "ok  \tgopl.io/ch11/echo\t(cached)\n"
     ]
    }
   ],
   "source": [
    "!go test -v gopl.io/ch11/echo"
   ]
  },
  {
   "cell_type": "markdown",
   "metadata": {
    "slideshow": {
     "slide_type": "slide"
    }
   },
   "source": [
    "### White-Box Testing"
   ]
  },
  {
   "cell_type": "code",
   "execution_count": 33,
   "metadata": {
    "code_folding": [],
    "slideshow": {
     "slide_type": "subslide"
    }
   },
   "outputs": [],
   "source": [
    "//gopl.io/ch11/storage1\n",
    "// Copyright © 2016 Alan A. A. Donovan & Brian W. Kernighan.\n",
    "// License: https://creativecommons.org/licenses/by-nc-sa/4.0/\n",
    "\n",
    "// See page 311.\n",
    "\n",
    "// Package storage is part of a hypothetical cloud storage server.\n",
    "//!+main\n",
    "//package storage\n",
    "\n",
    "import (\n",
    "\t\"fmt\"\n",
    "\t\"log\"\n",
    "\t\"net/smtp\"\n",
    ")\n",
    "\n",
    "var usage = make(map[string]int64)\n",
    "\n",
    "func bytesInUse(username string) int64 { return usage[username] }\n",
    "\n",
    "// Email sender configuration.\n",
    "// NOTE: never put passwords in source code!\n",
    "const sender = \"notifications@example.com\"\n",
    "const password = \"correcthorsebatterystaple\"\n",
    "const hostname = \"smtp.example.com\"\n",
    "\n",
    "const template = `Warning: you are using %d bytes of storage, %d%% of your quota.`\n",
    "\n",
    "func CheckQuota(username string) {\n",
    "\tused := bytesInUse(username)\n",
    "\tconst quota = 1000000000 // 1GB\n",
    "\tpercent := 100 * used / quota\n",
    "\tif percent < 90 {\n",
    "\t\treturn // OK\n",
    "\t}\n",
    "\tmsg := fmt.Sprintf(template, used, percent)\n",
    "\tauth := smtp.PlainAuth(\"\", sender, password, hostname)\n",
    "\terr := smtp.SendMail(hostname+\":587\", auth, sender,\n",
    "\t\t[]string{username}, []byte(msg))\n",
    "\tif err != nil {\n",
    "\t\tlog.Printf(\"smtp.SendMail(%s) failed: %s\", username, err)\n",
    "\t}\n",
    "}\n",
    "\n",
    "//!-main"
   ]
  },
  {
   "cell_type": "code",
   "execution_count": 34,
   "metadata": {
    "code_folding": [],
    "slideshow": {
     "slide_type": "subslide"
    }
   },
   "outputs": [],
   "source": [
    "//gopl.io/ch11/storage2\n",
    "// Copyright © 2016 Alan A. A. Donovan & Brian W. Kernighan.\n",
    "// License: https://creativecommons.org/licenses/by-nc-sa/4.0/\n",
    "\n",
    "// See page 312.\n",
    "\n",
    "// Package storage is part of a hypothetical cloud storage server.\n",
    "//package storage\n",
    "\n",
    "import (\n",
    "\t\"fmt\"\n",
    "\t\"log\"\n",
    "\t\"net/smtp\"\n",
    ")\n",
    "\n",
    "var usage = make(map[string]int64)\n",
    "\n",
    "func bytesInUse(username string) int64 { return usage[username] }\n",
    "\n",
    "// E-mail sender configuration.\n",
    "// NOTE: never put passwords in source code!\n",
    "const sender = \"notifications@example.com\"\n",
    "const password = \"correcthorsebatterystaple\"\n",
    "const hostname = \"smtp.example.com\"\n",
    "\n",
    "const template = `Warning: you are using %d bytes of storage, %d%% of your quota.`\n",
    "\n",
    "//!+factored\n",
    "var notifyUser = func(username, msg string) {\n",
    "\tauth := smtp.PlainAuth(\"\", sender, password, hostname)\n",
    "\terr := smtp.SendMail(hostname+\":587\", auth, sender,\n",
    "\t\t[]string{username}, []byte(msg))\n",
    "\tif err != nil {\n",
    "\t\tlog.Printf(\"smtp.SendMail(%s) failed: %s\", username, err)\n",
    "\t}\n",
    "}\n",
    "\n",
    "func CheckQuota(username string) {\n",
    "\tused := bytesInUse(username)\n",
    "\tconst quota = 1000000000 // 1GB\n",
    "\tpercent := 100 * used / quota\n",
    "\tif percent < 90 {\n",
    "\t\treturn // OK\n",
    "\t}\n",
    "\tmsg := fmt.Sprintf(template, used, percent)\n",
    "\tnotifyUser(username, msg)\n",
    "}\n",
    "\n",
    "//!-factored"
   ]
  },
  {
   "cell_type": "code",
   "execution_count": 35,
   "metadata": {
    "code_folding": [],
    "slideshow": {
     "slide_type": "subslide"
    }
   },
   "outputs": [
    {
     "name": "stdout",
     "output_type": "stream",
     "text": [
      "=== RUN   TestCheckQuotaNotifiesUser\n",
      "--- PASS: TestCheckQuotaNotifiesUser (0.00s)\n",
      "PASS\n"
     ]
    }
   ],
   "source": [
    "//gopl.io/ch11/quota_test.go\n",
    "// Copyright © 2016 Alan A. A. Donovan & Brian W. Kernighan.\n",
    "// License: https://creativecommons.org/licenses/by-nc-sa/4.0/\n",
    "\n",
    "//!+test\n",
    "//package storage\n",
    "\n",
    "import (\n",
    "\t\"strings\"\n",
    "\t\"testing\"\n",
    ")\n",
    "\n",
    "func TestCheckQuotaNotifiesUser(t *testing.T) {\n",
    "\tvar notifiedUser, notifiedMsg string\n",
    "\tnotifyUser = func(user, msg string) {\n",
    "\t\tnotifiedUser, notifiedMsg = user, msg\n",
    "\t}\n",
    "\n",
    "\tconst user = \"joe@example.org\"\n",
    "\tusage[user] = 980000000 // simulate a 980MB-used condition\n",
    "\n",
    "\tCheckQuota(user)\n",
    "\tif notifiedUser == \"\" && notifiedMsg == \"\" {\n",
    "\t\tt.Fatalf(\"notifyUser not called\")\n",
    "\t}\n",
    "\tif notifiedUser != user {\n",
    "\t\tt.Errorf(\"wrong user (%s) notified, want %s\",\n",
    "\t\t\tnotifiedUser, user)\n",
    "\t}\n",
    "\tconst wantSubstring = \"98% of your quota\"\n",
    "\tif !strings.Contains(notifiedMsg, wantSubstring) {\n",
    "\t\tt.Errorf(\"unexpected notification message <<%s>>, \"+\n",
    "\t\t\t\"want substring %q\", notifiedMsg, wantSubstring)\n",
    "\t}\n",
    "}\n",
    "\n",
    "//!-test\n",
    "\n",
    "/*\n",
    "//!+defer\n",
    "func TestCheckQuotaNotifiesUser(t *testing.T) {\n",
    "\t// Save and restore original notifyUser.\n",
    "\tsaved := notifyUser\n",
    "\tdefer func() { notifyUser = saved }()\n",
    "\t// Install the test's fake notifyUser.\n",
    "\tvar notifiedUser, notifiedMsg string\n",
    "\tnotifyUser = func(user, msg string) {\n",
    "\t\tnotifiedUser, notifiedMsg = user, msg\n",
    "\t}\n",
    "\t// ...rest of test...\n",
    "}\n",
    "//!-defer\n",
    "*/\n",
    "%test"
   ]
  },
  {
   "cell_type": "code",
   "execution_count": 36,
   "metadata": {
    "slideshow": {
     "slide_type": "subslide"
    }
   },
   "outputs": [
    {
     "name": "stdout",
     "output_type": "stream",
     "text": [
      "=== RUN   TestCheckQuotaNotifiesUser\n",
      "--- PASS: TestCheckQuotaNotifiesUser (0.00s)\n",
      "PASS\n",
      "ok  \tgopl.io/ch11/storage2\t(cached)\n"
     ]
    }
   ],
   "source": [
    "!go test -v gopl.io/ch11/storage2"
   ]
  },
  {
   "cell_type": "markdown",
   "metadata": {
    "slideshow": {
     "slide_type": "slide"
    }
   },
   "source": [
    "[go library source](https://go.dev/src/fmt/)"
   ]
  },
  {
   "cell_type": "code",
   "execution_count": 37,
   "metadata": {
    "slideshow": {
     "slide_type": "subslide"
    }
   },
   "outputs": [
    {
     "name": "stdout",
     "output_type": "stream",
     "text": [
      "[doc.go errors.go format.go print.go scan.go]\n"
     ]
    }
   ],
   "source": [
    "!go list -f={{.GoFiles}} fmt\n"
   ]
  },
  {
   "cell_type": "code",
   "execution_count": 38,
   "metadata": {
    "slideshow": {
     "slide_type": "subslide"
    }
   },
   "outputs": [
    {
     "name": "stdout",
     "output_type": "stream",
     "text": [
      "[export_test.go]\n"
     ]
    }
   ],
   "source": [
    "!go list -f={{.TestGoFiles}} fmt\n"
   ]
  },
  {
   "cell_type": "code",
   "execution_count": 39,
   "metadata": {
    "scrolled": false,
    "slideshow": {
     "slide_type": "subslide"
    }
   },
   "outputs": [
    {
     "name": "stdout",
     "output_type": "stream",
     "text": [
      "[errors_test.go example_test.go fmt_test.go gostringer_example_test.go scan_test.go state_test.go stringer_example_test.go stringer_test.go]\n"
     ]
    }
   ],
   "source": [
    "!go list -f={{.XTestGoFiles}} fmt"
   ]
  },
  {
   "cell_type": "markdown",
   "metadata": {
    "slideshow": {
     "slide_type": "slide"
    }
   },
   "source": [
    "### Gomock\n",
    "* GoMock is a mocking framework for the Go programming language.\n",
    "* It integrates well with Go’s built-in testing package, but can be used in other contexts too.\n",
    "* installation\n",
    "  * go install github.com/golang/mock/gomock\n",
    "  * go install github.com/golang/mock/mockgen\n"
   ]
  },
  {
   "cell_type": "code",
   "execution_count": 40,
   "metadata": {
    "slideshow": {
     "slide_type": "subslide"
    }
   },
   "outputs": [],
   "source": [
    "type DB interface {\n",
    "        Get(key string) (int, error)\n",
    "}\n",
    "\n",
    "func GetFromDB(db DB, key string) int {\n",
    "        if value, err := db.Get(key); err == nil {\n",
    "                return value\n",
    "        }\n",
    "\n",
    "        return -1\n",
    "}\n"
   ]
  },
  {
   "cell_type": "code",
   "execution_count": 41,
   "metadata": {
    "slideshow": {
     "slide_type": "subslide"
    }
   },
   "outputs": [],
   "source": [
    "// mockgen -source=db.go -destination=db_mock.go -package=main\n",
    "// Code generated by MockGen. DO NOT EDIT.\n",
    "// Source: db.go\n",
    "\n",
    "// Package main is a generated GoMock package.\n",
    "//package main\n",
    "\n",
    "import (\n",
    "        reflect \"reflect\"\n",
    "\n",
    "        gomock \"github.com/golang/mock/gomock\"\n",
    ")\n",
    "\n",
    "// MockDB is a mock of DB interface.\n",
    "type MockDB struct {\n",
    "        ctrl     *gomock.Controller\n",
    "        recorder *MockDBMockRecorder\n",
    "}\n",
    "\n",
    "// MockDBMockRecorder is the mock recorder for MockDB.\n",
    "type MockDBMockRecorder struct {\n",
    "        mock *MockDB\n",
    "}\n",
    "// NewMockDB creates a new mock instance.\n",
    "func NewMockDB(ctrl *gomock.Controller) *MockDB {\n",
    "        mock := &MockDB{ctrl: ctrl}\n",
    "        mock.recorder = &MockDBMockRecorder{mock}\n",
    "        return mock\n",
    "}\n",
    "\n",
    "// EXPECT returns an object that allows the caller to indicate expected use.\n",
    "func (m *MockDB) EXPECT() *MockDBMockRecorder {\n",
    "        return m.recorder\n",
    "}\n",
    "\n",
    "// Get mocks base method.\n",
    "func (m *MockDB) Get(key string) (int, error) {\n",
    "        m.ctrl.T.Helper()\n",
    "        ret := m.ctrl.Call(m, \"Get\", key)\n",
    "        ret0, _ := ret[0].(int)\n",
    "        ret1, _ := ret[1].(error)\n",
    "        return ret0, ret1\n",
    "}\n",
    "\n",
    "// Get indicates an expected call of Get.\n",
    "func (mr *MockDBMockRecorder) Get(key interface{}) *gomock.Call {\n",
    "        mr.mock.ctrl.T.Helper()\n",
    "        return mr.mock.ctrl.RecordCallWithMethodType(mr.mock, \"Get\", reflect.TypeOf((*MockDB)(nil).Get), key)\n",
    "}"
   ]
  },
  {
   "cell_type": "code",
   "execution_count": 42,
   "metadata": {
    "slideshow": {
     "slide_type": "subslide"
    }
   },
   "outputs": [
    {
     "name": "stdout",
     "output_type": "stream",
     "text": [
      "=== RUN   TestGetFromDB\n",
      "--- PASS: TestGetFromDB (0.00s)\n",
      "PASS\n"
     ]
    }
   ],
   "source": [
    "import (\n",
    "        gomock \"github.com/golang/mock/gomock\"\n",
    "        \"testing\"\n",
    "        \"errors\"\n",
    ")\n",
    "func TestGetFromDB(t *testing.T) {\n",
    "        ctrl := gomock.NewController(t)\n",
    "        defer ctrl.Finish()\n",
    "\n",
    "        m := NewMockDB(ctrl)\n",
    "        m.EXPECT().Get(gomock.Eq(\"Tom\")).Return(100, errors.New(\"not exist\"))\n",
    "\n",
    "        if v := GetFromDB(m, \"Tom\"); v != -1 {\n",
    "                t.Fatal(\"expected -1, but got\", v)\n",
    "        }\n",
    "}\n",
    "%test -test.v -test.run=\"GetFromDB\""
   ]
  },
  {
   "cell_type": "markdown",
   "metadata": {
    "slideshow": {
     "slide_type": "slide"
    }
   },
   "source": [
    "## Coverage"
   ]
  },
  {
   "cell_type": "code",
   "execution_count": 43,
   "metadata": {
    "slideshow": {
     "slide_type": "subslide"
    }
   },
   "outputs": [
    {
     "name": "stdout",
     "output_type": "stream",
     "text": [
      "=== RUN   TestEval\n",
      "\n",
      "sqrt(A / pi)\n",
      "\tmap[A:87616 pi:3.141592653589793] => 167\n",
      "\n",
      "pow(x, 3) + pow(y, 3)\n",
      "\tmap[x:12 y:1] => 1729\n",
      "\tmap[x:9 y:10] => 1729\n",
      "\n",
      "5 / 9 * (F - 32)\n",
      "\tmap[F:-40] => -40\n",
      "\tmap[F:32] => 0\n",
      "\tmap[F:212] => 100\n",
      "\n",
      "-1 + -x\n",
      "\tmap[x:1] => -2\n",
      "\n",
      "-1 - x\n",
      "\tmap[x:1] => -2\n",
      "--- PASS: TestEval (0.00s)\n",
      "PASS\n"
     ]
    }
   ],
   "source": [
    "import (\"fmt\";\"math\";\"testing\")\n",
    "import (\"gopl.io/ch7/eval\")\n",
    "func TestEval(t *testing.T) {\n",
    "        tests := []struct {\n",
    "                expr string\n",
    "                env  eval.Env\n",
    "                want string\n",
    "        }{\n",
    "                {\"sqrt(A / pi)\", eval.Env{\"A\": 87616, \"pi\": math.Pi}, \"167\"},\n",
    "                {\"pow(x, 3) + pow(y, 3)\", eval.Env{\"x\": 12, \"y\": 1}, \"1729\"},\n",
    "                {\"pow(x, 3) + pow(y, 3)\", eval.Env{\"x\": 9, \"y\": 10}, \"1729\"},\n",
    "                {\"5 / 9 * (F - 32)\", eval.Env{\"F\": -40}, \"-40\"},\n",
    "                {\"5 / 9 * (F - 32)\", eval.Env{\"F\": 32}, \"0\"},\n",
    "                {\"5 / 9 * (F - 32)\", eval.Env{\"F\": 212}, \"100\"},\n",
    "                //!-Eval\n",
    "                // additional tests that don't appear in the book\n",
    "                {\"-1 + -x\", eval.Env{\"x\": 1}, \"-2\"},\n",
    "                {\"-1 - x\", eval.Env{\"x\": 1}, \"-2\"},\n",
    "                //!+Eval\n",
    "        }\n",
    "        var prevExpr string\n",
    "        for _, test := range tests {\n",
    "                // Print expr only when it changes.\n",
    "                if test.expr != prevExpr {\n",
    "                        fmt.Printf(\"\\n%s\\n\", test.expr)\n",
    "                        prevExpr = test.expr\n",
    "                }\n",
    "                expr, err := eval.Parse(test.expr)\n",
    "                if err != nil {\n",
    "                        t.Error(err) // parse error\n",
    "                        continue\n",
    "                }\n",
    "                got := fmt.Sprintf(\"%.6g\", expr.Eval(test.env))\n",
    "                fmt.Printf(\"\\t%v => %s\\n\", test.env, got)\n",
    "                if got != test.want {\n",
    "                        t.Errorf(\"%s.Eval() in %v = %q, want %q\\n\",\n",
    "                                test.expr, test.env, got, test.want)\n",
    "                }\n",
    "        }\n",
    "}\n",
    "%test "
   ]
  },
  {
   "cell_type": "markdown",
   "metadata": {
    "slideshow": {
     "slide_type": "subslide"
    }
   },
   "source": [
    "<code>\n",
    "$ go test -v -run=Coverage gopl.io/ch7/eval \n",
    "=== RUN   TestCoverage\n",
    "--- PASS: TestCoverage (0.00s)\n",
    "PASS\n",
    "ok      gopl.io/ch7/eval    0.011s\n",
    "</code>"
   ]
  },
  {
   "cell_type": "code",
   "execution_count": 44,
   "metadata": {
    "slideshow": {
     "slide_type": "subslide"
    }
   },
   "outputs": [
    {
     "name": "stdout",
     "output_type": "stream",
     "text": [
      "=== RUN   TestCoverage\n",
      "--- PASS: TestCoverage (0.00s)\n",
      "PASS\n",
      "ok  \tgopl.io/ch7/eval\t(cached)\n"
     ]
    }
   ],
   "source": [
    "!go test -v -run=Coverage gopl.io/ch7/eval "
   ]
  },
  {
   "cell_type": "markdown",
   "metadata": {
    "slideshow": {
     "slide_type": "subslide"
    }
   },
   "source": [
    "<code>\n",
    "$ go test -v -run=Coverage -coverprofile=c.out gopl.io/ch7/eval\n",
    "=== RUN   TestCoverage\n",
    "--- PASS: TestCoverage (0.00s)\n",
    "PASS\n",
    "coverage: 63.8% of statements\n",
    "ok      gopl.io/ch7/eval        0.018s  coverage: 63.8% of statements\n",
    "</code>"
   ]
  },
  {
   "cell_type": "code",
   "execution_count": 45,
   "metadata": {
    "slideshow": {
     "slide_type": "subslide"
    }
   },
   "outputs": [
    {
     "name": "stdout",
     "output_type": "stream",
     "text": [
      "=== RUN   TestCoverage\n",
      "--- PASS: TestCoverage (0.00s)\n",
      "PASS\n",
      "coverage: 63.8% of statements\n",
      "ok  \tgopl.io/ch7/eval\t0.277s\tcoverage: 63.8% of statements\n"
     ]
    }
   ],
   "source": [
    "!go test -v -run=Coverage -coverprofile=c.out gopl.io/ch7/eval"
   ]
  },
  {
   "cell_type": "markdown",
   "metadata": {
    "slideshow": {
     "slide_type": "subslide"
    }
   },
   "source": [
    "<code>\n",
    "$ go tool cover -html=c.out\n",
    "HTML output written to /tmp/cover854632247/coverage.html\n",
    "</code>"
   ]
  },
  {
   "cell_type": "code",
   "execution_count": 46,
   "metadata": {
    "slideshow": {
     "slide_type": "subslide"
    }
   },
   "outputs": [],
   "source": [
    "!go tool cover -html=c.out"
   ]
  },
  {
   "cell_type": "markdown",
   "metadata": {
    "slideshow": {
     "slide_type": "subslide"
    }
   },
   "source": [
    "[coverage.html](cover3574731311/coverage.html)"
   ]
  },
  {
   "cell_type": "markdown",
   "metadata": {
    "slideshow": {
     "slide_type": "slide"
    }
   },
   "source": [
    "## Benchmark Functions"
   ]
  },
  {
   "cell_type": "code",
   "execution_count": 47,
   "metadata": {
    "slideshow": {
     "slide_type": "subslide"
    }
   },
   "outputs": [],
   "source": [
    "func BenchmarkIsPalindrome(b *testing.B) {\n",
    "        for i := 0; i < b.N; i++ {\n",
    "                IsPalindrome(\"A man, a plan, a canal: Panama\")\n",
    "        }\n",
    "}"
   ]
  },
  {
   "cell_type": "code",
   "execution_count": 48,
   "metadata": {
    "cell_style": "split"
   },
   "outputs": [],
   "source": [
    "//word.go.1\n",
    "func IsPalindrome(s string) bool {\n",
    "        var letters []rune\n",
    "        for _, r := range s {\n",
    "                if unicode.IsLetter(r) {\n",
    "                        letters = append(letters, unicode.ToLower(r))\n",
    "                }\n",
    "        }\n",
    "        for i := range letters {\n",
    "                if letters[i] != letters[len(letters)-1-i] {\n",
    "                        return false\n",
    "                }\n",
    "        }\n",
    "        return true\n",
    "}"
   ]
  },
  {
   "cell_type": "markdown",
   "metadata": {
    "cell_style": "split",
    "slideshow": {
     "slide_type": "subslide"
    }
   },
   "source": [
    "<code>\n",
    "$ rm word.go; ln -s word.go.1 word.go; go test -bench=.\n",
    "goos: linux\n",
    "goarch: amd64\n",
    "pkg: gopl.io/ch11/word2\n",
    "cpu: Intel(R) Core(TM) i5-7200U CPU @ 2.50GHz\n",
    "BenchmarkIsPalindrome-4          3274288               376.9 ns/op\n",
    "PASS\n",
    "ok      gopl.io/ch11/word2      1.627s\n",
    "</code>"
   ]
  },
  {
   "cell_type": "code",
   "execution_count": 49,
   "metadata": {
    "slideshow": {
     "slide_type": "subslide"
    }
   },
   "outputs": [
    {
     "name": "stdout",
     "output_type": "stream",
     "text": [
      "/Users/skhuang/course/go2024/go2024/ch11\n",
      "goos: darwin\n",
      "goarch: arm64\n",
      "pkg: ch7/ch11/word2\n",
      "cpu: Apple M1 Pro\n",
      "BenchmarkIsPalindrome-10    \t 5866180\t       208.3 ns/op\n",
      "PASS\n",
      "ok  \tch7/ch11/word2\t1.670s\n"
     ]
    }
   ],
   "source": [
    "!(pwd;cd word2;rm word.go; ln -s word.go.1 word.go; go test -bench=.)"
   ]
  },
  {
   "cell_type": "markdown",
   "metadata": {
    "cell_style": "split"
   },
   "source": [
    "<code>\n",
    "rm word.go; ln -s word.go.1 word.go; go test -bench=. -benchmem\n",
    "goos: linux\n",
    "goarch: amd64\n",
    "pkg: gopl.io/ch11/word2\n",
    "cpu: Intel(R) Core(TM) i5-7200U CPU @ 2.50GHz\n",
    "BenchmarkIsPalindrome-4          2169936               545.5 ns/op           248 B/op          5 allocs/op\n",
    "PASS\n",
    "ok      gopl.io/ch11/word2      1.773s\n",
    "</code>"
   ]
  },
  {
   "cell_type": "code",
   "execution_count": 50,
   "metadata": {
    "slideshow": {
     "slide_type": "subslide"
    }
   },
   "outputs": [
    {
     "name": "stdout",
     "output_type": "stream",
     "text": [
      "goos: darwin\n",
      "goarch: arm64\n",
      "pkg: ch7/ch11/word2\n",
      "cpu: Apple M1 Pro\n",
      "BenchmarkIsPalindrome-10    \t 7086422\t       169.5 ns/op\t     248 B/op\t       5 allocs/op\n",
      "PASS\n",
      "ok  \tch7/ch11/word2\t3.410s\n"
     ]
    }
   ],
   "source": [
    "!(cd word2;rm word.go; ln -s word.go.1 word.go; go test -bench=. -benchmem)"
   ]
  },
  {
   "cell_type": "markdown",
   "metadata": {
    "slideshow": {
     "slide_type": "subslide"
    }
   },
   "source": [
    "-----------"
   ]
  },
  {
   "cell_type": "code",
   "execution_count": 51,
   "metadata": {
    "cell_style": "split"
   },
   "outputs": [],
   "source": [
    "//word.go.2\n",
    "func IsPalindrome(s string) bool {\n",
    "        var letters []rune\n",
    "        for _, r := range s {\n",
    "                if unicode.IsLetter(r) {\n",
    "                        letters = append(letters, unicode.ToLower(r))\n",
    "                }\n",
    "        }\n",
    "        //for i := range letters {\n",
    "        n := len(letters)/2\n",
    "        for i :=0; i<n; i++ {\n",
    "                if letters[i] != letters[len(letters)-1-i] {\n",
    "                        return false\n",
    "                }\n",
    "        }\n",
    "        return true\n",
    "}"
   ]
  },
  {
   "cell_type": "markdown",
   "metadata": {
    "cell_style": "split",
    "slideshow": {
     "slide_type": "subslide"
    }
   },
   "source": [
    "<code>\n",
    "$ rm word.go; ln -s word.go.2 word.go; go test -bench=.\n",
    "goos: linux\n",
    "goarch: amd64\n",
    "pkg: gopl.io/ch11/word2\n",
    "cpu: Intel(R) Core(TM) i5-7200U CPU @ 2.50GHz\n",
    "BenchmarkIsPalindrome-4          3230330               363.3 ns/op\n",
    "PASS\n",
    "ok      gopl.io/ch11/word2      1.571s\n",
    "</code>"
   ]
  },
  {
   "cell_type": "code",
   "execution_count": 53,
   "metadata": {
    "slideshow": {
     "slide_type": "subslide"
    }
   },
   "outputs": [
    {
     "name": "stdout",
     "output_type": "stream",
     "text": [
      "goos: darwin\n",
      "goarch: arm64\n",
      "pkg: ch7/ch11/word2\n",
      "cpu: Apple M1 Pro\n",
      "BenchmarkIsPalindrome-10    \t 4505208\t       223.2 ns/op\n",
      "PASS\n",
      "ok  \tch7/ch11/word2\t1.422s\n"
     ]
    }
   ],
   "source": [
    "!(cd word2;rm word.go; ln -s word.go.2 word.go; go test -bench=.)"
   ]
  },
  {
   "cell_type": "markdown",
   "metadata": {
    "cell_style": "split"
   },
   "source": [
    "<code>\n",
    "rm word.go; ln -s word.go.2 word.go; go test -bench=. -benchmem\n",
    "goos: linux\n",
    "goarch: amd64\n",
    "pkg: gopl.io/ch11/word2\n",
    "cpu: Intel(R) Core(TM) i5-7200U CPU @ 2.50GHz\n",
    "BenchmarkIsPalindrome-4          3204992               364.9 ns/op           248 B/op          5 allocs/op\n",
    "PASS\n",
    "ok      gopl.io/ch11/word2      1.574s\n",
    "    </code>"
   ]
  },
  {
   "cell_type": "code",
   "execution_count": 54,
   "metadata": {
    "slideshow": {
     "slide_type": "subslide"
    }
   },
   "outputs": [
    {
     "name": "stdout",
     "output_type": "stream",
     "text": [
      "goos: darwin\n",
      "goarch: arm64\n",
      "pkg: ch7/ch11/word2\n",
      "cpu: Apple M1 Pro\n",
      "BenchmarkIsPalindrome-10    \t 6166152\t       197.0 ns/op\t     248 B/op\t       5 allocs/op\n",
      "PASS\n",
      "ok  \tch7/ch11/word2\t1.651s\n"
     ]
    }
   ],
   "source": [
    "!(cd word2;rm word.go; ln -s word.go.2 word.go; go test -bench=. -benchmem)"
   ]
  },
  {
   "cell_type": "markdown",
   "metadata": {
    "slideshow": {
     "slide_type": "subslide"
    }
   },
   "source": [
    "----"
   ]
  },
  {
   "cell_type": "code",
   "execution_count": 55,
   "metadata": {
    "cell_style": "split"
   },
   "outputs": [],
   "source": [
    "//word.go.3\n",
    "func IsPalindrome(s string) bool {\n",
    "        //var letters []rune\n",
    "        letters := make([]rune,0, len(s))\n",
    "        for _, r := range s {\n",
    "                if unicode.IsLetter(r) {\n",
    "                        letters = append(letters, unicode.ToLower(r))\n",
    "                }\n",
    "        }\n",
    "        for i := range letters {\n",
    "                if letters[i] != letters[len(letters)-1-i] {\n",
    "                        return false\n",
    "                }\n",
    "        }\n",
    "        return true\n",
    "}"
   ]
  },
  {
   "cell_type": "markdown",
   "metadata": {
    "cell_style": "split",
    "slideshow": {
     "slide_type": "subslide"
    }
   },
   "source": [
    "<code>\n",
    "$ rm word.go; ln -s word.go.3 word.go; go test -bench=.\n",
    "goos: linux\n",
    "goarch: amd64\n",
    "pkg: gopl.io/ch11/word2\n",
    "cpu: Intel(R) Core(TM) i5-7200U CPU @ 2.50GHz\n",
    "BenchmarkIsPalindrome-4          5476538               209.7 ns/op\n",
    "PASS\n",
    "ok      gopl.io/ch11/word2      1.390s\n",
    "</code>"
   ]
  },
  {
   "cell_type": "code",
   "execution_count": 56,
   "metadata": {
    "slideshow": {
     "slide_type": "subslide"
    }
   },
   "outputs": [
    {
     "name": "stdout",
     "output_type": "stream",
     "text": [
      "goos: darwin\n",
      "goarch: arm64\n",
      "pkg: ch7/ch11/word2\n",
      "cpu: Apple M1 Pro\n",
      "BenchmarkIsPalindrome-10    \t10172282\t       110.6 ns/op\n",
      "PASS\n",
      "ok  \tch7/ch11/word2\t1.479s\n"
     ]
    }
   ],
   "source": [
    "!(cd word2;rm word.go; ln -s word.go.3 word.go; go test -bench=.)"
   ]
  },
  {
   "cell_type": "markdown",
   "metadata": {
    "cell_style": "split"
   },
   "source": [
    "<code>\n",
    "rm word.go; ln -s word.go.3 word.go; go test -bench=. -benchmem\n",
    "goos: linux\n",
    "goarch: amd64\n",
    "pkg: gopl.io/ch11/word2\n",
    "cpu: Intel(R) Core(TM) i5-7200U CPU @ 2.50GHz\n",
    "BenchmarkIsPalindrome-4          5408686               211.7 ns/op           128 B/op          1 allocs/op\n",
    "PASS\n",
    "ok      gopl.io/ch11/word2      1.390s\n",
    "</code>"
   ]
  },
  {
   "cell_type": "code",
   "execution_count": 59,
   "metadata": {
    "slideshow": {
     "slide_type": "subslide"
    }
   },
   "outputs": [
    {
     "name": "stdout",
     "output_type": "stream",
     "text": [
      "goos: darwin\n",
      "goarch: arm64\n",
      "pkg: ch7/ch11/word2\n",
      "cpu: Apple M1 Pro\n",
      "BenchmarkIsPalindrome-10    \t11202406\t       110.7 ns/op\t     128 B/op\t       1 allocs/op\n",
      "PASS\n",
      "ok  \tch7/ch11/word2\t1.558s\n"
     ]
    }
   ],
   "source": [
    "!(cd word2;rm word.go; ln -s word.go.3 word.go; go test -bench=. -benchmem)"
   ]
  },
  {
   "cell_type": "markdown",
   "metadata": {
    "slideshow": {
     "slide_type": "subslide"
    }
   },
   "source": [
    "------"
   ]
  },
  {
   "cell_type": "code",
   "execution_count": 60,
   "metadata": {
    "cell_style": "split"
   },
   "outputs": [],
   "source": [
    "//word.go.4\n",
    "func IsPalindrome(s string) bool {\n",
    "        //var letters []rune\n",
    "        letters := make([]rune,0, len(s))\n",
    "        for _, r := range s {\n",
    "                if unicode.IsLetter(r) {\n",
    "                        letters = append(letters, unicode.ToLower(r))\n",
    "                }\n",
    "        }\n",
    "        //for i := range letters {\n",
    "        n := len(letters)/2\n",
    "        for i :=0; i<n; i++ {\n",
    "                if letters[i] != letters[len(letters)-1-i] {\n",
    "                        return false\n",
    "                }\n",
    "        }\n",
    "        return true\n",
    "}"
   ]
  },
  {
   "cell_type": "markdown",
   "metadata": {
    "cell_style": "split",
    "slideshow": {
     "slide_type": "subslide"
    }
   },
   "source": [
    "<code>\n",
    "rm word.go; ln -s word.go.4 word.go; go test -bench=.\n",
    "goos: linux\n",
    "goarch: amd64\n",
    "pkg: gopl.io/ch11/word2\n",
    "cpu: Intel(R) Core(TM) i5-7200U CPU @ 2.50GHz\n",
    "BenchmarkIsPalindrome-4          5644834               191.5 ns/op\n",
    "PASS\n",
    "ok      gopl.io/ch11/word2      1.319s\n",
    "</code>"
   ]
  },
  {
   "cell_type": "code",
   "execution_count": 62,
   "metadata": {
    "slideshow": {
     "slide_type": "subslide"
    }
   },
   "outputs": [
    {
     "name": "stdout",
     "output_type": "stream",
     "text": [
      "goos: darwin\n",
      "goarch: arm64\n",
      "pkg: ch7/ch11/word2\n",
      "cpu: Apple M1 Pro\n",
      "BenchmarkIsPalindrome-10    \t12174042\t       107.3 ns/op\n",
      "PASS\n",
      "ok  \tch7/ch11/word2\t1.632s\n"
     ]
    }
   ],
   "source": [
    "!(cd word2;rm word.go; ln -s word.go.4 word.go; go test -bench=.)"
   ]
  },
  {
   "cell_type": "markdown",
   "metadata": {
    "cell_style": "split"
   },
   "source": [
    "<code>\n",
    "rm word.go; ln -s word.go.4 word.go; go test -bench=. -benchmem\n",
    "goos: linux\n",
    "goarch: amd64\n",
    "pkg: gopl.io/ch11/word2\n",
    "cpu: Intel(R) Core(TM) i5-7200U CPU @ 2.50GHz\n",
    "BenchmarkIsPalindrome-4          5759314               194.2 ns/op           128 B/op          1 allocs/op\n",
    "PASS\n",
    "ok      gopl.io/ch11/word2      1.354s\n",
    "</code>"
   ]
  },
  {
   "cell_type": "code",
   "execution_count": 63,
   "metadata": {
    "slideshow": {
     "slide_type": "subslide"
    }
   },
   "outputs": [
    {
     "name": "stdout",
     "output_type": "stream",
     "text": [
      "goos: darwin\n",
      "goarch: arm64\n",
      "pkg: ch7/ch11/word2\n",
      "cpu: Apple M1 Pro\n",
      "BenchmarkIsPalindrome-10    \t11736342\t        98.88 ns/op\t     128 B/op\t       1 allocs/op\n",
      "PASS\n",
      "ok  \tch7/ch11/word2\t1.485s\n"
     ]
    }
   ],
   "source": [
    "!(cd word2;rm word.go; ln -s word.go.4 word.go; go test -bench=. -benchmem)"
   ]
  },
  {
   "cell_type": "markdown",
   "metadata": {
    "slideshow": {
     "slide_type": "slide"
    }
   },
   "source": [
    "## Profiling"
   ]
  },
  {
   "cell_type": "markdown",
   "metadata": {
    "slideshow": {
     "slide_type": "subslide"
    }
   },
   "source": [
    "<code>\n",
    "$ ulimit -n 4000\n",
    "$ go test -run=NONE -bench=ClientServerParallelTLS64 -cpuprofile=cpu.log net/http\n",
    "PASS\n",
    "goos: linux\n",
    "goarch: amd64\n",
    "pkg: net/http\n",
    "cpu: Intel(R) Xeon(R) CPU           X5675  @ 3.07GHz\n",
    "BenchmarkClientServerParallelTLS64-4    2021/12/21 16:37:16 http: TLS handshake error fr\n",
    "om 127.0.0.1:42421: read tcp 127.0.0.1:36819->127.0.0.1:42421: use of closed network con\n",
    "nection\n",
    "2021/12/21 16:37:16 http: TLS handshake error from 127.0.0.1:42450: read tcp 127.0.0.1:3\n",
    "6819->127.0.0.1:42450: use of closed network connection\n",
    "2021/12/21 16:37:16 http: TLS handshake error from 127.0.0.1:42463: read tcp 127.0.0.1:3\n",
    "6819->127.0.0.1:42463: use of closed network connection\n",
    "2021/12/21 16:37:16 http: TLS handshake error from 127.0.0.1:42454: write tcp 127.0.0.1:\n",
    "36819->127.0.0.1:42454: use of closed network connection\n",
    "2021/12/21 16:37:16 http: TLS handshake error from 127.0.0.1:42481: read tcp 127.0.0.1:3\n",
    "6819->127.0.0.1:42481: use of closed network connection\n",
    "2021/12/21 16:37:16 http: TLS handshake error from 127.0.0.1:42483: read tcp 127.0.0.1:3\n",
    "6819->127.0.0.1:42483: use of closed network connection\n",
    "2021/12/21 16:37:16 http: TLS handshake error from 127.0.0.1:42456: write tcp 127.0.0.1:\n",
    "36819->127.0.0.1:42456: use of closed network connection\n",
    "2021/12/21 16:37:16 http: TLS handshake error from 127.0.0.1:42479: write tcp 127.0.0.1:\n",
    "36819->127.0.0.1:42479: use of closed network connection\n",
    "2021/12/21 16:37:16 http: TLS handshake error from 127.0.0.1:42471: write tcp 127.0.0.1:\n",
    "36819->127.0.0.1:42471: use of closed network connection\n",
    "</code>"
   ]
  },
  {
   "cell_type": "code",
   "execution_count": 14,
   "metadata": {
    "scrolled": false,
    "slideshow": {
     "slide_type": "subslide"
    }
   },
   "outputs": [
    {
     "name": "stdout",
     "output_type": "stream",
     "text": [
      "goos: darwin\n",
      "goarch: arm64\n",
      "pkg: net/http\n",
      "cpu: Apple M1 Pro\n",
      "BenchmarkClientServerParallel/4/h1-10         \t   42391\t    244250 ns/op\t    9181 B/op\t      82 allocs/op\n",
      "--- BENCH: BenchmarkClientServerParallel/4/h1-10\n",
      "    serve_test.go:5177: Get: Get \"http://127.0.0.1:51965\": dial tcp 127.0.0.1:51965: connect: can't assign requested address\n",
      "    serve_test.go:5177: Get: Get \"http://127.0.0.1:51965\": dial tcp 127.0.0.1:51965: connect: can't assign requested address\n",
      "    serve_test.go:5177: Get: Get \"http://127.0.0.1:51965\": dial tcp 127.0.0.1:51965: connect: can't assign requested address\n",
      "    serve_test.go:5177: Get: Get \"http://127.0.0.1:51965\": dial tcp 127.0.0.1:51965: connect: can't assign requested address\n",
      "    serve_test.go:5177: Get: Get \"http://127.0.0.1:51965\": dial tcp 127.0.0.1:51965: connect: can't assign requested address\n",
      "    serve_test.go:5177: Get: Get \"http://127.0.0.1:51965\": dial tcp 127.0.0.1:51965: connect: can't assign requested address\n",
      "    serve_test.go:5177: Get: Get \"http://127.0.0.1:51965\": dial tcp 127.0.0.1:51965: connect: can't assign requested address\n",
      "    serve_test.go:5177: Get: Get \"http://127.0.0.1:51965\": dial tcp 127.0.0.1:51965: connect: can't assign requested address\n",
      "    serve_test.go:5177: Get: Get \"http://127.0.0.1:51965\": dial tcp 127.0.0.1:51965: connect: can't assign requested address\n",
      "    serve_test.go:5177: Get: Get \"http://127.0.0.1:51965\": dial tcp 127.0.0.1:51965: connect: can't assign requested address\n",
      "\t... [output truncated]\n",
      "BenchmarkClientServerParallel/4/https1-10     \t    1300\t    859456 ns/op\t    5659 B/op\t      72 allocs/op\n",
      "--- BENCH: BenchmarkClientServerParallel/4/https1-10\n",
      "    serve_test.go:5177: Get: Get \"https://127.0.0.1:62514\": dial tcp 127.0.0.1:62514: connect: can't assign requested address\n",
      "    serve_test.go:5177: Get: Get \"https://127.0.0.1:63319\": dial tcp 127.0.0.1:63319: connect: can't assign requested address\n",
      "    serve_test.go:5177: Get: Get \"https://127.0.0.1:63319\": dial tcp 127.0.0.1:63319: connect: can't assign requested address\n",
      "    serve_test.go:5177: Get: Get \"https://127.0.0.1:63319\": dial tcp 127.0.0.1:63319: connect: can't assign requested address\n",
      "    serve_test.go:5177: Get: Get \"https://127.0.0.1:63319\": dial tcp 127.0.0.1:63319: connect: can't assign requested address\n",
      "    serve_test.go:5177: Get: Get \"https://127.0.0.1:63319\": dial tcp 127.0.0.1:63319: connect: can't assign requested address\n",
      "    serve_test.go:5177: Get: Get \"https://127.0.0.1:63319\": dial tcp 127.0.0.1:63319: connect: can't assign requested address\n",
      "    serve_test.go:5177: Get: Get \"https://127.0.0.1:63319\": dial tcp 127.0.0.1:63319: connect: can't assign requested address\n",
      "    serve_test.go:5177: Get: Get \"https://127.0.0.1:63319\": dial tcp 127.0.0.1:63319: connect: can't assign requested address\n",
      "    serve_test.go:5177: Get: Get \"https://127.0.0.1:63319\": dial tcp 127.0.0.1:63319: connect: can't assign requested address\n",
      "\t... [output truncated]\n",
      "BenchmarkClientServerParallel/4/h2-10         \t    1328\t    866508 ns/op\t    5614 B/op\t      74 allocs/op\n",
      "--- BENCH: BenchmarkClientServerParallel/4/h2-10\n",
      "    serve_test.go:5177: Get: Get \"https://127.0.0.1:64150\": dial tcp 127.0.0.1:64150: connect: can't assign requested address\n",
      "    serve_test.go:5177: Get: Get \"https://127.0.0.1:64153\": dial tcp 127.0.0.1:64153: connect: can't assign requested address\n",
      "    serve_test.go:5177: Get: Get \"https://127.0.0.1:64153\": dial tcp 127.0.0.1:64153: connect: can't assign requested address\n",
      "    serve_test.go:5177: Get: Get \"https://127.0.0.1:64153\": dial tcp 127.0.0.1:64153: connect: can't assign requested address\n",
      "    serve_test.go:5177: Get: Get \"https://127.0.0.1:64153\": dial tcp 127.0.0.1:64153: connect: can't assign requested address\n",
      "    serve_test.go:5177: Get: Get \"https://127.0.0.1:64153\": dial tcp 127.0.0.1:64153: connect: can't assign requested address\n",
      "    serve_test.go:5177: Get: Get \"https://127.0.0.1:64153\": dial tcp 127.0.0.1:64153: connect: can't assign requested address\n",
      "    serve_test.go:5177: Get: Get \"https://127.0.0.1:64153\": dial tcp 127.0.0.1:64153: connect: can't assign requested address\n",
      "    serve_test.go:5177: Get: Get \"https://127.0.0.1:64153\": dial tcp 127.0.0.1:64153: connect: can't assign requested address\n",
      "    serve_test.go:5177: Get: Get \"https://127.0.0.1:64153\": dial tcp 127.0.0.1:64153: connect: can't assign requested address\n",
      "\t... [output truncated]\n",
      "BenchmarkClientServerParallel/64/h1-10        \t    1341\t    840977 ns/op\t    5885 B/op\t      74 allocs/op\n",
      "--- BENCH: BenchmarkClientServerParallel/64/h1-10\n",
      "    serve_test.go:5177: Get: Get \"http://127.0.0.1:64238\": dial tcp 127.0.0.1:64238: connect: can't assign requested address\n",
      "    serve_test.go:5177: Get: Get \"http://127.0.0.1:65259\": dial tcp 127.0.0.1:65259: connect: can't assign requested address\n",
      "    serve_test.go:5177: Get: Get \"http://127.0.0.1:65259\": dial tcp 127.0.0.1:65259: connect: can't assign requested address\n",
      "    serve_test.go:5177: Get: Get \"http://127.0.0.1:65259\": dial tcp 127.0.0.1:65259: connect: can't assign requested address\n",
      "    serve_test.go:5177: Get: Get \"http://127.0.0.1:65259\": dial tcp 127.0.0.1:65259: connect: can't assign requested address\n",
      "    serve_test.go:5177: Get: Get \"http://127.0.0.1:65259\": dial tcp 127.0.0.1:65259: connect: can't assign requested address\n",
      "    serve_test.go:5177: Get: Get \"http://127.0.0.1:65259\": dial tcp 127.0.0.1:65259: connect: can't assign requested address\n",
      "    serve_test.go:5177: Get: Get \"http://127.0.0.1:65259\": dial tcp 127.0.0.1:65259: connect: can't assign requested address\n",
      "    serve_test.go:5177: Get: Get \"http://127.0.0.1:65259\": dial tcp 127.0.0.1:65259: connect: can't assign requested address\n",
      "    serve_test.go:5177: Get: Get \"http://127.0.0.1:65259\": dial tcp 127.0.0.1:65259: connect: can't assign requested address\n",
      "\t... [output truncated]\n",
      "BenchmarkClientServerParallel/64/https1-10    \t    1310\t    872516 ns/op\t    5742 B/op\t      73 allocs/op\n",
      "--- BENCH: BenchmarkClientServerParallel/64/https1-10\n",
      "    serve_test.go:5177: Get: Get \"https://127.0.0.1:53605\": dial tcp 127.0.0.1:53605: connect: can't assign requested address\n",
      "    serve_test.go:5177: Get: Get \"https://127.0.0.1:53620\": dial tcp 127.0.0.1:53620: connect: can't assign requested address\n",
      "    serve_test.go:5177: Get: Get \"https://127.0.0.1:53620\": dial tcp 127.0.0.1:53620: connect: can't assign requested address\n",
      "    serve_test.go:5177: Get: Get \"https://127.0.0.1:53620\": dial tcp 127.0.0.1:53620: connect: can't assign requested address\n",
      "    serve_test.go:5177: Get: Get \"https://127.0.0.1:53620\": dial tcp 127.0.0.1:53620: connect: can't assign requested address\n",
      "    serve_test.go:5177: Get: Get \"https://127.0.0.1:53620\": dial tcp 127.0.0.1:53620: connect: can't assign requested address\n",
      "    serve_test.go:5177: Get: Get \"https://127.0.0.1:53620\": dial tcp 127.0.0.1:53620: connect: can't assign requested address\n",
      "    serve_test.go:5177: Get: Get \"https://127.0.0.1:53620\": dial tcp 127.0.0.1:53620: connect: can't assign requested address\n",
      "    serve_test.go:5177: Get: Get \"https://127.0.0.1:53620\": dial tcp 127.0.0.1:53620: connect: can't assign requested address\n",
      "    serve_test.go:5177: Get: Get \"https://127.0.0.1:53620\": dial tcp 127.0.0.1:53620: connect: can't assign requested address\n",
      "\t... [output truncated]\n",
      "BenchmarkClientServerParallel/64/h2-10        \t    1345\t    869505 ns/op\t    5886 B/op\t      75 allocs/op\n",
      "--- BENCH: BenchmarkClientServerParallel/64/h2-10\n",
      "    serve_test.go:5177: Get: Get \"https://127.0.0.1:55310\": dial tcp 127.0.0.1:55310: connect: can't assign requested address\n",
      "    serve_test.go:5177: Get: Get \"https://127.0.0.1:56175\": dial tcp 127.0.0.1:56175: connect: can't assign requested address\n",
      "    serve_test.go:5177: Get: Get \"https://127.0.0.1:56175\": dial tcp 127.0.0.1:56175: connect: can't assign requested address\n",
      "    serve_test.go:5177: Get: Get \"https://127.0.0.1:56175\": dial tcp 127.0.0.1:56175: connect: can't assign requested address\n",
      "    serve_test.go:5177: Get: Get \"https://127.0.0.1:56175\": dial tcp 127.0.0.1:56175: connect: can't assign requested address\n",
      "    serve_test.go:5177: Get: Get \"https://127.0.0.1:56175\": dial tcp 127.0.0.1:56175: connect: can't assign requested address\n",
      "    serve_test.go:5177: Get: Get \"https://127.0.0.1:56175\": dial tcp 127.0.0.1:56175: connect: can't assign requested address\n",
      "    serve_test.go:5177: Get: Get \"https://127.0.0.1:56175\": dial tcp 127.0.0.1:56175: connect: can't assign requested address\n",
      "    serve_test.go:5177: Get: Get \"https://127.0.0.1:56175\": dial tcp 127.0.0.1:56175: connect: can't assign requested address\n",
      "    serve_test.go:5177: Get: Get \"https://127.0.0.1:56175\": dial tcp 127.0.0.1:56175: connect: can't assign requested address\n",
      "\t... [output truncated]\n"
     ]
    },
    {
     "name": "stdout",
     "output_type": "stream",
     "text": [
      "PASS\n",
      "ok  \tnet/http\t17.007s\n"
     ]
    }
   ],
   "source": [
    "//!(ulimit -n 4000;go test -run=NONE -bench=ClientServerParallelTLS64 -cpuprofile=cpu.log net/http)\n",
    "!(ulimit -n 4000;go test -run=NONE -bench=ClientServerParallel -cpuprofile=cpu.log net/http)"
   ]
  },
  {
   "cell_type": "markdown",
   "metadata": {
    "slideshow": {
     "slide_type": "subslide"
    }
   },
   "source": [
    "<code>\n",
    "go tool pprof -text -nodecount=10 ./http.test cpu.log\n",
    "File: http.test\n",
    "Type: cpu\n",
    "Time: Dec 21, 2021 at 4:37pm (CST)\n",
    "Duration: 3.95s, Total samples = 9300ms (235.73%)\n",
    "Showing nodes accounting for 6210ms, 66.77% of 9300ms total\n",
    "Dropped 355 nodes (cum <= 46.50ms)\n",
    "Showing top 10 nodes out of 229\n",
    "      flat  flat%   sum%        cum   cum%\n",
    "    1840ms 19.78% 19.78%     1840ms 19.78%  math/big.addMulVVW\n",
    "    1340ms 14.41% 34.19%     1340ms 14.41%  vendor/golang.org/x/crypto/curve25519.ladderstep\n",
    "    1060ms 11.40% 45.59%     1080ms 11.61%  syscall.Syscall\n",
    "     560ms  6.02% 51.61%     2400ms 25.81%  math/big.nat.montgomery\n",
    "     550ms  5.91% 57.53%      550ms  5.91%  crypto/sha256.block\n",
    "     220ms  2.37% 59.89%      440ms  4.73%  runtime.pcvalue\n",
    "     180ms  1.94% 61.83%      210ms  2.26%  runtime.step\n",
    "     160ms  1.72% 63.55%      160ms  1.72%  vendor/golang.org/x/crypto/curve25519.square\n",
    "     150ms  1.61% 65.16%      170ms  1.83%  runtime.findObject\n",
    "     150ms  1.61% 66.77%      850ms  9.14%  runtime.mallocgc\n",
    "</code>"
   ]
  },
  {
   "cell_type": "code",
   "execution_count": 13,
   "metadata": {
    "slideshow": {
     "slide_type": "subslide"
    }
   },
   "outputs": [
    {
     "name": "stdout",
     "output_type": "stream",
     "text": [
      "File: http.test\n",
      "Type: cpu\n",
      "Time: Dec 11, 2024 at 10:06am (CST)\n",
      "Duration: 202.39ms, Total samples = 0 \n",
      "Showing nodes accounting for 0, 0% of 0 total\n",
      "      flat  flat%   sum%        cum   cum%\n"
     ]
    }
   ],
   "source": [
    "!go tool pprof -text -nodecount=10 ./http.test cpu.log"
   ]
  },
  {
   "cell_type": "markdown",
   "metadata": {
    "slideshow": {
     "slide_type": "slide"
    }
   },
   "source": [
    "## Example Functions"
   ]
  },
  {
   "cell_type": "code",
   "execution_count": 69,
   "metadata": {
    "slideshow": {
     "slide_type": "subslide"
    }
   },
   "outputs": [],
   "source": [
    "func ExampleIsPalindrome() {\n",
    "        fmt.Println(IsPalindrome(\"A man, a plan, a canal: Panama\"))\n",
    "        fmt.Println(IsPalindrome(\"palindrome\"))\n",
    "        // Output:\n",
    "        // true\n",
    "        // false\n",
    "}\n"
   ]
  },
  {
   "cell_type": "markdown",
   "metadata": {
    "slideshow": {
     "slide_type": "slide"
    }
   },
   "source": [
    "## Fuzz Testing"
   ]
  },
  {
   "cell_type": "markdown",
   "metadata": {
    "slideshow": {
     "slide_type": "subslide"
    }
   },
   "source": [
    "* An installation of Go 1.18 or later. \n",
    "* A tool to edit your code. Any text editor you have will work fine.\n",
    "* A command terminal. Go works well using any terminal on Linux and Mac, and on PowerShell or cmd in Windows.\n",
    "* An environment that supports fuzzing. \n",
    "  * Go fuzzing with coverage instrumentation is only available on AMD64 and ARM64 architectures currently."
   ]
  },
  {
   "cell_type": "code",
   "execution_count": 1,
   "metadata": {
    "slideshow": {
     "slide_type": "subslide"
    }
   },
   "outputs": [],
   "source": [
    "func Reverse(s string) string {\n",
    "    b := []byte(s)\n",
    "    for i, j := 0, len(b)-1; i < len(b)/2; i, j = i+1, j-1 {\n",
    "        b[i], b[j] = b[j], b[i]\n",
    "    }\n",
    "    return string(b)\n",
    "}"
   ]
  },
  {
   "cell_type": "code",
   "execution_count": 2,
   "metadata": {
    "slideshow": {
     "slide_type": "subslide"
    }
   },
   "outputs": [
    {
     "name": "stdout",
     "output_type": "stream",
     "text": [
      "original: \"The quick brown fox jumped over the lazy dog\"\n",
      "reversed: \"god yzal eht revo depmuj xof nworb kciuq ehT\"\n",
      "reversed again: \"The quick brown fox jumped over the lazy dog\"\n"
     ]
    }
   ],
   "source": [
    "func main() {\n",
    "    input := \"The quick brown fox jumped over the lazy dog\"\n",
    "    rev := Reverse(input)\n",
    "    doubleRev := Reverse(rev)\n",
    "    fmt.Printf(\"original: %q\\n\", input)\n",
    "    fmt.Printf(\"reversed: %q\\n\", rev)\n",
    "    fmt.Printf(\"reversed again: %q\\n\", doubleRev)\n",
    "}"
   ]
  },
  {
   "cell_type": "code",
   "execution_count": 3,
   "metadata": {
    "slideshow": {
     "slide_type": "subslide"
    }
   },
   "outputs": [
    {
     "name": "stdout",
     "output_type": "stream",
     "text": [
      "/Users/skhuang/course/go2024/go2024/ch11\n",
      "original: \"The quick brown fox jumped over the lazy dog\"\n",
      "reversed: \"god yzal eht revo depmuj xof nworb kciuq ehT\", err: <nil>\n",
      "reversed again: \"The quick brown fox jumped over the lazy dog\", err: <nil>\n"
     ]
    }
   ],
   "source": [
    "!pwd\n",
    "!(cd fuzz;go run .)"
   ]
  },
  {
   "cell_type": "code",
   "execution_count": 4,
   "metadata": {
    "slideshow": {
     "slide_type": "subslide"
    }
   },
   "outputs": [
    {
     "name": "stdout",
     "output_type": "stream",
     "text": [
      "=== RUN   TestReverse\n",
      "--- PASS: TestReverse (0.00s)\n",
      "PASS\n"
     ]
    }
   ],
   "source": [
    "//reverse_test.go\n",
    "import (\n",
    "    \"testing\"\n",
    ")\n",
    "\n",
    "func TestReverse(t *testing.T) {\n",
    "    testcases := []struct {\n",
    "        in, want string\n",
    "    }{\n",
    "        {\"Hello, world\", \"dlrow ,olleH\"},\n",
    "        {\" \", \" \"},\n",
    "        {\"!12345\", \"54321!\"},\n",
    "    }\n",
    "    for _, tc := range testcases {\n",
    "        rev := Reverse(tc.in)\n",
    "        if rev != tc.want {\n",
    "                t.Errorf(\"Reverse: %q, want %q\", rev, tc.want)\n",
    "        }\n",
    "    }\n",
    "}\n",
    "%test"
   ]
  },
  {
   "cell_type": "code",
   "execution_count": 5,
   "metadata": {
    "slideshow": {
     "slide_type": "subslide"
    }
   },
   "outputs": [
    {
     "name": "stdout",
     "output_type": "stream",
     "text": [
      "=== RUN   TestReverse\n",
      "--- PASS: TestReverse (0.00s)\n",
      "PASS\n",
      "ok  \texample/fuzz\t0.236s\n"
     ]
    }
   ],
   "source": [
    "!(cd fuzz; go test -run=\"TestReverse\" -v)"
   ]
  },
  {
   "cell_type": "code",
   "execution_count": 7,
   "metadata": {
    "slideshow": {
     "slide_type": "subslide"
    }
   },
   "outputs": [],
   "source": [
    "//Add a fuzz test\n",
    "func FuzzReverse(f *testing.F) {\n",
    "    testcases := []string{\"Hello, world\", \" \", \"!12345\"}\n",
    "    for _, tc := range testcases {\n",
    "        f.Add(tc)  // Use f.Add to provide a seed corpus\n",
    "    }\n",
    "    f.Fuzz(func(t *testing.T, orig string) {\n",
    "        rev := Reverse(orig)\n",
    "        doubleRev := Reverse(rev)\n",
    "        if orig != doubleRev {\n",
    "            t.Errorf(\"Before: %q, after: %q\", orig, doubleRev)\n",
    "        }\n",
    "        if utf8.ValidString(orig) && !utf8.ValidString(rev) {\n",
    "            t.Errorf(\"Reverse produced invalid UTF-8 string %q\", rev)\n",
    "        }\n",
    "    })\n",
    "}\n"
   ]
  },
  {
   "cell_type": "code",
   "execution_count": 8,
   "metadata": {
    "slideshow": {
     "slide_type": "subslide"
    }
   },
   "outputs": [
    {
     "name": "stdout",
     "output_type": "stream",
     "text": [
      "=== RUN   TestReverse\n",
      "--- PASS: TestReverse (0.00s)\n",
      "=== RUN   FuzzReverse\n",
      "fuzz: elapsed: 0s, gathering baseline coverage: 0/50 completed\n",
      "failure while testing seed corpus entry: FuzzReverse/2b80f300eed1881c\n",
      "fuzz: elapsed: 0s, gathering baseline coverage: 4/50 completed\n",
      "--- FAIL: FuzzReverse (0.04s)\n",
      "    --- FAIL: FuzzReverse (0.00s)\n",
      "        reverse_test.go:36: Reverse produced invalid UTF-8 string \"\\x90\\x90\\x98\\U000d0418\\U000d0418\\U000d0418\\xf3\"\n",
      "    \n",
      "=== NAME  \n",
      "FAIL\n",
      "exit status 1\n",
      "FAIL\texample/fuzz\t0.270s\n"
     ]
    },
    {
     "name": "stderr",
     "output_type": "stream",
     "text": [
      "exit status 1\n"
     ]
    }
   ],
   "source": [
    "!(cd fuzz; ./reset1; go test -fuzz=\"Fuzz\" -v)"
   ]
  },
  {
   "cell_type": "code",
   "execution_count": 9,
   "metadata": {
    "slideshow": {
     "slide_type": "subslide"
    }
   },
   "outputs": [
    {
     "name": "stdout",
     "output_type": "stream",
     "text": [
      "go test fuzz v1\n",
      "string(\"Ա\")\n"
     ]
    }
   ],
   "source": [
    "!cat fuzz/testdata/fuzz/FuzzReverse/d5b6b60965e92e557798e88a10d04e5fb1070907a7dc6118b367e4fb501354bd"
   ]
  },
  {
   "cell_type": "code",
   "execution_count": 10,
   "metadata": {
    "slideshow": {
     "slide_type": "subslide"
    }
   },
   "outputs": [
    {
     "name": "stdout",
     "output_type": "stream",
     "text": [
      "--- FAIL: FuzzReverse (0.00s)\n",
      "    --- FAIL: FuzzReverse/2b80f300eed1881c (0.00s)\n",
      "        reverse_test.go:36: Reverse produced invalid UTF-8 string \"\\x90\\x90\\x98\\U000d0418\\U000d0418\\U000d0418\\xf3\"\n",
      "    --- FAIL: FuzzReverse/d5b6b60965e92e557798e88a10d04e5fb1070907a7dc6118b367e4fb501354bd (0.00s)\n",
      "        reverse_test.go:36: Reverse produced invalid UTF-8 string \"\\xb1\\xd4\"\n",
      "FAIL\n",
      "exit status 1\n",
      "FAIL\texample/fuzz\t0.233s\n"
     ]
    },
    {
     "name": "stderr",
     "output_type": "stream",
     "text": [
      "exit status 1\n"
     ]
    }
   ],
   "source": [
    "!(cd fuzz; go test)"
   ]
  },
  {
   "cell_type": "markdown",
   "metadata": {
    "slideshow": {
     "slide_type": "subslide"
    }
   },
   "source": [
    "### Fix the double reverse error"
   ]
  },
  {
   "cell_type": "code",
   "execution_count": 11,
   "metadata": {
    "slideshow": {
     "slide_type": "fragment"
    }
   },
   "outputs": [
    {
     "name": "stdout",
     "output_type": "stream",
     "text": [
      "input: \"The quick brown fox jumped over the lazy dog\"\n",
      "runes: ['T' 'h' 'e' ' ' 'q' 'u' 'i' 'c' 'k' ' ' 'b' 'r' 'o' 'w' 'n' ' ' 'f' 'o' 'x' ' ' 'j' 'u' 'm' 'p' 'e' 'd' ' ' 'o' 'v' 'e' 'r' ' ' 't' 'h' 'e' ' ' 'l' 'a' 'z' 'y' ' ' 'd' 'o' 'g']\n",
      "input: \"god yzal eht revo depmuj xof nworb kciuq ehT\"\n",
      "runes: ['g' 'o' 'd' ' ' 'y' 'z' 'a' 'l' ' ' 'e' 'h' 't' ' ' 'r' 'e' 'v' 'o' ' ' 'd' 'e' 'p' 'm' 'u' 'j' ' ' 'x' 'o' 'f' ' ' 'n' 'w' 'o' 'r' 'b' ' ' 'k' 'c' 'i' 'u' 'q' ' ' 'e' 'h' 'T']\n",
      "original: \"The quick brown fox jumped over the lazy dog\"\n",
      "reversed: \"god yzal eht revo depmuj xof nworb kciuq ehT\"\n",
      "reversed again: \"The quick brown fox jumped over the lazy dog\"\n"
     ]
    }
   ],
   "source": [
    "func Reverse(s string) string {\n",
    "    fmt.Printf(\"input: %q\\n\", s)\n",
    "    //b := []byte(s)\n",
    "    r := []rune(s)\n",
    "    fmt.Printf(\"runes: %q\\n\", r)\n",
    "    for i, j := 0, len(r)-1; i < len(r)/2; i, j = i+1, j-1 {\n",
    "        r[i], r[j] = r[j], r[i]\n",
    "    }\n",
    "    return string(r)\n",
    "}\n",
    "func main() {\n",
    "    input := \"The quick brown fox jumped over the lazy dog\"\n",
    "    rev := Reverse(input)\n",
    "    doubleRev := Reverse(rev)\n",
    "    fmt.Printf(\"original: %q\\n\", input)\n",
    "    fmt.Printf(\"reversed: %q\\n\", rev)\n",
    "    fmt.Printf(\"reversed again: %q\\n\", doubleRev)\n",
    "}\n"
   ]
  },
  {
   "cell_type": "markdown",
   "metadata": {
    "slideshow": {
     "slide_type": "subslide"
    }
   },
   "source": [
    "<code>\n",
    "f.Fuzz(func(t *testing.T, orig string) {\n",
    "    rev := Reverse(orig)\n",
    "    doubleRev := Reverse(rev)\n",
    "    t.Logf(\"Number of runes: orig=%d, rev=%d, doubleRev=%d\", utf8.RuneCountInString(orig), utf8.RuneCountInString(rev), utf8.RuneCountInString(doubleRev))\n",
    "    if orig != doubleRev {\n",
    "        t.Errorf(\"Before: %q, after: %q\", orig, doubleRev)\n",
    "    }\n",
    "    if utf8.ValidString(orig) && !utf8.ValidString(rev) {\n",
    "        t.Errorf(\"Reverse produced invalid UTF-8 string %q\", rev)\n",
    "    }\n",
    "})\n",
    "</code>"
   ]
  },
  {
   "cell_type": "code",
   "execution_count": 12,
   "metadata": {
    "slideshow": {
     "slide_type": "subslide"
    }
   },
   "outputs": [],
   "source": [
    "import (\n",
    "    \"testing\"\n",
    "    \"unicode/utf8\"\n",
    ")\n",
    "\n",
    "func FuzzReverse(f *testing.F) {\n",
    "    testcases := []string{\"Hello, world\", \" \", \"!12345\"}\n",
    "    for _, tc := range testcases {\n",
    "        f.Add(tc)  // Use f.Add to provide a seed corpus\n",
    "    }\n",
    "    f.Fuzz(func(t *testing.T, orig string) {\n",
    "        rev := Reverse(orig)\n",
    "        doubleRev := Reverse(rev)\n",
    "        t.Logf(\"Number of runes: orig=%d, rev=%d, doubleRev=%d\", utf8.RuneCountInString(orig), utf8.RuneCountInString(rev), utf8.RuneCountInString(doubleRev))\n",
    "        if orig != doubleRev {\n",
    "            t.Errorf(\"Before: %q, after: %q\", orig, doubleRev)\n",
    "        }\n",
    "        if utf8.ValidString(orig) && !utf8.ValidString(rev) {\n",
    "            t.Errorf(\"Reverse produced invalid UTF-8 string %q\", rev)\n",
    "        }\n",
    "    })\n",
    "}\n"
   ]
  },
  {
   "cell_type": "code",
   "execution_count": 13,
   "metadata": {
    "scrolled": true,
    "slideshow": {
     "slide_type": "subslide"
    }
   },
   "outputs": [
    {
     "name": "stdout",
     "output_type": "stream",
     "text": [
      "input: \"Hello, world\"\n",
      "input: \" \"\n",
      "input: \"!12345\"\n",
      "input: \"Hello, world\"\n",
      "input: \"dlrow ,olleH\"\n",
      "input: \" \"\n",
      "input: \" \"\n",
      "input: \"!12345\"\n",
      "input: \"54321!\"\n",
      "input: \"餭\\xe9\\xa4\\xc8\"\n",
      "input: \"���餭\"\n",
      "input: \"\\U000d8410\\U000d8410\\U000d8410\\U000d8410\"\n",
      "input: \"\\U000d8410\\U000d8410\\U000d8410\\U000d8410\"\n",
      "input: \"\\x80\"\n",
      "input: \"�\"\n",
      "input: \"Ա\"\n",
      "input: \"Ա\"\n",
      "--- FAIL: FuzzReverse (0.00s)\n",
      "    --- FAIL: FuzzReverse/07778fbb547411fd (0.00s)\n",
      "        reverse_test.go:32: Number of runes: orig=4, rev=4, doubleRev=4\n",
      "        reverse_test.go:34: Before: \"餭\\xe9\\xa4\\xc8\", after: \"餭���\"\n",
      "    --- FAIL: FuzzReverse/98fce631eb9c5dd541458bf71a7241469a103001c64053f3a71625b41ccaea5f (0.00s)\n",
      "        reverse_test.go:32: Number of runes: orig=1, rev=1, doubleRev=1\n",
      "        reverse_test.go:34: Before: \"\\x80\", after: \"�\"\n",
      "FAIL\n",
      "exit status 1\n",
      "FAIL\texample/fuzz\t0.238s\n"
     ]
    },
    {
     "name": "stderr",
     "output_type": "stream",
     "text": [
      "exit status 1\n"
     ]
    }
   ],
   "source": [
    "!(cd fuzz;./reset2; go test)"
   ]
  },
  {
   "cell_type": "code",
   "execution_count": 14,
   "metadata": {
    "slideshow": {
     "slide_type": "subslide"
    }
   },
   "outputs": [
    {
     "name": "stdout",
     "output_type": "stream",
     "text": [
      "input: \"Ա\"\n",
      "input: \"Ա\"\n",
      "PASS\n",
      "ok  \texample/fuzz\t0.486s\n"
     ]
    }
   ],
   "source": [
    "!(cd fuzz;./reset2; go test -run=FuzzReverse/d5b6b60965e92e557798e88a10d04e5fb1070907a7dc6118b367e4fb501354bd)"
   ]
  },
  {
   "cell_type": "code",
   "execution_count": 15,
   "metadata": {
    "slideshow": {
     "slide_type": "subslide"
    }
   },
   "outputs": [
    {
     "name": "stdout",
     "output_type": "stream",
     "text": [
      "input: \"Hello, world\"\n",
      "input: \" \"\n",
      "input: \"!12345\"\n",
      "fuzz: elapsed: 0s, gathering baseline coverage: 0/50 completed\n",
      "failure while testing seed corpus entry: FuzzReverse/07778fbb547411fd\n",
      "fuzz: elapsed: 0s, gathering baseline coverage: 2/50 completed\n",
      "--- FAIL: FuzzReverse (0.03s)\n",
      "    --- FAIL: FuzzReverse (0.00s)\n",
      "        reverse_test.go:32: Number of runes: orig=4, rev=4, doubleRev=4\n",
      "        reverse_test.go:34: Before: \"餭\\xe9\\xa4\\xc8\", after: \"餭���\"\n",
      "    \n",
      "FAIL\n",
      "exit status 1\n",
      "FAIL\texample/fuzz\t0.276s\n"
     ]
    },
    {
     "name": "stderr",
     "output_type": "stream",
     "text": [
      "exit status 1\n"
     ]
    }
   ],
   "source": [
    "!(cd fuzz; ./reset2; go test -fuzz=\"Fuzz\")"
   ]
  },
  {
   "cell_type": "code",
   "execution_count": 16,
   "metadata": {
    "slideshow": {
     "slide_type": "subslide"
    }
   },
   "outputs": [
    {
     "name": "stdout",
     "output_type": "stream",
     "text": [
      "input: \"\\x80\"\n",
      "input: \"�\"\n",
      "--- FAIL: FuzzReverse (0.00s)\n",
      "    --- FAIL: FuzzReverse/98fce631eb9c5dd541458bf71a7241469a103001c64053f3a71625b41ccaea5f (0.00s)\n",
      "        reverse_test.go:32: Number of runes: orig=1, rev=1, doubleRev=1\n",
      "        reverse_test.go:34: Before: \"\\x80\", after: \"�\"\n",
      "FAIL\n",
      "exit status 1\n",
      "FAIL\texample/fuzz\t0.230s\n"
     ]
    },
    {
     "name": "stderr",
     "output_type": "stream",
     "text": [
      "exit status 1\n"
     ]
    }
   ],
   "source": [
    "!(cd fuzz;go test -run=FuzzReverse/98fce631eb9c5dd541458bf71a7241469a103001c64053f3a71625b41ccaea5f)"
   ]
  },
  {
   "cell_type": "markdown",
   "metadata": {
    "slideshow": {
     "slide_type": "subslide"
    }
   },
   "source": [
    "### Fix the error"
   ]
  },
  {
   "cell_type": "code",
   "execution_count": 1,
   "metadata": {
    "slideshow": {
     "slide_type": "subslide"
    }
   },
   "outputs": [
    {
     "name": "stdout",
     "output_type": "stream",
     "text": [
      "original: \"The quick brown fox jumped over the lazy dog\"\n",
      "reversed: \"god yzal eht revo depmuj xof nworb kciuq ehT\", err: <nil>\n",
      "reversed again: \"The quick brown fox jumped over the lazy dog\", err: <nil>\n"
     ]
    }
   ],
   "source": [
    "//package main\n",
    "\n",
    "import (\n",
    "    \"errors\"\n",
    "    \"fmt\"\n",
    "    \"unicode/utf8\"\n",
    ")\n",
    "\n",
    "func main() {\n",
    "    input := \"The quick brown fox jumped over the lazy dog\"\n",
    "    rev, revErr := Reverse(input)\n",
    "    doubleRev, doubleRevErr := Reverse(rev)\n",
    "    fmt.Printf(\"original: %q\\n\", input)\n",
    "    fmt.Printf(\"reversed: %q, err: %v\\n\", rev, revErr)\n",
    "    fmt.Printf(\"reversed again: %q, err: %v\\n\", doubleRev, doubleRevErr)\n",
    "}\n",
    "\n",
    "func Reverse(s string) (string, error) {\n",
    "    if !utf8.ValidString(s) {\n",
    "        return s, errors.New(\"input is not valid UTF-8\")\n",
    "    }\n",
    "    r := []rune(s)\n",
    "    for i, j := 0, len(r)-1; i < len(r)/2; i, j = i+1, j-1 {\n",
    "        r[i], r[j] = r[j], r[i]\n",
    "    }\n",
    "    return string(r), nil\n",
    "}"
   ]
  },
  {
   "cell_type": "code",
   "execution_count": 2,
   "metadata": {
    "slideshow": {
     "slide_type": "subslide"
    }
   },
   "outputs": [],
   "source": [
    "//package main\n",
    "\n",
    "import (\n",
    "    \"testing\"\n",
    "    \"unicode/utf8\"\n",
    ")\n",
    "\n",
    "func FuzzReverse(f *testing.F) {\n",
    "    testcases := []string{\"Hello, world\", \" \", \"!12345\"}\n",
    "    for _, tc := range testcases {\n",
    "        f.Add(tc) // Use f.Add to provide a seed corpus\n",
    "    }\n",
    "    f.Fuzz(func(t *testing.T, orig string) {\n",
    "        rev, err1 := Reverse(orig)\n",
    "        if err1 != nil {\n",
    "            return\n",
    "        }\n",
    "        doubleRev, err2 := Reverse(rev)\n",
    "        if err2 != nil {\n",
    "            return\n",
    "        }\n",
    "        if orig != doubleRev {\n",
    "            t.Errorf(\"Before: %q, after: %q\", orig, doubleRev)\n",
    "        }\n",
    "        if utf8.ValidString(orig) && !utf8.ValidString(rev) {\n",
    "            t.Errorf(\"Reverse produced invalid UTF-8 string %q\", rev)\n",
    "        }\n",
    "    })\n",
    "}"
   ]
  },
  {
   "cell_type": "code",
   "execution_count": 3,
   "metadata": {
    "scrolled": true,
    "slideshow": {
     "slide_type": "subslide"
    }
   },
   "outputs": [
    {
     "name": "stdout",
     "output_type": "stream",
     "text": [
      "fuzz: elapsed: 0s, gathering baseline coverage: 0/50 completed\n",
      "fuzz: elapsed: 0s, gathering baseline coverage: 50/50 completed, now fuzzing with 10 workers\n",
      "fuzz: elapsed: 3s, execs: 710933 (236930/sec), new interesting: 0 (total: 50)\n",
      "fuzz: elapsed: 6s, execs: 1519662 (269610/sec), new interesting: 0 (total: 50)\n",
      "fuzz: elapsed: 9s, execs: 2612252 (364126/sec), new interesting: 0 (total: 50)\n",
      "fuzz: elapsed: 12s, execs: 3844676 (410782/sec), new interesting: 1 (total: 51)\n",
      "fuzz: elapsed: 15s, execs: 4986876 (380770/sec), new interesting: 1 (total: 51)\n",
      "fuzz: elapsed: 18s, execs: 6047822 (353655/sec), new interesting: 1 (total: 51)\n",
      "fuzz: elapsed: 21s, execs: 7168621 (373647/sec), new interesting: 1 (total: 51)\n",
      "fuzz: elapsed: 24s, execs: 8367548 (399678/sec), new interesting: 1 (total: 51)\n",
      "fuzz: elapsed: 27s, execs: 9571315 (401249/sec), new interesting: 1 (total: 51)\n",
      "fuzz: elapsed: 30s, execs: 10781133 (403283/sec), new interesting: 1 (total: 51)\n",
      "fuzz: elapsed: 30s, execs: 10781133 (0/sec), new interesting: 1 (total: 51)\n",
      "PASS\n",
      "ok  \texample/fuzz\t30.343s\n"
     ]
    }
   ],
   "source": [
    "!(cd fuzz; ./reset3; go test -fuzz=\"Fuzz\" -fuzztime 30s)"
   ]
  },
  {
   "cell_type": "code",
   "execution_count": null,
   "metadata": {},
   "outputs": [],
   "source": []
  }
 ],
 "metadata": {
  "celltoolbar": "Slideshow",
  "kernelspec": {
   "display_name": "Go (gonb)",
   "language": "go",
   "name": "gonb"
  },
  "language_info": {
   "codemirror_mode": "",
   "file_extension": ".go",
   "mimetype": "",
   "name": "go",
   "nbconvert_exporter": "",
   "pygments_lexer": "",
   "version": "go1.21.1"
  },
  "latex_envs": {
   "LaTeX_envs_menu_present": true,
   "autoclose": false,
   "autocomplete": true,
   "bibliofile": "biblio.bib",
   "cite_by": "apalike",
   "current_citInitial": 1,
   "eqLabelWithNumbers": true,
   "eqNumInitial": 1,
   "hotkeys": {
    "equation": "Ctrl-E",
    "itemize": "Ctrl-I"
   },
   "labels_anchors": false,
   "latex_user_defs": false,
   "report_style_numbering": false,
   "user_envs_cfg": false
  },
  "rise": {
   "enable_chalkboard": true,
   "scroll": true
  },
  "toc": {
   "base_numbering": "11",
   "nav_menu": {},
   "number_sections": true,
   "sideBar": true,
   "skip_h1_title": false,
   "title_cell": "Table of Contents",
   "title_sidebar": "Contents",
   "toc_cell": true,
   "toc_position": {},
   "toc_section_display": true,
   "toc_window_display": false
  }
 },
 "nbformat": 4,
 "nbformat_minor": 2
}
